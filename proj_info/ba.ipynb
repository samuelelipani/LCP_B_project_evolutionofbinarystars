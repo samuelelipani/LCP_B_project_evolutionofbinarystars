{
 "metadata": {
  "language_info": {
   "codemirror_mode": {
    "name": "ipython",
    "version": 3
   },
   "file_extension": ".py",
   "mimetype": "text/x-python",
   "name": "python",
   "nbconvert_exporter": "python",
   "pygments_lexer": "ipython3",
   "version": "3.9.5"
  },
  "orig_nbformat": 2,
  "kernelspec": {
   "name": "python395jvsc74a57bd068b1a2b9be433b4cc754b75496cc771e45659f26dfdb2490b6d43aaec5f92b39",
   "display_name": "Python 3.9.5 64-bit"
  }
 },
 "nbformat": 4,
 "nbformat_minor": 2,
 "cells": [
  {
   "cell_type": "code",
   "execution_count": 1,
   "metadata": {},
   "outputs": [],
   "source": [
    "import numpy as np \n",
    "import pandas as pd \n",
    "import matplotlib.pyplot as plt \n",
    "from tqdm import tqdm\n",
    "from numba import njit\n",
    "from scipy.integrate import solve_ivp\n",
    "import dask.dataframe as dd"
   ]
  },
  {
   "cell_type": "code",
   "execution_count": 2,
   "metadata": {},
   "outputs": [
    {
     "output_type": "execute_result",
     "data": {
      "text/plain": [
       "             ID             name     Mass_0  Luminosity_0  Radius_0  \\\n",
       "0            92  623198111468628  43.898200  1.000000e-15  0.000186   \n",
       "1           112  586465437076249  23.048440  1.000000e-15  0.000098   \n",
       "2           124  214297123674238  36.259980  1.000000e-15  0.000154   \n",
       "3           154  559548692536031  38.306070  1.000000e-15  0.000163   \n",
       "4           180  424791614019654  17.229310  1.000000e-15  0.000073   \n",
       "...         ...              ...        ...           ...       ...   \n",
       "230045   899694  430764938470682   8.034107  1.000000e-15  0.000034   \n",
       "230046   899795  931971495385373  15.378850  1.000000e-15  0.000065   \n",
       "230047   899879  158937381720381  14.039520  1.000000e-15  0.000060   \n",
       "230048   899888  161831677695017   4.364386  1.000000e-15  0.000019   \n",
       "230049  1000488  183215713580816   9.248787  1.000000e-15  0.000038   \n",
       "\n",
       "        Temperature_0  Phase_0  RemnantType_0     Zams_0     Mass_1  ...  \\\n",
       "0            75.23506        7              6   44.67820  26.748790  ...   \n",
       "1           103.90500        7              6   26.01399  27.232310  ...   \n",
       "2            82.86009        7              6   43.63717  32.662180  ...   \n",
       "3            80.53965        7              6   86.13720  56.341010  ...   \n",
       "4           120.21590        7              6   19.27244  17.397330  ...   \n",
       "...               ...      ...            ...        ...        ...  ...   \n",
       "230045      176.19630        7              6   17.49480   6.209679  ...   \n",
       "230046      127.11050        7              6  100.42560  15.113400  ...   \n",
       "230047      133.04060        7              6   81.94600   1.235519  ...   \n",
       "230048      238.61120        7              6   13.42219   1.235519  ...   \n",
       "230049      167.38680        7              6   31.32840   9.906954  ...   \n",
       "\n",
       "        Phase_1  RemnantType_1     Zams_1   Semimajor  Eccentricity  \\\n",
       "0             7              6  31.791800   8218.0870      0.933191   \n",
       "1             7              6  30.988940    134.8864      0.009944   \n",
       "2             7              6  37.747990    481.9433      0.012562   \n",
       "3             7              6  57.456900  80356.4100      0.095792   \n",
       "4             7              6  19.519880    109.5645      0.014440   \n",
       "...         ...            ...        ...         ...           ...   \n",
       "230045        7              6  15.720420   2286.6000      0.247431   \n",
       "230046        7              6  96.932100  10003.8200      0.132846   \n",
       "230047        7              5   3.711674    433.0090      0.511304   \n",
       "230048        7              5   4.082497    349.3680      0.584510   \n",
       "230049        7              6  29.894390   6252.2870      0.545864   \n",
       "\n",
       "        BWorldtime     BTimestep        GWtime       Z    A  \n",
       "0         6.255643  2.000000e-10  6.382552e+09  0.0002  0.1  \n",
       "1         4.975206  2.000000e-10  1.572015e+06  0.0002  0.1  \n",
       "2         4.733170  2.000000e-10  9.903180e+07  0.0002  0.1  \n",
       "3         4.171837  2.000000e-10  2.963007e+16  0.0002  0.1  \n",
       "4         6.984805  2.000000e-10  2.080002e+06  0.0002  0.1  \n",
       "...            ...           ...           ...     ...  ...  \n",
       "230045    5.506292  2.000000e-10  4.623389e+12  0.0200  5.0  \n",
       "230046    3.315733  2.000000e-10  1.990603e+14  0.0200  5.0  \n",
       "230047   13.406500  2.000000e-10  6.887031e+09  0.0200  5.0  \n",
       "230048   12.611660  2.000000e-10  1.712514e+10  0.0200  5.0  \n",
       "230049    6.488538  2.000000e-10  3.783948e+13  0.0200  5.0  \n",
       "\n",
       "[230050 rows x 23 columns]"
      ],
      "text/html": "<div>\n<style scoped>\n    .dataframe tbody tr th:only-of-type {\n        vertical-align: middle;\n    }\n\n    .dataframe tbody tr th {\n        vertical-align: top;\n    }\n\n    .dataframe thead th {\n        text-align: right;\n    }\n</style>\n<table border=\"1\" class=\"dataframe\">\n  <thead>\n    <tr style=\"text-align: right;\">\n      <th></th>\n      <th>ID</th>\n      <th>name</th>\n      <th>Mass_0</th>\n      <th>Luminosity_0</th>\n      <th>Radius_0</th>\n      <th>Temperature_0</th>\n      <th>Phase_0</th>\n      <th>RemnantType_0</th>\n      <th>Zams_0</th>\n      <th>Mass_1</th>\n      <th>...</th>\n      <th>Phase_1</th>\n      <th>RemnantType_1</th>\n      <th>Zams_1</th>\n      <th>Semimajor</th>\n      <th>Eccentricity</th>\n      <th>BWorldtime</th>\n      <th>BTimestep</th>\n      <th>GWtime</th>\n      <th>Z</th>\n      <th>A</th>\n    </tr>\n  </thead>\n  <tbody>\n    <tr>\n      <th>0</th>\n      <td>92</td>\n      <td>623198111468628</td>\n      <td>43.898200</td>\n      <td>1.000000e-15</td>\n      <td>0.000186</td>\n      <td>75.23506</td>\n      <td>7</td>\n      <td>6</td>\n      <td>44.67820</td>\n      <td>26.748790</td>\n      <td>...</td>\n      <td>7</td>\n      <td>6</td>\n      <td>31.791800</td>\n      <td>8218.0870</td>\n      <td>0.933191</td>\n      <td>6.255643</td>\n      <td>2.000000e-10</td>\n      <td>6.382552e+09</td>\n      <td>0.0002</td>\n      <td>0.1</td>\n    </tr>\n    <tr>\n      <th>1</th>\n      <td>112</td>\n      <td>586465437076249</td>\n      <td>23.048440</td>\n      <td>1.000000e-15</td>\n      <td>0.000098</td>\n      <td>103.90500</td>\n      <td>7</td>\n      <td>6</td>\n      <td>26.01399</td>\n      <td>27.232310</td>\n      <td>...</td>\n      <td>7</td>\n      <td>6</td>\n      <td>30.988940</td>\n      <td>134.8864</td>\n      <td>0.009944</td>\n      <td>4.975206</td>\n      <td>2.000000e-10</td>\n      <td>1.572015e+06</td>\n      <td>0.0002</td>\n      <td>0.1</td>\n    </tr>\n    <tr>\n      <th>2</th>\n      <td>124</td>\n      <td>214297123674238</td>\n      <td>36.259980</td>\n      <td>1.000000e-15</td>\n      <td>0.000154</td>\n      <td>82.86009</td>\n      <td>7</td>\n      <td>6</td>\n      <td>43.63717</td>\n      <td>32.662180</td>\n      <td>...</td>\n      <td>7</td>\n      <td>6</td>\n      <td>37.747990</td>\n      <td>481.9433</td>\n      <td>0.012562</td>\n      <td>4.733170</td>\n      <td>2.000000e-10</td>\n      <td>9.903180e+07</td>\n      <td>0.0002</td>\n      <td>0.1</td>\n    </tr>\n    <tr>\n      <th>3</th>\n      <td>154</td>\n      <td>559548692536031</td>\n      <td>38.306070</td>\n      <td>1.000000e-15</td>\n      <td>0.000163</td>\n      <td>80.53965</td>\n      <td>7</td>\n      <td>6</td>\n      <td>86.13720</td>\n      <td>56.341010</td>\n      <td>...</td>\n      <td>7</td>\n      <td>6</td>\n      <td>57.456900</td>\n      <td>80356.4100</td>\n      <td>0.095792</td>\n      <td>4.171837</td>\n      <td>2.000000e-10</td>\n      <td>2.963007e+16</td>\n      <td>0.0002</td>\n      <td>0.1</td>\n    </tr>\n    <tr>\n      <th>4</th>\n      <td>180</td>\n      <td>424791614019654</td>\n      <td>17.229310</td>\n      <td>1.000000e-15</td>\n      <td>0.000073</td>\n      <td>120.21590</td>\n      <td>7</td>\n      <td>6</td>\n      <td>19.27244</td>\n      <td>17.397330</td>\n      <td>...</td>\n      <td>7</td>\n      <td>6</td>\n      <td>19.519880</td>\n      <td>109.5645</td>\n      <td>0.014440</td>\n      <td>6.984805</td>\n      <td>2.000000e-10</td>\n      <td>2.080002e+06</td>\n      <td>0.0002</td>\n      <td>0.1</td>\n    </tr>\n    <tr>\n      <th>...</th>\n      <td>...</td>\n      <td>...</td>\n      <td>...</td>\n      <td>...</td>\n      <td>...</td>\n      <td>...</td>\n      <td>...</td>\n      <td>...</td>\n      <td>...</td>\n      <td>...</td>\n      <td>...</td>\n      <td>...</td>\n      <td>...</td>\n      <td>...</td>\n      <td>...</td>\n      <td>...</td>\n      <td>...</td>\n      <td>...</td>\n      <td>...</td>\n      <td>...</td>\n      <td>...</td>\n    </tr>\n    <tr>\n      <th>230045</th>\n      <td>899694</td>\n      <td>430764938470682</td>\n      <td>8.034107</td>\n      <td>1.000000e-15</td>\n      <td>0.000034</td>\n      <td>176.19630</td>\n      <td>7</td>\n      <td>6</td>\n      <td>17.49480</td>\n      <td>6.209679</td>\n      <td>...</td>\n      <td>7</td>\n      <td>6</td>\n      <td>15.720420</td>\n      <td>2286.6000</td>\n      <td>0.247431</td>\n      <td>5.506292</td>\n      <td>2.000000e-10</td>\n      <td>4.623389e+12</td>\n      <td>0.0200</td>\n      <td>5.0</td>\n    </tr>\n    <tr>\n      <th>230046</th>\n      <td>899795</td>\n      <td>931971495385373</td>\n      <td>15.378850</td>\n      <td>1.000000e-15</td>\n      <td>0.000065</td>\n      <td>127.11050</td>\n      <td>7</td>\n      <td>6</td>\n      <td>100.42560</td>\n      <td>15.113400</td>\n      <td>...</td>\n      <td>7</td>\n      <td>6</td>\n      <td>96.932100</td>\n      <td>10003.8200</td>\n      <td>0.132846</td>\n      <td>3.315733</td>\n      <td>2.000000e-10</td>\n      <td>1.990603e+14</td>\n      <td>0.0200</td>\n      <td>5.0</td>\n    </tr>\n    <tr>\n      <th>230047</th>\n      <td>899879</td>\n      <td>158937381720381</td>\n      <td>14.039520</td>\n      <td>1.000000e-15</td>\n      <td>0.000060</td>\n      <td>133.04060</td>\n      <td>7</td>\n      <td>6</td>\n      <td>81.94600</td>\n      <td>1.235519</td>\n      <td>...</td>\n      <td>7</td>\n      <td>5</td>\n      <td>3.711674</td>\n      <td>433.0090</td>\n      <td>0.511304</td>\n      <td>13.406500</td>\n      <td>2.000000e-10</td>\n      <td>6.887031e+09</td>\n      <td>0.0200</td>\n      <td>5.0</td>\n    </tr>\n    <tr>\n      <th>230048</th>\n      <td>899888</td>\n      <td>161831677695017</td>\n      <td>4.364386</td>\n      <td>1.000000e-15</td>\n      <td>0.000019</td>\n      <td>238.61120</td>\n      <td>7</td>\n      <td>6</td>\n      <td>13.42219</td>\n      <td>1.235519</td>\n      <td>...</td>\n      <td>7</td>\n      <td>5</td>\n      <td>4.082497</td>\n      <td>349.3680</td>\n      <td>0.584510</td>\n      <td>12.611660</td>\n      <td>2.000000e-10</td>\n      <td>1.712514e+10</td>\n      <td>0.0200</td>\n      <td>5.0</td>\n    </tr>\n    <tr>\n      <th>230049</th>\n      <td>1000488</td>\n      <td>183215713580816</td>\n      <td>9.248787</td>\n      <td>1.000000e-15</td>\n      <td>0.000038</td>\n      <td>167.38680</td>\n      <td>7</td>\n      <td>6</td>\n      <td>31.32840</td>\n      <td>9.906954</td>\n      <td>...</td>\n      <td>7</td>\n      <td>6</td>\n      <td>29.894390</td>\n      <td>6252.2870</td>\n      <td>0.545864</td>\n      <td>6.488538</td>\n      <td>2.000000e-10</td>\n      <td>3.783948e+13</td>\n      <td>0.0200</td>\n      <td>5.0</td>\n    </tr>\n  </tbody>\n</table>\n<p>230050 rows × 23 columns</p>\n</div>"
     },
     "metadata": {},
     "execution_count": 2
    }
   ],
   "source": [
    "df0 = pd.read_csv(\"df_output.csv\")\n",
    "df0"
   ]
  },
  {
   "cell_type": "code",
   "execution_count": 3,
   "metadata": {},
   "outputs": [
    {
     "output_type": "execute_result",
     "data": {
      "text/plain": [
       "          ID             name    Mass_0  Luminosity_0  Radius_0  \\\n",
       "0         92  623198111468628  43.89820  1.000000e-15  0.000186   \n",
       "1        112  586465437076249  23.04844  1.000000e-15  0.000098   \n",
       "2        124  214297123674238  36.25998  1.000000e-15  0.000154   \n",
       "3        154  559548692536031  38.30607  1.000000e-15  0.000163   \n",
       "4        180  424791614019654  17.22931  1.000000e-15  0.000073   \n",
       "...      ...              ...       ...           ...       ...   \n",
       "2495  307400  853654194837765  26.39870  1.000000e-15  0.000112   \n",
       "2496  307427  611105804028612  35.83278  1.000000e-15  0.000152   \n",
       "2497  307455  930024133984856  37.94331  1.000000e-15  0.000161   \n",
       "2498  307474  376643106480511  38.95212  1.000000e-15  0.000165   \n",
       "2499  307479  609490120131316  42.59427  1.000000e-15  0.000181   \n",
       "\n",
       "      Temperature_0  Phase_0  RemnantType_0    Zams_0     Mass_1  ...  \\\n",
       "0          75.23506        7              6  44.67820  26.748790  ...   \n",
       "1         103.90500        7              6  26.01399  27.232310  ...   \n",
       "2          82.86009        7              6  43.63717  32.662180  ...   \n",
       "3          80.53965        7              6  86.13720  56.341010  ...   \n",
       "4         120.21590        7              6  19.27244  17.397330  ...   \n",
       "...             ...      ...            ...       ...        ...  ...   \n",
       "2495       97.08277        7              6  30.06574  24.200570  ...   \n",
       "2496       83.27723        7              6  42.86181  35.568870  ...   \n",
       "2497       80.93258        7              6  46.79656   7.321097  ...   \n",
       "2498       79.88245        7              6  48.41524  21.209380  ...   \n",
       "2499       76.37798        7              6  55.52980  26.313730  ...   \n",
       "\n",
       "      RemnantType_1    Zams_1     Semimajor  Eccentricity  BWorldtime  \\\n",
       "0                 6  31.79180   8218.087000      0.933191    6.255643   \n",
       "1                 6  30.98894    134.886400      0.009944    4.975206   \n",
       "2                 6  37.74799    481.943300      0.012562    4.733170   \n",
       "3                 6  57.45690  80356.410000      0.095792    4.171837   \n",
       "4                 6  19.51988    109.564500      0.014440    6.984805   \n",
       "...             ...       ...           ...           ...         ...   \n",
       "2495              6  27.41962    119.958500      0.009882    4.655624   \n",
       "2496              6  42.43849     20.214680      0.054350    3.655644   \n",
       "2497              6  11.71306     20.846330      0.126676    7.137279   \n",
       "2498              6  23.91973      4.569291      0.008311    5.641471   \n",
       "2499              6  67.74502   2978.107000      0.493297    3.298796   \n",
       "\n",
       "         BTimestep        GWtime       Z    A  Merge_time  \n",
       "0     2.000000e-10  6.382552e+09  0.0002  0.1         NaN  \n",
       "1     2.000000e-10  1.572015e+06  0.0002  0.1         NaN  \n",
       "2     2.000000e-10  9.903180e+07  0.0002  0.1         NaN  \n",
       "3     2.000000e-10  2.963007e+16  0.0002  0.1         NaN  \n",
       "4     2.000000e-10  2.080002e+06  0.0002  0.1         NaN  \n",
       "...            ...           ...     ...  ...         ...  \n",
       "2495  2.000000e-10  9.600316e+05  0.0002  0.1         NaN  \n",
       "2496  2.000000e-10  2.722543e+02  0.0002  0.1         NaN  \n",
       "2497  2.000000e-10  2.127762e+03  0.0002  0.1         NaN  \n",
       "2498  2.000000e-10  1.314544e+00  0.0002  0.1         NaN  \n",
       "2499  2.000000e-10  5.754001e+10  0.0002  0.1         NaN  \n",
       "\n",
       "[2500 rows x 24 columns]"
      ],
      "text/html": "<div>\n<style scoped>\n    .dataframe tbody tr th:only-of-type {\n        vertical-align: middle;\n    }\n\n    .dataframe tbody tr th {\n        vertical-align: top;\n    }\n\n    .dataframe thead th {\n        text-align: right;\n    }\n</style>\n<table border=\"1\" class=\"dataframe\">\n  <thead>\n    <tr style=\"text-align: right;\">\n      <th></th>\n      <th>ID</th>\n      <th>name</th>\n      <th>Mass_0</th>\n      <th>Luminosity_0</th>\n      <th>Radius_0</th>\n      <th>Temperature_0</th>\n      <th>Phase_0</th>\n      <th>RemnantType_0</th>\n      <th>Zams_0</th>\n      <th>Mass_1</th>\n      <th>...</th>\n      <th>RemnantType_1</th>\n      <th>Zams_1</th>\n      <th>Semimajor</th>\n      <th>Eccentricity</th>\n      <th>BWorldtime</th>\n      <th>BTimestep</th>\n      <th>GWtime</th>\n      <th>Z</th>\n      <th>A</th>\n      <th>Merge_time</th>\n    </tr>\n  </thead>\n  <tbody>\n    <tr>\n      <th>0</th>\n      <td>92</td>\n      <td>623198111468628</td>\n      <td>43.89820</td>\n      <td>1.000000e-15</td>\n      <td>0.000186</td>\n      <td>75.23506</td>\n      <td>7</td>\n      <td>6</td>\n      <td>44.67820</td>\n      <td>26.748790</td>\n      <td>...</td>\n      <td>6</td>\n      <td>31.79180</td>\n      <td>8218.087000</td>\n      <td>0.933191</td>\n      <td>6.255643</td>\n      <td>2.000000e-10</td>\n      <td>6.382552e+09</td>\n      <td>0.0002</td>\n      <td>0.1</td>\n      <td>NaN</td>\n    </tr>\n    <tr>\n      <th>1</th>\n      <td>112</td>\n      <td>586465437076249</td>\n      <td>23.04844</td>\n      <td>1.000000e-15</td>\n      <td>0.000098</td>\n      <td>103.90500</td>\n      <td>7</td>\n      <td>6</td>\n      <td>26.01399</td>\n      <td>27.232310</td>\n      <td>...</td>\n      <td>6</td>\n      <td>30.98894</td>\n      <td>134.886400</td>\n      <td>0.009944</td>\n      <td>4.975206</td>\n      <td>2.000000e-10</td>\n      <td>1.572015e+06</td>\n      <td>0.0002</td>\n      <td>0.1</td>\n      <td>NaN</td>\n    </tr>\n    <tr>\n      <th>2</th>\n      <td>124</td>\n      <td>214297123674238</td>\n      <td>36.25998</td>\n      <td>1.000000e-15</td>\n      <td>0.000154</td>\n      <td>82.86009</td>\n      <td>7</td>\n      <td>6</td>\n      <td>43.63717</td>\n      <td>32.662180</td>\n      <td>...</td>\n      <td>6</td>\n      <td>37.74799</td>\n      <td>481.943300</td>\n      <td>0.012562</td>\n      <td>4.733170</td>\n      <td>2.000000e-10</td>\n      <td>9.903180e+07</td>\n      <td>0.0002</td>\n      <td>0.1</td>\n      <td>NaN</td>\n    </tr>\n    <tr>\n      <th>3</th>\n      <td>154</td>\n      <td>559548692536031</td>\n      <td>38.30607</td>\n      <td>1.000000e-15</td>\n      <td>0.000163</td>\n      <td>80.53965</td>\n      <td>7</td>\n      <td>6</td>\n      <td>86.13720</td>\n      <td>56.341010</td>\n      <td>...</td>\n      <td>6</td>\n      <td>57.45690</td>\n      <td>80356.410000</td>\n      <td>0.095792</td>\n      <td>4.171837</td>\n      <td>2.000000e-10</td>\n      <td>2.963007e+16</td>\n      <td>0.0002</td>\n      <td>0.1</td>\n      <td>NaN</td>\n    </tr>\n    <tr>\n      <th>4</th>\n      <td>180</td>\n      <td>424791614019654</td>\n      <td>17.22931</td>\n      <td>1.000000e-15</td>\n      <td>0.000073</td>\n      <td>120.21590</td>\n      <td>7</td>\n      <td>6</td>\n      <td>19.27244</td>\n      <td>17.397330</td>\n      <td>...</td>\n      <td>6</td>\n      <td>19.51988</td>\n      <td>109.564500</td>\n      <td>0.014440</td>\n      <td>6.984805</td>\n      <td>2.000000e-10</td>\n      <td>2.080002e+06</td>\n      <td>0.0002</td>\n      <td>0.1</td>\n      <td>NaN</td>\n    </tr>\n    <tr>\n      <th>...</th>\n      <td>...</td>\n      <td>...</td>\n      <td>...</td>\n      <td>...</td>\n      <td>...</td>\n      <td>...</td>\n      <td>...</td>\n      <td>...</td>\n      <td>...</td>\n      <td>...</td>\n      <td>...</td>\n      <td>...</td>\n      <td>...</td>\n      <td>...</td>\n      <td>...</td>\n      <td>...</td>\n      <td>...</td>\n      <td>...</td>\n      <td>...</td>\n      <td>...</td>\n      <td>...</td>\n    </tr>\n    <tr>\n      <th>2495</th>\n      <td>307400</td>\n      <td>853654194837765</td>\n      <td>26.39870</td>\n      <td>1.000000e-15</td>\n      <td>0.000112</td>\n      <td>97.08277</td>\n      <td>7</td>\n      <td>6</td>\n      <td>30.06574</td>\n      <td>24.200570</td>\n      <td>...</td>\n      <td>6</td>\n      <td>27.41962</td>\n      <td>119.958500</td>\n      <td>0.009882</td>\n      <td>4.655624</td>\n      <td>2.000000e-10</td>\n      <td>9.600316e+05</td>\n      <td>0.0002</td>\n      <td>0.1</td>\n      <td>NaN</td>\n    </tr>\n    <tr>\n      <th>2496</th>\n      <td>307427</td>\n      <td>611105804028612</td>\n      <td>35.83278</td>\n      <td>1.000000e-15</td>\n      <td>0.000152</td>\n      <td>83.27723</td>\n      <td>7</td>\n      <td>6</td>\n      <td>42.86181</td>\n      <td>35.568870</td>\n      <td>...</td>\n      <td>6</td>\n      <td>42.43849</td>\n      <td>20.214680</td>\n      <td>0.054350</td>\n      <td>3.655644</td>\n      <td>2.000000e-10</td>\n      <td>2.722543e+02</td>\n      <td>0.0002</td>\n      <td>0.1</td>\n      <td>NaN</td>\n    </tr>\n    <tr>\n      <th>2497</th>\n      <td>307455</td>\n      <td>930024133984856</td>\n      <td>37.94331</td>\n      <td>1.000000e-15</td>\n      <td>0.000161</td>\n      <td>80.93258</td>\n      <td>7</td>\n      <td>6</td>\n      <td>46.79656</td>\n      <td>7.321097</td>\n      <td>...</td>\n      <td>6</td>\n      <td>11.71306</td>\n      <td>20.846330</td>\n      <td>0.126676</td>\n      <td>7.137279</td>\n      <td>2.000000e-10</td>\n      <td>2.127762e+03</td>\n      <td>0.0002</td>\n      <td>0.1</td>\n      <td>NaN</td>\n    </tr>\n    <tr>\n      <th>2498</th>\n      <td>307474</td>\n      <td>376643106480511</td>\n      <td>38.95212</td>\n      <td>1.000000e-15</td>\n      <td>0.000165</td>\n      <td>79.88245</td>\n      <td>7</td>\n      <td>6</td>\n      <td>48.41524</td>\n      <td>21.209380</td>\n      <td>...</td>\n      <td>6</td>\n      <td>23.91973</td>\n      <td>4.569291</td>\n      <td>0.008311</td>\n      <td>5.641471</td>\n      <td>2.000000e-10</td>\n      <td>1.314544e+00</td>\n      <td>0.0002</td>\n      <td>0.1</td>\n      <td>NaN</td>\n    </tr>\n    <tr>\n      <th>2499</th>\n      <td>307479</td>\n      <td>609490120131316</td>\n      <td>42.59427</td>\n      <td>1.000000e-15</td>\n      <td>0.000181</td>\n      <td>76.37798</td>\n      <td>7</td>\n      <td>6</td>\n      <td>55.52980</td>\n      <td>26.313730</td>\n      <td>...</td>\n      <td>6</td>\n      <td>67.74502</td>\n      <td>2978.107000</td>\n      <td>0.493297</td>\n      <td>3.298796</td>\n      <td>2.000000e-10</td>\n      <td>5.754001e+10</td>\n      <td>0.0002</td>\n      <td>0.1</td>\n      <td>NaN</td>\n    </tr>\n  </tbody>\n</table>\n<p>2500 rows × 24 columns</p>\n</div>"
     },
     "metadata": {},
     "execution_count": 3
    }
   ],
   "source": [
    "n_rows_to_keep = 2500\n",
    "df = df0[:n_rows_to_keep].copy()\n",
    "df[\"Merge_time\"] = np.nan\n",
    "df"
   ]
  },
  {
   "cell_type": "code",
   "execution_count": 4,
   "metadata": {},
   "outputs": [
    {
     "output_type": "stream",
     "name": "stdout",
     "text": [
      "3.913326754458976e+20\n13583699648689.656\n"
     ]
    }
   ],
   "source": [
    "G = 6.67e-11 / (6.96e8)**3 * 1.989e30 * (60*60*24*365*1e6)**2 #6.67*((6.96)**(-3))*1.989*((86400*365)**2)*1e7 #6.67e-11*(1/(6.96e8)**3)*1.989e30/((60*60*24*365*1e6)**2)\n",
    "print(G)\n",
    "c = 299792458 * 60*60*24*365*1e6 / 6.96e8 #299792458*86400*365*1e-2/6.96 #299792458*(1/6.96e8)*60*60*365*1e6\n",
    "print(c)"
   ]
  },
  {
   "cell_type": "code",
   "execution_count": 5,
   "metadata": {},
   "outputs": [],
   "source": [
    "@njit\n",
    "def f(t, x, b1, b2, b3, d1, d2) :\n",
    "    y = np.zeros(2)\n",
    "    y[0] = b1*(1+b2*x[1]**2+b3*x[1]**4)/((x[0]**3)*((1-x[1]**2)**3.5))\n",
    "    y[1] = d1*x[1]*(1+d2*x[1]**2)/((x[0]**4)*((1-x[1]**2)**2.5))\n",
    "\n",
    "    # se rimpiazzassi potenze intere con prodotti?\n",
    "    # a, e = x # se no è un po' confuso (e forse smonto x troppe volte?)\n",
    "    # y[0] = b1*(1+b2*e*e+b3*e*e*e*e)/((a*a*a)*((1-e*e)**3.5))\n",
    "    # y[1] = d1*e*(1+d2*e*e)/((a*a*a*a)*((1-e*e)**2.5))\n",
    "\n",
    "    # NO! La cella seguente si blocca per qualche motivo\n",
    "\n",
    "    return y\n",
    "\n",
    "T = 14e3\n",
    "\n",
    "def merge_time(row) :\n",
    "    a = row[\"Semimajor\"].to_numpy()[0] #row[16] \n",
    "    e = row[\"Eccentricity\"].to_numpy()[0] #row[17] \n",
    "    M = row[\"Mass_0\"].to_numpy()[0] #row[2] \n",
    "    m = row[\"Mass_1\"].to_numpy()[0] #row[9] \n",
    "\n",
    "    R = row[\"Radius_0\"].to_numpy()[0] + row[\"Radius_1\"].to_numpy()[0] #row[4] + row[11]\n",
    "\n",
    "    t0 = row[\"BWorldtime\"].to_numpy()[0] #row[18] \n",
    "\n",
    "    b0 = -(64/5)*G**3/c**5\n",
    "    b1 = b0*M*m*(M+m)\n",
    "    b2 = 73/24\n",
    "    b3 = 37/96\n",
    "\n",
    "    d0 = -(304/15)*G**3/c**5\n",
    "    d1 = d0*M*m*(M+m)\n",
    "    d2 = 121/304\n",
    "\n",
    "\n",
    "    sol = solve_ivp(f, [t0,T], [a,e], method = \"LSODA\", args = (b1, b2, b3, d1, d2))#, min_step = 1e-11)\n",
    "\n",
    "    x = sol.y[0]\n",
    "\n",
    "    #row[\"Merge\"]\n",
    "    #row[21] = (x[(~np.isnan(x)) & (x > 0)].min() < R)\n",
    "    v = np.diff(x, prepend = -x[0])\n",
    "    #try :\n",
    "    #    row[21] = sol.t[(~np.isnan(x)) & (x > 0) & (v < 0)][-1]\n",
    "    #except :\n",
    "    #    pass # soluzioni esattamente costanti danno un array vuoto!\n",
    "\n",
    "    b = sol.t[(~np.isnan(x)) & (x > 0) & (v < 0)]\n",
    "    if len(b) > 0 :\n",
    "        row[21] = b[-1]\n",
    "\n",
    "    #row[22] = sol.t[np.argmin(x[(~np.isnan(x)) & (x > 0)])]\n",
    "\n",
    "    #return row\n",
    "    return sol.t[np.argmin(x[(~np.isnan(x)) & (x > 0)])]"
   ]
  },
  {
   "cell_type": "code",
   "execution_count": 6,
   "metadata": {},
   "outputs": [
    {
     "output_type": "stream",
     "name": "stderr",
     "text": [
      "  0%|          | 1/2500 [00:00<21:24,  1.95it/s]C:\\Users\\ma_gi\\AppData\\Local\\Programs\\Python\\Python39\\lib\\site-packages\\scipy\\integrate\\_ode.py:1352: UserWarning: lsoda: Repeated convergence failures (perhaps bad Jacobian or tolerances).\n",
      "  warnings.warn('{:s}: {:s}'.format(self.__class__.__name__,\n",
      "100%|██████████| 2500/2500 [00:25<00:00, 98.74it/s] \n"
     ]
    }
   ],
   "source": [
    "for index, subframe in tqdm(df.groupby(df.index)) :\n",
    "    df.iloc[index, -1] = merge_time(subframe)"
   ]
  },
  {
   "cell_type": "code",
   "execution_count": 7,
   "metadata": {},
   "outputs": [
    {
     "output_type": "execute_result",
     "data": {
      "text/plain": [
       "          ID             name    Mass_0  Luminosity_0  Radius_0  \\\n",
       "0         92  623198111468628  43.89820  1.000000e-15  0.000186   \n",
       "1        112  586465437076249  23.04844  1.000000e-15  0.000098   \n",
       "2        124  214297123674238  36.25998  1.000000e-15  0.000154   \n",
       "3        154  559548692536031  38.30607  1.000000e-15  0.000163   \n",
       "4        180  424791614019654  17.22931  1.000000e-15  0.000073   \n",
       "...      ...              ...       ...           ...       ...   \n",
       "2495  307400  853654194837765  26.39870  1.000000e-15  0.000112   \n",
       "2496  307427  611105804028612  35.83278  1.000000e-15  0.000152   \n",
       "2497  307455  930024133984856  37.94331  1.000000e-15  0.000161   \n",
       "2498  307474  376643106480511  38.95212  1.000000e-15  0.000165   \n",
       "2499  307479  609490120131316  42.59427  1.000000e-15  0.000181   \n",
       "\n",
       "      Temperature_0  Phase_0  RemnantType_0    Zams_0     Mass_1  ...  \\\n",
       "0          75.23506        7              6  44.67820  26.748790  ...   \n",
       "1         103.90500        7              6  26.01399  27.232310  ...   \n",
       "2          82.86009        7              6  43.63717  32.662180  ...   \n",
       "3          80.53965        7              6  86.13720  56.341010  ...   \n",
       "4         120.21590        7              6  19.27244  17.397330  ...   \n",
       "...             ...      ...            ...       ...        ...  ...   \n",
       "2495       97.08277        7              6  30.06574  24.200570  ...   \n",
       "2496       83.27723        7              6  42.86181  35.568870  ...   \n",
       "2497       80.93258        7              6  46.79656   7.321097  ...   \n",
       "2498       79.88245        7              6  48.41524  21.209380  ...   \n",
       "2499       76.37798        7              6  55.52980  26.313730  ...   \n",
       "\n",
       "      RemnantType_1    Zams_1     Semimajor  Eccentricity  BWorldtime  \\\n",
       "0                 6  31.79180   8218.087000      0.933191    6.255643   \n",
       "1                 6  30.98894    134.886400      0.009944    4.975206   \n",
       "2                 6  37.74799    481.943300      0.012562    4.733170   \n",
       "3                 6  57.45690  80356.410000      0.095792    4.171837   \n",
       "4                 6  19.51988    109.564500      0.014440    6.984805   \n",
       "...             ...       ...           ...           ...         ...   \n",
       "2495              6  27.41962    119.958500      0.009882    4.655624   \n",
       "2496              6  42.43849     20.214680      0.054350    3.655644   \n",
       "2497              6  11.71306     20.846330      0.126676    7.137279   \n",
       "2498              6  23.91973      4.569291      0.008311    5.641471   \n",
       "2499              6  67.74502   2978.107000      0.493297    3.298796   \n",
       "\n",
       "         BTimestep        GWtime       Z    A    Merge_time  \n",
       "0     2.000000e-10  6.382552e+09  0.0002  0.1  14000.000000  \n",
       "1     2.000000e-10  1.572015e+06  0.0002  0.1  14000.000000  \n",
       "2     2.000000e-10  9.903180e+07  0.0002  0.1  14000.000000  \n",
       "3     2.000000e-10  2.963007e+16  0.0002  0.1  14000.000000  \n",
       "4     2.000000e-10  2.080002e+06  0.0002  0.1  14000.000000  \n",
       "...            ...           ...     ...  ...           ...  \n",
       "2495  2.000000e-10  9.600316e+05  0.0002  0.1  14000.000000  \n",
       "2496  2.000000e-10  2.722543e+02  0.0002  0.1    274.227261  \n",
       "2497  2.000000e-10  2.127762e+03  0.0002  0.1   2116.785695  \n",
       "2498  2.000000e-10  1.314544e+00  0.0002  0.1      6.947659  \n",
       "2499  2.000000e-10  5.754001e+10  0.0002  0.1  14000.000000  \n",
       "\n",
       "[2500 rows x 24 columns]"
      ],
      "text/html": "<div>\n<style scoped>\n    .dataframe tbody tr th:only-of-type {\n        vertical-align: middle;\n    }\n\n    .dataframe tbody tr th {\n        vertical-align: top;\n    }\n\n    .dataframe thead th {\n        text-align: right;\n    }\n</style>\n<table border=\"1\" class=\"dataframe\">\n  <thead>\n    <tr style=\"text-align: right;\">\n      <th></th>\n      <th>ID</th>\n      <th>name</th>\n      <th>Mass_0</th>\n      <th>Luminosity_0</th>\n      <th>Radius_0</th>\n      <th>Temperature_0</th>\n      <th>Phase_0</th>\n      <th>RemnantType_0</th>\n      <th>Zams_0</th>\n      <th>Mass_1</th>\n      <th>...</th>\n      <th>RemnantType_1</th>\n      <th>Zams_1</th>\n      <th>Semimajor</th>\n      <th>Eccentricity</th>\n      <th>BWorldtime</th>\n      <th>BTimestep</th>\n      <th>GWtime</th>\n      <th>Z</th>\n      <th>A</th>\n      <th>Merge_time</th>\n    </tr>\n  </thead>\n  <tbody>\n    <tr>\n      <th>0</th>\n      <td>92</td>\n      <td>623198111468628</td>\n      <td>43.89820</td>\n      <td>1.000000e-15</td>\n      <td>0.000186</td>\n      <td>75.23506</td>\n      <td>7</td>\n      <td>6</td>\n      <td>44.67820</td>\n      <td>26.748790</td>\n      <td>...</td>\n      <td>6</td>\n      <td>31.79180</td>\n      <td>8218.087000</td>\n      <td>0.933191</td>\n      <td>6.255643</td>\n      <td>2.000000e-10</td>\n      <td>6.382552e+09</td>\n      <td>0.0002</td>\n      <td>0.1</td>\n      <td>14000.000000</td>\n    </tr>\n    <tr>\n      <th>1</th>\n      <td>112</td>\n      <td>586465437076249</td>\n      <td>23.04844</td>\n      <td>1.000000e-15</td>\n      <td>0.000098</td>\n      <td>103.90500</td>\n      <td>7</td>\n      <td>6</td>\n      <td>26.01399</td>\n      <td>27.232310</td>\n      <td>...</td>\n      <td>6</td>\n      <td>30.98894</td>\n      <td>134.886400</td>\n      <td>0.009944</td>\n      <td>4.975206</td>\n      <td>2.000000e-10</td>\n      <td>1.572015e+06</td>\n      <td>0.0002</td>\n      <td>0.1</td>\n      <td>14000.000000</td>\n    </tr>\n    <tr>\n      <th>2</th>\n      <td>124</td>\n      <td>214297123674238</td>\n      <td>36.25998</td>\n      <td>1.000000e-15</td>\n      <td>0.000154</td>\n      <td>82.86009</td>\n      <td>7</td>\n      <td>6</td>\n      <td>43.63717</td>\n      <td>32.662180</td>\n      <td>...</td>\n      <td>6</td>\n      <td>37.74799</td>\n      <td>481.943300</td>\n      <td>0.012562</td>\n      <td>4.733170</td>\n      <td>2.000000e-10</td>\n      <td>9.903180e+07</td>\n      <td>0.0002</td>\n      <td>0.1</td>\n      <td>14000.000000</td>\n    </tr>\n    <tr>\n      <th>3</th>\n      <td>154</td>\n      <td>559548692536031</td>\n      <td>38.30607</td>\n      <td>1.000000e-15</td>\n      <td>0.000163</td>\n      <td>80.53965</td>\n      <td>7</td>\n      <td>6</td>\n      <td>86.13720</td>\n      <td>56.341010</td>\n      <td>...</td>\n      <td>6</td>\n      <td>57.45690</td>\n      <td>80356.410000</td>\n      <td>0.095792</td>\n      <td>4.171837</td>\n      <td>2.000000e-10</td>\n      <td>2.963007e+16</td>\n      <td>0.0002</td>\n      <td>0.1</td>\n      <td>14000.000000</td>\n    </tr>\n    <tr>\n      <th>4</th>\n      <td>180</td>\n      <td>424791614019654</td>\n      <td>17.22931</td>\n      <td>1.000000e-15</td>\n      <td>0.000073</td>\n      <td>120.21590</td>\n      <td>7</td>\n      <td>6</td>\n      <td>19.27244</td>\n      <td>17.397330</td>\n      <td>...</td>\n      <td>6</td>\n      <td>19.51988</td>\n      <td>109.564500</td>\n      <td>0.014440</td>\n      <td>6.984805</td>\n      <td>2.000000e-10</td>\n      <td>2.080002e+06</td>\n      <td>0.0002</td>\n      <td>0.1</td>\n      <td>14000.000000</td>\n    </tr>\n    <tr>\n      <th>...</th>\n      <td>...</td>\n      <td>...</td>\n      <td>...</td>\n      <td>...</td>\n      <td>...</td>\n      <td>...</td>\n      <td>...</td>\n      <td>...</td>\n      <td>...</td>\n      <td>...</td>\n      <td>...</td>\n      <td>...</td>\n      <td>...</td>\n      <td>...</td>\n      <td>...</td>\n      <td>...</td>\n      <td>...</td>\n      <td>...</td>\n      <td>...</td>\n      <td>...</td>\n      <td>...</td>\n    </tr>\n    <tr>\n      <th>2495</th>\n      <td>307400</td>\n      <td>853654194837765</td>\n      <td>26.39870</td>\n      <td>1.000000e-15</td>\n      <td>0.000112</td>\n      <td>97.08277</td>\n      <td>7</td>\n      <td>6</td>\n      <td>30.06574</td>\n      <td>24.200570</td>\n      <td>...</td>\n      <td>6</td>\n      <td>27.41962</td>\n      <td>119.958500</td>\n      <td>0.009882</td>\n      <td>4.655624</td>\n      <td>2.000000e-10</td>\n      <td>9.600316e+05</td>\n      <td>0.0002</td>\n      <td>0.1</td>\n      <td>14000.000000</td>\n    </tr>\n    <tr>\n      <th>2496</th>\n      <td>307427</td>\n      <td>611105804028612</td>\n      <td>35.83278</td>\n      <td>1.000000e-15</td>\n      <td>0.000152</td>\n      <td>83.27723</td>\n      <td>7</td>\n      <td>6</td>\n      <td>42.86181</td>\n      <td>35.568870</td>\n      <td>...</td>\n      <td>6</td>\n      <td>42.43849</td>\n      <td>20.214680</td>\n      <td>0.054350</td>\n      <td>3.655644</td>\n      <td>2.000000e-10</td>\n      <td>2.722543e+02</td>\n      <td>0.0002</td>\n      <td>0.1</td>\n      <td>274.227261</td>\n    </tr>\n    <tr>\n      <th>2497</th>\n      <td>307455</td>\n      <td>930024133984856</td>\n      <td>37.94331</td>\n      <td>1.000000e-15</td>\n      <td>0.000161</td>\n      <td>80.93258</td>\n      <td>7</td>\n      <td>6</td>\n      <td>46.79656</td>\n      <td>7.321097</td>\n      <td>...</td>\n      <td>6</td>\n      <td>11.71306</td>\n      <td>20.846330</td>\n      <td>0.126676</td>\n      <td>7.137279</td>\n      <td>2.000000e-10</td>\n      <td>2.127762e+03</td>\n      <td>0.0002</td>\n      <td>0.1</td>\n      <td>2116.785695</td>\n    </tr>\n    <tr>\n      <th>2498</th>\n      <td>307474</td>\n      <td>376643106480511</td>\n      <td>38.95212</td>\n      <td>1.000000e-15</td>\n      <td>0.000165</td>\n      <td>79.88245</td>\n      <td>7</td>\n      <td>6</td>\n      <td>48.41524</td>\n      <td>21.209380</td>\n      <td>...</td>\n      <td>6</td>\n      <td>23.91973</td>\n      <td>4.569291</td>\n      <td>0.008311</td>\n      <td>5.641471</td>\n      <td>2.000000e-10</td>\n      <td>1.314544e+00</td>\n      <td>0.0002</td>\n      <td>0.1</td>\n      <td>6.947659</td>\n    </tr>\n    <tr>\n      <th>2499</th>\n      <td>307479</td>\n      <td>609490120131316</td>\n      <td>42.59427</td>\n      <td>1.000000e-15</td>\n      <td>0.000181</td>\n      <td>76.37798</td>\n      <td>7</td>\n      <td>6</td>\n      <td>55.52980</td>\n      <td>26.313730</td>\n      <td>...</td>\n      <td>6</td>\n      <td>67.74502</td>\n      <td>2978.107000</td>\n      <td>0.493297</td>\n      <td>3.298796</td>\n      <td>2.000000e-10</td>\n      <td>5.754001e+10</td>\n      <td>0.0002</td>\n      <td>0.1</td>\n      <td>14000.000000</td>\n    </tr>\n  </tbody>\n</table>\n<p>2500 rows × 24 columns</p>\n</div>"
     },
     "metadata": {},
     "execution_count": 7
    }
   ],
   "source": [
    "df"
   ]
  },
  {
   "cell_type": "code",
   "execution_count": 8,
   "metadata": {},
   "outputs": [
    {
     "output_type": "execute_result",
     "data": {
      "text/plain": [
       "4770.879493681414"
      ]
     },
     "metadata": {},
     "execution_count": 8
    }
   ],
   "source": [
    "df.iloc[26][\"Merge_time\"]"
   ]
  },
  {
   "cell_type": "code",
   "execution_count": 9,
   "metadata": {},
   "outputs": [],
   "source": [
    "df.to_csv(f\"df_con_Merge_time_{n_rows_to_keep}.csv\")"
   ]
  },
  {
   "cell_type": "code",
   "execution_count": 10,
   "metadata": {},
   "outputs": [
    {
     "output_type": "execute_result",
     "data": {
      "text/plain": [
       "0       0.000899\n",
       "1       0.000640\n",
       "2       0.000877\n",
       "3       0.001204\n",
       "4       0.000441\n",
       "          ...   \n",
       "2495    0.000644\n",
       "2496    0.000909\n",
       "2497    0.000576\n",
       "2498    0.000766\n",
       "2499    0.000877\n",
       "Length: 2500, dtype: float64"
      ]
     },
     "metadata": {},
     "execution_count": 10
    }
   ],
   "source": [
    "isco = 6*G*(df.Mass_0 + df.Mass_1)/c**2\n",
    "isco"
   ]
  },
  {
   "cell_type": "code",
   "execution_count": 78,
   "metadata": {},
   "outputs": [
    {
     "output_type": "execute_result",
     "data": {
      "text/plain": [
       "0       0.000300\n",
       "1       0.000213\n",
       "2       0.000292\n",
       "3       0.000402\n",
       "4       0.000147\n",
       "          ...   \n",
       "2495    0.000215\n",
       "2496    0.000303\n",
       "2497    0.000192\n",
       "2498    0.000255\n",
       "2499    0.000293\n",
       "Length: 2500, dtype: float64"
      ]
     },
     "metadata": {},
     "execution_count": 78
    }
   ],
   "source": [
    "R = df.Radius_0 + df.Radius_1\n",
    "R"
   ]
  },
  {
   "cell_type": "code",
   "execution_count": 12,
   "metadata": {},
   "outputs": [
    {
     "output_type": "display_data",
     "data": {
      "text/plain": "<Figure size 432x288 with 1 Axes>",
      "image/svg+xml": "<?xml version=\"1.0\" encoding=\"utf-8\" standalone=\"no\"?>\r\n<!DOCTYPE svg PUBLIC \"-//W3C//DTD SVG 1.1//EN\"\r\n  \"http://www.w3.org/Graphics/SVG/1.1/DTD/svg11.dtd\">\r\n<svg height=\"248.518125pt\" version=\"1.1\" viewBox=\"0 0 380.38585 248.518125\" width=\"380.38585pt\" xmlns=\"http://www.w3.org/2000/svg\" xmlns:xlink=\"http://www.w3.org/1999/xlink\">\r\n <metadata>\r\n  <rdf:RDF xmlns:cc=\"http://creativecommons.org/ns#\" xmlns:dc=\"http://purl.org/dc/elements/1.1/\" xmlns:rdf=\"http://www.w3.org/1999/02/22-rdf-syntax-ns#\">\r\n   <cc:Work>\r\n    <dc:type rdf:resource=\"http://purl.org/dc/dcmitype/StillImage\"/>\r\n    <dc:date>2021-05-31T11:05:16.593205</dc:date>\r\n    <dc:format>image/svg+xml</dc:format>\r\n    <dc:creator>\r\n     <cc:Agent>\r\n      <dc:title>Matplotlib v3.4.1, https://matplotlib.org/</dc:title>\r\n     </cc:Agent>\r\n    </dc:creator>\r\n   </cc:Work>\r\n  </rdf:RDF>\r\n </metadata>\r\n <defs>\r\n  <style type=\"text/css\">*{stroke-linecap:butt;stroke-linejoin:round;}</style>\r\n </defs>\r\n <g id=\"figure_1\">\r\n  <g id=\"patch_1\">\r\n   <path d=\"M 0 248.518125 \r\nL 380.38585 248.518125 \r\nL 380.38585 0 \r\nL 0 0 \r\nz\r\n\" style=\"fill:none;\"/>\r\n  </g>\r\n  <g id=\"axes_1\">\r\n   <g id=\"patch_2\">\r\n    <path d=\"M 33.2875 224.64 \r\nL 368.0875 224.64 \r\nL 368.0875 7.2 \r\nL 33.2875 7.2 \r\nz\r\n\" style=\"fill:#ffffff;\"/>\r\n   </g>\r\n   <g id=\"patch_3\">\r\n    <path clip-path=\"url(#p58c8188951)\" d=\"M 48.505682 224.64 \r\nL 78.942045 224.64 \r\nL 78.942045 200.897689 \r\nL 48.505682 200.897689 \r\nz\r\n\" style=\"fill:#1f77b4;\"/>\r\n   </g>\r\n   <g id=\"patch_4\">\r\n    <path clip-path=\"url(#p58c8188951)\" d=\"M 78.942045 224.64 \r\nL 109.378409 224.64 \r\nL 109.378409 152.094049 \r\nL 78.942045 152.094049 \r\nz\r\n\" style=\"fill:#1f77b4;\"/>\r\n   </g>\r\n   <g id=\"patch_5\">\r\n    <path clip-path=\"url(#p58c8188951)\" d=\"M 109.378409 224.64 \r\nL 139.814773 224.64 \r\nL 139.814773 126.593048 \r\nL 109.378409 126.593048 \r\nz\r\n\" style=\"fill:#1f77b4;\"/>\r\n   </g>\r\n   <g id=\"patch_6\">\r\n    <path clip-path=\"url(#p58c8188951)\" d=\"M 139.814773 224.64 \r\nL 170.251136 224.64 \r\nL 170.251136 80.427443 \r\nL 139.814773 80.427443 \r\nz\r\n\" style=\"fill:#1f77b4;\"/>\r\n   </g>\r\n   <g id=\"patch_7\">\r\n    <path clip-path=\"url(#p58c8188951)\" d=\"M 170.251136 224.64 \r\nL 200.6875 224.64 \r\nL 200.6875 71.633995 \r\nL 170.251136 71.633995 \r\nz\r\n\" style=\"fill:#1f77b4;\"/>\r\n   </g>\r\n   <g id=\"patch_8\">\r\n    <path clip-path=\"url(#p58c8188951)\" d=\"M 200.6875 224.64 \r\nL 231.123864 224.64 \r\nL 231.123864 17.554286 \r\nL 200.6875 17.554286 \r\nz\r\n\" style=\"fill:#1f77b4;\"/>\r\n   </g>\r\n   <g id=\"patch_9\">\r\n    <path clip-path=\"url(#p58c8188951)\" d=\"M 231.123864 224.64 \r\nL 261.560227 224.64 \r\nL 261.560227 26.787407 \r\nL 231.123864 26.787407 \r\nz\r\n\" style=\"fill:#1f77b4;\"/>\r\n   </g>\r\n   <g id=\"patch_10\">\r\n    <path clip-path=\"url(#p58c8188951)\" d=\"M 261.560227 224.64 \r\nL 291.996591 224.64 \r\nL 291.996591 100.212702 \r\nL 261.560227 100.212702 \r\nz\r\n\" style=\"fill:#1f77b4;\"/>\r\n   </g>\r\n   <g id=\"patch_11\">\r\n    <path clip-path=\"url(#p58c8188951)\" d=\"M 291.996591 224.64 \r\nL 322.432955 224.64 \r\nL 322.432955 163.08586 \r\nL 291.996591 163.08586 \r\nz\r\n\" style=\"fill:#1f77b4;\"/>\r\n   </g>\r\n   <g id=\"patch_12\">\r\n    <path clip-path=\"url(#p58c8188951)\" d=\"M 322.432955 224.64 \r\nL 352.869318 224.64 \r\nL 352.869318 207.932448 \r\nL 322.432955 207.932448 \r\nz\r\n\" style=\"fill:#1f77b4;\"/>\r\n   </g>\r\n   <g id=\"matplotlib.axis_1\">\r\n    <g id=\"xtick_1\">\r\n     <g id=\"line2d_1\">\r\n      <path clip-path=\"url(#p58c8188951)\" d=\"M 42.134101 224.64 \r\nL 42.134101 7.2 \r\n\" style=\"fill:none;stroke:#b0b0b0;stroke-linecap:square;stroke-width:0.8;\"/>\r\n     </g>\r\n     <g id=\"line2d_2\">\r\n      <defs>\r\n       <path d=\"M 0 0 \r\nL 0 3.5 \r\n\" id=\"m6576b6c8b8\" style=\"stroke:#000000;stroke-width:0.8;\"/>\r\n      </defs>\r\n      <g>\r\n       <use style=\"stroke:#000000;stroke-width:0.8;\" x=\"42.134101\" xlink:href=\"#m6576b6c8b8\" y=\"224.64\"/>\r\n      </g>\r\n     </g>\r\n     <g id=\"text_1\">\r\n      <!-- 0.0000 -->\r\n      <g transform=\"translate(24.638789 239.238438)scale(0.1 -0.1)\">\r\n       <defs>\r\n        <path d=\"M 2034 4250 \r\nQ 1547 4250 1301 3770 \r\nQ 1056 3291 1056 2328 \r\nQ 1056 1369 1301 889 \r\nQ 1547 409 2034 409 \r\nQ 2525 409 2770 889 \r\nQ 3016 1369 3016 2328 \r\nQ 3016 3291 2770 3770 \r\nQ 2525 4250 2034 4250 \r\nz\r\nM 2034 4750 \r\nQ 2819 4750 3233 4129 \r\nQ 3647 3509 3647 2328 \r\nQ 3647 1150 3233 529 \r\nQ 2819 -91 2034 -91 \r\nQ 1250 -91 836 529 \r\nQ 422 1150 422 2328 \r\nQ 422 3509 836 4129 \r\nQ 1250 4750 2034 4750 \r\nz\r\n\" id=\"DejaVuSans-30\" transform=\"scale(0.015625)\"/>\r\n        <path d=\"M 684 794 \r\nL 1344 794 \r\nL 1344 0 \r\nL 684 0 \r\nL 684 794 \r\nz\r\n\" id=\"DejaVuSans-2e\" transform=\"scale(0.015625)\"/>\r\n       </defs>\r\n       <use xlink:href=\"#DejaVuSans-30\"/>\r\n       <use x=\"63.623047\" xlink:href=\"#DejaVuSans-2e\"/>\r\n       <use x=\"95.410156\" xlink:href=\"#DejaVuSans-30\"/>\r\n       <use x=\"159.033203\" xlink:href=\"#DejaVuSans-30\"/>\r\n       <use x=\"222.65625\" xlink:href=\"#DejaVuSans-30\"/>\r\n       <use x=\"286.279297\" xlink:href=\"#DejaVuSans-30\"/>\r\n      </g>\r\n     </g>\r\n    </g>\r\n    <g id=\"xtick_2\">\r\n     <g id=\"line2d_3\">\r\n      <path clip-path=\"url(#p58c8188951)\" d=\"M 81.328656 224.64 \r\nL 81.328656 7.2 \r\n\" style=\"fill:none;stroke:#b0b0b0;stroke-linecap:square;stroke-width:0.8;\"/>\r\n     </g>\r\n     <g id=\"line2d_4\">\r\n      <g>\r\n       <use style=\"stroke:#000000;stroke-width:0.8;\" x=\"81.328656\" xlink:href=\"#m6576b6c8b8\" y=\"224.64\"/>\r\n      </g>\r\n     </g>\r\n     <g id=\"text_2\">\r\n      <!-- 0.0002 -->\r\n      <g transform=\"translate(63.833343 239.238438)scale(0.1 -0.1)\">\r\n       <defs>\r\n        <path d=\"M 1228 531 \r\nL 3431 531 \r\nL 3431 0 \r\nL 469 0 \r\nL 469 531 \r\nQ 828 903 1448 1529 \r\nQ 2069 2156 2228 2338 \r\nQ 2531 2678 2651 2914 \r\nQ 2772 3150 2772 3378 \r\nQ 2772 3750 2511 3984 \r\nQ 2250 4219 1831 4219 \r\nQ 1534 4219 1204 4116 \r\nQ 875 4013 500 3803 \r\nL 500 4441 \r\nQ 881 4594 1212 4672 \r\nQ 1544 4750 1819 4750 \r\nQ 2544 4750 2975 4387 \r\nQ 3406 4025 3406 3419 \r\nQ 3406 3131 3298 2873 \r\nQ 3191 2616 2906 2266 \r\nQ 2828 2175 2409 1742 \r\nQ 1991 1309 1228 531 \r\nz\r\n\" id=\"DejaVuSans-32\" transform=\"scale(0.015625)\"/>\r\n       </defs>\r\n       <use xlink:href=\"#DejaVuSans-30\"/>\r\n       <use x=\"63.623047\" xlink:href=\"#DejaVuSans-2e\"/>\r\n       <use x=\"95.410156\" xlink:href=\"#DejaVuSans-30\"/>\r\n       <use x=\"159.033203\" xlink:href=\"#DejaVuSans-30\"/>\r\n       <use x=\"222.65625\" xlink:href=\"#DejaVuSans-30\"/>\r\n       <use x=\"286.279297\" xlink:href=\"#DejaVuSans-32\"/>\r\n      </g>\r\n     </g>\r\n    </g>\r\n    <g id=\"xtick_3\">\r\n     <g id=\"line2d_5\">\r\n      <path clip-path=\"url(#p58c8188951)\" d=\"M 120.52321 224.64 \r\nL 120.52321 7.2 \r\n\" style=\"fill:none;stroke:#b0b0b0;stroke-linecap:square;stroke-width:0.8;\"/>\r\n     </g>\r\n     <g id=\"line2d_6\">\r\n      <g>\r\n       <use style=\"stroke:#000000;stroke-width:0.8;\" x=\"120.52321\" xlink:href=\"#m6576b6c8b8\" y=\"224.64\"/>\r\n      </g>\r\n     </g>\r\n     <g id=\"text_3\">\r\n      <!-- 0.0004 -->\r\n      <g transform=\"translate(103.027898 239.238438)scale(0.1 -0.1)\">\r\n       <defs>\r\n        <path d=\"M 2419 4116 \r\nL 825 1625 \r\nL 2419 1625 \r\nL 2419 4116 \r\nz\r\nM 2253 4666 \r\nL 3047 4666 \r\nL 3047 1625 \r\nL 3713 1625 \r\nL 3713 1100 \r\nL 3047 1100 \r\nL 3047 0 \r\nL 2419 0 \r\nL 2419 1100 \r\nL 313 1100 \r\nL 313 1709 \r\nL 2253 4666 \r\nz\r\n\" id=\"DejaVuSans-34\" transform=\"scale(0.015625)\"/>\r\n       </defs>\r\n       <use xlink:href=\"#DejaVuSans-30\"/>\r\n       <use x=\"63.623047\" xlink:href=\"#DejaVuSans-2e\"/>\r\n       <use x=\"95.410156\" xlink:href=\"#DejaVuSans-30\"/>\r\n       <use x=\"159.033203\" xlink:href=\"#DejaVuSans-30\"/>\r\n       <use x=\"222.65625\" xlink:href=\"#DejaVuSans-30\"/>\r\n       <use x=\"286.279297\" xlink:href=\"#DejaVuSans-34\"/>\r\n      </g>\r\n     </g>\r\n    </g>\r\n    <g id=\"xtick_4\">\r\n     <g id=\"line2d_7\">\r\n      <path clip-path=\"url(#p58c8188951)\" d=\"M 159.717765 224.64 \r\nL 159.717765 7.2 \r\n\" style=\"fill:none;stroke:#b0b0b0;stroke-linecap:square;stroke-width:0.8;\"/>\r\n     </g>\r\n     <g id=\"line2d_8\">\r\n      <g>\r\n       <use style=\"stroke:#000000;stroke-width:0.8;\" x=\"159.717765\" xlink:href=\"#m6576b6c8b8\" y=\"224.64\"/>\r\n      </g>\r\n     </g>\r\n     <g id=\"text_4\">\r\n      <!-- 0.0006 -->\r\n      <g transform=\"translate(142.222452 239.238438)scale(0.1 -0.1)\">\r\n       <defs>\r\n        <path d=\"M 2113 2584 \r\nQ 1688 2584 1439 2293 \r\nQ 1191 2003 1191 1497 \r\nQ 1191 994 1439 701 \r\nQ 1688 409 2113 409 \r\nQ 2538 409 2786 701 \r\nQ 3034 994 3034 1497 \r\nQ 3034 2003 2786 2293 \r\nQ 2538 2584 2113 2584 \r\nz\r\nM 3366 4563 \r\nL 3366 3988 \r\nQ 3128 4100 2886 4159 \r\nQ 2644 4219 2406 4219 \r\nQ 1781 4219 1451 3797 \r\nQ 1122 3375 1075 2522 \r\nQ 1259 2794 1537 2939 \r\nQ 1816 3084 2150 3084 \r\nQ 2853 3084 3261 2657 \r\nQ 3669 2231 3669 1497 \r\nQ 3669 778 3244 343 \r\nQ 2819 -91 2113 -91 \r\nQ 1303 -91 875 529 \r\nQ 447 1150 447 2328 \r\nQ 447 3434 972 4092 \r\nQ 1497 4750 2381 4750 \r\nQ 2619 4750 2861 4703 \r\nQ 3103 4656 3366 4563 \r\nz\r\n\" id=\"DejaVuSans-36\" transform=\"scale(0.015625)\"/>\r\n       </defs>\r\n       <use xlink:href=\"#DejaVuSans-30\"/>\r\n       <use x=\"63.623047\" xlink:href=\"#DejaVuSans-2e\"/>\r\n       <use x=\"95.410156\" xlink:href=\"#DejaVuSans-30\"/>\r\n       <use x=\"159.033203\" xlink:href=\"#DejaVuSans-30\"/>\r\n       <use x=\"222.65625\" xlink:href=\"#DejaVuSans-30\"/>\r\n       <use x=\"286.279297\" xlink:href=\"#DejaVuSans-36\"/>\r\n      </g>\r\n     </g>\r\n    </g>\r\n    <g id=\"xtick_5\">\r\n     <g id=\"line2d_9\">\r\n      <path clip-path=\"url(#p58c8188951)\" d=\"M 198.912319 224.64 \r\nL 198.912319 7.2 \r\n\" style=\"fill:none;stroke:#b0b0b0;stroke-linecap:square;stroke-width:0.8;\"/>\r\n     </g>\r\n     <g id=\"line2d_10\">\r\n      <g>\r\n       <use style=\"stroke:#000000;stroke-width:0.8;\" x=\"198.912319\" xlink:href=\"#m6576b6c8b8\" y=\"224.64\"/>\r\n      </g>\r\n     </g>\r\n     <g id=\"text_5\">\r\n      <!-- 0.0008 -->\r\n      <g transform=\"translate(181.417007 239.238438)scale(0.1 -0.1)\">\r\n       <defs>\r\n        <path d=\"M 2034 2216 \r\nQ 1584 2216 1326 1975 \r\nQ 1069 1734 1069 1313 \r\nQ 1069 891 1326 650 \r\nQ 1584 409 2034 409 \r\nQ 2484 409 2743 651 \r\nQ 3003 894 3003 1313 \r\nQ 3003 1734 2745 1975 \r\nQ 2488 2216 2034 2216 \r\nz\r\nM 1403 2484 \r\nQ 997 2584 770 2862 \r\nQ 544 3141 544 3541 \r\nQ 544 4100 942 4425 \r\nQ 1341 4750 2034 4750 \r\nQ 2731 4750 3128 4425 \r\nQ 3525 4100 3525 3541 \r\nQ 3525 3141 3298 2862 \r\nQ 3072 2584 2669 2484 \r\nQ 3125 2378 3379 2068 \r\nQ 3634 1759 3634 1313 \r\nQ 3634 634 3220 271 \r\nQ 2806 -91 2034 -91 \r\nQ 1263 -91 848 271 \r\nQ 434 634 434 1313 \r\nQ 434 1759 690 2068 \r\nQ 947 2378 1403 2484 \r\nz\r\nM 1172 3481 \r\nQ 1172 3119 1398 2916 \r\nQ 1625 2713 2034 2713 \r\nQ 2441 2713 2670 2916 \r\nQ 2900 3119 2900 3481 \r\nQ 2900 3844 2670 4047 \r\nQ 2441 4250 2034 4250 \r\nQ 1625 4250 1398 4047 \r\nQ 1172 3844 1172 3481 \r\nz\r\n\" id=\"DejaVuSans-38\" transform=\"scale(0.015625)\"/>\r\n       </defs>\r\n       <use xlink:href=\"#DejaVuSans-30\"/>\r\n       <use x=\"63.623047\" xlink:href=\"#DejaVuSans-2e\"/>\r\n       <use x=\"95.410156\" xlink:href=\"#DejaVuSans-30\"/>\r\n       <use x=\"159.033203\" xlink:href=\"#DejaVuSans-30\"/>\r\n       <use x=\"222.65625\" xlink:href=\"#DejaVuSans-30\"/>\r\n       <use x=\"286.279297\" xlink:href=\"#DejaVuSans-38\"/>\r\n      </g>\r\n     </g>\r\n    </g>\r\n    <g id=\"xtick_6\">\r\n     <g id=\"line2d_11\">\r\n      <path clip-path=\"url(#p58c8188951)\" d=\"M 238.106874 224.64 \r\nL 238.106874 7.2 \r\n\" style=\"fill:none;stroke:#b0b0b0;stroke-linecap:square;stroke-width:0.8;\"/>\r\n     </g>\r\n     <g id=\"line2d_12\">\r\n      <g>\r\n       <use style=\"stroke:#000000;stroke-width:0.8;\" x=\"238.106874\" xlink:href=\"#m6576b6c8b8\" y=\"224.64\"/>\r\n      </g>\r\n     </g>\r\n     <g id=\"text_6\">\r\n      <!-- 0.0010 -->\r\n      <g transform=\"translate(220.611561 239.238438)scale(0.1 -0.1)\">\r\n       <defs>\r\n        <path d=\"M 794 531 \r\nL 1825 531 \r\nL 1825 4091 \r\nL 703 3866 \r\nL 703 4441 \r\nL 1819 4666 \r\nL 2450 4666 \r\nL 2450 531 \r\nL 3481 531 \r\nL 3481 0 \r\nL 794 0 \r\nL 794 531 \r\nz\r\n\" id=\"DejaVuSans-31\" transform=\"scale(0.015625)\"/>\r\n       </defs>\r\n       <use xlink:href=\"#DejaVuSans-30\"/>\r\n       <use x=\"63.623047\" xlink:href=\"#DejaVuSans-2e\"/>\r\n       <use x=\"95.410156\" xlink:href=\"#DejaVuSans-30\"/>\r\n       <use x=\"159.033203\" xlink:href=\"#DejaVuSans-30\"/>\r\n       <use x=\"222.65625\" xlink:href=\"#DejaVuSans-31\"/>\r\n       <use x=\"286.279297\" xlink:href=\"#DejaVuSans-30\"/>\r\n      </g>\r\n     </g>\r\n    </g>\r\n    <g id=\"xtick_7\">\r\n     <g id=\"line2d_13\">\r\n      <path clip-path=\"url(#p58c8188951)\" d=\"M 277.301428 224.64 \r\nL 277.301428 7.2 \r\n\" style=\"fill:none;stroke:#b0b0b0;stroke-linecap:square;stroke-width:0.8;\"/>\r\n     </g>\r\n     <g id=\"line2d_14\">\r\n      <g>\r\n       <use style=\"stroke:#000000;stroke-width:0.8;\" x=\"277.301428\" xlink:href=\"#m6576b6c8b8\" y=\"224.64\"/>\r\n      </g>\r\n     </g>\r\n     <g id=\"text_7\">\r\n      <!-- 0.0012 -->\r\n      <g transform=\"translate(259.806116 239.238438)scale(0.1 -0.1)\">\r\n       <use xlink:href=\"#DejaVuSans-30\"/>\r\n       <use x=\"63.623047\" xlink:href=\"#DejaVuSans-2e\"/>\r\n       <use x=\"95.410156\" xlink:href=\"#DejaVuSans-30\"/>\r\n       <use x=\"159.033203\" xlink:href=\"#DejaVuSans-30\"/>\r\n       <use x=\"222.65625\" xlink:href=\"#DejaVuSans-31\"/>\r\n       <use x=\"286.279297\" xlink:href=\"#DejaVuSans-32\"/>\r\n      </g>\r\n     </g>\r\n    </g>\r\n    <g id=\"xtick_8\">\r\n     <g id=\"line2d_15\">\r\n      <path clip-path=\"url(#p58c8188951)\" d=\"M 316.495983 224.64 \r\nL 316.495983 7.2 \r\n\" style=\"fill:none;stroke:#b0b0b0;stroke-linecap:square;stroke-width:0.8;\"/>\r\n     </g>\r\n     <g id=\"line2d_16\">\r\n      <g>\r\n       <use style=\"stroke:#000000;stroke-width:0.8;\" x=\"316.495983\" xlink:href=\"#m6576b6c8b8\" y=\"224.64\"/>\r\n      </g>\r\n     </g>\r\n     <g id=\"text_8\">\r\n      <!-- 0.0014 -->\r\n      <g transform=\"translate(299.00067 239.238438)scale(0.1 -0.1)\">\r\n       <use xlink:href=\"#DejaVuSans-30\"/>\r\n       <use x=\"63.623047\" xlink:href=\"#DejaVuSans-2e\"/>\r\n       <use x=\"95.410156\" xlink:href=\"#DejaVuSans-30\"/>\r\n       <use x=\"159.033203\" xlink:href=\"#DejaVuSans-30\"/>\r\n       <use x=\"222.65625\" xlink:href=\"#DejaVuSans-31\"/>\r\n       <use x=\"286.279297\" xlink:href=\"#DejaVuSans-34\"/>\r\n      </g>\r\n     </g>\r\n    </g>\r\n    <g id=\"xtick_9\">\r\n     <g id=\"line2d_17\">\r\n      <path clip-path=\"url(#p58c8188951)\" d=\"M 355.690537 224.64 \r\nL 355.690537 7.2 \r\n\" style=\"fill:none;stroke:#b0b0b0;stroke-linecap:square;stroke-width:0.8;\"/>\r\n     </g>\r\n     <g id=\"line2d_18\">\r\n      <g>\r\n       <use style=\"stroke:#000000;stroke-width:0.8;\" x=\"355.690537\" xlink:href=\"#m6576b6c8b8\" y=\"224.64\"/>\r\n      </g>\r\n     </g>\r\n     <g id=\"text_9\">\r\n      <!-- 0.0016 -->\r\n      <g transform=\"translate(338.195225 239.238438)scale(0.1 -0.1)\">\r\n       <use xlink:href=\"#DejaVuSans-30\"/>\r\n       <use x=\"63.623047\" xlink:href=\"#DejaVuSans-2e\"/>\r\n       <use x=\"95.410156\" xlink:href=\"#DejaVuSans-30\"/>\r\n       <use x=\"159.033203\" xlink:href=\"#DejaVuSans-30\"/>\r\n       <use x=\"222.65625\" xlink:href=\"#DejaVuSans-31\"/>\r\n       <use x=\"286.279297\" xlink:href=\"#DejaVuSans-36\"/>\r\n      </g>\r\n     </g>\r\n    </g>\r\n   </g>\r\n   <g id=\"matplotlib.axis_2\">\r\n    <g id=\"ytick_1\">\r\n     <g id=\"line2d_19\">\r\n      <path clip-path=\"url(#p58c8188951)\" d=\"M 33.2875 224.64 \r\nL 368.0875 224.64 \r\n\" style=\"fill:none;stroke:#b0b0b0;stroke-linecap:square;stroke-width:0.8;\"/>\r\n     </g>\r\n     <g id=\"line2d_20\">\r\n      <defs>\r\n       <path d=\"M 0 0 \r\nL -3.5 0 \r\n\" id=\"mffc4079ca7\" style=\"stroke:#000000;stroke-width:0.8;\"/>\r\n      </defs>\r\n      <g>\r\n       <use style=\"stroke:#000000;stroke-width:0.8;\" x=\"33.2875\" xlink:href=\"#mffc4079ca7\" y=\"224.64\"/>\r\n      </g>\r\n     </g>\r\n     <g id=\"text_10\">\r\n      <!-- 0 -->\r\n      <g transform=\"translate(19.925 228.439219)scale(0.1 -0.1)\">\r\n       <use xlink:href=\"#DejaVuSans-30\"/>\r\n      </g>\r\n     </g>\r\n    </g>\r\n    <g id=\"ytick_2\">\r\n     <g id=\"line2d_21\">\r\n      <path clip-path=\"url(#p58c8188951)\" d=\"M 33.2875 180.672757 \r\nL 368.0875 180.672757 \r\n\" style=\"fill:none;stroke:#b0b0b0;stroke-linecap:square;stroke-width:0.8;\"/>\r\n     </g>\r\n     <g id=\"line2d_22\">\r\n      <g>\r\n       <use style=\"stroke:#000000;stroke-width:0.8;\" x=\"33.2875\" xlink:href=\"#mffc4079ca7\" y=\"180.672757\"/>\r\n      </g>\r\n     </g>\r\n     <g id=\"text_11\">\r\n      <!-- 100 -->\r\n      <g transform=\"translate(7.2 184.471976)scale(0.1 -0.1)\">\r\n       <use xlink:href=\"#DejaVuSans-31\"/>\r\n       <use x=\"63.623047\" xlink:href=\"#DejaVuSans-30\"/>\r\n       <use x=\"127.246094\" xlink:href=\"#DejaVuSans-30\"/>\r\n      </g>\r\n     </g>\r\n    </g>\r\n    <g id=\"ytick_3\">\r\n     <g id=\"line2d_23\">\r\n      <path clip-path=\"url(#p58c8188951)\" d=\"M 33.2875 136.705514 \r\nL 368.0875 136.705514 \r\n\" style=\"fill:none;stroke:#b0b0b0;stroke-linecap:square;stroke-width:0.8;\"/>\r\n     </g>\r\n     <g id=\"line2d_24\">\r\n      <g>\r\n       <use style=\"stroke:#000000;stroke-width:0.8;\" x=\"33.2875\" xlink:href=\"#mffc4079ca7\" y=\"136.705514\"/>\r\n      </g>\r\n     </g>\r\n     <g id=\"text_12\">\r\n      <!-- 200 -->\r\n      <g transform=\"translate(7.2 140.504733)scale(0.1 -0.1)\">\r\n       <use xlink:href=\"#DejaVuSans-32\"/>\r\n       <use x=\"63.623047\" xlink:href=\"#DejaVuSans-30\"/>\r\n       <use x=\"127.246094\" xlink:href=\"#DejaVuSans-30\"/>\r\n      </g>\r\n     </g>\r\n    </g>\r\n    <g id=\"ytick_4\">\r\n     <g id=\"line2d_25\">\r\n      <path clip-path=\"url(#p58c8188951)\" d=\"M 33.2875 92.738271 \r\nL 368.0875 92.738271 \r\n\" style=\"fill:none;stroke:#b0b0b0;stroke-linecap:square;stroke-width:0.8;\"/>\r\n     </g>\r\n     <g id=\"line2d_26\">\r\n      <g>\r\n       <use style=\"stroke:#000000;stroke-width:0.8;\" x=\"33.2875\" xlink:href=\"#mffc4079ca7\" y=\"92.738271\"/>\r\n      </g>\r\n     </g>\r\n     <g id=\"text_13\">\r\n      <!-- 300 -->\r\n      <g transform=\"translate(7.2 96.53749)scale(0.1 -0.1)\">\r\n       <defs>\r\n        <path d=\"M 2597 2516 \r\nQ 3050 2419 3304 2112 \r\nQ 3559 1806 3559 1356 \r\nQ 3559 666 3084 287 \r\nQ 2609 -91 1734 -91 \r\nQ 1441 -91 1130 -33 \r\nQ 819 25 488 141 \r\nL 488 750 \r\nQ 750 597 1062 519 \r\nQ 1375 441 1716 441 \r\nQ 2309 441 2620 675 \r\nQ 2931 909 2931 1356 \r\nQ 2931 1769 2642 2001 \r\nQ 2353 2234 1838 2234 \r\nL 1294 2234 \r\nL 1294 2753 \r\nL 1863 2753 \r\nQ 2328 2753 2575 2939 \r\nQ 2822 3125 2822 3475 \r\nQ 2822 3834 2567 4026 \r\nQ 2313 4219 1838 4219 \r\nQ 1578 4219 1281 4162 \r\nQ 984 4106 628 3988 \r\nL 628 4550 \r\nQ 988 4650 1302 4700 \r\nQ 1616 4750 1894 4750 \r\nQ 2613 4750 3031 4423 \r\nQ 3450 4097 3450 3541 \r\nQ 3450 3153 3228 2886 \r\nQ 3006 2619 2597 2516 \r\nz\r\n\" id=\"DejaVuSans-33\" transform=\"scale(0.015625)\"/>\r\n       </defs>\r\n       <use xlink:href=\"#DejaVuSans-33\"/>\r\n       <use x=\"63.623047\" xlink:href=\"#DejaVuSans-30\"/>\r\n       <use x=\"127.246094\" xlink:href=\"#DejaVuSans-30\"/>\r\n      </g>\r\n     </g>\r\n    </g>\r\n    <g id=\"ytick_5\">\r\n     <g id=\"line2d_27\">\r\n      <path clip-path=\"url(#p58c8188951)\" d=\"M 33.2875 48.771028 \r\nL 368.0875 48.771028 \r\n\" style=\"fill:none;stroke:#b0b0b0;stroke-linecap:square;stroke-width:0.8;\"/>\r\n     </g>\r\n     <g id=\"line2d_28\">\r\n      <g>\r\n       <use style=\"stroke:#000000;stroke-width:0.8;\" x=\"33.2875\" xlink:href=\"#mffc4079ca7\" y=\"48.771028\"/>\r\n      </g>\r\n     </g>\r\n     <g id=\"text_14\">\r\n      <!-- 400 -->\r\n      <g transform=\"translate(7.2 52.570247)scale(0.1 -0.1)\">\r\n       <use xlink:href=\"#DejaVuSans-34\"/>\r\n       <use x=\"63.623047\" xlink:href=\"#DejaVuSans-30\"/>\r\n       <use x=\"127.246094\" xlink:href=\"#DejaVuSans-30\"/>\r\n      </g>\r\n     </g>\r\n    </g>\r\n   </g>\r\n   <g id=\"patch_13\">\r\n    <path d=\"M 33.2875 224.64 \r\nL 33.2875 7.2 \r\n\" style=\"fill:none;stroke:#000000;stroke-linecap:square;stroke-linejoin:miter;stroke-width:0.8;\"/>\r\n   </g>\r\n   <g id=\"patch_14\">\r\n    <path d=\"M 368.0875 224.64 \r\nL 368.0875 7.2 \r\n\" style=\"fill:none;stroke:#000000;stroke-linecap:square;stroke-linejoin:miter;stroke-width:0.8;\"/>\r\n   </g>\r\n   <g id=\"patch_15\">\r\n    <path d=\"M 33.2875 224.64 \r\nL 368.0875 224.64 \r\n\" style=\"fill:none;stroke:#000000;stroke-linecap:square;stroke-linejoin:miter;stroke-width:0.8;\"/>\r\n   </g>\r\n   <g id=\"patch_16\">\r\n    <path d=\"M 33.2875 7.2 \r\nL 368.0875 7.2 \r\n\" style=\"fill:none;stroke:#000000;stroke-linecap:square;stroke-linejoin:miter;stroke-width:0.8;\"/>\r\n   </g>\r\n  </g>\r\n </g>\r\n <defs>\r\n  <clipPath id=\"p58c8188951\">\r\n   <rect height=\"217.44\" width=\"334.8\" x=\"33.2875\" y=\"7.2\"/>\r\n  </clipPath>\r\n </defs>\r\n</svg>\r\n",
      "image/png": "[encoded data removed]"
     },
     "metadata": {
      "needs_background": "light"
     }
    }
   ],
   "source": [
    "isco.hist();"
   ]
  },
  {
   "cell_type": "code",
   "execution_count": 79,
   "metadata": {},
   "outputs": [
    {
     "output_type": "display_data",
     "data": {
      "text/plain": "<Figure size 432x288 with 1 Axes>",
      "image/svg+xml": "<?xml version=\"1.0\" encoding=\"utf-8\" standalone=\"no\"?>\r\n<!DOCTYPE svg PUBLIC \"-//W3C//DTD SVG 1.1//EN\"\r\n  \"http://www.w3.org/Graphics/SVG/1.1/DTD/svg11.dtd\">\r\n<svg height=\"248.518125pt\" version=\"1.1\" viewBox=\"0 0 375.2875 248.518125\" width=\"375.2875pt\" xmlns=\"http://www.w3.org/2000/svg\" xmlns:xlink=\"http://www.w3.org/1999/xlink\">\r\n <metadata>\r\n  <rdf:RDF xmlns:cc=\"http://creativecommons.org/ns#\" xmlns:dc=\"http://purl.org/dc/elements/1.1/\" xmlns:rdf=\"http://www.w3.org/1999/02/22-rdf-syntax-ns#\">\r\n   <cc:Work>\r\n    <dc:type rdf:resource=\"http://purl.org/dc/dcmitype/StillImage\"/>\r\n    <dc:date>2021-05-31T11:40:52.064512</dc:date>\r\n    <dc:format>image/svg+xml</dc:format>\r\n    <dc:creator>\r\n     <cc:Agent>\r\n      <dc:title>Matplotlib v3.4.1, https://matplotlib.org/</dc:title>\r\n     </cc:Agent>\r\n    </dc:creator>\r\n   </cc:Work>\r\n  </rdf:RDF>\r\n </metadata>\r\n <defs>\r\n  <style type=\"text/css\">*{stroke-linecap:butt;stroke-linejoin:round;}</style>\r\n </defs>\r\n <g id=\"figure_1\">\r\n  <g id=\"patch_1\">\r\n   <path d=\"M 0 248.518125 \r\nL 375.2875 248.518125 \r\nL 375.2875 0 \r\nL 0 0 \r\nz\r\n\" style=\"fill:none;\"/>\r\n  </g>\r\n  <g id=\"axes_1\">\r\n   <g id=\"patch_2\">\r\n    <path d=\"M 33.2875 224.64 \r\nL 368.0875 224.64 \r\nL 368.0875 7.2 \r\nL 33.2875 7.2 \r\nz\r\n\" style=\"fill:#ffffff;\"/>\r\n   </g>\r\n   <g id=\"patch_3\">\r\n    <path clip-path=\"url(#p2f09360de9)\" d=\"M 48.505682 224.64 \r\nL 78.942045 224.64 \r\nL 78.942045 180.425621 \r\nL 48.505682 180.425621 \r\nz\r\n\" style=\"fill:#1f77b4;\"/>\r\n   </g>\r\n   <g id=\"patch_4\">\r\n    <path clip-path=\"url(#p2f09360de9)\" d=\"M 78.942045 224.64 \r\nL 109.378409 224.64 \r\nL 109.378409 151.099757 \r\nL 78.942045 151.099757 \r\nz\r\n\" style=\"fill:#1f77b4;\"/>\r\n   </g>\r\n   <g id=\"patch_5\">\r\n    <path clip-path=\"url(#p2f09360de9)\" d=\"M 109.378409 224.64 \r\nL 139.814773 224.64 \r\nL 139.814773 105.08071 \r\nL 109.378409 105.08071 \r\nz\r\n\" style=\"fill:#1f77b4;\"/>\r\n   </g>\r\n   <g id=\"patch_6\">\r\n    <path clip-path=\"url(#p2f09360de9)\" d=\"M 139.814773 224.64 \r\nL 170.251136 224.64 \r\nL 170.251136 87.936359 \r\nL 139.814773 87.936359 \r\nz\r\n\" style=\"fill:#1f77b4;\"/>\r\n   </g>\r\n   <g id=\"patch_7\">\r\n    <path clip-path=\"url(#p2f09360de9)\" d=\"M 170.251136 224.64 \r\nL 200.6875 224.64 \r\nL 200.6875 61.768665 \r\nL 170.251136 61.768665 \r\nz\r\n\" style=\"fill:#1f77b4;\"/>\r\n   </g>\r\n   <g id=\"patch_8\">\r\n    <path clip-path=\"url(#p2f09360de9)\" d=\"M 200.6875 224.64 \r\nL 231.123864 224.64 \r\nL 231.123864 17.554286 \r\nL 200.6875 17.554286 \r\nz\r\n\" style=\"fill:#1f77b4;\"/>\r\n   </g>\r\n   <g id=\"patch_9\">\r\n    <path clip-path=\"url(#p2f09360de9)\" d=\"M 231.123864 224.64 \r\nL 261.560227 224.64 \r\nL 261.560227 32.442801 \r\nL 231.123864 32.442801 \r\nz\r\n\" style=\"fill:#1f77b4;\"/>\r\n   </g>\r\n   <g id=\"patch_10\">\r\n    <path clip-path=\"url(#p2f09360de9)\" d=\"M 261.560227 224.64 \r\nL 291.996591 224.64 \r\nL 291.996591 105.983044 \r\nL 261.560227 105.983044 \r\nz\r\n\" style=\"fill:#1f77b4;\"/>\r\n   </g>\r\n   <g id=\"patch_11\">\r\n    <path clip-path=\"url(#p2f09360de9)\" d=\"M 291.996591 224.64 \r\nL 322.432955 224.64 \r\nL 322.432955 167.792941 \r\nL 291.996591 167.792941 \r\nz\r\n\" style=\"fill:#1f77b4;\"/>\r\n   </g>\r\n   <g id=\"patch_12\">\r\n    <path clip-path=\"url(#p2f09360de9)\" d=\"M 322.432955 224.64 \r\nL 352.869318 224.64 \r\nL 352.869318 208.397983 \r\nL 322.432955 208.397983 \r\nz\r\n\" style=\"fill:#1f77b4;\"/>\r\n   </g>\r\n   <g id=\"matplotlib.axis_1\">\r\n    <g id=\"xtick_1\">\r\n     <g id=\"line2d_1\">\r\n      <path clip-path=\"url(#p2f09360de9)\" d=\"M 91.838574 224.64 \r\nL 91.838574 7.2 \r\n\" style=\"fill:none;stroke:#b0b0b0;stroke-linecap:square;stroke-width:0.8;\"/>\r\n     </g>\r\n     <g id=\"line2d_2\">\r\n      <defs>\r\n       <path d=\"M 0 0 \r\nL 0 3.5 \r\n\" id=\"m24c00fbd46\" style=\"stroke:#000000;stroke-width:0.8;\"/>\r\n      </defs>\r\n      <g>\r\n       <use style=\"stroke:#000000;stroke-width:0.8;\" x=\"91.838574\" xlink:href=\"#m24c00fbd46\" y=\"224.64\"/>\r\n      </g>\r\n     </g>\r\n     <g id=\"text_1\">\r\n      <!-- 0.0001 -->\r\n      <g transform=\"translate(74.343261 239.238438)scale(0.1 -0.1)\">\r\n       <defs>\r\n        <path d=\"M 2034 4250 \r\nQ 1547 4250 1301 3770 \r\nQ 1056 3291 1056 2328 \r\nQ 1056 1369 1301 889 \r\nQ 1547 409 2034 409 \r\nQ 2525 409 2770 889 \r\nQ 3016 1369 3016 2328 \r\nQ 3016 3291 2770 3770 \r\nQ 2525 4250 2034 4250 \r\nz\r\nM 2034 4750 \r\nQ 2819 4750 3233 4129 \r\nQ 3647 3509 3647 2328 \r\nQ 3647 1150 3233 529 \r\nQ 2819 -91 2034 -91 \r\nQ 1250 -91 836 529 \r\nQ 422 1150 422 2328 \r\nQ 422 3509 836 4129 \r\nQ 1250 4750 2034 4750 \r\nz\r\n\" id=\"DejaVuSans-30\" transform=\"scale(0.015625)\"/>\r\n        <path d=\"M 684 794 \r\nL 1344 794 \r\nL 1344 0 \r\nL 684 0 \r\nL 684 794 \r\nz\r\n\" id=\"DejaVuSans-2e\" transform=\"scale(0.015625)\"/>\r\n        <path d=\"M 794 531 \r\nL 1825 531 \r\nL 1825 4091 \r\nL 703 3866 \r\nL 703 4441 \r\nL 1819 4666 \r\nL 2450 4666 \r\nL 2450 531 \r\nL 3481 531 \r\nL 3481 0 \r\nL 794 0 \r\nL 794 531 \r\nz\r\n\" id=\"DejaVuSans-31\" transform=\"scale(0.015625)\"/>\r\n       </defs>\r\n       <use xlink:href=\"#DejaVuSans-30\"/>\r\n       <use x=\"63.623047\" xlink:href=\"#DejaVuSans-2e\"/>\r\n       <use x=\"95.410156\" xlink:href=\"#DejaVuSans-30\"/>\r\n       <use x=\"159.033203\" xlink:href=\"#DejaVuSans-30\"/>\r\n       <use x=\"222.65625\" xlink:href=\"#DejaVuSans-30\"/>\r\n       <use x=\"286.279297\" xlink:href=\"#DejaVuSans-31\"/>\r\n      </g>\r\n     </g>\r\n    </g>\r\n    <g id=\"xtick_2\">\r\n     <g id=\"line2d_3\">\r\n      <path clip-path=\"url(#p2f09360de9)\" d=\"M 152.654961 224.64 \r\nL 152.654961 7.2 \r\n\" style=\"fill:none;stroke:#b0b0b0;stroke-linecap:square;stroke-width:0.8;\"/>\r\n     </g>\r\n     <g id=\"line2d_4\">\r\n      <g>\r\n       <use style=\"stroke:#000000;stroke-width:0.8;\" x=\"152.654961\" xlink:href=\"#m24c00fbd46\" y=\"224.64\"/>\r\n      </g>\r\n     </g>\r\n     <g id=\"text_2\">\r\n      <!-- 0.0002 -->\r\n      <g transform=\"translate(135.159648 239.238438)scale(0.1 -0.1)\">\r\n       <defs>\r\n        <path d=\"M 1228 531 \r\nL 3431 531 \r\nL 3431 0 \r\nL 469 0 \r\nL 469 531 \r\nQ 828 903 1448 1529 \r\nQ 2069 2156 2228 2338 \r\nQ 2531 2678 2651 2914 \r\nQ 2772 3150 2772 3378 \r\nQ 2772 3750 2511 3984 \r\nQ 2250 4219 1831 4219 \r\nQ 1534 4219 1204 4116 \r\nQ 875 4013 500 3803 \r\nL 500 4441 \r\nQ 881 4594 1212 4672 \r\nQ 1544 4750 1819 4750 \r\nQ 2544 4750 2975 4387 \r\nQ 3406 4025 3406 3419 \r\nQ 3406 3131 3298 2873 \r\nQ 3191 2616 2906 2266 \r\nQ 2828 2175 2409 1742 \r\nQ 1991 1309 1228 531 \r\nz\r\n\" id=\"DejaVuSans-32\" transform=\"scale(0.015625)\"/>\r\n       </defs>\r\n       <use xlink:href=\"#DejaVuSans-30\"/>\r\n       <use x=\"63.623047\" xlink:href=\"#DejaVuSans-2e\"/>\r\n       <use x=\"95.410156\" xlink:href=\"#DejaVuSans-30\"/>\r\n       <use x=\"159.033203\" xlink:href=\"#DejaVuSans-30\"/>\r\n       <use x=\"222.65625\" xlink:href=\"#DejaVuSans-30\"/>\r\n       <use x=\"286.279297\" xlink:href=\"#DejaVuSans-32\"/>\r\n      </g>\r\n     </g>\r\n    </g>\r\n    <g id=\"xtick_3\">\r\n     <g id=\"line2d_5\">\r\n      <path clip-path=\"url(#p2f09360de9)\" d=\"M 213.471348 224.64 \r\nL 213.471348 7.2 \r\n\" style=\"fill:none;stroke:#b0b0b0;stroke-linecap:square;stroke-width:0.8;\"/>\r\n     </g>\r\n     <g id=\"line2d_6\">\r\n      <g>\r\n       <use style=\"stroke:#000000;stroke-width:0.8;\" x=\"213.471348\" xlink:href=\"#m24c00fbd46\" y=\"224.64\"/>\r\n      </g>\r\n     </g>\r\n     <g id=\"text_3\">\r\n      <!-- 0.0003 -->\r\n      <g transform=\"translate(195.976035 239.238438)scale(0.1 -0.1)\">\r\n       <defs>\r\n        <path d=\"M 2597 2516 \r\nQ 3050 2419 3304 2112 \r\nQ 3559 1806 3559 1356 \r\nQ 3559 666 3084 287 \r\nQ 2609 -91 1734 -91 \r\nQ 1441 -91 1130 -33 \r\nQ 819 25 488 141 \r\nL 488 750 \r\nQ 750 597 1062 519 \r\nQ 1375 441 1716 441 \r\nQ 2309 441 2620 675 \r\nQ 2931 909 2931 1356 \r\nQ 2931 1769 2642 2001 \r\nQ 2353 2234 1838 2234 \r\nL 1294 2234 \r\nL 1294 2753 \r\nL 1863 2753 \r\nQ 2328 2753 2575 2939 \r\nQ 2822 3125 2822 3475 \r\nQ 2822 3834 2567 4026 \r\nQ 2313 4219 1838 4219 \r\nQ 1578 4219 1281 4162 \r\nQ 984 4106 628 3988 \r\nL 628 4550 \r\nQ 988 4650 1302 4700 \r\nQ 1616 4750 1894 4750 \r\nQ 2613 4750 3031 4423 \r\nQ 3450 4097 3450 3541 \r\nQ 3450 3153 3228 2886 \r\nQ 3006 2619 2597 2516 \r\nz\r\n\" id=\"DejaVuSans-33\" transform=\"scale(0.015625)\"/>\r\n       </defs>\r\n       <use xlink:href=\"#DejaVuSans-30\"/>\r\n       <use x=\"63.623047\" xlink:href=\"#DejaVuSans-2e\"/>\r\n       <use x=\"95.410156\" xlink:href=\"#DejaVuSans-30\"/>\r\n       <use x=\"159.033203\" xlink:href=\"#DejaVuSans-30\"/>\r\n       <use x=\"222.65625\" xlink:href=\"#DejaVuSans-30\"/>\r\n       <use x=\"286.279297\" xlink:href=\"#DejaVuSans-33\"/>\r\n      </g>\r\n     </g>\r\n    </g>\r\n    <g id=\"xtick_4\">\r\n     <g id=\"line2d_7\">\r\n      <path clip-path=\"url(#p2f09360de9)\" d=\"M 274.287735 224.64 \r\nL 274.287735 7.2 \r\n\" style=\"fill:none;stroke:#b0b0b0;stroke-linecap:square;stroke-width:0.8;\"/>\r\n     </g>\r\n     <g id=\"line2d_8\">\r\n      <g>\r\n       <use style=\"stroke:#000000;stroke-width:0.8;\" x=\"274.287735\" xlink:href=\"#m24c00fbd46\" y=\"224.64\"/>\r\n      </g>\r\n     </g>\r\n     <g id=\"text_4\">\r\n      <!-- 0.0004 -->\r\n      <g transform=\"translate(256.792422 239.238438)scale(0.1 -0.1)\">\r\n       <defs>\r\n        <path d=\"M 2419 4116 \r\nL 825 1625 \r\nL 2419 1625 \r\nL 2419 4116 \r\nz\r\nM 2253 4666 \r\nL 3047 4666 \r\nL 3047 1625 \r\nL 3713 1625 \r\nL 3713 1100 \r\nL 3047 1100 \r\nL 3047 0 \r\nL 2419 0 \r\nL 2419 1100 \r\nL 313 1100 \r\nL 313 1709 \r\nL 2253 4666 \r\nz\r\n\" id=\"DejaVuSans-34\" transform=\"scale(0.015625)\"/>\r\n       </defs>\r\n       <use xlink:href=\"#DejaVuSans-30\"/>\r\n       <use x=\"63.623047\" xlink:href=\"#DejaVuSans-2e\"/>\r\n       <use x=\"95.410156\" xlink:href=\"#DejaVuSans-30\"/>\r\n       <use x=\"159.033203\" xlink:href=\"#DejaVuSans-30\"/>\r\n       <use x=\"222.65625\" xlink:href=\"#DejaVuSans-30\"/>\r\n       <use x=\"286.279297\" xlink:href=\"#DejaVuSans-34\"/>\r\n      </g>\r\n     </g>\r\n    </g>\r\n    <g id=\"xtick_5\">\r\n     <g id=\"line2d_9\">\r\n      <path clip-path=\"url(#p2f09360de9)\" d=\"M 335.104122 224.64 \r\nL 335.104122 7.2 \r\n\" style=\"fill:none;stroke:#b0b0b0;stroke-linecap:square;stroke-width:0.8;\"/>\r\n     </g>\r\n     <g id=\"line2d_10\">\r\n      <g>\r\n       <use style=\"stroke:#000000;stroke-width:0.8;\" x=\"335.104122\" xlink:href=\"#m24c00fbd46\" y=\"224.64\"/>\r\n      </g>\r\n     </g>\r\n     <g id=\"text_5\">\r\n      <!-- 0.0005 -->\r\n      <g transform=\"translate(317.608809 239.238438)scale(0.1 -0.1)\">\r\n       <defs>\r\n        <path d=\"M 691 4666 \r\nL 3169 4666 \r\nL 3169 4134 \r\nL 1269 4134 \r\nL 1269 2991 \r\nQ 1406 3038 1543 3061 \r\nQ 1681 3084 1819 3084 \r\nQ 2600 3084 3056 2656 \r\nQ 3513 2228 3513 1497 \r\nQ 3513 744 3044 326 \r\nQ 2575 -91 1722 -91 \r\nQ 1428 -91 1123 -41 \r\nQ 819 9 494 109 \r\nL 494 744 \r\nQ 775 591 1075 516 \r\nQ 1375 441 1709 441 \r\nQ 2250 441 2565 725 \r\nQ 2881 1009 2881 1497 \r\nQ 2881 1984 2565 2268 \r\nQ 2250 2553 1709 2553 \r\nQ 1456 2553 1204 2497 \r\nQ 953 2441 691 2322 \r\nL 691 4666 \r\nz\r\n\" id=\"DejaVuSans-35\" transform=\"scale(0.015625)\"/>\r\n       </defs>\r\n       <use xlink:href=\"#DejaVuSans-30\"/>\r\n       <use x=\"63.623047\" xlink:href=\"#DejaVuSans-2e\"/>\r\n       <use x=\"95.410156\" xlink:href=\"#DejaVuSans-30\"/>\r\n       <use x=\"159.033203\" xlink:href=\"#DejaVuSans-30\"/>\r\n       <use x=\"222.65625\" xlink:href=\"#DejaVuSans-30\"/>\r\n       <use x=\"286.279297\" xlink:href=\"#DejaVuSans-35\"/>\r\n      </g>\r\n     </g>\r\n    </g>\r\n   </g>\r\n   <g id=\"matplotlib.axis_2\">\r\n    <g id=\"ytick_1\">\r\n     <g id=\"line2d_11\">\r\n      <path clip-path=\"url(#p2f09360de9)\" d=\"M 33.2875 224.64 \r\nL 368.0875 224.64 \r\n\" style=\"fill:none;stroke:#b0b0b0;stroke-linecap:square;stroke-width:0.8;\"/>\r\n     </g>\r\n     <g id=\"line2d_12\">\r\n      <defs>\r\n       <path d=\"M 0 0 \r\nL -3.5 0 \r\n\" id=\"m4ff6851229\" style=\"stroke:#000000;stroke-width:0.8;\"/>\r\n      </defs>\r\n      <g>\r\n       <use style=\"stroke:#000000;stroke-width:0.8;\" x=\"33.2875\" xlink:href=\"#m4ff6851229\" y=\"224.64\"/>\r\n      </g>\r\n     </g>\r\n     <g id=\"text_6\">\r\n      <!-- 0 -->\r\n      <g transform=\"translate(19.925 228.439219)scale(0.1 -0.1)\">\r\n       <use xlink:href=\"#DejaVuSans-30\"/>\r\n      </g>\r\n     </g>\r\n    </g>\r\n    <g id=\"ytick_2\">\r\n     <g id=\"line2d_13\">\r\n      <path clip-path=\"url(#p2f09360de9)\" d=\"M 33.2875 179.523287 \r\nL 368.0875 179.523287 \r\n\" style=\"fill:none;stroke:#b0b0b0;stroke-linecap:square;stroke-width:0.8;\"/>\r\n     </g>\r\n     <g id=\"line2d_14\">\r\n      <g>\r\n       <use style=\"stroke:#000000;stroke-width:0.8;\" x=\"33.2875\" xlink:href=\"#m4ff6851229\" y=\"179.523287\"/>\r\n      </g>\r\n     </g>\r\n     <g id=\"text_7\">\r\n      <!-- 100 -->\r\n      <g transform=\"translate(7.2 183.322505)scale(0.1 -0.1)\">\r\n       <use xlink:href=\"#DejaVuSans-31\"/>\r\n       <use x=\"63.623047\" xlink:href=\"#DejaVuSans-30\"/>\r\n       <use x=\"127.246094\" xlink:href=\"#DejaVuSans-30\"/>\r\n      </g>\r\n     </g>\r\n    </g>\r\n    <g id=\"ytick_3\">\r\n     <g id=\"line2d_15\">\r\n      <path clip-path=\"url(#p2f09360de9)\" d=\"M 33.2875 134.406573 \r\nL 368.0875 134.406573 \r\n\" style=\"fill:none;stroke:#b0b0b0;stroke-linecap:square;stroke-width:0.8;\"/>\r\n     </g>\r\n     <g id=\"line2d_16\">\r\n      <g>\r\n       <use style=\"stroke:#000000;stroke-width:0.8;\" x=\"33.2875\" xlink:href=\"#m4ff6851229\" y=\"134.406573\"/>\r\n      </g>\r\n     </g>\r\n     <g id=\"text_8\">\r\n      <!-- 200 -->\r\n      <g transform=\"translate(7.2 138.205792)scale(0.1 -0.1)\">\r\n       <use xlink:href=\"#DejaVuSans-32\"/>\r\n       <use x=\"63.623047\" xlink:href=\"#DejaVuSans-30\"/>\r\n       <use x=\"127.246094\" xlink:href=\"#DejaVuSans-30\"/>\r\n      </g>\r\n     </g>\r\n    </g>\r\n    <g id=\"ytick_4\">\r\n     <g id=\"line2d_17\">\r\n      <path clip-path=\"url(#p2f09360de9)\" d=\"M 33.2875 89.28986 \r\nL 368.0875 89.28986 \r\n\" style=\"fill:none;stroke:#b0b0b0;stroke-linecap:square;stroke-width:0.8;\"/>\r\n     </g>\r\n     <g id=\"line2d_18\">\r\n      <g>\r\n       <use style=\"stroke:#000000;stroke-width:0.8;\" x=\"33.2875\" xlink:href=\"#m4ff6851229\" y=\"89.28986\"/>\r\n      </g>\r\n     </g>\r\n     <g id=\"text_9\">\r\n      <!-- 300 -->\r\n      <g transform=\"translate(7.2 93.089079)scale(0.1 -0.1)\">\r\n       <use xlink:href=\"#DejaVuSans-33\"/>\r\n       <use x=\"63.623047\" xlink:href=\"#DejaVuSans-30\"/>\r\n       <use x=\"127.246094\" xlink:href=\"#DejaVuSans-30\"/>\r\n      </g>\r\n     </g>\r\n    </g>\r\n    <g id=\"ytick_5\">\r\n     <g id=\"line2d_19\">\r\n      <path clip-path=\"url(#p2f09360de9)\" d=\"M 33.2875 44.173147 \r\nL 368.0875 44.173147 \r\n\" style=\"fill:none;stroke:#b0b0b0;stroke-linecap:square;stroke-width:0.8;\"/>\r\n     </g>\r\n     <g id=\"line2d_20\">\r\n      <g>\r\n       <use style=\"stroke:#000000;stroke-width:0.8;\" x=\"33.2875\" xlink:href=\"#m4ff6851229\" y=\"44.173147\"/>\r\n      </g>\r\n     </g>\r\n     <g id=\"text_10\">\r\n      <!-- 400 -->\r\n      <g transform=\"translate(7.2 47.972365)scale(0.1 -0.1)\">\r\n       <use xlink:href=\"#DejaVuSans-34\"/>\r\n       <use x=\"63.623047\" xlink:href=\"#DejaVuSans-30\"/>\r\n       <use x=\"127.246094\" xlink:href=\"#DejaVuSans-30\"/>\r\n      </g>\r\n     </g>\r\n    </g>\r\n   </g>\r\n   <g id=\"patch_13\">\r\n    <path d=\"M 33.2875 224.64 \r\nL 33.2875 7.2 \r\n\" style=\"fill:none;stroke:#000000;stroke-linecap:square;stroke-linejoin:miter;stroke-width:0.8;\"/>\r\n   </g>\r\n   <g id=\"patch_14\">\r\n    <path d=\"M 368.0875 224.64 \r\nL 368.0875 7.2 \r\n\" style=\"fill:none;stroke:#000000;stroke-linecap:square;stroke-linejoin:miter;stroke-width:0.8;\"/>\r\n   </g>\r\n   <g id=\"patch_15\">\r\n    <path d=\"M 33.2875 224.64 \r\nL 368.0875 224.64 \r\n\" style=\"fill:none;stroke:#000000;stroke-linecap:square;stroke-linejoin:miter;stroke-width:0.8;\"/>\r\n   </g>\r\n   <g id=\"patch_16\">\r\n    <path d=\"M 33.2875 7.2 \r\nL 368.0875 7.2 \r\n\" style=\"fill:none;stroke:#000000;stroke-linecap:square;stroke-linejoin:miter;stroke-width:0.8;\"/>\r\n   </g>\r\n  </g>\r\n </g>\r\n <defs>\r\n  <clipPath id=\"p2f09360de9\">\r\n   <rect height=\"217.44\" width=\"334.8\" x=\"33.2875\" y=\"7.2\"/>\r\n  </clipPath>\r\n </defs>\r\n</svg>\r\n",
      "image/png": "[encoded data removed]"
     },
     "metadata": {
      "needs_background": "light"
     }
    }
   ],
   "source": [
    "R.hist();"
   ]
  },
  {
   "cell_type": "code",
   "execution_count": 80,
   "metadata": {},
   "outputs": [
    {
     "output_type": "execute_result",
     "data": {
      "text/plain": [
       "0       0.333773\n",
       "1       0.333553\n",
       "2       0.333438\n",
       "3       0.333774\n",
       "4       0.333428\n",
       "          ...   \n",
       "2495    0.333541\n",
       "2496    0.333756\n",
       "2497    0.333712\n",
       "2498    0.333701\n",
       "2499    0.333773\n",
       "Length: 2500, dtype: float64"
      ]
     },
     "metadata": {},
     "execution_count": 80
    }
   ],
   "source": [
    "ratio = R/isco\n",
    "ratio"
   ]
  },
  {
   "cell_type": "code",
   "execution_count": 81,
   "metadata": {},
   "outputs": [
    {
     "output_type": "stream",
     "name": "stdout",
     "text": [
      "0.33712292980633457 0.02590250528081309\n"
     ]
    }
   ],
   "source": [
    "print(ratio.mean(), ratio.std())"
   ]
  },
  {
   "source": [
    "# Custom solver"
   ],
   "cell_type": "markdown",
   "metadata": {}
  },
  {
   "cell_type": "code",
   "execution_count": 16,
   "metadata": {},
   "outputs": [],
   "source": [
    "@njit\n",
    "def euler(t, x, dfdt, dt) :\n",
    "    return x + dt*dfdt(t, x)\n",
    "\n",
    "@njit\n",
    "def euler2(t, x0, x1, dfdt, dt) :\n",
    "    x = np.array([x0, x1])\n",
    "    return x + dt*dfdt(t, x)\n",
    "\n",
    "@njit\n",
    "def midpoint(t, x, dfdt, dt) :\n",
    "    return x + dt*dfdt(t+0.5*dt, x+0.5*dt*dfdt(t, x))\n",
    "\n",
    "@njit\n",
    "def midpoint2(t, x0, x1, dfdt, dt) :\n",
    "    x = np.array([x0, x1])\n",
    "    return x + dt*dfdt(t+0.5*dt, x+0.5*dt*dfdt(t, x))"
   ]
  },
  {
   "cell_type": "code",
   "execution_count": 17,
   "metadata": {},
   "outputs": [],
   "source": [
    "#from functools import partial\n",
    "#Df = partial(f, b0 = b0, b1 = b1, b2 = b2, b3 = b3, d0 = d0, d1 = d1, d2 = d2)\n",
    "\n",
    "@njit\n",
    "def f2(t, x) :\n",
    "    y = np.zeros(2)\n",
    "    y[0] = b1*(1+b2*x[1]**2+b3*x[1]**4)/((x[0]**3)*((1-x[1]**2)**3.5))\n",
    "    y[1] = d1*x[1]*(1+d2*x[1]**2)/((x[0]**4)*((1-x[1]**2)**2.5))\n",
    "\n",
    "    return y"
   ]
  },
  {
   "cell_type": "code",
   "execution_count": 18,
   "metadata": {},
   "outputs": [],
   "source": [
    "a, e, t0, dt, M, m = df.iloc[26][[\"Semimajor\", \"Eccentricity\", \"BWorldtime\", \"GWtime\", \"Mass_0\", \"Mass_1\"]].to_numpy()\n",
    "b0 = -(64/5)*G**3/c**5\n",
    "b1 = b0*M*m*(M+m)\n",
    "b2 = 73/24\n",
    "b3 = 37/96\n",
    "\n",
    "d0 = -(304/15)*G**3/c**5\n",
    "d1 = d0*M*m*(M+m)\n",
    "d2 = 121/304\n",
    "\n",
    "dt /= 10 #2\n",
    "t = t0\n",
    "\n",
    "a_end = isco.iloc[26]\n",
    "\n",
    "max_iters = int(1e6)\n",
    "tol = 1e-2 #1e-1 # non sembra esserci un calo significativo di prestazioni passando dal 10% all'1% di tolleranza; ciò che comanda pare essere max_iters\n",
    "tol10 = tol/10\n",
    "atol = tol*a_end\n",
    "atol10 = atol/10\n",
    "\n",
    "a_vec = -np.ones(max_iters)\n",
    "e_vec = -np.ones(max_iters)\n",
    "t_vec = -np.ones(max_iters)\n",
    "dt_vec = -np.ones(max_iters)\n",
    "\n",
    "a_vec[0] = a\n",
    "e_vec[0] = e\n",
    "t_vec[0] = t\n",
    "dt_vec[0] = dt"
   ]
  },
  {
   "cell_type": "code",
   "execution_count": 19,
   "metadata": {},
   "outputs": [],
   "source": [
    "a0, e0, dt0 = a, e, dt"
   ]
  },
  {
   "cell_type": "code",
   "execution_count": 20,
   "metadata": {},
   "outputs": [],
   "source": [
    "@njit\n",
    "def fn(t, a, e, dt, a_vec, e_vec, t_vec, dt_vec) : # se non passi tutti questi come argomenti numba impazzisce e si rifiuta di modificarli nel corpo della funzione\n",
    "    for i in range(1, max_iters) :\n",
    "        a1, e1 = midpoint(t, np.array([a, e]), f2, dt)\n",
    "\n",
    "        while(np.abs(a - a1) > a1*tol) :\n",
    "            dt /= 10\n",
    "            a1, e1 = midpoint(t, np.array([a, e]), f2, dt)\n",
    "        a_vec[i], e_vec[i] = a, e = a1, e1\n",
    "        #a, e = a1, e1\n",
    "        #a_vec[i], e_vec[i] = a, e\n",
    "        t += dt\n",
    "        t_vec[i], dt_vec[i] = t, dt"
   ]
  },
  {
   "cell_type": "code",
   "execution_count": 21,
   "metadata": {},
   "outputs": [],
   "source": [
    "@njit\n",
    "def fn2(t, a, e, dt, a_vec, e_vec, t_vec, dt_vec) :\n",
    "    for i in range(1, max_iters) :\n",
    "        a1, e1 = midpoint2(t, a, e, f2, dt)\n",
    "        while(np.abs(a - a1) > a1*tol) :\n",
    "            dt /= 10\n",
    "            a1, e1 = midpoint2(t, a, e, f2, dt)\n",
    "        a, e = a1, e1\n",
    "        a_vec[i], e_vec[i] = a, e\n",
    "        t += dt\n",
    "        t_vec[i], dt_vec[i] = t, dt"
   ]
  },
  {
   "cell_type": "code",
   "execution_count": 22,
   "metadata": {},
   "outputs": [
    {
     "output_type": "stream",
     "name": "stdout",
     "text": [
      "796 ms ± 24.7 ms per loop (mean ± std. dev. of 7 runs, 1 loop each)\n"
     ]
    }
   ],
   "source": [
    "%%timeit\n",
    "fn(t, a, e, dt, a_vec, e_vec, t_vec, dt_vec)"
   ]
  },
  {
   "cell_type": "code",
   "execution_count": 23,
   "metadata": {},
   "outputs": [
    {
     "output_type": "stream",
     "name": "stdout",
     "text": [
      "769 ms ± 17.4 ms per loop (mean ± std. dev. of 7 runs, 1 loop each)\n"
     ]
    }
   ],
   "source": [
    "%%timeit \n",
    "fn2(t, a, e, dt, a_vec, e_vec, t_vec, dt_vec)"
   ]
  },
  {
   "cell_type": "code",
   "execution_count": 24,
   "metadata": {},
   "outputs": [
    {
     "output_type": "execute_result",
     "data": {
      "text/plain": [
       "array([8.59244200e+00, 8.55775982e+00, 8.52295407e+00, ...,\n",
       "       2.80627580e-81, 2.80627580e-81, 2.80627580e-81])"
      ]
     },
     "metadata": {},
     "execution_count": 24
    }
   ],
   "source": [
    "a_vec"
   ]
  },
  {
   "cell_type": "code",
   "execution_count": 25,
   "metadata": {},
   "outputs": [
    {
     "output_type": "execute_result",
     "data": {
      "text/plain": [
       "9.725734526014496e-05"
      ]
     },
     "metadata": {},
     "execution_count": 25
    }
   ],
   "source": [
    "a_end"
   ]
  },
  {
   "cell_type": "code",
   "execution_count": 26,
   "metadata": {},
   "outputs": [
    {
     "output_type": "execute_result",
     "data": {
      "text/plain": [
       "array([  11.73906   ,   60.25838   ,  108.7777    , ..., 4795.33677613,\n",
       "       4795.33677613, 4795.33677613])"
      ]
     },
     "metadata": {},
     "execution_count": 26
    }
   ],
   "source": [
    "t_vec"
   ]
  },
  {
   "cell_type": "code",
   "execution_count": 27,
   "metadata": {},
   "outputs": [
    {
     "output_type": "execute_result",
     "data": {
      "text/plain": [
       "array([485.1932 ,  48.51932,  48.51932, ...,   0.     ,   0.     ,\n",
       "         0.     ])"
      ]
     },
     "metadata": {},
     "execution_count": 27
    }
   ],
   "source": [
    "dt_vec"
   ]
  },
  {
   "cell_type": "code",
   "execution_count": 28,
   "metadata": {},
   "outputs": [],
   "source": [
    "@njit\n",
    "def fn3(t, a, e, dt, a_vec, e_vec, t_vec, dt_vec) :\n",
    "    a1, e1 = midpoint2(t, a, e, f2, dt)\n",
    "    i = 1 \n",
    "    \n",
    "    if np.abs(a - a1) < a1*tol10 :\n",
    "        dt *= 2\n",
    "        a1, e1 = midpoint2(t, a, e, f2, dt)\n",
    "\n",
    "    #while((np.abs(a1 - a_end) > 0.1) and (t < 14e3) and (i < max_iters)) :# qui abs è proprio necessario? meglio stare sicuri anche se forse può rallentare # 10% di distanza da a_end\n",
    "    while (a1 > a_end) and (t < 14e3) and (i < max_iters) :\n",
    "        a1, e1 = midpoint2(t, a, e, f2, dt)\n",
    "        while np.abs(a - a1) > a1*tol :\n",
    "            dt /= 10\n",
    "            a1, e1 = midpoint2(t, a, e, f2, dt)\n",
    "        a, e = a1, e1\n",
    "        a_vec[i], e_vec[i] = a, e\n",
    "        t += dt\n",
    "        t_vec[i], dt_vec[i] = t, dt\n",
    "        i += 1"
   ]
  },
  {
   "cell_type": "code",
   "execution_count": 29,
   "metadata": {},
   "outputs": [
    {
     "output_type": "stream",
     "name": "stdout",
     "text": [
      "Wall time: 319 ms\n"
     ]
    }
   ],
   "source": [
    "%%time\n",
    "fn3(t, a, e, dt, a_vec, e_vec, t_vec, dt_vec)"
   ]
  },
  {
   "cell_type": "code",
   "execution_count": 30,
   "metadata": {},
   "outputs": [
    {
     "output_type": "stream",
     "name": "stdout",
     "text": [
      "2.806275796077456e-81 9.725734526014496e-05\n"
     ]
    }
   ],
   "source": [
    "print(a_vec[-1], a_end)"
   ]
  },
  {
   "cell_type": "code",
   "execution_count": 31,
   "metadata": {},
   "outputs": [
    {
     "output_type": "execute_result",
     "data": {
      "text/plain": [
       "array([  11.73906   ,   60.25838   ,  108.7777    , ..., 4795.33677613,\n",
       "       4795.33677613, 4795.33677613])"
      ]
     },
     "metadata": {},
     "execution_count": 31
    }
   ],
   "source": [
    "t_vec"
   ]
  },
  {
   "cell_type": "code",
   "execution_count": 32,
   "metadata": {},
   "outputs": [
    {
     "output_type": "execute_result",
     "data": {
      "text/plain": [
       "array([485.1932 ,  48.51932,  48.51932, ...,   0.     ,   0.     ,\n",
       "         0.     ])"
      ]
     },
     "metadata": {},
     "execution_count": 32
    }
   ],
   "source": [
    "dt_vec"
   ]
  },
  {
   "cell_type": "code",
   "execution_count": 33,
   "metadata": {},
   "outputs": [],
   "source": [
    "@njit\n",
    "def fn4_midpoint(t, a, e, dt) :\n",
    "    for i in range(max_iters) :\n",
    "        if (np.abs(a - a_end) < atol) or (t > 13.8e3) :\n",
    "            break\n",
    "        a1, e1 = midpoint2(t, a, e, f2, dt)\n",
    "\n",
    "        if np.abs(a - a1) < a1*tol10 :\n",
    "            dt *= 2\n",
    "            a1, e1 = midpoint2(t, a, e, f2, dt)\n",
    "\n",
    "        while(np.abs(a - a1) > a1*tol) :\n",
    "            dt /= 10\n",
    "            a1, e1 = midpoint2(t, a, e, f2, dt)\n",
    "\n",
    "        a, e = a1, e1\n",
    "        t += dt\n",
    "    return t, a, e, dt"
   ]
  },
  {
   "cell_type": "code",
   "execution_count": 34,
   "metadata": {},
   "outputs": [
    {
     "output_type": "stream",
     "name": "stdout",
     "text": [
      "2.61 ms ± 196 µs per loop (mean ± std. dev. of 7 runs, 1 loop each)\n"
     ]
    }
   ],
   "source": [
    "%%timeit\n",
    "a, e, t, dt = a0, e0, t0, dt0\n",
    "t, a, e, dt = fn4_midpoint(t, a, e, dt)"
   ]
  },
  {
   "cell_type": "code",
   "execution_count": 35,
   "metadata": {},
   "outputs": [
    {
     "output_type": "stream",
     "name": "stdout",
     "text": [
      "a = 8.592442, a_end = 9.725734526014496e-05, t = 11.73906, np.abs(a - a_end) < atol = False\n"
     ]
    }
   ],
   "source": [
    "print(f\"a = {a}, a_end = {a_end}, t = {t}, np.abs(a - a_end) < atol = {np.abs(a - a_end) < atol}\")"
   ]
  },
  {
   "cell_type": "code",
   "execution_count": 36,
   "metadata": {},
   "outputs": [],
   "source": [
    "@njit\n",
    "def fn4_euler(t, a, e, dt) :\n",
    "    for i in range(max_iters) :\n",
    "        if (np.abs(a - a_end) < atol) or (t > 13.8e3) :\n",
    "            break\n",
    "        a1, e1 = euler2(t, a, e, f2, dt)\n",
    "\n",
    "        if np.abs(a - a1) < a1*tol10 :\n",
    "            dt *= 2\n",
    "            a1, e1 = euler2(t, a, e, f2, dt)\n",
    "\n",
    "        while(np.abs(a - a1) > a1*tol) :\n",
    "            dt /= 10\n",
    "            a1, e1 = euler2(t, a, e, f2, dt)\n",
    "\n",
    "        a, e = a1, e1\n",
    "        t += dt\n",
    "    return t, a, e, dt"
   ]
  },
  {
   "cell_type": "code",
   "execution_count": 37,
   "metadata": {},
   "outputs": [
    {
     "output_type": "stream",
     "name": "stdout",
     "text": [
      "1.52 ms ± 113 µs per loop (mean ± std. dev. of 7 runs, 1 loop each)\n"
     ]
    }
   ],
   "source": [
    "%%timeit\n",
    "a, e, t, dt = a0, e0, t0, dt0\n",
    "t, a, e, dt = fn4_euler(t, a, e, dt)"
   ]
  },
  {
   "cell_type": "code",
   "execution_count": 38,
   "metadata": {},
   "outputs": [
    {
     "output_type": "stream",
     "name": "stdout",
     "text": [
      "a = 8.592442, a_end = 9.725734526014496e-05, t = 11.73906, np.abs(a - a_end) < atol = False\n"
     ]
    }
   ],
   "source": [
    "print(f\"a = {a}, a_end = {a_end}, t = {t}, np.abs(a - a_end) < atol = {np.abs(a - a_end) < atol}\")"
   ]
  },
  {
   "source": [
    "# RK4"
   ],
   "cell_type": "markdown",
   "metadata": {}
  },
  {
   "cell_type": "code",
   "execution_count": 39,
   "metadata": {},
   "outputs": [],
   "source": [
    "@njit\n",
    "def rk42(t, x0, x1, dfdt, dt) :\n",
    "    x = np.array([x0, x1])\n",
    "    c1 = dfdt(t, x)\n",
    "    c2 = dfdt(t+0.5*dt, x+0.5*c1)\n",
    "    c3 = dfdt(t+0.5*dt, x+0.5*c2)\n",
    "    c4 = dfdt(t+dt, x+dt*c3)\n",
    "\n",
    "    return x + dt*(c1+2*c2+2*c3+c4)/6"
   ]
  },
  {
   "cell_type": "code",
   "execution_count": 40,
   "metadata": {},
   "outputs": [],
   "source": [
    "@njit\n",
    "def fn4_rk4(t, a, e, dt) :\n",
    "    for i in range(max_iters) :\n",
    "        if (np.abs(a - a_end) < atol) or (t > 13.8e3) :\n",
    "            break\n",
    "        a1, e1 = rk42(t, a, e, f2, dt)\n",
    "\n",
    "        if np.abs(a - a1) < a1*tol10 :\n",
    "            dt *= 2\n",
    "            a1, e1 = rk42(t, a, e, f2, dt)\n",
    "\n",
    "        while(np.abs(a - a1) > a1*tol) :\n",
    "            dt /= 10\n",
    "            a1, e1 = rk42(t, a, e, f2, dt)\n",
    "\n",
    "        a, e = a1, e1\n",
    "        t += dt\n",
    "    return t, a, e, dt"
   ]
  },
  {
   "cell_type": "code",
   "execution_count": 41,
   "metadata": {},
   "outputs": [
    {
     "output_type": "stream",
     "name": "stdout",
     "text": [
      "1.02 s ± 41 ms per loop (mean ± std. dev. of 7 runs, 1 loop each)\n"
     ]
    }
   ],
   "source": [
    "%%timeit\n",
    "a, e, t, dt = a0, e0, t0, dt0\n",
    "t, a, e, dt = fn4_rk4(t, a, e, dt)"
   ]
  },
  {
   "cell_type": "code",
   "execution_count": 42,
   "metadata": {},
   "outputs": [
    {
     "output_type": "stream",
     "name": "stdout",
     "text": [
      "a = 8.592442, a_end = 9.725734526014496e-05, t = 11.73906, np.abs(a - a_end) < atol = False\n"
     ]
    }
   ],
   "source": [
    "print(f\"a = {a}, a_end = {a_end}, t = {t}, np.abs(a - a_end) < atol = {np.abs(a - a_end) < atol}\")"
   ]
  },
  {
   "source": [
    "# RICORDA: t ESPLICITO NON SERVE!\n",
    "è lì solo per ragioni \"storiche\", cioè la copia della f di `solve_ivp`"
   ],
   "cell_type": "markdown",
   "metadata": {}
  },
  {
   "source": [
    "# Dataframe\n",
    "NOTA: una volta compilata la funzione di numba i valori delle costanti nascosti al suo interno sono bloccati una tantum, ergo bisogna fondere le due funzioni (il che non è necessariamente un male se così facendo riduco il numero di chiamate)\n",
    "\n",
    "ALTERNATIVA: passale come argomenti, probabilmente è più semplice. Se no bisogna ridefinire la funziona ogni volta dentro la funzione stessa (e forse è più lento, ma non ho voglia di provarlo).\n",
    "Piano: fondere f/f2 con euler/midpoint/rk4/ ecc.\n",
    "\n",
    "NOTA: in effetti va bene lasciare stare le funzioni Eulero ecc. e semplicemente usare f anziché f2 come dfdt; unica modifica: aggiungere le costanti come argomenti nelle rk4 ecc."
   ],
   "cell_type": "markdown",
   "metadata": {}
  },
  {
   "cell_type": "code",
   "execution_count": 43,
   "metadata": {},
   "outputs": [],
   "source": [
    "@njit \n",
    "def obtain_constants(row) :\n",
    "    a = row[16] #row[\"Semimajor\"]\n",
    "    e = row[17] #row[\"Eccentricity\"]\n",
    "    M = row[2] #row[\"Mass_0\"]\n",
    "    m = row[9] #row[\"Mass_1\"]\n",
    "\n",
    "    t0 = row[18] #row[\"BWorldtime\"]\n",
    "    dt = row[20] #row[\"GWorldtime\"]\n",
    "\n",
    "    b0 = -(64/5)*G**3/c**5\n",
    "    b1 = b0*M*m*(M+m)\n",
    "    b2 = 73/24\n",
    "    b3 = 37/96\n",
    "\n",
    "    d0 = -(304/15)*G**3/c**5\n",
    "    d1 = d0*M*m*(M+m)\n",
    "    d2 = 121/304\n",
    "\n",
    "    return a, e, t0, dt, b1, b2, b3, d1, d2\n",
    "\n",
    "@njit\n",
    "def f3(x, b1, b2, b3, d1, d2) :\n",
    "    y = np.zeros(2)\n",
    "    y[0] = b1*(1+b2*x[1]**2+b3*x[1]**4)/((x[0]**3)*((1-x[1]**2)**3.5))\n",
    "    y[1] = d1*x[1]*(1+d2*x[1]**2)/((x[0]**4)*((1-x[1]**2)**2.5))\n",
    "\n",
    "    return y\n",
    "\n",
    "@njit\n",
    "def euler3(x0, x1, dfdt, dt, b1, b2, b3, d1, d2) :\n",
    "    x = np.array([x0, x1])\n",
    "    return x + dt*dfdt(x, b1, b2, b3, d1, d2)\n",
    "\n",
    "\n",
    "@njit\n",
    "def midpoint3(x0, x1, dfdt, dt, b1, b2, b3, d1, d2) :\n",
    "    x = np.array([x0, x1])\n",
    "    return x + dt*dfdt(x+0.5*dt*dfdt(x, b1, b2, b3, d1, d2), b1, b2, b3, d1, d2)\n",
    "\n",
    "@njit\n",
    "def rk43(x0, x1, dfdt, dt, b1, b2, b3, d1, d2) :\n",
    "    x = np.array([x0, x1])\n",
    "    c1 = dfdt( x, b1, b2, b3, d1, d2)\n",
    "    c2 = dfdt(x+0.5*c1, b1, b2, b3, d1, d2)\n",
    "    c3 = dfdt(x+0.5*c2, b1, b2, b3, d1, d2)\n",
    "    c4 = dfdt(x+dt*c3, b1, b2, b3, d1, d2)\n",
    "\n",
    "    return x + dt*(c1+2*c2+2*c3+c4)/6\n",
    "\n",
    "@njit\n",
    "def eu(row) :\n",
    "    a, e, t, dt, b1, b2, b3, d1, d2 = obtain_constants(row)\n",
    "    for i in range(max_iters) :\n",
    "        if (np.abs(a - a_end) < atol) or (t > 13.8e3) :\n",
    "            break\n",
    "        a1, e1 = euler3(a, e, f3, dt, b1, b2, b3, d1, d2)\n",
    "\n",
    "        if np.abs(a - a1) < a1*tol10 :\n",
    "            dt *= 2\n",
    "            a1, e1 = euler3(a, e, f3, dt, b1, b2, b3, d1, d2)\n",
    "\n",
    "        while(np.abs(a - a1) > a1*tol) :\n",
    "            dt /= 10\n",
    "            a1, e1 = euler3(a, e, f3, dt, b1, b2, b3, d1, d2)\n",
    "\n",
    "        a, e = a1, e1\n",
    "        t += dt\n",
    "    row[-1] = t\n",
    "    return row\n",
    "\n",
    "@njit\n",
    "def mid(row) :\n",
    "    a, e, t, dt, b1, b2, b3, d1, d2 = obtain_constants(row)\n",
    "    for i in range(max_iters) :\n",
    "        if (np.abs(a - a_end) < atol) or (t > 13.8e3) :\n",
    "            break\n",
    "        a1, e1 = midpoint3(a, e, f3, dt, b1, b2, b3, d1, d2)\n",
    "\n",
    "        if np.abs(a - a1) < a1*tol10 :\n",
    "            dt *= 2\n",
    "            a1, e1 = midpoint3(a, e, f3, dt, b1, b2, b3, d1, d2)\n",
    "\n",
    "        while(np.abs(a - a1) > a1*tol) :\n",
    "            dt /= 10\n",
    "            a1, e1 = midpoint3(a, e, f3, dt, b1, b2, b3, d1, d2)\n",
    "\n",
    "        a, e = a1, e1\n",
    "        t += dt\n",
    "    row[-1] = t\n",
    "    return row\n",
    "\n",
    "@njit\n",
    "def rk(row) :\n",
    "    a, e, t, dt, b1, b2, b3, d1, d2 = obtain_constants(row)\n",
    "    for i in range(max_iters) :\n",
    "        if (np.abs(a - a_end) < atol) or (t > 13.8e3) :\n",
    "            break\n",
    "        a1, e1 = rk43(a, e, f3, dt, b1, b2, b3, d1, d2)\n",
    "\n",
    "        if np.abs(a - a1) < a1*tol10 :\n",
    "            dt *= 2\n",
    "            a1, e1 = rk43(a, e, f3, dt, b1, b2, b3, d1, d2)\n",
    "\n",
    "        while(np.abs(a - a1) > a1*tol) :\n",
    "            dt /= 10\n",
    "            a1, e1 = rk43(a, e, f3, dt, b1, b2, b3, d1, d2)\n",
    "\n",
    "        a, e = a1, e1\n",
    "        t += dt\n",
    "    row[-1] = t\n",
    "    return row"
   ]
  },
  {
   "cell_type": "code",
   "execution_count": 44,
   "metadata": {},
   "outputs": [],
   "source": [
    "df_eu = df.copy()\n",
    "df_mid = df.copy() \n",
    "df_rk = df.copy()\n",
    "\n",
    "df_eu[\"Merge_time_euler\"] = np.nan\n",
    "df_mid[\"Merge_time_midpoint\"] = np.nan\n",
    "df_rk[\"Merge_time_rk4\"] = np.nan"
   ]
  },
  {
   "cell_type": "code",
   "execution_count": 45,
   "metadata": {},
   "outputs": [
    {
     "output_type": "stream",
     "name": "stdout",
     "text": [
      "Wall time: 989 ms\n"
     ]
    }
   ],
   "source": [
    "%%time\n",
    "df_eu = df_eu.apply(eu, axis = 1, raw = True)"
   ]
  },
  {
   "cell_type": "code",
   "execution_count": 46,
   "metadata": {},
   "outputs": [
    {
     "output_type": "stream",
     "name": "stdout",
     "text": [
      "Wall time: 899 ms\n"
     ]
    }
   ],
   "source": [
    "%%time\n",
    "df_mid = df_mid.apply(mid, axis = 1, raw = True)"
   ]
  },
  {
   "cell_type": "code",
   "execution_count": 47,
   "metadata": {},
   "outputs": [
    {
     "output_type": "stream",
     "name": "stdout",
     "text": [
      "Wall time: 3min 10s\n"
     ]
    }
   ],
   "source": [
    "%%time\n",
    "df_rk = df_rk.apply(rk, axis = 1, raw = True)"
   ]
  },
  {
   "cell_type": "code",
   "execution_count": 48,
   "metadata": {},
   "outputs": [
    {
     "output_type": "execute_result",
     "data": {
      "text/plain": [
       "            ID          name    Mass_0  Luminosity_0  Radius_0  Temperature_0  \\\n",
       "0         92.0  6.231981e+14  43.89820  1.000000e-15  0.000186       75.23506   \n",
       "1        112.0  5.864654e+14  23.04844  1.000000e-15  0.000098      103.90500   \n",
       "2        124.0  2.142971e+14  36.25998  1.000000e-15  0.000154       82.86009   \n",
       "3        154.0  5.595487e+14  38.30607  1.000000e-15  0.000163       80.53965   \n",
       "4        180.0  4.247916e+14  17.22931  1.000000e-15  0.000073      120.21590   \n",
       "...        ...           ...       ...           ...       ...            ...   \n",
       "2495  307400.0  8.536542e+14  26.39870  1.000000e-15  0.000112       97.08277   \n",
       "2496  307427.0  6.111058e+14  35.83278  1.000000e-15  0.000152       83.27723   \n",
       "2497  307455.0  9.300241e+14  37.94331  1.000000e-15  0.000161       80.93258   \n",
       "2498  307474.0  3.766431e+14  38.95212  1.000000e-15  0.000165       79.88245   \n",
       "2499  307479.0  6.094901e+14  42.59427  1.000000e-15  0.000181       76.37798   \n",
       "\n",
       "      Phase_0  RemnantType_0    Zams_0     Mass_1  ...    Zams_1  \\\n",
       "0         7.0            6.0  44.67820  26.748790  ...  31.79180   \n",
       "1         7.0            6.0  26.01399  27.232310  ...  30.98894   \n",
       "2         7.0            6.0  43.63717  32.662180  ...  37.74799   \n",
       "3         7.0            6.0  86.13720  56.341010  ...  57.45690   \n",
       "4         7.0            6.0  19.27244  17.397330  ...  19.51988   \n",
       "...       ...            ...       ...        ...  ...       ...   \n",
       "2495      7.0            6.0  30.06574  24.200570  ...  27.41962   \n",
       "2496      7.0            6.0  42.86181  35.568870  ...  42.43849   \n",
       "2497      7.0            6.0  46.79656   7.321097  ...  11.71306   \n",
       "2498      7.0            6.0  48.41524  21.209380  ...  23.91973   \n",
       "2499      7.0            6.0  55.52980  26.313730  ...  67.74502   \n",
       "\n",
       "         Semimajor  Eccentricity  BWorldtime     BTimestep        GWtime  \\\n",
       "0      8218.087000      0.933191    6.255643  2.000000e-10  6.382552e+09   \n",
       "1       134.886400      0.009944    4.975206  2.000000e-10  1.572015e+06   \n",
       "2       481.943300      0.012562    4.733170  2.000000e-10  9.903180e+07   \n",
       "3     80356.410000      0.095792    4.171837  2.000000e-10  2.963007e+16   \n",
       "4       109.564500      0.014440    6.984805  2.000000e-10  2.080002e+06   \n",
       "...            ...           ...         ...           ...           ...   \n",
       "2495    119.958500      0.009882    4.655624  2.000000e-10  9.600316e+05   \n",
       "2496     20.214680      0.054350    3.655644  2.000000e-10  2.722543e+02   \n",
       "2497     20.846330      0.126676    7.137279  2.000000e-10  2.127762e+03   \n",
       "2498      4.569291      0.008311    5.641471  2.000000e-10  1.314544e+00   \n",
       "2499   2978.107000      0.493297    3.298796  2.000000e-10  5.754001e+10   \n",
       "\n",
       "           Z    A    Merge_time  Merge_time_euler  \n",
       "0     0.0002  0.1  14000.000000      6.382553e+07  \n",
       "1     0.0002  0.1  14000.000000      1.572513e+04  \n",
       "2     0.0002  0.1  14000.000000      9.903227e+05  \n",
       "3     0.0002  0.1  14000.000000      2.963007e+14  \n",
       "4     0.0002  0.1  14000.000000      2.080700e+04  \n",
       "...      ...  ...           ...               ...  \n",
       "2495  0.0002  0.1  14000.000000      1.920529e+04  \n",
       "2496  0.0002  0.1    274.227261      2.789087e+02  \n",
       "2497  0.0002  0.1   2116.785695      2.153968e+03  \n",
       "2498  0.0002  0.1      6.947659      6.971115e+00  \n",
       "2499  0.0002  0.1  14000.000000      5.754001e+08  \n",
       "\n",
       "[2500 rows x 25 columns]"
      ],
      "text/html": "<div>\n<style scoped>\n    .dataframe tbody tr th:only-of-type {\n        vertical-align: middle;\n    }\n\n    .dataframe tbody tr th {\n        vertical-align: top;\n    }\n\n    .dataframe thead th {\n        text-align: right;\n    }\n</style>\n<table border=\"1\" class=\"dataframe\">\n  <thead>\n    <tr style=\"text-align: right;\">\n      <th></th>\n      <th>ID</th>\n      <th>name</th>\n      <th>Mass_0</th>\n      <th>Luminosity_0</th>\n      <th>Radius_0</th>\n      <th>Temperature_0</th>\n      <th>Phase_0</th>\n      <th>RemnantType_0</th>\n      <th>Zams_0</th>\n      <th>Mass_1</th>\n      <th>...</th>\n      <th>Zams_1</th>\n      <th>Semimajor</th>\n      <th>Eccentricity</th>\n      <th>BWorldtime</th>\n      <th>BTimestep</th>\n      <th>GWtime</th>\n      <th>Z</th>\n      <th>A</th>\n      <th>Merge_time</th>\n      <th>Merge_time_euler</th>\n    </tr>\n  </thead>\n  <tbody>\n    <tr>\n      <th>0</th>\n      <td>92.0</td>\n      <td>6.231981e+14</td>\n      <td>43.89820</td>\n      <td>1.000000e-15</td>\n      <td>0.000186</td>\n      <td>75.23506</td>\n      <td>7.0</td>\n      <td>6.0</td>\n      <td>44.67820</td>\n      <td>26.748790</td>\n      <td>...</td>\n      <td>31.79180</td>\n      <td>8218.087000</td>\n      <td>0.933191</td>\n      <td>6.255643</td>\n      <td>2.000000e-10</td>\n      <td>6.382552e+09</td>\n      <td>0.0002</td>\n      <td>0.1</td>\n      <td>14000.000000</td>\n      <td>6.382553e+07</td>\n    </tr>\n    <tr>\n      <th>1</th>\n      <td>112.0</td>\n      <td>5.864654e+14</td>\n      <td>23.04844</td>\n      <td>1.000000e-15</td>\n      <td>0.000098</td>\n      <td>103.90500</td>\n      <td>7.0</td>\n      <td>6.0</td>\n      <td>26.01399</td>\n      <td>27.232310</td>\n      <td>...</td>\n      <td>30.98894</td>\n      <td>134.886400</td>\n      <td>0.009944</td>\n      <td>4.975206</td>\n      <td>2.000000e-10</td>\n      <td>1.572015e+06</td>\n      <td>0.0002</td>\n      <td>0.1</td>\n      <td>14000.000000</td>\n      <td>1.572513e+04</td>\n    </tr>\n    <tr>\n      <th>2</th>\n      <td>124.0</td>\n      <td>2.142971e+14</td>\n      <td>36.25998</td>\n      <td>1.000000e-15</td>\n      <td>0.000154</td>\n      <td>82.86009</td>\n      <td>7.0</td>\n      <td>6.0</td>\n      <td>43.63717</td>\n      <td>32.662180</td>\n      <td>...</td>\n      <td>37.74799</td>\n      <td>481.943300</td>\n      <td>0.012562</td>\n      <td>4.733170</td>\n      <td>2.000000e-10</td>\n      <td>9.903180e+07</td>\n      <td>0.0002</td>\n      <td>0.1</td>\n      <td>14000.000000</td>\n      <td>9.903227e+05</td>\n    </tr>\n    <tr>\n      <th>3</th>\n      <td>154.0</td>\n      <td>5.595487e+14</td>\n      <td>38.30607</td>\n      <td>1.000000e-15</td>\n      <td>0.000163</td>\n      <td>80.53965</td>\n      <td>7.0</td>\n      <td>6.0</td>\n      <td>86.13720</td>\n      <td>56.341010</td>\n      <td>...</td>\n      <td>57.45690</td>\n      <td>80356.410000</td>\n      <td>0.095792</td>\n      <td>4.171837</td>\n      <td>2.000000e-10</td>\n      <td>2.963007e+16</td>\n      <td>0.0002</td>\n      <td>0.1</td>\n      <td>14000.000000</td>\n      <td>2.963007e+14</td>\n    </tr>\n    <tr>\n      <th>4</th>\n      <td>180.0</td>\n      <td>4.247916e+14</td>\n      <td>17.22931</td>\n      <td>1.000000e-15</td>\n      <td>0.000073</td>\n      <td>120.21590</td>\n      <td>7.0</td>\n      <td>6.0</td>\n      <td>19.27244</td>\n      <td>17.397330</td>\n      <td>...</td>\n      <td>19.51988</td>\n      <td>109.564500</td>\n      <td>0.014440</td>\n      <td>6.984805</td>\n      <td>2.000000e-10</td>\n      <td>2.080002e+06</td>\n      <td>0.0002</td>\n      <td>0.1</td>\n      <td>14000.000000</td>\n      <td>2.080700e+04</td>\n    </tr>\n    <tr>\n      <th>...</th>\n      <td>...</td>\n      <td>...</td>\n      <td>...</td>\n      <td>...</td>\n      <td>...</td>\n      <td>...</td>\n      <td>...</td>\n      <td>...</td>\n      <td>...</td>\n      <td>...</td>\n      <td>...</td>\n      <td>...</td>\n      <td>...</td>\n      <td>...</td>\n      <td>...</td>\n      <td>...</td>\n      <td>...</td>\n      <td>...</td>\n      <td>...</td>\n      <td>...</td>\n      <td>...</td>\n    </tr>\n    <tr>\n      <th>2495</th>\n      <td>307400.0</td>\n      <td>8.536542e+14</td>\n      <td>26.39870</td>\n      <td>1.000000e-15</td>\n      <td>0.000112</td>\n      <td>97.08277</td>\n      <td>7.0</td>\n      <td>6.0</td>\n      <td>30.06574</td>\n      <td>24.200570</td>\n      <td>...</td>\n      <td>27.41962</td>\n      <td>119.958500</td>\n      <td>0.009882</td>\n      <td>4.655624</td>\n      <td>2.000000e-10</td>\n      <td>9.600316e+05</td>\n      <td>0.0002</td>\n      <td>0.1</td>\n      <td>14000.000000</td>\n      <td>1.920529e+04</td>\n    </tr>\n    <tr>\n      <th>2496</th>\n      <td>307427.0</td>\n      <td>6.111058e+14</td>\n      <td>35.83278</td>\n      <td>1.000000e-15</td>\n      <td>0.000152</td>\n      <td>83.27723</td>\n      <td>7.0</td>\n      <td>6.0</td>\n      <td>42.86181</td>\n      <td>35.568870</td>\n      <td>...</td>\n      <td>42.43849</td>\n      <td>20.214680</td>\n      <td>0.054350</td>\n      <td>3.655644</td>\n      <td>2.000000e-10</td>\n      <td>2.722543e+02</td>\n      <td>0.0002</td>\n      <td>0.1</td>\n      <td>274.227261</td>\n      <td>2.789087e+02</td>\n    </tr>\n    <tr>\n      <th>2497</th>\n      <td>307455.0</td>\n      <td>9.300241e+14</td>\n      <td>37.94331</td>\n      <td>1.000000e-15</td>\n      <td>0.000161</td>\n      <td>80.93258</td>\n      <td>7.0</td>\n      <td>6.0</td>\n      <td>46.79656</td>\n      <td>7.321097</td>\n      <td>...</td>\n      <td>11.71306</td>\n      <td>20.846330</td>\n      <td>0.126676</td>\n      <td>7.137279</td>\n      <td>2.000000e-10</td>\n      <td>2.127762e+03</td>\n      <td>0.0002</td>\n      <td>0.1</td>\n      <td>2116.785695</td>\n      <td>2.153968e+03</td>\n    </tr>\n    <tr>\n      <th>2498</th>\n      <td>307474.0</td>\n      <td>3.766431e+14</td>\n      <td>38.95212</td>\n      <td>1.000000e-15</td>\n      <td>0.000165</td>\n      <td>79.88245</td>\n      <td>7.0</td>\n      <td>6.0</td>\n      <td>48.41524</td>\n      <td>21.209380</td>\n      <td>...</td>\n      <td>23.91973</td>\n      <td>4.569291</td>\n      <td>0.008311</td>\n      <td>5.641471</td>\n      <td>2.000000e-10</td>\n      <td>1.314544e+00</td>\n      <td>0.0002</td>\n      <td>0.1</td>\n      <td>6.947659</td>\n      <td>6.971115e+00</td>\n    </tr>\n    <tr>\n      <th>2499</th>\n      <td>307479.0</td>\n      <td>6.094901e+14</td>\n      <td>42.59427</td>\n      <td>1.000000e-15</td>\n      <td>0.000181</td>\n      <td>76.37798</td>\n      <td>7.0</td>\n      <td>6.0</td>\n      <td>55.52980</td>\n      <td>26.313730</td>\n      <td>...</td>\n      <td>67.74502</td>\n      <td>2978.107000</td>\n      <td>0.493297</td>\n      <td>3.298796</td>\n      <td>2.000000e-10</td>\n      <td>5.754001e+10</td>\n      <td>0.0002</td>\n      <td>0.1</td>\n      <td>14000.000000</td>\n      <td>5.754001e+08</td>\n    </tr>\n  </tbody>\n</table>\n<p>2500 rows × 25 columns</p>\n</div>"
     },
     "metadata": {},
     "execution_count": 48
    }
   ],
   "source": [
    "df_eu"
   ]
  },
  {
   "cell_type": "code",
   "execution_count": 49,
   "metadata": {},
   "outputs": [
    {
     "output_type": "execute_result",
     "data": {
      "text/plain": [
       "            ID          name    Mass_0  Luminosity_0  Radius_0  Temperature_0  \\\n",
       "0         92.0  6.231981e+14  43.89820  1.000000e-15  0.000186       75.23506   \n",
       "1        112.0  5.864654e+14  23.04844  1.000000e-15  0.000098      103.90500   \n",
       "2        124.0  2.142971e+14  36.25998  1.000000e-15  0.000154       82.86009   \n",
       "3        154.0  5.595487e+14  38.30607  1.000000e-15  0.000163       80.53965   \n",
       "4        180.0  4.247916e+14  17.22931  1.000000e-15  0.000073      120.21590   \n",
       "...        ...           ...       ...           ...       ...            ...   \n",
       "2495  307400.0  8.536542e+14  26.39870  1.000000e-15  0.000112       97.08277   \n",
       "2496  307427.0  6.111058e+14  35.83278  1.000000e-15  0.000152       83.27723   \n",
       "2497  307455.0  9.300241e+14  37.94331  1.000000e-15  0.000161       80.93258   \n",
       "2498  307474.0  3.766431e+14  38.95212  1.000000e-15  0.000165       79.88245   \n",
       "2499  307479.0  6.094901e+14  42.59427  1.000000e-15  0.000181       76.37798   \n",
       "\n",
       "      Phase_0  RemnantType_0    Zams_0     Mass_1  ...    Zams_1  \\\n",
       "0         7.0            6.0  44.67820  26.748790  ...  31.79180   \n",
       "1         7.0            6.0  26.01399  27.232310  ...  30.98894   \n",
       "2         7.0            6.0  43.63717  32.662180  ...  37.74799   \n",
       "3         7.0            6.0  86.13720  56.341010  ...  57.45690   \n",
       "4         7.0            6.0  19.27244  17.397330  ...  19.51988   \n",
       "...       ...            ...       ...        ...  ...       ...   \n",
       "2495      7.0            6.0  30.06574  24.200570  ...  27.41962   \n",
       "2496      7.0            6.0  42.86181  35.568870  ...  42.43849   \n",
       "2497      7.0            6.0  46.79656   7.321097  ...  11.71306   \n",
       "2498      7.0            6.0  48.41524  21.209380  ...  23.91973   \n",
       "2499      7.0            6.0  55.52980  26.313730  ...  67.74502   \n",
       "\n",
       "         Semimajor  Eccentricity  BWorldtime     BTimestep        GWtime  \\\n",
       "0      8218.087000      0.933191    6.255643  2.000000e-10  6.382552e+09   \n",
       "1       134.886400      0.009944    4.975206  2.000000e-10  1.572015e+06   \n",
       "2       481.943300      0.012562    4.733170  2.000000e-10  9.903180e+07   \n",
       "3     80356.410000      0.095792    4.171837  2.000000e-10  2.963007e+16   \n",
       "4       109.564500      0.014440    6.984805  2.000000e-10  2.080002e+06   \n",
       "...            ...           ...         ...           ...           ...   \n",
       "2495    119.958500      0.009882    4.655624  2.000000e-10  9.600316e+05   \n",
       "2496     20.214680      0.054350    3.655644  2.000000e-10  2.722543e+02   \n",
       "2497     20.846330      0.126676    7.137279  2.000000e-10  2.127762e+03   \n",
       "2498      4.569291      0.008311    5.641471  2.000000e-10  1.314544e+00   \n",
       "2499   2978.107000      0.493297    3.298796  2.000000e-10  5.754001e+10   \n",
       "\n",
       "           Z    A    Merge_time  Merge_time_midpoint  \n",
       "0     0.0002  0.1  14000.000000         6.382553e+07  \n",
       "1     0.0002  0.1  14000.000000         1.572513e+04  \n",
       "2     0.0002  0.1  14000.000000         9.903227e+05  \n",
       "3     0.0002  0.1  14000.000000         2.963007e+14  \n",
       "4     0.0002  0.1  14000.000000         2.080700e+04  \n",
       "...      ...  ...           ...                  ...  \n",
       "2495  0.0002  0.1  14000.000000         1.920529e+04  \n",
       "2496  0.0002  0.1    274.227261         2.772583e+02  \n",
       "2497  0.0002  0.1   2116.785695         2.141337e+03  \n",
       "2498  0.0002  0.1      6.947659         6.963101e+00  \n",
       "2499  0.0002  0.1  14000.000000         5.754001e+08  \n",
       "\n",
       "[2500 rows x 25 columns]"
      ],
      "text/html": "<div>\n<style scoped>\n    .dataframe tbody tr th:only-of-type {\n        vertical-align: middle;\n    }\n\n    .dataframe tbody tr th {\n        vertical-align: top;\n    }\n\n    .dataframe thead th {\n        text-align: right;\n    }\n</style>\n<table border=\"1\" class=\"dataframe\">\n  <thead>\n    <tr style=\"text-align: right;\">\n      <th></th>\n      <th>ID</th>\n      <th>name</th>\n      <th>Mass_0</th>\n      <th>Luminosity_0</th>\n      <th>Radius_0</th>\n      <th>Temperature_0</th>\n      <th>Phase_0</th>\n      <th>RemnantType_0</th>\n      <th>Zams_0</th>\n      <th>Mass_1</th>\n      <th>...</th>\n      <th>Zams_1</th>\n      <th>Semimajor</th>\n      <th>Eccentricity</th>\n      <th>BWorldtime</th>\n      <th>BTimestep</th>\n      <th>GWtime</th>\n      <th>Z</th>\n      <th>A</th>\n      <th>Merge_time</th>\n      <th>Merge_time_midpoint</th>\n    </tr>\n  </thead>\n  <tbody>\n    <tr>\n      <th>0</th>\n      <td>92.0</td>\n      <td>6.231981e+14</td>\n      <td>43.89820</td>\n      <td>1.000000e-15</td>\n      <td>0.000186</td>\n      <td>75.23506</td>\n      <td>7.0</td>\n      <td>6.0</td>\n      <td>44.67820</td>\n      <td>26.748790</td>\n      <td>...</td>\n      <td>31.79180</td>\n      <td>8218.087000</td>\n      <td>0.933191</td>\n      <td>6.255643</td>\n      <td>2.000000e-10</td>\n      <td>6.382552e+09</td>\n      <td>0.0002</td>\n      <td>0.1</td>\n      <td>14000.000000</td>\n      <td>6.382553e+07</td>\n    </tr>\n    <tr>\n      <th>1</th>\n      <td>112.0</td>\n      <td>5.864654e+14</td>\n      <td>23.04844</td>\n      <td>1.000000e-15</td>\n      <td>0.000098</td>\n      <td>103.90500</td>\n      <td>7.0</td>\n      <td>6.0</td>\n      <td>26.01399</td>\n      <td>27.232310</td>\n      <td>...</td>\n      <td>30.98894</td>\n      <td>134.886400</td>\n      <td>0.009944</td>\n      <td>4.975206</td>\n      <td>2.000000e-10</td>\n      <td>1.572015e+06</td>\n      <td>0.0002</td>\n      <td>0.1</td>\n      <td>14000.000000</td>\n      <td>1.572513e+04</td>\n    </tr>\n    <tr>\n      <th>2</th>\n      <td>124.0</td>\n      <td>2.142971e+14</td>\n      <td>36.25998</td>\n      <td>1.000000e-15</td>\n      <td>0.000154</td>\n      <td>82.86009</td>\n      <td>7.0</td>\n      <td>6.0</td>\n      <td>43.63717</td>\n      <td>32.662180</td>\n      <td>...</td>\n      <td>37.74799</td>\n      <td>481.943300</td>\n      <td>0.012562</td>\n      <td>4.733170</td>\n      <td>2.000000e-10</td>\n      <td>9.903180e+07</td>\n      <td>0.0002</td>\n      <td>0.1</td>\n      <td>14000.000000</td>\n      <td>9.903227e+05</td>\n    </tr>\n    <tr>\n      <th>3</th>\n      <td>154.0</td>\n      <td>5.595487e+14</td>\n      <td>38.30607</td>\n      <td>1.000000e-15</td>\n      <td>0.000163</td>\n      <td>80.53965</td>\n      <td>7.0</td>\n      <td>6.0</td>\n      <td>86.13720</td>\n      <td>56.341010</td>\n      <td>...</td>\n      <td>57.45690</td>\n      <td>80356.410000</td>\n      <td>0.095792</td>\n      <td>4.171837</td>\n      <td>2.000000e-10</td>\n      <td>2.963007e+16</td>\n      <td>0.0002</td>\n      <td>0.1</td>\n      <td>14000.000000</td>\n      <td>2.963007e+14</td>\n    </tr>\n    <tr>\n      <th>4</th>\n      <td>180.0</td>\n      <td>4.247916e+14</td>\n      <td>17.22931</td>\n      <td>1.000000e-15</td>\n      <td>0.000073</td>\n      <td>120.21590</td>\n      <td>7.0</td>\n      <td>6.0</td>\n      <td>19.27244</td>\n      <td>17.397330</td>\n      <td>...</td>\n      <td>19.51988</td>\n      <td>109.564500</td>\n      <td>0.014440</td>\n      <td>6.984805</td>\n      <td>2.000000e-10</td>\n      <td>2.080002e+06</td>\n      <td>0.0002</td>\n      <td>0.1</td>\n      <td>14000.000000</td>\n      <td>2.080700e+04</td>\n    </tr>\n    <tr>\n      <th>...</th>\n      <td>...</td>\n      <td>...</td>\n      <td>...</td>\n      <td>...</td>\n      <td>...</td>\n      <td>...</td>\n      <td>...</td>\n      <td>...</td>\n      <td>...</td>\n      <td>...</td>\n      <td>...</td>\n      <td>...</td>\n      <td>...</td>\n      <td>...</td>\n      <td>...</td>\n      <td>...</td>\n      <td>...</td>\n      <td>...</td>\n      <td>...</td>\n      <td>...</td>\n      <td>...</td>\n    </tr>\n    <tr>\n      <th>2495</th>\n      <td>307400.0</td>\n      <td>8.536542e+14</td>\n      <td>26.39870</td>\n      <td>1.000000e-15</td>\n      <td>0.000112</td>\n      <td>97.08277</td>\n      <td>7.0</td>\n      <td>6.0</td>\n      <td>30.06574</td>\n      <td>24.200570</td>\n      <td>...</td>\n      <td>27.41962</td>\n      <td>119.958500</td>\n      <td>0.009882</td>\n      <td>4.655624</td>\n      <td>2.000000e-10</td>\n      <td>9.600316e+05</td>\n      <td>0.0002</td>\n      <td>0.1</td>\n      <td>14000.000000</td>\n      <td>1.920529e+04</td>\n    </tr>\n    <tr>\n      <th>2496</th>\n      <td>307427.0</td>\n      <td>6.111058e+14</td>\n      <td>35.83278</td>\n      <td>1.000000e-15</td>\n      <td>0.000152</td>\n      <td>83.27723</td>\n      <td>7.0</td>\n      <td>6.0</td>\n      <td>42.86181</td>\n      <td>35.568870</td>\n      <td>...</td>\n      <td>42.43849</td>\n      <td>20.214680</td>\n      <td>0.054350</td>\n      <td>3.655644</td>\n      <td>2.000000e-10</td>\n      <td>2.722543e+02</td>\n      <td>0.0002</td>\n      <td>0.1</td>\n      <td>274.227261</td>\n      <td>2.772583e+02</td>\n    </tr>\n    <tr>\n      <th>2497</th>\n      <td>307455.0</td>\n      <td>9.300241e+14</td>\n      <td>37.94331</td>\n      <td>1.000000e-15</td>\n      <td>0.000161</td>\n      <td>80.93258</td>\n      <td>7.0</td>\n      <td>6.0</td>\n      <td>46.79656</td>\n      <td>7.321097</td>\n      <td>...</td>\n      <td>11.71306</td>\n      <td>20.846330</td>\n      <td>0.126676</td>\n      <td>7.137279</td>\n      <td>2.000000e-10</td>\n      <td>2.127762e+03</td>\n      <td>0.0002</td>\n      <td>0.1</td>\n      <td>2116.785695</td>\n      <td>2.141337e+03</td>\n    </tr>\n    <tr>\n      <th>2498</th>\n      <td>307474.0</td>\n      <td>3.766431e+14</td>\n      <td>38.95212</td>\n      <td>1.000000e-15</td>\n      <td>0.000165</td>\n      <td>79.88245</td>\n      <td>7.0</td>\n      <td>6.0</td>\n      <td>48.41524</td>\n      <td>21.209380</td>\n      <td>...</td>\n      <td>23.91973</td>\n      <td>4.569291</td>\n      <td>0.008311</td>\n      <td>5.641471</td>\n      <td>2.000000e-10</td>\n      <td>1.314544e+00</td>\n      <td>0.0002</td>\n      <td>0.1</td>\n      <td>6.947659</td>\n      <td>6.963101e+00</td>\n    </tr>\n    <tr>\n      <th>2499</th>\n      <td>307479.0</td>\n      <td>6.094901e+14</td>\n      <td>42.59427</td>\n      <td>1.000000e-15</td>\n      <td>0.000181</td>\n      <td>76.37798</td>\n      <td>7.0</td>\n      <td>6.0</td>\n      <td>55.52980</td>\n      <td>26.313730</td>\n      <td>...</td>\n      <td>67.74502</td>\n      <td>2978.107000</td>\n      <td>0.493297</td>\n      <td>3.298796</td>\n      <td>2.000000e-10</td>\n      <td>5.754001e+10</td>\n      <td>0.0002</td>\n      <td>0.1</td>\n      <td>14000.000000</td>\n      <td>5.754001e+08</td>\n    </tr>\n  </tbody>\n</table>\n<p>2500 rows × 25 columns</p>\n</div>"
     },
     "metadata": {},
     "execution_count": 49
    }
   ],
   "source": [
    "df_mid"
   ]
  },
  {
   "cell_type": "code",
   "execution_count": 50,
   "metadata": {},
   "outputs": [
    {
     "output_type": "execute_result",
     "data": {
      "text/plain": [
       "            ID          name    Mass_0  Luminosity_0  Radius_0  Temperature_0  \\\n",
       "0         92.0  6.231981e+14  43.89820  1.000000e-15  0.000186       75.23506   \n",
       "1        112.0  5.864654e+14  23.04844  1.000000e-15  0.000098      103.90500   \n",
       "2        124.0  2.142971e+14  36.25998  1.000000e-15  0.000154       82.86009   \n",
       "3        154.0  5.595487e+14  38.30607  1.000000e-15  0.000163       80.53965   \n",
       "4        180.0  4.247916e+14  17.22931  1.000000e-15  0.000073      120.21590   \n",
       "...        ...           ...       ...           ...       ...            ...   \n",
       "2495  307400.0  8.536542e+14  26.39870  1.000000e-15  0.000112       97.08277   \n",
       "2496  307427.0  6.111058e+14  35.83278  1.000000e-15  0.000152       83.27723   \n",
       "2497  307455.0  9.300241e+14  37.94331  1.000000e-15  0.000161       80.93258   \n",
       "2498  307474.0  3.766431e+14  38.95212  1.000000e-15  0.000165       79.88245   \n",
       "2499  307479.0  6.094901e+14  42.59427  1.000000e-15  0.000181       76.37798   \n",
       "\n",
       "      Phase_0  RemnantType_0    Zams_0     Mass_1  ...    Zams_1  \\\n",
       "0         7.0            6.0  44.67820  26.748790  ...  31.79180   \n",
       "1         7.0            6.0  26.01399  27.232310  ...  30.98894   \n",
       "2         7.0            6.0  43.63717  32.662180  ...  37.74799   \n",
       "3         7.0            6.0  86.13720  56.341010  ...  57.45690   \n",
       "4         7.0            6.0  19.27244  17.397330  ...  19.51988   \n",
       "...       ...            ...       ...        ...  ...       ...   \n",
       "2495      7.0            6.0  30.06574  24.200570  ...  27.41962   \n",
       "2496      7.0            6.0  42.86181  35.568870  ...  42.43849   \n",
       "2497      7.0            6.0  46.79656   7.321097  ...  11.71306   \n",
       "2498      7.0            6.0  48.41524  21.209380  ...  23.91973   \n",
       "2499      7.0            6.0  55.52980  26.313730  ...  67.74502   \n",
       "\n",
       "         Semimajor  Eccentricity  BWorldtime     BTimestep        GWtime  \\\n",
       "0      8218.087000      0.933191    6.255643  2.000000e-10  6.382552e+09   \n",
       "1       134.886400      0.009944    4.975206  2.000000e-10  1.572015e+06   \n",
       "2       481.943300      0.012562    4.733170  2.000000e-10  9.903180e+07   \n",
       "3     80356.410000      0.095792    4.171837  2.000000e-10  2.963007e+16   \n",
       "4       109.564500      0.014440    6.984805  2.000000e-10  2.080002e+06   \n",
       "...            ...           ...         ...           ...           ...   \n",
       "2495    119.958500      0.009882    4.655624  2.000000e-10  9.600316e+05   \n",
       "2496     20.214680      0.054350    3.655644  2.000000e-10  2.722543e+02   \n",
       "2497     20.846330      0.126676    7.137279  2.000000e-10  2.127762e+03   \n",
       "2498      4.569291      0.008311    5.641471  2.000000e-10  1.314544e+00   \n",
       "2499   2978.107000      0.493297    3.298796  2.000000e-10  5.754001e+10   \n",
       "\n",
       "           Z    A    Merge_time  Merge_time_rk4  \n",
       "0     0.0002  0.1  14000.000000    6.382553e+07  \n",
       "1     0.0002  0.1  14000.000000    1.572513e+04  \n",
       "2     0.0002  0.1  14000.000000    9.903227e+05  \n",
       "3     0.0002  0.1  14000.000000    2.963007e+14  \n",
       "4     0.0002  0.1  14000.000000    2.080700e+04  \n",
       "...      ...  ...           ...             ...  \n",
       "2495  0.0002  0.1  14000.000000    1.920529e+04  \n",
       "2496  0.0002  0.1    274.227261    2.761939e+02  \n",
       "2497  0.0002  0.1   2116.785695    2.164539e+03  \n",
       "2498  0.0002  0.1      6.947659    6.156906e+00  \n",
       "2499  0.0002  0.1  14000.000000    5.754001e+08  \n",
       "\n",
       "[2500 rows x 25 columns]"
      ],
      "text/html": "<div>\n<style scoped>\n    .dataframe tbody tr th:only-of-type {\n        vertical-align: middle;\n    }\n\n    .dataframe tbody tr th {\n        vertical-align: top;\n    }\n\n    .dataframe thead th {\n        text-align: right;\n    }\n</style>\n<table border=\"1\" class=\"dataframe\">\n  <thead>\n    <tr style=\"text-align: right;\">\n      <th></th>\n      <th>ID</th>\n      <th>name</th>\n      <th>Mass_0</th>\n      <th>Luminosity_0</th>\n      <th>Radius_0</th>\n      <th>Temperature_0</th>\n      <th>Phase_0</th>\n      <th>RemnantType_0</th>\n      <th>Zams_0</th>\n      <th>Mass_1</th>\n      <th>...</th>\n      <th>Zams_1</th>\n      <th>Semimajor</th>\n      <th>Eccentricity</th>\n      <th>BWorldtime</th>\n      <th>BTimestep</th>\n      <th>GWtime</th>\n      <th>Z</th>\n      <th>A</th>\n      <th>Merge_time</th>\n      <th>Merge_time_rk4</th>\n    </tr>\n  </thead>\n  <tbody>\n    <tr>\n      <th>0</th>\n      <td>92.0</td>\n      <td>6.231981e+14</td>\n      <td>43.89820</td>\n      <td>1.000000e-15</td>\n      <td>0.000186</td>\n      <td>75.23506</td>\n      <td>7.0</td>\n      <td>6.0</td>\n      <td>44.67820</td>\n      <td>26.748790</td>\n      <td>...</td>\n      <td>31.79180</td>\n      <td>8218.087000</td>\n      <td>0.933191</td>\n      <td>6.255643</td>\n      <td>2.000000e-10</td>\n      <td>6.382552e+09</td>\n      <td>0.0002</td>\n      <td>0.1</td>\n      <td>14000.000000</td>\n      <td>6.382553e+07</td>\n    </tr>\n    <tr>\n      <th>1</th>\n      <td>112.0</td>\n      <td>5.864654e+14</td>\n      <td>23.04844</td>\n      <td>1.000000e-15</td>\n      <td>0.000098</td>\n      <td>103.90500</td>\n      <td>7.0</td>\n      <td>6.0</td>\n      <td>26.01399</td>\n      <td>27.232310</td>\n      <td>...</td>\n      <td>30.98894</td>\n      <td>134.886400</td>\n      <td>0.009944</td>\n      <td>4.975206</td>\n      <td>2.000000e-10</td>\n      <td>1.572015e+06</td>\n      <td>0.0002</td>\n      <td>0.1</td>\n      <td>14000.000000</td>\n      <td>1.572513e+04</td>\n    </tr>\n    <tr>\n      <th>2</th>\n      <td>124.0</td>\n      <td>2.142971e+14</td>\n      <td>36.25998</td>\n      <td>1.000000e-15</td>\n      <td>0.000154</td>\n      <td>82.86009</td>\n      <td>7.0</td>\n      <td>6.0</td>\n      <td>43.63717</td>\n      <td>32.662180</td>\n      <td>...</td>\n      <td>37.74799</td>\n      <td>481.943300</td>\n      <td>0.012562</td>\n      <td>4.733170</td>\n      <td>2.000000e-10</td>\n      <td>9.903180e+07</td>\n      <td>0.0002</td>\n      <td>0.1</td>\n      <td>14000.000000</td>\n      <td>9.903227e+05</td>\n    </tr>\n    <tr>\n      <th>3</th>\n      <td>154.0</td>\n      <td>5.595487e+14</td>\n      <td>38.30607</td>\n      <td>1.000000e-15</td>\n      <td>0.000163</td>\n      <td>80.53965</td>\n      <td>7.0</td>\n      <td>6.0</td>\n      <td>86.13720</td>\n      <td>56.341010</td>\n      <td>...</td>\n      <td>57.45690</td>\n      <td>80356.410000</td>\n      <td>0.095792</td>\n      <td>4.171837</td>\n      <td>2.000000e-10</td>\n      <td>2.963007e+16</td>\n      <td>0.0002</td>\n      <td>0.1</td>\n      <td>14000.000000</td>\n      <td>2.963007e+14</td>\n    </tr>\n    <tr>\n      <th>4</th>\n      <td>180.0</td>\n      <td>4.247916e+14</td>\n      <td>17.22931</td>\n      <td>1.000000e-15</td>\n      <td>0.000073</td>\n      <td>120.21590</td>\n      <td>7.0</td>\n      <td>6.0</td>\n      <td>19.27244</td>\n      <td>17.397330</td>\n      <td>...</td>\n      <td>19.51988</td>\n      <td>109.564500</td>\n      <td>0.014440</td>\n      <td>6.984805</td>\n      <td>2.000000e-10</td>\n      <td>2.080002e+06</td>\n      <td>0.0002</td>\n      <td>0.1</td>\n      <td>14000.000000</td>\n      <td>2.080700e+04</td>\n    </tr>\n    <tr>\n      <th>...</th>\n      <td>...</td>\n      <td>...</td>\n      <td>...</td>\n      <td>...</td>\n      <td>...</td>\n      <td>...</td>\n      <td>...</td>\n      <td>...</td>\n      <td>...</td>\n      <td>...</td>\n      <td>...</td>\n      <td>...</td>\n      <td>...</td>\n      <td>...</td>\n      <td>...</td>\n      <td>...</td>\n      <td>...</td>\n      <td>...</td>\n      <td>...</td>\n      <td>...</td>\n      <td>...</td>\n    </tr>\n    <tr>\n      <th>2495</th>\n      <td>307400.0</td>\n      <td>8.536542e+14</td>\n      <td>26.39870</td>\n      <td>1.000000e-15</td>\n      <td>0.000112</td>\n      <td>97.08277</td>\n      <td>7.0</td>\n      <td>6.0</td>\n      <td>30.06574</td>\n      <td>24.200570</td>\n      <td>...</td>\n      <td>27.41962</td>\n      <td>119.958500</td>\n      <td>0.009882</td>\n      <td>4.655624</td>\n      <td>2.000000e-10</td>\n      <td>9.600316e+05</td>\n      <td>0.0002</td>\n      <td>0.1</td>\n      <td>14000.000000</td>\n      <td>1.920529e+04</td>\n    </tr>\n    <tr>\n      <th>2496</th>\n      <td>307427.0</td>\n      <td>6.111058e+14</td>\n      <td>35.83278</td>\n      <td>1.000000e-15</td>\n      <td>0.000152</td>\n      <td>83.27723</td>\n      <td>7.0</td>\n      <td>6.0</td>\n      <td>42.86181</td>\n      <td>35.568870</td>\n      <td>...</td>\n      <td>42.43849</td>\n      <td>20.214680</td>\n      <td>0.054350</td>\n      <td>3.655644</td>\n      <td>2.000000e-10</td>\n      <td>2.722543e+02</td>\n      <td>0.0002</td>\n      <td>0.1</td>\n      <td>274.227261</td>\n      <td>2.761939e+02</td>\n    </tr>\n    <tr>\n      <th>2497</th>\n      <td>307455.0</td>\n      <td>9.300241e+14</td>\n      <td>37.94331</td>\n      <td>1.000000e-15</td>\n      <td>0.000161</td>\n      <td>80.93258</td>\n      <td>7.0</td>\n      <td>6.0</td>\n      <td>46.79656</td>\n      <td>7.321097</td>\n      <td>...</td>\n      <td>11.71306</td>\n      <td>20.846330</td>\n      <td>0.126676</td>\n      <td>7.137279</td>\n      <td>2.000000e-10</td>\n      <td>2.127762e+03</td>\n      <td>0.0002</td>\n      <td>0.1</td>\n      <td>2116.785695</td>\n      <td>2.164539e+03</td>\n    </tr>\n    <tr>\n      <th>2498</th>\n      <td>307474.0</td>\n      <td>3.766431e+14</td>\n      <td>38.95212</td>\n      <td>1.000000e-15</td>\n      <td>0.000165</td>\n      <td>79.88245</td>\n      <td>7.0</td>\n      <td>6.0</td>\n      <td>48.41524</td>\n      <td>21.209380</td>\n      <td>...</td>\n      <td>23.91973</td>\n      <td>4.569291</td>\n      <td>0.008311</td>\n      <td>5.641471</td>\n      <td>2.000000e-10</td>\n      <td>1.314544e+00</td>\n      <td>0.0002</td>\n      <td>0.1</td>\n      <td>6.947659</td>\n      <td>6.156906e+00</td>\n    </tr>\n    <tr>\n      <th>2499</th>\n      <td>307479.0</td>\n      <td>6.094901e+14</td>\n      <td>42.59427</td>\n      <td>1.000000e-15</td>\n      <td>0.000181</td>\n      <td>76.37798</td>\n      <td>7.0</td>\n      <td>6.0</td>\n      <td>55.52980</td>\n      <td>26.313730</td>\n      <td>...</td>\n      <td>67.74502</td>\n      <td>2978.107000</td>\n      <td>0.493297</td>\n      <td>3.298796</td>\n      <td>2.000000e-10</td>\n      <td>5.754001e+10</td>\n      <td>0.0002</td>\n      <td>0.1</td>\n      <td>14000.000000</td>\n      <td>5.754001e+08</td>\n    </tr>\n  </tbody>\n</table>\n<p>2500 rows × 25 columns</p>\n</div>"
     },
     "metadata": {},
     "execution_count": 50
    }
   ],
   "source": [
    "df_rk"
   ]
  },
  {
   "cell_type": "code",
   "execution_count": 51,
   "metadata": {},
   "outputs": [],
   "source": [
    "# df_eu.to_csv(f\"df_eu_{n_rows_to_keep}.csv\")\n",
    "# df_mid.to_csv(f\"df_mid_{n_rows_to_keep}.csv\")\n",
    "# df_rk.to_csv(f\"df_rk_{n_rows_to_keep}.csv\")"
   ]
  },
  {
   "cell_type": "code",
   "execution_count": 52,
   "metadata": {},
   "outputs": [
    {
     "output_type": "stream",
     "name": "stdout",
     "text": [
      "4810.62655781489 4795.336799033888 4802.683635092978\n"
     ]
    }
   ],
   "source": [
    "print(df_eu.iloc[26, -1], df_mid.iloc[26, -1], df_rk.iloc[26, -1])"
   ]
  },
  {
   "cell_type": "code",
   "execution_count": 53,
   "metadata": {},
   "outputs": [
    {
     "output_type": "display_data",
     "data": {
      "text/plain": "<Figure size 432x288 with 1 Axes>",
      "image/svg+xml": "<?xml version=\"1.0\" encoding=\"utf-8\" standalone=\"no\"?>\r\n<!DOCTYPE svg PUBLIC \"-//W3C//DTD SVG 1.1//EN\"\r\n  \"http://www.w3.org/Graphics/SVG/1.1/DTD/svg11.dtd\">\r\n<svg height=\"248.518125pt\" version=\"1.1\" viewBox=\"0 0 380.383861 248.518125\" width=\"380.383861pt\" xmlns=\"http://www.w3.org/2000/svg\" xmlns:xlink=\"http://www.w3.org/1999/xlink\">\r\n <metadata>\r\n  <rdf:RDF xmlns:cc=\"http://creativecommons.org/ns#\" xmlns:dc=\"http://purl.org/dc/elements/1.1/\" xmlns:rdf=\"http://www.w3.org/1999/02/22-rdf-syntax-ns#\">\r\n   <cc:Work>\r\n    <dc:type rdf:resource=\"http://purl.org/dc/dcmitype/StillImage\"/>\r\n    <dc:date>2021-05-31T11:08:53.314392</dc:date>\r\n    <dc:format>image/svg+xml</dc:format>\r\n    <dc:creator>\r\n     <cc:Agent>\r\n      <dc:title>Matplotlib v3.4.1, https://matplotlib.org/</dc:title>\r\n     </cc:Agent>\r\n    </dc:creator>\r\n   </cc:Work>\r\n  </rdf:RDF>\r\n </metadata>\r\n <defs>\r\n  <style type=\"text/css\">*{stroke-linecap:butt;stroke-linejoin:round;}</style>\r\n </defs>\r\n <g id=\"figure_1\">\r\n  <g id=\"patch_1\">\r\n   <path d=\"M 0 248.518125 \r\nL 380.383861 248.518125 \r\nL 380.383861 0 \r\nL 0 0 \r\nz\r\n\" style=\"fill:none;\"/>\r\n  </g>\r\n  <g id=\"axes_1\">\r\n   <g id=\"patch_2\">\r\n    <path d=\"M 33.2875 224.64 \r\nL 368.0875 224.64 \r\nL 368.0875 7.2 \r\nL 33.2875 7.2 \r\nz\r\n\" style=\"fill:#ffffff;\"/>\r\n   </g>\r\n   <g id=\"patch_3\">\r\n    <path clip-path=\"url(#p7b7f177604)\" d=\"M 48.505682 224.64 \r\nL 78.600116 224.64 \r\nL 78.600116 17.554286 \r\nL 48.505682 17.554286 \r\nz\r\n\" style=\"fill:#1f77b4;\"/>\r\n   </g>\r\n   <g id=\"patch_4\">\r\n    <path clip-path=\"url(#p7b7f177604)\" d=\"M 78.600116 224.64 \r\nL 108.694549 224.64 \r\nL 108.694549 199.589309 \r\nL 78.600116 199.589309 \r\nz\r\n\" style=\"fill:#1f77b4;\"/>\r\n   </g>\r\n   <g id=\"patch_5\">\r\n    <path clip-path=\"url(#p7b7f177604)\" d=\"M 108.694549 224.64 \r\nL 138.788983 224.64 \r\nL 138.788983 212.949677 \r\nL 108.694549 212.949677 \r\nz\r\n\" style=\"fill:#1f77b4;\"/>\r\n   </g>\r\n   <g id=\"patch_6\">\r\n    <path clip-path=\"url(#p7b7f177604)\" d=\"M 138.788983 224.64 \r\nL 168.883417 224.64 \r\nL 168.883417 207.939539 \r\nL 138.788983 207.939539 \r\nz\r\n\" style=\"fill:#1f77b4;\"/>\r\n   </g>\r\n   <g id=\"patch_7\">\r\n    <path clip-path=\"url(#p7b7f177604)\" d=\"M 168.883417 224.64 \r\nL 198.977851 224.64 \r\nL 198.977851 216.28977 \r\nL 168.883417 216.28977 \r\nz\r\n\" style=\"fill:#1f77b4;\"/>\r\n   </g>\r\n   <g id=\"patch_8\">\r\n    <path clip-path=\"url(#p7b7f177604)\" d=\"M 198.977851 224.64 \r\nL 229.072285 224.64 \r\nL 229.072285 219.629862 \r\nL 198.977851 219.629862 \r\nz\r\n\" style=\"fill:#1f77b4;\"/>\r\n   </g>\r\n   <g id=\"patch_9\">\r\n    <path clip-path=\"url(#p7b7f177604)\" d=\"M 229.072285 224.64 \r\nL 259.166718 224.64 \r\nL 259.166718 217.959816 \r\nL 229.072285 217.959816 \r\nz\r\n\" style=\"fill:#1f77b4;\"/>\r\n   </g>\r\n   <g id=\"patch_10\">\r\n    <path clip-path=\"url(#p7b7f177604)\" d=\"M 259.166718 224.64 \r\nL 289.261152 224.64 \r\nL 289.261152 219.629862 \r\nL 259.166718 219.629862 \r\nz\r\n\" style=\"fill:#1f77b4;\"/>\r\n   </g>\r\n   <g id=\"patch_11\">\r\n    <path clip-path=\"url(#p7b7f177604)\" d=\"M 289.261152 224.64 \r\nL 319.355586 224.64 \r\nL 319.355586 217.959816 \r\nL 289.261152 217.959816 \r\nz\r\n\" style=\"fill:#1f77b4;\"/>\r\n   </g>\r\n   <g id=\"patch_12\">\r\n    <path clip-path=\"url(#p7b7f177604)\" d=\"M 319.355586 224.64 \r\nL 349.45002 224.64 \r\nL 349.45002 221.299908 \r\nL 319.355586 221.299908 \r\nz\r\n\" style=\"fill:#1f77b4;\"/>\r\n   </g>\r\n   <g id=\"patch_13\">\r\n    <path clip-path=\"url(#p7b7f177604)\" d=\"M 48.596136 224.64 \r\nL 78.555732 224.64 \r\nL 78.555732 19.224332 \r\nL 48.596136 19.224332 \r\nz\r\n\" style=\"fill:#ff7f0e;\"/>\r\n   </g>\r\n   <g id=\"patch_14\">\r\n    <path clip-path=\"url(#p7b7f177604)\" d=\"M 78.555732 224.64 \r\nL 108.515328 224.64 \r\nL 108.515328 197.919263 \r\nL 78.555732 197.919263 \r\nz\r\n\" style=\"fill:#ff7f0e;\"/>\r\n   </g>\r\n   <g id=\"patch_15\">\r\n    <path clip-path=\"url(#p7b7f177604)\" d=\"M 108.515328 224.64 \r\nL 138.474924 224.64 \r\nL 138.474924 212.949677 \r\nL 108.515328 212.949677 \r\nz\r\n\" style=\"fill:#ff7f0e;\"/>\r\n   </g>\r\n   <g id=\"patch_16\">\r\n    <path clip-path=\"url(#p7b7f177604)\" d=\"M 138.474924 224.64 \r\nL 168.43452 224.64 \r\nL 168.43452 211.279631 \r\nL 138.474924 211.279631 \r\nz\r\n\" style=\"fill:#ff7f0e;\"/>\r\n   </g>\r\n   <g id=\"patch_17\">\r\n    <path clip-path=\"url(#p7b7f177604)\" d=\"M 168.43452 224.64 \r\nL 198.394117 224.64 \r\nL 198.394117 212.949677 \r\nL 168.43452 212.949677 \r\nz\r\n\" style=\"fill:#ff7f0e;\"/>\r\n   </g>\r\n   <g id=\"patch_18\">\r\n    <path clip-path=\"url(#p7b7f177604)\" d=\"M 198.394117 224.64 \r\nL 228.353713 224.64 \r\nL 228.353713 219.629862 \r\nL 198.394117 219.629862 \r\nz\r\n\" style=\"fill:#ff7f0e;\"/>\r\n   </g>\r\n   <g id=\"patch_19\">\r\n    <path clip-path=\"url(#p7b7f177604)\" d=\"M 228.353713 224.64 \r\nL 258.313309 224.64 \r\nL 258.313309 217.959816 \r\nL 228.353713 217.959816 \r\nz\r\n\" style=\"fill:#ff7f0e;\"/>\r\n   </g>\r\n   <g id=\"patch_20\">\r\n    <path clip-path=\"url(#p7b7f177604)\" d=\"M 258.313309 224.64 \r\nL 288.272905 224.64 \r\nL 288.272905 219.629862 \r\nL 258.313309 219.629862 \r\nz\r\n\" style=\"fill:#ff7f0e;\"/>\r\n   </g>\r\n   <g id=\"patch_21\">\r\n    <path clip-path=\"url(#p7b7f177604)\" d=\"M 288.272905 224.64 \r\nL 318.232501 224.64 \r\nL 318.232501 217.959816 \r\nL 288.272905 217.959816 \r\nz\r\n\" style=\"fill:#ff7f0e;\"/>\r\n   </g>\r\n   <g id=\"patch_22\">\r\n    <path clip-path=\"url(#p7b7f177604)\" d=\"M 318.232501 224.64 \r\nL 348.192098 224.64 \r\nL 348.192098 221.299908 \r\nL 318.232501 221.299908 \r\nz\r\n\" style=\"fill:#ff7f0e;\"/>\r\n   </g>\r\n   <g id=\"patch_23\">\r\n    <path clip-path=\"url(#p7b7f177604)\" d=\"M 48.596341 224.64 \r\nL 79.023639 224.64 \r\nL 79.023639 19.224332 \r\nL 48.596341 19.224332 \r\nz\r\n\" style=\"fill:#2ca02c;\"/>\r\n   </g>\r\n   <g id=\"patch_24\">\r\n    <path clip-path=\"url(#p7b7f177604)\" d=\"M 79.023639 224.64 \r\nL 109.450936 224.64 \r\nL 109.450936 197.919263 \r\nL 79.023639 197.919263 \r\nz\r\n\" style=\"fill:#2ca02c;\"/>\r\n   </g>\r\n   <g id=\"patch_25\">\r\n    <path clip-path=\"url(#p7b7f177604)\" d=\"M 109.450936 224.64 \r\nL 139.878234 224.64 \r\nL 139.878234 211.279631 \r\nL 109.450936 211.279631 \r\nz\r\n\" style=\"fill:#2ca02c;\"/>\r\n   </g>\r\n   <g id=\"patch_26\">\r\n    <path clip-path=\"url(#p7b7f177604)\" d=\"M 139.878234 224.64 \r\nL 170.305532 224.64 \r\nL 170.305532 209.609585 \r\nL 139.878234 209.609585 \r\nz\r\n\" style=\"fill:#2ca02c;\"/>\r\n   </g>\r\n   <g id=\"patch_27\">\r\n    <path clip-path=\"url(#p7b7f177604)\" d=\"M 170.305532 224.64 \r\nL 200.73283 224.64 \r\nL 200.73283 216.28977 \r\nL 170.305532 216.28977 \r\nz\r\n\" style=\"fill:#2ca02c;\"/>\r\n   </g>\r\n   <g id=\"patch_28\">\r\n    <path clip-path=\"url(#p7b7f177604)\" d=\"M 200.73283 224.64 \r\nL 231.160127 224.64 \r\nL 231.160127 219.629862 \r\nL 200.73283 219.629862 \r\nz\r\n\" style=\"fill:#2ca02c;\"/>\r\n   </g>\r\n   <g id=\"patch_29\">\r\n    <path clip-path=\"url(#p7b7f177604)\" d=\"M 231.160127 224.64 \r\nL 261.587425 224.64 \r\nL 261.587425 217.959816 \r\nL 231.160127 217.959816 \r\nz\r\n\" style=\"fill:#2ca02c;\"/>\r\n   </g>\r\n   <g id=\"patch_30\">\r\n    <path clip-path=\"url(#p7b7f177604)\" d=\"M 261.587425 224.64 \r\nL 292.014723 224.64 \r\nL 292.014723 219.629862 \r\nL 261.587425 219.629862 \r\nz\r\n\" style=\"fill:#2ca02c;\"/>\r\n   </g>\r\n   <g id=\"patch_31\">\r\n    <path clip-path=\"url(#p7b7f177604)\" d=\"M 292.014723 224.64 \r\nL 322.44202 224.64 \r\nL 322.44202 217.959816 \r\nL 292.014723 217.959816 \r\nz\r\n\" style=\"fill:#2ca02c;\"/>\r\n   </g>\r\n   <g id=\"patch_32\">\r\n    <path clip-path=\"url(#p7b7f177604)\" d=\"M 322.44202 224.64 \r\nL 352.869318 224.64 \r\nL 352.869318 221.299908 \r\nL 322.44202 221.299908 \r\nz\r\n\" style=\"fill:#2ca02c;\"/>\r\n   </g>\r\n   <g id=\"patch_33\">\r\n    <path clip-path=\"url(#p7b7f177604)\" d=\"M 48.59627 224.64 \r\nL 78.855011 224.64 \r\nL 78.855011 19.224332 \r\nL 48.59627 19.224332 \r\nz\r\n\" style=\"fill:#d62728;\"/>\r\n   </g>\r\n   <g id=\"patch_34\">\r\n    <path clip-path=\"url(#p7b7f177604)\" d=\"M 78.855011 224.64 \r\nL 109.113753 224.64 \r\nL 109.113753 197.919263 \r\nL 78.855011 197.919263 \r\nz\r\n\" style=\"fill:#d62728;\"/>\r\n   </g>\r\n   <g id=\"patch_35\">\r\n    <path clip-path=\"url(#p7b7f177604)\" d=\"M 109.113753 224.64 \r\nL 139.372495 224.64 \r\nL 139.372495 211.279631 \r\nL 109.113753 211.279631 \r\nz\r\n\" style=\"fill:#d62728;\"/>\r\n   </g>\r\n   <g id=\"patch_36\">\r\n    <path clip-path=\"url(#p7b7f177604)\" d=\"M 139.372495 224.64 \r\nL 169.631236 224.64 \r\nL 169.631236 209.609585 \r\nL 139.372495 209.609585 \r\nz\r\n\" style=\"fill:#d62728;\"/>\r\n   </g>\r\n   <g id=\"patch_37\">\r\n    <path clip-path=\"url(#p7b7f177604)\" d=\"M 169.631236 224.64 \r\nL 199.889978 224.64 \r\nL 199.889978 216.28977 \r\nL 169.631236 216.28977 \r\nz\r\n\" style=\"fill:#d62728;\"/>\r\n   </g>\r\n   <g id=\"patch_38\">\r\n    <path clip-path=\"url(#p7b7f177604)\" d=\"M 199.889978 224.64 \r\nL 230.14872 224.64 \r\nL 230.14872 219.629862 \r\nL 199.889978 219.629862 \r\nz\r\n\" style=\"fill:#d62728;\"/>\r\n   </g>\r\n   <g id=\"patch_39\">\r\n    <path clip-path=\"url(#p7b7f177604)\" d=\"M 230.14872 224.64 \r\nL 260.407461 224.64 \r\nL 260.407461 217.959816 \r\nL 230.14872 217.959816 \r\nz\r\n\" style=\"fill:#d62728;\"/>\r\n   </g>\r\n   <g id=\"patch_40\">\r\n    <path clip-path=\"url(#p7b7f177604)\" d=\"M 260.407461 224.64 \r\nL 290.666203 224.64 \r\nL 290.666203 219.629862 \r\nL 260.407461 219.629862 \r\nz\r\n\" style=\"fill:#d62728;\"/>\r\n   </g>\r\n   <g id=\"patch_41\">\r\n    <path clip-path=\"url(#p7b7f177604)\" d=\"M 290.666203 224.64 \r\nL 320.924945 224.64 \r\nL 320.924945 217.959816 \r\nL 290.666203 217.959816 \r\nz\r\n\" style=\"fill:#d62728;\"/>\r\n   </g>\r\n   <g id=\"patch_42\">\r\n    <path clip-path=\"url(#p7b7f177604)\" d=\"M 320.924945 224.64 \r\nL 351.183686 224.64 \r\nL 351.183686 221.299908 \r\nL 320.924945 221.299908 \r\nz\r\n\" style=\"fill:#d62728;\"/>\r\n   </g>\r\n   <g id=\"patch_43\">\r\n    <path clip-path=\"url(#p7b7f177604)\" d=\"M 48.588751 224.64 \r\nL 79.016592 224.64 \r\nL 79.016592 24.23447 \r\nL 48.588751 24.23447 \r\nz\r\n\" style=\"fill:#9467bd;\"/>\r\n   </g>\r\n   <g id=\"patch_44\">\r\n    <path clip-path=\"url(#p7b7f177604)\" d=\"M 79.016592 224.64 \r\nL 109.444432 224.64 \r\nL 109.444432 197.919263 \r\nL 79.016592 197.919263 \r\nz\r\n\" style=\"fill:#9467bd;\"/>\r\n   </g>\r\n   <g id=\"patch_45\">\r\n    <path clip-path=\"url(#p7b7f177604)\" d=\"M 109.444432 224.64 \r\nL 139.872273 224.64 \r\nL 139.872273 211.279631 \r\nL 109.444432 211.279631 \r\nz\r\n\" style=\"fill:#9467bd;\"/>\r\n   </g>\r\n   <g id=\"patch_46\">\r\n    <path clip-path=\"url(#p7b7f177604)\" d=\"M 139.872273 224.64 \r\nL 170.300114 224.64 \r\nL 170.300114 207.939539 \r\nL 139.872273 207.939539 \r\nz\r\n\" style=\"fill:#9467bd;\"/>\r\n   </g>\r\n   <g id=\"patch_47\">\r\n    <path clip-path=\"url(#p7b7f177604)\" d=\"M 170.300114 224.64 \r\nL 200.727955 224.64 \r\nL 200.727955 216.28977 \r\nL 170.300114 216.28977 \r\nz\r\n\" style=\"fill:#9467bd;\"/>\r\n   </g>\r\n   <g id=\"patch_48\">\r\n    <path clip-path=\"url(#p7b7f177604)\" d=\"M 200.727955 224.64 \r\nL 231.155796 224.64 \r\nL 231.155796 219.629862 \r\nL 200.727955 219.629862 \r\nz\r\n\" style=\"fill:#9467bd;\"/>\r\n   </g>\r\n   <g id=\"patch_49\">\r\n    <path clip-path=\"url(#p7b7f177604)\" d=\"M 231.155796 224.64 \r\nL 261.583637 224.64 \r\nL 261.583637 217.959816 \r\nL 231.155796 217.959816 \r\nz\r\n\" style=\"fill:#9467bd;\"/>\r\n   </g>\r\n   <g id=\"patch_50\">\r\n    <path clip-path=\"url(#p7b7f177604)\" d=\"M 261.583637 224.64 \r\nL 292.011478 224.64 \r\nL 292.011478 219.629862 \r\nL 261.583637 219.629862 \r\nz\r\n\" style=\"fill:#9467bd;\"/>\r\n   </g>\r\n   <g id=\"patch_51\">\r\n    <path clip-path=\"url(#p7b7f177604)\" d=\"M 292.011478 224.64 \r\nL 322.439319 224.64 \r\nL 322.439319 217.959816 \r\nL 292.011478 217.959816 \r\nz\r\n\" style=\"fill:#9467bd;\"/>\r\n   </g>\r\n   <g id=\"patch_52\">\r\n    <path clip-path=\"url(#p7b7f177604)\" d=\"M 322.439319 224.64 \r\nL 352.86716 224.64 \r\nL 352.86716 217.959816 \r\nL 322.439319 217.959816 \r\nz\r\n\" style=\"fill:#9467bd;\"/>\r\n   </g>\r\n   <g id=\"matplotlib.axis_1\">\r\n    <g id=\"xtick_1\">\r\n     <g id=\"line2d_1\">\r\n      <defs>\r\n       <path d=\"M 0 0 \r\nL 0 3.5 \r\n\" id=\"m5a7744e4ff\" style=\"stroke:#000000;stroke-width:0.8;\"/>\r\n      </defs>\r\n      <g>\r\n       <use style=\"stroke:#000000;stroke-width:0.8;\" x=\"48.505586\" xlink:href=\"#m5a7744e4ff\" y=\"224.64\"/>\r\n      </g>\r\n     </g>\r\n     <g id=\"text_1\">\r\n      <!-- 0 -->\r\n      <g transform=\"translate(45.324336 239.238437)scale(0.1 -0.1)\">\r\n       <defs>\r\n        <path d=\"M 2034 4250 \r\nQ 1547 4250 1301 3770 \r\nQ 1056 3291 1056 2328 \r\nQ 1056 1369 1301 889 \r\nQ 1547 409 2034 409 \r\nQ 2525 409 2770 889 \r\nQ 3016 1369 3016 2328 \r\nQ 3016 3291 2770 3770 \r\nQ 2525 4250 2034 4250 \r\nz\r\nM 2034 4750 \r\nQ 2819 4750 3233 4129 \r\nQ 3647 3509 3647 2328 \r\nQ 3647 1150 3233 529 \r\nQ 2819 -91 2034 -91 \r\nQ 1250 -91 836 529 \r\nQ 422 1150 422 2328 \r\nQ 422 3509 836 4129 \r\nQ 1250 4750 2034 4750 \r\nz\r\n\" id=\"DejaVuSans-30\" transform=\"scale(0.015625)\"/>\r\n       </defs>\r\n       <use xlink:href=\"#DejaVuSans-30\"/>\r\n      </g>\r\n     </g>\r\n    </g>\r\n    <g id=\"xtick_2\">\r\n     <g id=\"line2d_2\">\r\n      <g>\r\n       <use style=\"stroke:#000000;stroke-width:0.8;\" x=\"92.615876\" xlink:href=\"#m5a7744e4ff\" y=\"224.64\"/>\r\n      </g>\r\n     </g>\r\n     <g id=\"text_2\">\r\n      <!-- 2000 -->\r\n      <g transform=\"translate(79.890876 239.238437)scale(0.1 -0.1)\">\r\n       <defs>\r\n        <path d=\"M 1228 531 \r\nL 3431 531 \r\nL 3431 0 \r\nL 469 0 \r\nL 469 531 \r\nQ 828 903 1448 1529 \r\nQ 2069 2156 2228 2338 \r\nQ 2531 2678 2651 2914 \r\nQ 2772 3150 2772 3378 \r\nQ 2772 3750 2511 3984 \r\nQ 2250 4219 1831 4219 \r\nQ 1534 4219 1204 4116 \r\nQ 875 4013 500 3803 \r\nL 500 4441 \r\nQ 881 4594 1212 4672 \r\nQ 1544 4750 1819 4750 \r\nQ 2544 4750 2975 4387 \r\nQ 3406 4025 3406 3419 \r\nQ 3406 3131 3298 2873 \r\nQ 3191 2616 2906 2266 \r\nQ 2828 2175 2409 1742 \r\nQ 1991 1309 1228 531 \r\nz\r\n\" id=\"DejaVuSans-32\" transform=\"scale(0.015625)\"/>\r\n       </defs>\r\n       <use xlink:href=\"#DejaVuSans-32\"/>\r\n       <use x=\"63.623047\" xlink:href=\"#DejaVuSans-30\"/>\r\n       <use x=\"127.246094\" xlink:href=\"#DejaVuSans-30\"/>\r\n       <use x=\"190.869141\" xlink:href=\"#DejaVuSans-30\"/>\r\n      </g>\r\n     </g>\r\n    </g>\r\n    <g id=\"xtick_3\">\r\n     <g id=\"line2d_3\">\r\n      <g>\r\n       <use style=\"stroke:#000000;stroke-width:0.8;\" x=\"136.726165\" xlink:href=\"#m5a7744e4ff\" y=\"224.64\"/>\r\n      </g>\r\n     </g>\r\n     <g id=\"text_3\">\r\n      <!-- 4000 -->\r\n      <g transform=\"translate(124.001165 239.238437)scale(0.1 -0.1)\">\r\n       <defs>\r\n        <path d=\"M 2419 4116 \r\nL 825 1625 \r\nL 2419 1625 \r\nL 2419 4116 \r\nz\r\nM 2253 4666 \r\nL 3047 4666 \r\nL 3047 1625 \r\nL 3713 1625 \r\nL 3713 1100 \r\nL 3047 1100 \r\nL 3047 0 \r\nL 2419 0 \r\nL 2419 1100 \r\nL 313 1100 \r\nL 313 1709 \r\nL 2253 4666 \r\nz\r\n\" id=\"DejaVuSans-34\" transform=\"scale(0.015625)\"/>\r\n       </defs>\r\n       <use xlink:href=\"#DejaVuSans-34\"/>\r\n       <use x=\"63.623047\" xlink:href=\"#DejaVuSans-30\"/>\r\n       <use x=\"127.246094\" xlink:href=\"#DejaVuSans-30\"/>\r\n       <use x=\"190.869141\" xlink:href=\"#DejaVuSans-30\"/>\r\n      </g>\r\n     </g>\r\n    </g>\r\n    <g id=\"xtick_4\">\r\n     <g id=\"line2d_4\">\r\n      <g>\r\n       <use style=\"stroke:#000000;stroke-width:0.8;\" x=\"180.836454\" xlink:href=\"#m5a7744e4ff\" y=\"224.64\"/>\r\n      </g>\r\n     </g>\r\n     <g id=\"text_4\">\r\n      <!-- 6000 -->\r\n      <g transform=\"translate(168.111454 239.238437)scale(0.1 -0.1)\">\r\n       <defs>\r\n        <path d=\"M 2113 2584 \r\nQ 1688 2584 1439 2293 \r\nQ 1191 2003 1191 1497 \r\nQ 1191 994 1439 701 \r\nQ 1688 409 2113 409 \r\nQ 2538 409 2786 701 \r\nQ 3034 994 3034 1497 \r\nQ 3034 2003 2786 2293 \r\nQ 2538 2584 2113 2584 \r\nz\r\nM 3366 4563 \r\nL 3366 3988 \r\nQ 3128 4100 2886 4159 \r\nQ 2644 4219 2406 4219 \r\nQ 1781 4219 1451 3797 \r\nQ 1122 3375 1075 2522 \r\nQ 1259 2794 1537 2939 \r\nQ 1816 3084 2150 3084 \r\nQ 2853 3084 3261 2657 \r\nQ 3669 2231 3669 1497 \r\nQ 3669 778 3244 343 \r\nQ 2819 -91 2113 -91 \r\nQ 1303 -91 875 529 \r\nQ 447 1150 447 2328 \r\nQ 447 3434 972 4092 \r\nQ 1497 4750 2381 4750 \r\nQ 2619 4750 2861 4703 \r\nQ 3103 4656 3366 4563 \r\nz\r\n\" id=\"DejaVuSans-36\" transform=\"scale(0.015625)\"/>\r\n       </defs>\r\n       <use xlink:href=\"#DejaVuSans-36\"/>\r\n       <use x=\"63.623047\" xlink:href=\"#DejaVuSans-30\"/>\r\n       <use x=\"127.246094\" xlink:href=\"#DejaVuSans-30\"/>\r\n       <use x=\"190.869141\" xlink:href=\"#DejaVuSans-30\"/>\r\n      </g>\r\n     </g>\r\n    </g>\r\n    <g id=\"xtick_5\">\r\n     <g id=\"line2d_5\">\r\n      <g>\r\n       <use style=\"stroke:#000000;stroke-width:0.8;\" x=\"224.946743\" xlink:href=\"#m5a7744e4ff\" y=\"224.64\"/>\r\n      </g>\r\n     </g>\r\n     <g id=\"text_5\">\r\n      <!-- 8000 -->\r\n      <g transform=\"translate(212.221743 239.238437)scale(0.1 -0.1)\">\r\n       <defs>\r\n        <path d=\"M 2034 2216 \r\nQ 1584 2216 1326 1975 \r\nQ 1069 1734 1069 1313 \r\nQ 1069 891 1326 650 \r\nQ 1584 409 2034 409 \r\nQ 2484 409 2743 651 \r\nQ 3003 894 3003 1313 \r\nQ 3003 1734 2745 1975 \r\nQ 2488 2216 2034 2216 \r\nz\r\nM 1403 2484 \r\nQ 997 2584 770 2862 \r\nQ 544 3141 544 3541 \r\nQ 544 4100 942 4425 \r\nQ 1341 4750 2034 4750 \r\nQ 2731 4750 3128 4425 \r\nQ 3525 4100 3525 3541 \r\nQ 3525 3141 3298 2862 \r\nQ 3072 2584 2669 2484 \r\nQ 3125 2378 3379 2068 \r\nQ 3634 1759 3634 1313 \r\nQ 3634 634 3220 271 \r\nQ 2806 -91 2034 -91 \r\nQ 1263 -91 848 271 \r\nQ 434 634 434 1313 \r\nQ 434 1759 690 2068 \r\nQ 947 2378 1403 2484 \r\nz\r\nM 1172 3481 \r\nQ 1172 3119 1398 2916 \r\nQ 1625 2713 2034 2713 \r\nQ 2441 2713 2670 2916 \r\nQ 2900 3119 2900 3481 \r\nQ 2900 3844 2670 4047 \r\nQ 2441 4250 2034 4250 \r\nQ 1625 4250 1398 4047 \r\nQ 1172 3844 1172 3481 \r\nz\r\n\" id=\"DejaVuSans-38\" transform=\"scale(0.015625)\"/>\r\n       </defs>\r\n       <use xlink:href=\"#DejaVuSans-38\"/>\r\n       <use x=\"63.623047\" xlink:href=\"#DejaVuSans-30\"/>\r\n       <use x=\"127.246094\" xlink:href=\"#DejaVuSans-30\"/>\r\n       <use x=\"190.869141\" xlink:href=\"#DejaVuSans-30\"/>\r\n      </g>\r\n     </g>\r\n    </g>\r\n    <g id=\"xtick_6\">\r\n     <g id=\"line2d_6\">\r\n      <g>\r\n       <use style=\"stroke:#000000;stroke-width:0.8;\" x=\"269.057033\" xlink:href=\"#m5a7744e4ff\" y=\"224.64\"/>\r\n      </g>\r\n     </g>\r\n     <g id=\"text_6\">\r\n      <!-- 10000 -->\r\n      <g transform=\"translate(253.150783 239.238437)scale(0.1 -0.1)\">\r\n       <defs>\r\n        <path d=\"M 794 531 \r\nL 1825 531 \r\nL 1825 4091 \r\nL 703 3866 \r\nL 703 4441 \r\nL 1819 4666 \r\nL 2450 4666 \r\nL 2450 531 \r\nL 3481 531 \r\nL 3481 0 \r\nL 794 0 \r\nL 794 531 \r\nz\r\n\" id=\"DejaVuSans-31\" transform=\"scale(0.015625)\"/>\r\n       </defs>\r\n       <use xlink:href=\"#DejaVuSans-31\"/>\r\n       <use x=\"63.623047\" xlink:href=\"#DejaVuSans-30\"/>\r\n       <use x=\"127.246094\" xlink:href=\"#DejaVuSans-30\"/>\r\n       <use x=\"190.869141\" xlink:href=\"#DejaVuSans-30\"/>\r\n       <use x=\"254.492188\" xlink:href=\"#DejaVuSans-30\"/>\r\n      </g>\r\n     </g>\r\n    </g>\r\n    <g id=\"xtick_7\">\r\n     <g id=\"line2d_7\">\r\n      <g>\r\n       <use style=\"stroke:#000000;stroke-width:0.8;\" x=\"313.167322\" xlink:href=\"#m5a7744e4ff\" y=\"224.64\"/>\r\n      </g>\r\n     </g>\r\n     <g id=\"text_7\">\r\n      <!-- 12000 -->\r\n      <g transform=\"translate(297.261072 239.238437)scale(0.1 -0.1)\">\r\n       <use xlink:href=\"#DejaVuSans-31\"/>\r\n       <use x=\"63.623047\" xlink:href=\"#DejaVuSans-32\"/>\r\n       <use x=\"127.246094\" xlink:href=\"#DejaVuSans-30\"/>\r\n       <use x=\"190.869141\" xlink:href=\"#DejaVuSans-30\"/>\r\n       <use x=\"254.492188\" xlink:href=\"#DejaVuSans-30\"/>\r\n      </g>\r\n     </g>\r\n    </g>\r\n    <g id=\"xtick_8\">\r\n     <g id=\"line2d_8\">\r\n      <g>\r\n       <use style=\"stroke:#000000;stroke-width:0.8;\" x=\"357.277611\" xlink:href=\"#m5a7744e4ff\" y=\"224.64\"/>\r\n      </g>\r\n     </g>\r\n     <g id=\"text_8\">\r\n      <!-- 14000 -->\r\n      <g transform=\"translate(341.371361 239.238437)scale(0.1 -0.1)\">\r\n       <use xlink:href=\"#DejaVuSans-31\"/>\r\n       <use x=\"63.623047\" xlink:href=\"#DejaVuSans-34\"/>\r\n       <use x=\"127.246094\" xlink:href=\"#DejaVuSans-30\"/>\r\n       <use x=\"190.869141\" xlink:href=\"#DejaVuSans-30\"/>\r\n       <use x=\"254.492188\" xlink:href=\"#DejaVuSans-30\"/>\r\n      </g>\r\n     </g>\r\n    </g>\r\n   </g>\r\n   <g id=\"matplotlib.axis_2\">\r\n    <g id=\"ytick_1\">\r\n     <g id=\"line2d_9\">\r\n      <defs>\r\n       <path d=\"M 0 0 \r\nL -3.5 0 \r\n\" id=\"mdf3589852b\" style=\"stroke:#000000;stroke-width:0.8;\"/>\r\n      </defs>\r\n      <g>\r\n       <use style=\"stroke:#000000;stroke-width:0.8;\" x=\"33.2875\" xlink:href=\"#mdf3589852b\" y=\"224.64\"/>\r\n      </g>\r\n     </g>\r\n     <g id=\"text_9\">\r\n      <!-- 0 -->\r\n      <g transform=\"translate(19.925 228.439219)scale(0.1 -0.1)\">\r\n       <use xlink:href=\"#DejaVuSans-30\"/>\r\n      </g>\r\n     </g>\r\n    </g>\r\n    <g id=\"ytick_2\">\r\n     <g id=\"line2d_10\">\r\n      <g>\r\n       <use style=\"stroke:#000000;stroke-width:0.8;\" x=\"33.2875\" xlink:href=\"#mdf3589852b\" y=\"191.239078\"/>\r\n      </g>\r\n     </g>\r\n     <g id=\"text_10\">\r\n      <!-- 20 -->\r\n      <g transform=\"translate(13.5625 195.038297)scale(0.1 -0.1)\">\r\n       <use xlink:href=\"#DejaVuSans-32\"/>\r\n       <use x=\"63.623047\" xlink:href=\"#DejaVuSans-30\"/>\r\n      </g>\r\n     </g>\r\n    </g>\r\n    <g id=\"ytick_3\">\r\n     <g id=\"line2d_11\">\r\n      <g>\r\n       <use style=\"stroke:#000000;stroke-width:0.8;\" x=\"33.2875\" xlink:href=\"#mdf3589852b\" y=\"157.838157\"/>\r\n      </g>\r\n     </g>\r\n     <g id=\"text_11\">\r\n      <!-- 40 -->\r\n      <g transform=\"translate(13.5625 161.637375)scale(0.1 -0.1)\">\r\n       <use xlink:href=\"#DejaVuSans-34\"/>\r\n       <use x=\"63.623047\" xlink:href=\"#DejaVuSans-30\"/>\r\n      </g>\r\n     </g>\r\n    </g>\r\n    <g id=\"ytick_4\">\r\n     <g id=\"line2d_12\">\r\n      <g>\r\n       <use style=\"stroke:#000000;stroke-width:0.8;\" x=\"33.2875\" xlink:href=\"#mdf3589852b\" y=\"124.437235\"/>\r\n      </g>\r\n     </g>\r\n     <g id=\"text_12\">\r\n      <!-- 60 -->\r\n      <g transform=\"translate(13.5625 128.236454)scale(0.1 -0.1)\">\r\n       <use xlink:href=\"#DejaVuSans-36\"/>\r\n       <use x=\"63.623047\" xlink:href=\"#DejaVuSans-30\"/>\r\n      </g>\r\n     </g>\r\n    </g>\r\n    <g id=\"ytick_5\">\r\n     <g id=\"line2d_13\">\r\n      <g>\r\n       <use style=\"stroke:#000000;stroke-width:0.8;\" x=\"33.2875\" xlink:href=\"#mdf3589852b\" y=\"91.036313\"/>\r\n      </g>\r\n     </g>\r\n     <g id=\"text_13\">\r\n      <!-- 80 -->\r\n      <g transform=\"translate(13.5625 94.835532)scale(0.1 -0.1)\">\r\n       <use xlink:href=\"#DejaVuSans-38\"/>\r\n       <use x=\"63.623047\" xlink:href=\"#DejaVuSans-30\"/>\r\n      </g>\r\n     </g>\r\n    </g>\r\n    <g id=\"ytick_6\">\r\n     <g id=\"line2d_14\">\r\n      <g>\r\n       <use style=\"stroke:#000000;stroke-width:0.8;\" x=\"33.2875\" xlink:href=\"#mdf3589852b\" y=\"57.635392\"/>\r\n      </g>\r\n     </g>\r\n     <g id=\"text_14\">\r\n      <!-- 100 -->\r\n      <g transform=\"translate(7.2 61.43461)scale(0.1 -0.1)\">\r\n       <use xlink:href=\"#DejaVuSans-31\"/>\r\n       <use x=\"63.623047\" xlink:href=\"#DejaVuSans-30\"/>\r\n       <use x=\"127.246094\" xlink:href=\"#DejaVuSans-30\"/>\r\n      </g>\r\n     </g>\r\n    </g>\r\n    <g id=\"ytick_7\">\r\n     <g id=\"line2d_15\">\r\n      <g>\r\n       <use style=\"stroke:#000000;stroke-width:0.8;\" x=\"33.2875\" xlink:href=\"#mdf3589852b\" y=\"24.23447\"/>\r\n      </g>\r\n     </g>\r\n     <g id=\"text_15\">\r\n      <!-- 120 -->\r\n      <g transform=\"translate(7.2 28.033689)scale(0.1 -0.1)\">\r\n       <use xlink:href=\"#DejaVuSans-31\"/>\r\n       <use x=\"63.623047\" xlink:href=\"#DejaVuSans-32\"/>\r\n       <use x=\"127.246094\" xlink:href=\"#DejaVuSans-30\"/>\r\n      </g>\r\n     </g>\r\n    </g>\r\n   </g>\r\n   <g id=\"patch_53\">\r\n    <path d=\"M 33.2875 224.64 \r\nL 33.2875 7.2 \r\n\" style=\"fill:none;stroke:#000000;stroke-linecap:square;stroke-linejoin:miter;stroke-width:0.8;\"/>\r\n   </g>\r\n   <g id=\"patch_54\">\r\n    <path d=\"M 368.0875 224.64 \r\nL 368.0875 7.2 \r\n\" style=\"fill:none;stroke:#000000;stroke-linecap:square;stroke-linejoin:miter;stroke-width:0.8;\"/>\r\n   </g>\r\n   <g id=\"patch_55\">\r\n    <path d=\"M 33.2875 224.64 \r\nL 368.0875 224.64 \r\n\" style=\"fill:none;stroke:#000000;stroke-linecap:square;stroke-linejoin:miter;stroke-width:0.8;\"/>\r\n   </g>\r\n   <g id=\"patch_56\">\r\n    <path d=\"M 33.2875 7.2 \r\nL 368.0875 7.2 \r\n\" style=\"fill:none;stroke:#000000;stroke-linecap:square;stroke-linejoin:miter;stroke-width:0.8;\"/>\r\n   </g>\r\n   <g id=\"legend_1\">\r\n    <g id=\"patch_57\">\r\n     <path d=\"M 284.717188 88.590625 \r\nL 361.0875 88.590625 \r\nQ 363.0875 88.590625 363.0875 86.590625 \r\nL 363.0875 14.2 \r\nQ 363.0875 12.2 361.0875 12.2 \r\nL 284.717188 12.2 \r\nQ 282.717188 12.2 282.717188 14.2 \r\nL 282.717188 86.590625 \r\nQ 282.717188 88.590625 284.717188 88.590625 \r\nz\r\n\" style=\"fill:#ffffff;opacity:0.8;stroke:#cccccc;stroke-linejoin:miter;\"/>\r\n    </g>\r\n    <g id=\"patch_58\">\r\n     <path d=\"M 286.717188 23.798437 \r\nL 306.717188 23.798437 \r\nL 306.717188 16.798437 \r\nL 286.717188 16.798437 \r\nz\r\n\" style=\"fill:#1f77b4;\"/>\r\n    </g>\r\n    <g id=\"text_16\">\r\n     <!-- approx -->\r\n     <g transform=\"translate(314.717188 23.798437)scale(0.1 -0.1)\">\r\n      <defs>\r\n       <path d=\"M 2194 1759 \r\nQ 1497 1759 1228 1600 \r\nQ 959 1441 959 1056 \r\nQ 959 750 1161 570 \r\nQ 1363 391 1709 391 \r\nQ 2188 391 2477 730 \r\nQ 2766 1069 2766 1631 \r\nL 2766 1759 \r\nL 2194 1759 \r\nz\r\nM 3341 1997 \r\nL 3341 0 \r\nL 2766 0 \r\nL 2766 531 \r\nQ 2569 213 2275 61 \r\nQ 1981 -91 1556 -91 \r\nQ 1019 -91 701 211 \r\nQ 384 513 384 1019 \r\nQ 384 1609 779 1909 \r\nQ 1175 2209 1959 2209 \r\nL 2766 2209 \r\nL 2766 2266 \r\nQ 2766 2663 2505 2880 \r\nQ 2244 3097 1772 3097 \r\nQ 1472 3097 1187 3025 \r\nQ 903 2953 641 2809 \r\nL 641 3341 \r\nQ 956 3463 1253 3523 \r\nQ 1550 3584 1831 3584 \r\nQ 2591 3584 2966 3190 \r\nQ 3341 2797 3341 1997 \r\nz\r\n\" id=\"DejaVuSans-61\" transform=\"scale(0.015625)\"/>\r\n       <path d=\"M 1159 525 \r\nL 1159 -1331 \r\nL 581 -1331 \r\nL 581 3500 \r\nL 1159 3500 \r\nL 1159 2969 \r\nQ 1341 3281 1617 3432 \r\nQ 1894 3584 2278 3584 \r\nQ 2916 3584 3314 3078 \r\nQ 3713 2572 3713 1747 \r\nQ 3713 922 3314 415 \r\nQ 2916 -91 2278 -91 \r\nQ 1894 -91 1617 61 \r\nQ 1341 213 1159 525 \r\nz\r\nM 3116 1747 \r\nQ 3116 2381 2855 2742 \r\nQ 2594 3103 2138 3103 \r\nQ 1681 3103 1420 2742 \r\nQ 1159 2381 1159 1747 \r\nQ 1159 1113 1420 752 \r\nQ 1681 391 2138 391 \r\nQ 2594 391 2855 752 \r\nQ 3116 1113 3116 1747 \r\nz\r\n\" id=\"DejaVuSans-70\" transform=\"scale(0.015625)\"/>\r\n       <path d=\"M 2631 2963 \r\nQ 2534 3019 2420 3045 \r\nQ 2306 3072 2169 3072 \r\nQ 1681 3072 1420 2755 \r\nQ 1159 2438 1159 1844 \r\nL 1159 0 \r\nL 581 0 \r\nL 581 3500 \r\nL 1159 3500 \r\nL 1159 2956 \r\nQ 1341 3275 1631 3429 \r\nQ 1922 3584 2338 3584 \r\nQ 2397 3584 2469 3576 \r\nQ 2541 3569 2628 3553 \r\nL 2631 2963 \r\nz\r\n\" id=\"DejaVuSans-72\" transform=\"scale(0.015625)\"/>\r\n       <path d=\"M 1959 3097 \r\nQ 1497 3097 1228 2736 \r\nQ 959 2375 959 1747 \r\nQ 959 1119 1226 758 \r\nQ 1494 397 1959 397 \r\nQ 2419 397 2687 759 \r\nQ 2956 1122 2956 1747 \r\nQ 2956 2369 2687 2733 \r\nQ 2419 3097 1959 3097 \r\nz\r\nM 1959 3584 \r\nQ 2709 3584 3137 3096 \r\nQ 3566 2609 3566 1747 \r\nQ 3566 888 3137 398 \r\nQ 2709 -91 1959 -91 \r\nQ 1206 -91 779 398 \r\nQ 353 888 353 1747 \r\nQ 353 2609 779 3096 \r\nQ 1206 3584 1959 3584 \r\nz\r\n\" id=\"DejaVuSans-6f\" transform=\"scale(0.015625)\"/>\r\n       <path d=\"M 3513 3500 \r\nL 2247 1797 \r\nL 3578 0 \r\nL 2900 0 \r\nL 1881 1375 \r\nL 863 0 \r\nL 184 0 \r\nL 1544 1831 \r\nL 300 3500 \r\nL 978 3500 \r\nL 1906 2253 \r\nL 2834 3500 \r\nL 3513 3500 \r\nz\r\n\" id=\"DejaVuSans-78\" transform=\"scale(0.015625)\"/>\r\n      </defs>\r\n      <use xlink:href=\"#DejaVuSans-61\"/>\r\n      <use x=\"61.279297\" xlink:href=\"#DejaVuSans-70\"/>\r\n      <use x=\"124.755859\" xlink:href=\"#DejaVuSans-70\"/>\r\n      <use x=\"188.232422\" xlink:href=\"#DejaVuSans-72\"/>\r\n      <use x=\"227.095703\" xlink:href=\"#DejaVuSans-6f\"/>\r\n      <use x=\"285.152344\" xlink:href=\"#DejaVuSans-78\"/>\r\n     </g>\r\n    </g>\r\n    <g id=\"patch_59\">\r\n     <path d=\"M 286.717188 38.476562 \r\nL 306.717188 38.476562 \r\nL 306.717188 31.476562 \r\nL 286.717188 31.476562 \r\nz\r\n\" style=\"fill:#ff7f0e;\"/>\r\n    </g>\r\n    <g id=\"text_17\">\r\n     <!-- lsoda -->\r\n     <g transform=\"translate(314.717188 38.476562)scale(0.1 -0.1)\">\r\n      <defs>\r\n       <path d=\"M 603 4863 \r\nL 1178 4863 \r\nL 1178 0 \r\nL 603 0 \r\nL 603 4863 \r\nz\r\n\" id=\"DejaVuSans-6c\" transform=\"scale(0.015625)\"/>\r\n       <path d=\"M 2834 3397 \r\nL 2834 2853 \r\nQ 2591 2978 2328 3040 \r\nQ 2066 3103 1784 3103 \r\nQ 1356 3103 1142 2972 \r\nQ 928 2841 928 2578 \r\nQ 928 2378 1081 2264 \r\nQ 1234 2150 1697 2047 \r\nL 1894 2003 \r\nQ 2506 1872 2764 1633 \r\nQ 3022 1394 3022 966 \r\nQ 3022 478 2636 193 \r\nQ 2250 -91 1575 -91 \r\nQ 1294 -91 989 -36 \r\nQ 684 19 347 128 \r\nL 347 722 \r\nQ 666 556 975 473 \r\nQ 1284 391 1588 391 \r\nQ 1994 391 2212 530 \r\nQ 2431 669 2431 922 \r\nQ 2431 1156 2273 1281 \r\nQ 2116 1406 1581 1522 \r\nL 1381 1569 \r\nQ 847 1681 609 1914 \r\nQ 372 2147 372 2553 \r\nQ 372 3047 722 3315 \r\nQ 1072 3584 1716 3584 \r\nQ 2034 3584 2315 3537 \r\nQ 2597 3491 2834 3397 \r\nz\r\n\" id=\"DejaVuSans-73\" transform=\"scale(0.015625)\"/>\r\n       <path d=\"M 2906 2969 \r\nL 2906 4863 \r\nL 3481 4863 \r\nL 3481 0 \r\nL 2906 0 \r\nL 2906 525 \r\nQ 2725 213 2448 61 \r\nQ 2172 -91 1784 -91 \r\nQ 1150 -91 751 415 \r\nQ 353 922 353 1747 \r\nQ 353 2572 751 3078 \r\nQ 1150 3584 1784 3584 \r\nQ 2172 3584 2448 3432 \r\nQ 2725 3281 2906 2969 \r\nz\r\nM 947 1747 \r\nQ 947 1113 1208 752 \r\nQ 1469 391 1925 391 \r\nQ 2381 391 2643 752 \r\nQ 2906 1113 2906 1747 \r\nQ 2906 2381 2643 2742 \r\nQ 2381 3103 1925 3103 \r\nQ 1469 3103 1208 2742 \r\nQ 947 2381 947 1747 \r\nz\r\n\" id=\"DejaVuSans-64\" transform=\"scale(0.015625)\"/>\r\n      </defs>\r\n      <use xlink:href=\"#DejaVuSans-6c\"/>\r\n      <use x=\"27.783203\" xlink:href=\"#DejaVuSans-73\"/>\r\n      <use x=\"79.882812\" xlink:href=\"#DejaVuSans-6f\"/>\r\n      <use x=\"141.064453\" xlink:href=\"#DejaVuSans-64\"/>\r\n      <use x=\"204.541016\" xlink:href=\"#DejaVuSans-61\"/>\r\n     </g>\r\n    </g>\r\n    <g id=\"patch_60\">\r\n     <path d=\"M 286.717188 53.154687 \r\nL 306.717188 53.154687 \r\nL 306.717188 46.154687 \r\nL 286.717188 46.154687 \r\nz\r\n\" style=\"fill:#2ca02c;\"/>\r\n    </g>\r\n    <g id=\"text_18\">\r\n     <!-- Euler -->\r\n     <g transform=\"translate(314.717188 53.154687)scale(0.1 -0.1)\">\r\n      <defs>\r\n       <path d=\"M 628 4666 \r\nL 3578 4666 \r\nL 3578 4134 \r\nL 1259 4134 \r\nL 1259 2753 \r\nL 3481 2753 \r\nL 3481 2222 \r\nL 1259 2222 \r\nL 1259 531 \r\nL 3634 531 \r\nL 3634 0 \r\nL 628 0 \r\nL 628 4666 \r\nz\r\n\" id=\"DejaVuSans-45\" transform=\"scale(0.015625)\"/>\r\n       <path d=\"M 544 1381 \r\nL 544 3500 \r\nL 1119 3500 \r\nL 1119 1403 \r\nQ 1119 906 1312 657 \r\nQ 1506 409 1894 409 \r\nQ 2359 409 2629 706 \r\nQ 2900 1003 2900 1516 \r\nL 2900 3500 \r\nL 3475 3500 \r\nL 3475 0 \r\nL 2900 0 \r\nL 2900 538 \r\nQ 2691 219 2414 64 \r\nQ 2138 -91 1772 -91 \r\nQ 1169 -91 856 284 \r\nQ 544 659 544 1381 \r\nz\r\nM 1991 3584 \r\nL 1991 3584 \r\nz\r\n\" id=\"DejaVuSans-75\" transform=\"scale(0.015625)\"/>\r\n       <path d=\"M 3597 1894 \r\nL 3597 1613 \r\nL 953 1613 \r\nQ 991 1019 1311 708 \r\nQ 1631 397 2203 397 \r\nQ 2534 397 2845 478 \r\nQ 3156 559 3463 722 \r\nL 3463 178 \r\nQ 3153 47 2828 -22 \r\nQ 2503 -91 2169 -91 \r\nQ 1331 -91 842 396 \r\nQ 353 884 353 1716 \r\nQ 353 2575 817 3079 \r\nQ 1281 3584 2069 3584 \r\nQ 2775 3584 3186 3129 \r\nQ 3597 2675 3597 1894 \r\nz\r\nM 3022 2063 \r\nQ 3016 2534 2758 2815 \r\nQ 2500 3097 2075 3097 \r\nQ 1594 3097 1305 2825 \r\nQ 1016 2553 972 2059 \r\nL 3022 2063 \r\nz\r\n\" id=\"DejaVuSans-65\" transform=\"scale(0.015625)\"/>\r\n      </defs>\r\n      <use xlink:href=\"#DejaVuSans-45\"/>\r\n      <use x=\"63.183594\" xlink:href=\"#DejaVuSans-75\"/>\r\n      <use x=\"126.5625\" xlink:href=\"#DejaVuSans-6c\"/>\r\n      <use x=\"154.345703\" xlink:href=\"#DejaVuSans-65\"/>\r\n      <use x=\"215.869141\" xlink:href=\"#DejaVuSans-72\"/>\r\n     </g>\r\n    </g>\r\n    <g id=\"patch_61\">\r\n     <path d=\"M 286.717188 67.832812 \r\nL 306.717188 67.832812 \r\nL 306.717188 60.832812 \r\nL 286.717188 60.832812 \r\nz\r\n\" style=\"fill:#d62728;\"/>\r\n    </g>\r\n    <g id=\"text_19\">\r\n     <!-- midpoint -->\r\n     <g transform=\"translate(314.717188 67.832812)scale(0.1 -0.1)\">\r\n      <defs>\r\n       <path d=\"M 3328 2828 \r\nQ 3544 3216 3844 3400 \r\nQ 4144 3584 4550 3584 \r\nQ 5097 3584 5394 3201 \r\nQ 5691 2819 5691 2113 \r\nL 5691 0 \r\nL 5113 0 \r\nL 5113 2094 \r\nQ 5113 2597 4934 2840 \r\nQ 4756 3084 4391 3084 \r\nQ 3944 3084 3684 2787 \r\nQ 3425 2491 3425 1978 \r\nL 3425 0 \r\nL 2847 0 \r\nL 2847 2094 \r\nQ 2847 2600 2669 2842 \r\nQ 2491 3084 2119 3084 \r\nQ 1678 3084 1418 2786 \r\nQ 1159 2488 1159 1978 \r\nL 1159 0 \r\nL 581 0 \r\nL 581 3500 \r\nL 1159 3500 \r\nL 1159 2956 \r\nQ 1356 3278 1631 3431 \r\nQ 1906 3584 2284 3584 \r\nQ 2666 3584 2933 3390 \r\nQ 3200 3197 3328 2828 \r\nz\r\n\" id=\"DejaVuSans-6d\" transform=\"scale(0.015625)\"/>\r\n       <path d=\"M 603 3500 \r\nL 1178 3500 \r\nL 1178 0 \r\nL 603 0 \r\nL 603 3500 \r\nz\r\nM 603 4863 \r\nL 1178 4863 \r\nL 1178 4134 \r\nL 603 4134 \r\nL 603 4863 \r\nz\r\n\" id=\"DejaVuSans-69\" transform=\"scale(0.015625)\"/>\r\n       <path d=\"M 3513 2113 \r\nL 3513 0 \r\nL 2938 0 \r\nL 2938 2094 \r\nQ 2938 2591 2744 2837 \r\nQ 2550 3084 2163 3084 \r\nQ 1697 3084 1428 2787 \r\nQ 1159 2491 1159 1978 \r\nL 1159 0 \r\nL 581 0 \r\nL 581 3500 \r\nL 1159 3500 \r\nL 1159 2956 \r\nQ 1366 3272 1645 3428 \r\nQ 1925 3584 2291 3584 \r\nQ 2894 3584 3203 3211 \r\nQ 3513 2838 3513 2113 \r\nz\r\n\" id=\"DejaVuSans-6e\" transform=\"scale(0.015625)\"/>\r\n       <path d=\"M 1172 4494 \r\nL 1172 3500 \r\nL 2356 3500 \r\nL 2356 3053 \r\nL 1172 3053 \r\nL 1172 1153 \r\nQ 1172 725 1289 603 \r\nQ 1406 481 1766 481 \r\nL 2356 481 \r\nL 2356 0 \r\nL 1766 0 \r\nQ 1100 0 847 248 \r\nQ 594 497 594 1153 \r\nL 594 3053 \r\nL 172 3053 \r\nL 172 3500 \r\nL 594 3500 \r\nL 594 4494 \r\nL 1172 4494 \r\nz\r\n\" id=\"DejaVuSans-74\" transform=\"scale(0.015625)\"/>\r\n      </defs>\r\n      <use xlink:href=\"#DejaVuSans-6d\"/>\r\n      <use x=\"97.412109\" xlink:href=\"#DejaVuSans-69\"/>\r\n      <use x=\"125.195312\" xlink:href=\"#DejaVuSans-64\"/>\r\n      <use x=\"188.671875\" xlink:href=\"#DejaVuSans-70\"/>\r\n      <use x=\"252.148438\" xlink:href=\"#DejaVuSans-6f\"/>\r\n      <use x=\"313.330078\" xlink:href=\"#DejaVuSans-69\"/>\r\n      <use x=\"341.113281\" xlink:href=\"#DejaVuSans-6e\"/>\r\n      <use x=\"404.492188\" xlink:href=\"#DejaVuSans-74\"/>\r\n     </g>\r\n    </g>\r\n    <g id=\"patch_62\">\r\n     <path d=\"M 286.717188 82.510937 \r\nL 306.717188 82.510937 \r\nL 306.717188 75.510937 \r\nL 286.717188 75.510937 \r\nz\r\n\" style=\"fill:#9467bd;\"/>\r\n    </g>\r\n    <g id=\"text_20\">\r\n     <!-- RK4 -->\r\n     <g transform=\"translate(314.717188 82.510937)scale(0.1 -0.1)\">\r\n      <defs>\r\n       <path d=\"M 2841 2188 \r\nQ 3044 2119 3236 1894 \r\nQ 3428 1669 3622 1275 \r\nL 4263 0 \r\nL 3584 0 \r\nL 2988 1197 \r\nQ 2756 1666 2539 1819 \r\nQ 2322 1972 1947 1972 \r\nL 1259 1972 \r\nL 1259 0 \r\nL 628 0 \r\nL 628 4666 \r\nL 2053 4666 \r\nQ 2853 4666 3247 4331 \r\nQ 3641 3997 3641 3322 \r\nQ 3641 2881 3436 2590 \r\nQ 3231 2300 2841 2188 \r\nz\r\nM 1259 4147 \r\nL 1259 2491 \r\nL 2053 2491 \r\nQ 2509 2491 2742 2702 \r\nQ 2975 2913 2975 3322 \r\nQ 2975 3731 2742 3939 \r\nQ 2509 4147 2053 4147 \r\nL 1259 4147 \r\nz\r\n\" id=\"DejaVuSans-52\" transform=\"scale(0.015625)\"/>\r\n       <path d=\"M 628 4666 \r\nL 1259 4666 \r\nL 1259 2694 \r\nL 3353 4666 \r\nL 4166 4666 \r\nL 1850 2491 \r\nL 4331 0 \r\nL 3500 0 \r\nL 1259 2247 \r\nL 1259 0 \r\nL 628 0 \r\nL 628 4666 \r\nz\r\n\" id=\"DejaVuSans-4b\" transform=\"scale(0.015625)\"/>\r\n      </defs>\r\n      <use xlink:href=\"#DejaVuSans-52\"/>\r\n      <use x=\"69.482422\" xlink:href=\"#DejaVuSans-4b\"/>\r\n      <use x=\"135.058594\" xlink:href=\"#DejaVuSans-34\"/>\r\n     </g>\r\n    </g>\r\n   </g>\r\n  </g>\r\n </g>\r\n <defs>\r\n  <clipPath id=\"p7b7f177604\">\r\n   <rect height=\"217.44\" width=\"334.8\" x=\"33.2875\" y=\"7.2\"/>\r\n  </clipPath>\r\n </defs>\r\n</svg>\r\n",
      "image/png": "[encoded data removed]"
     },
     "metadata": {
      "needs_background": "light"
     }
    }
   ],
   "source": [
    "mask = df.GWtime < 14e3\n",
    "plt.hist(df[mask].GWtime, label = \"approx\")\n",
    "plt.hist(df[mask].Merge_time, label = \"lsoda\")\n",
    "plt.hist(df_eu[mask].Merge_time_euler, label = \"Euler\")\n",
    "plt.hist(df_mid[mask].Merge_time_midpoint, label = \"midpoint\")\n",
    "plt.hist(df_rk[mask].Merge_time_rk4, label = \"RK4\");\n",
    "plt.legend(loc = \"best\");"
   ]
  },
  {
   "cell_type": "code",
   "execution_count": 54,
   "metadata": {},
   "outputs": [
    {
     "output_type": "display_data",
     "data": {
      "text/plain": "<Figure size 432x288 with 1 Axes>",
      "image/svg+xml": "<?xml version=\"1.0\" encoding=\"utf-8\" standalone=\"no\"?>\r\n<!DOCTYPE svg PUBLIC \"-//W3C//DTD SVG 1.1//EN\"\r\n  \"http://www.w3.org/Graphics/SVG/1.1/DTD/svg11.dtd\">\r\n<svg height=\"248.518125pt\" version=\"1.1\" viewBox=\"0 0 388.0125 248.518125\" width=\"388.0125pt\" xmlns=\"http://www.w3.org/2000/svg\" xmlns:xlink=\"http://www.w3.org/1999/xlink\">\r\n <metadata>\r\n  <rdf:RDF xmlns:cc=\"http://creativecommons.org/ns#\" xmlns:dc=\"http://purl.org/dc/elements/1.1/\" xmlns:rdf=\"http://www.w3.org/1999/02/22-rdf-syntax-ns#\">\r\n   <cc:Work>\r\n    <dc:type rdf:resource=\"http://purl.org/dc/dcmitype/StillImage\"/>\r\n    <dc:date>2021-05-31T11:08:53.629052</dc:date>\r\n    <dc:format>image/svg+xml</dc:format>\r\n    <dc:creator>\r\n     <cc:Agent>\r\n      <dc:title>Matplotlib v3.4.1, https://matplotlib.org/</dc:title>\r\n     </cc:Agent>\r\n    </dc:creator>\r\n   </cc:Work>\r\n  </rdf:RDF>\r\n </metadata>\r\n <defs>\r\n  <style type=\"text/css\">*{stroke-linecap:butt;stroke-linejoin:round;}</style>\r\n </defs>\r\n <g id=\"figure_1\">\r\n  <g id=\"patch_1\">\r\n   <path d=\"M 0 248.518125 \r\nL 388.0125 248.518125 \r\nL 388.0125 0 \r\nL 0 0 \r\nz\r\n\" style=\"fill:none;\"/>\r\n  </g>\r\n  <g id=\"axes_1\">\r\n   <g id=\"patch_2\">\r\n    <path d=\"M 46.0125 224.64 \r\nL 380.8125 224.64 \r\nL 380.8125 7.2 \r\nL 46.0125 7.2 \r\nz\r\n\" style=\"fill:#ffffff;\"/>\r\n   </g>\r\n   <g id=\"matplotlib.axis_1\">\r\n    <g id=\"xtick_1\">\r\n     <g id=\"line2d_1\">\r\n      <defs>\r\n       <path d=\"M 0 0 \r\nL 0 3.5 \r\n\" id=\"mf38a605d02\" style=\"stroke:#000000;stroke-width:0.8;\"/>\r\n      </defs>\r\n      <g>\r\n       <use style=\"stroke:#000000;stroke-width:0.8;\" x=\"58.029446\" xlink:href=\"#mf38a605d02\" y=\"224.64\"/>\r\n      </g>\r\n     </g>\r\n     <g id=\"text_1\">\r\n      <!-- 0 -->\r\n      <g transform=\"translate(54.848196 239.238437)scale(0.1 -0.1)\">\r\n       <defs>\r\n        <path d=\"M 2034 4250 \r\nQ 1547 4250 1301 3770 \r\nQ 1056 3291 1056 2328 \r\nQ 1056 1369 1301 889 \r\nQ 1547 409 2034 409 \r\nQ 2525 409 2770 889 \r\nQ 3016 1369 3016 2328 \r\nQ 3016 3291 2770 3770 \r\nQ 2525 4250 2034 4250 \r\nz\r\nM 2034 4750 \r\nQ 2819 4750 3233 4129 \r\nQ 3647 3509 3647 2328 \r\nQ 3647 1150 3233 529 \r\nQ 2819 -91 2034 -91 \r\nQ 1250 -91 836 529 \r\nQ 422 1150 422 2328 \r\nQ 422 3509 836 4129 \r\nQ 1250 4750 2034 4750 \r\nz\r\n\" id=\"DejaVuSans-30\" transform=\"scale(0.015625)\"/>\r\n       </defs>\r\n       <use xlink:href=\"#DejaVuSans-30\"/>\r\n      </g>\r\n     </g>\r\n    </g>\r\n    <g id=\"xtick_2\">\r\n     <g id=\"line2d_2\">\r\n      <g>\r\n       <use style=\"stroke:#000000;stroke-width:0.8;\" x=\"119.59167\" xlink:href=\"#mf38a605d02\" y=\"224.64\"/>\r\n      </g>\r\n     </g>\r\n     <g id=\"text_2\">\r\n      <!-- 500 -->\r\n      <g transform=\"translate(110.04792 239.238437)scale(0.1 -0.1)\">\r\n       <defs>\r\n        <path d=\"M 691 4666 \r\nL 3169 4666 \r\nL 3169 4134 \r\nL 1269 4134 \r\nL 1269 2991 \r\nQ 1406 3038 1543 3061 \r\nQ 1681 3084 1819 3084 \r\nQ 2600 3084 3056 2656 \r\nQ 3513 2228 3513 1497 \r\nQ 3513 744 3044 326 \r\nQ 2575 -91 1722 -91 \r\nQ 1428 -91 1123 -41 \r\nQ 819 9 494 109 \r\nL 494 744 \r\nQ 775 591 1075 516 \r\nQ 1375 441 1709 441 \r\nQ 2250 441 2565 725 \r\nQ 2881 1009 2881 1497 \r\nQ 2881 1984 2565 2268 \r\nQ 2250 2553 1709 2553 \r\nQ 1456 2553 1204 2497 \r\nQ 953 2441 691 2322 \r\nL 691 4666 \r\nz\r\n\" id=\"DejaVuSans-35\" transform=\"scale(0.015625)\"/>\r\n       </defs>\r\n       <use xlink:href=\"#DejaVuSans-35\"/>\r\n       <use x=\"63.623047\" xlink:href=\"#DejaVuSans-30\"/>\r\n       <use x=\"127.246094\" xlink:href=\"#DejaVuSans-30\"/>\r\n      </g>\r\n     </g>\r\n    </g>\r\n    <g id=\"xtick_3\">\r\n     <g id=\"line2d_3\">\r\n      <g>\r\n       <use style=\"stroke:#000000;stroke-width:0.8;\" x=\"181.153895\" xlink:href=\"#mf38a605d02\" y=\"224.64\"/>\r\n      </g>\r\n     </g>\r\n     <g id=\"text_3\">\r\n      <!-- 1000 -->\r\n      <g transform=\"translate(168.428895 239.238437)scale(0.1 -0.1)\">\r\n       <defs>\r\n        <path d=\"M 794 531 \r\nL 1825 531 \r\nL 1825 4091 \r\nL 703 3866 \r\nL 703 4441 \r\nL 1819 4666 \r\nL 2450 4666 \r\nL 2450 531 \r\nL 3481 531 \r\nL 3481 0 \r\nL 794 0 \r\nL 794 531 \r\nz\r\n\" id=\"DejaVuSans-31\" transform=\"scale(0.015625)\"/>\r\n       </defs>\r\n       <use xlink:href=\"#DejaVuSans-31\"/>\r\n       <use x=\"63.623047\" xlink:href=\"#DejaVuSans-30\"/>\r\n       <use x=\"127.246094\" xlink:href=\"#DejaVuSans-30\"/>\r\n       <use x=\"190.869141\" xlink:href=\"#DejaVuSans-30\"/>\r\n      </g>\r\n     </g>\r\n    </g>\r\n    <g id=\"xtick_4\">\r\n     <g id=\"line2d_4\">\r\n      <g>\r\n       <use style=\"stroke:#000000;stroke-width:0.8;\" x=\"242.716119\" xlink:href=\"#mf38a605d02\" y=\"224.64\"/>\r\n      </g>\r\n     </g>\r\n     <g id=\"text_4\">\r\n      <!-- 1500 -->\r\n      <g transform=\"translate(229.991119 239.238437)scale(0.1 -0.1)\">\r\n       <use xlink:href=\"#DejaVuSans-31\"/>\r\n       <use x=\"63.623047\" xlink:href=\"#DejaVuSans-35\"/>\r\n       <use x=\"127.246094\" xlink:href=\"#DejaVuSans-30\"/>\r\n       <use x=\"190.869141\" xlink:href=\"#DejaVuSans-30\"/>\r\n      </g>\r\n     </g>\r\n    </g>\r\n    <g id=\"xtick_5\">\r\n     <g id=\"line2d_5\">\r\n      <g>\r\n       <use style=\"stroke:#000000;stroke-width:0.8;\" x=\"304.278343\" xlink:href=\"#mf38a605d02\" y=\"224.64\"/>\r\n      </g>\r\n     </g>\r\n     <g id=\"text_5\">\r\n      <!-- 2000 -->\r\n      <g transform=\"translate(291.553343 239.238437)scale(0.1 -0.1)\">\r\n       <defs>\r\n        <path d=\"M 1228 531 \r\nL 3431 531 \r\nL 3431 0 \r\nL 469 0 \r\nL 469 531 \r\nQ 828 903 1448 1529 \r\nQ 2069 2156 2228 2338 \r\nQ 2531 2678 2651 2914 \r\nQ 2772 3150 2772 3378 \r\nQ 2772 3750 2511 3984 \r\nQ 2250 4219 1831 4219 \r\nQ 1534 4219 1204 4116 \r\nQ 875 4013 500 3803 \r\nL 500 4441 \r\nQ 881 4594 1212 4672 \r\nQ 1544 4750 1819 4750 \r\nQ 2544 4750 2975 4387 \r\nQ 3406 4025 3406 3419 \r\nQ 3406 3131 3298 2873 \r\nQ 3191 2616 2906 2266 \r\nQ 2828 2175 2409 1742 \r\nQ 1991 1309 1228 531 \r\nz\r\n\" id=\"DejaVuSans-32\" transform=\"scale(0.015625)\"/>\r\n       </defs>\r\n       <use xlink:href=\"#DejaVuSans-32\"/>\r\n       <use x=\"63.623047\" xlink:href=\"#DejaVuSans-30\"/>\r\n       <use x=\"127.246094\" xlink:href=\"#DejaVuSans-30\"/>\r\n       <use x=\"190.869141\" xlink:href=\"#DejaVuSans-30\"/>\r\n      </g>\r\n     </g>\r\n    </g>\r\n    <g id=\"xtick_6\">\r\n     <g id=\"line2d_6\">\r\n      <g>\r\n       <use style=\"stroke:#000000;stroke-width:0.8;\" x=\"365.840567\" xlink:href=\"#mf38a605d02\" y=\"224.64\"/>\r\n      </g>\r\n     </g>\r\n     <g id=\"text_6\">\r\n      <!-- 2500 -->\r\n      <g transform=\"translate(353.115567 239.238437)scale(0.1 -0.1)\">\r\n       <use xlink:href=\"#DejaVuSans-32\"/>\r\n       <use x=\"63.623047\" xlink:href=\"#DejaVuSans-35\"/>\r\n       <use x=\"127.246094\" xlink:href=\"#DejaVuSans-30\"/>\r\n       <use x=\"190.869141\" xlink:href=\"#DejaVuSans-30\"/>\r\n      </g>\r\n     </g>\r\n    </g>\r\n   </g>\r\n   <g id=\"matplotlib.axis_2\">\r\n    <g id=\"ytick_1\">\r\n     <g id=\"line2d_7\">\r\n      <defs>\r\n       <path d=\"M 0 0 \r\nL -3.5 0 \r\n\" id=\"m6a7357f148\" style=\"stroke:#000000;stroke-width:0.8;\"/>\r\n      </defs>\r\n      <g>\r\n       <use style=\"stroke:#000000;stroke-width:0.8;\" x=\"46.0125\" xlink:href=\"#m6a7357f148\" y=\"214.756426\"/>\r\n      </g>\r\n     </g>\r\n     <g id=\"text_7\">\r\n      <!-- 0 -->\r\n      <g transform=\"translate(32.65 218.555644)scale(0.1 -0.1)\">\r\n       <use xlink:href=\"#DejaVuSans-30\"/>\r\n      </g>\r\n     </g>\r\n    </g>\r\n    <g id=\"ytick_2\">\r\n     <g id=\"line2d_8\">\r\n      <g>\r\n       <use style=\"stroke:#000000;stroke-width:0.8;\" x=\"46.0125\" xlink:href=\"#m6a7357f148\" y=\"186.108453\"/>\r\n      </g>\r\n     </g>\r\n     <g id=\"text_8\">\r\n      <!-- 2000 -->\r\n      <g transform=\"translate(13.5625 189.907672)scale(0.1 -0.1)\">\r\n       <use xlink:href=\"#DejaVuSans-32\"/>\r\n       <use x=\"63.623047\" xlink:href=\"#DejaVuSans-30\"/>\r\n       <use x=\"127.246094\" xlink:href=\"#DejaVuSans-30\"/>\r\n       <use x=\"190.869141\" xlink:href=\"#DejaVuSans-30\"/>\r\n      </g>\r\n     </g>\r\n    </g>\r\n    <g id=\"ytick_3\">\r\n     <g id=\"line2d_9\">\r\n      <g>\r\n       <use style=\"stroke:#000000;stroke-width:0.8;\" x=\"46.0125\" xlink:href=\"#m6a7357f148\" y=\"157.46048\"/>\r\n      </g>\r\n     </g>\r\n     <g id=\"text_9\">\r\n      <!-- 4000 -->\r\n      <g transform=\"translate(13.5625 161.259699)scale(0.1 -0.1)\">\r\n       <defs>\r\n        <path d=\"M 2419 4116 \r\nL 825 1625 \r\nL 2419 1625 \r\nL 2419 4116 \r\nz\r\nM 2253 4666 \r\nL 3047 4666 \r\nL 3047 1625 \r\nL 3713 1625 \r\nL 3713 1100 \r\nL 3047 1100 \r\nL 3047 0 \r\nL 2419 0 \r\nL 2419 1100 \r\nL 313 1100 \r\nL 313 1709 \r\nL 2253 4666 \r\nz\r\n\" id=\"DejaVuSans-34\" transform=\"scale(0.015625)\"/>\r\n       </defs>\r\n       <use xlink:href=\"#DejaVuSans-34\"/>\r\n       <use x=\"63.623047\" xlink:href=\"#DejaVuSans-30\"/>\r\n       <use x=\"127.246094\" xlink:href=\"#DejaVuSans-30\"/>\r\n       <use x=\"190.869141\" xlink:href=\"#DejaVuSans-30\"/>\r\n      </g>\r\n     </g>\r\n    </g>\r\n    <g id=\"ytick_4\">\r\n     <g id=\"line2d_10\">\r\n      <g>\r\n       <use style=\"stroke:#000000;stroke-width:0.8;\" x=\"46.0125\" xlink:href=\"#m6a7357f148\" y=\"128.812507\"/>\r\n      </g>\r\n     </g>\r\n     <g id=\"text_10\">\r\n      <!-- 6000 -->\r\n      <g transform=\"translate(13.5625 132.611726)scale(0.1 -0.1)\">\r\n       <defs>\r\n        <path d=\"M 2113 2584 \r\nQ 1688 2584 1439 2293 \r\nQ 1191 2003 1191 1497 \r\nQ 1191 994 1439 701 \r\nQ 1688 409 2113 409 \r\nQ 2538 409 2786 701 \r\nQ 3034 994 3034 1497 \r\nQ 3034 2003 2786 2293 \r\nQ 2538 2584 2113 2584 \r\nz\r\nM 3366 4563 \r\nL 3366 3988 \r\nQ 3128 4100 2886 4159 \r\nQ 2644 4219 2406 4219 \r\nQ 1781 4219 1451 3797 \r\nQ 1122 3375 1075 2522 \r\nQ 1259 2794 1537 2939 \r\nQ 1816 3084 2150 3084 \r\nQ 2853 3084 3261 2657 \r\nQ 3669 2231 3669 1497 \r\nQ 3669 778 3244 343 \r\nQ 2819 -91 2113 -91 \r\nQ 1303 -91 875 529 \r\nQ 447 1150 447 2328 \r\nQ 447 3434 972 4092 \r\nQ 1497 4750 2381 4750 \r\nQ 2619 4750 2861 4703 \r\nQ 3103 4656 3366 4563 \r\nz\r\n\" id=\"DejaVuSans-36\" transform=\"scale(0.015625)\"/>\r\n       </defs>\r\n       <use xlink:href=\"#DejaVuSans-36\"/>\r\n       <use x=\"63.623047\" xlink:href=\"#DejaVuSans-30\"/>\r\n       <use x=\"127.246094\" xlink:href=\"#DejaVuSans-30\"/>\r\n       <use x=\"190.869141\" xlink:href=\"#DejaVuSans-30\"/>\r\n      </g>\r\n     </g>\r\n    </g>\r\n    <g id=\"ytick_5\">\r\n     <g id=\"line2d_11\">\r\n      <g>\r\n       <use style=\"stroke:#000000;stroke-width:0.8;\" x=\"46.0125\" xlink:href=\"#m6a7357f148\" y=\"100.164534\"/>\r\n      </g>\r\n     </g>\r\n     <g id=\"text_11\">\r\n      <!-- 8000 -->\r\n      <g transform=\"translate(13.5625 103.963753)scale(0.1 -0.1)\">\r\n       <defs>\r\n        <path d=\"M 2034 2216 \r\nQ 1584 2216 1326 1975 \r\nQ 1069 1734 1069 1313 \r\nQ 1069 891 1326 650 \r\nQ 1584 409 2034 409 \r\nQ 2484 409 2743 651 \r\nQ 3003 894 3003 1313 \r\nQ 3003 1734 2745 1975 \r\nQ 2488 2216 2034 2216 \r\nz\r\nM 1403 2484 \r\nQ 997 2584 770 2862 \r\nQ 544 3141 544 3541 \r\nQ 544 4100 942 4425 \r\nQ 1341 4750 2034 4750 \r\nQ 2731 4750 3128 4425 \r\nQ 3525 4100 3525 3541 \r\nQ 3525 3141 3298 2862 \r\nQ 3072 2584 2669 2484 \r\nQ 3125 2378 3379 2068 \r\nQ 3634 1759 3634 1313 \r\nQ 3634 634 3220 271 \r\nQ 2806 -91 2034 -91 \r\nQ 1263 -91 848 271 \r\nQ 434 634 434 1313 \r\nQ 434 1759 690 2068 \r\nQ 947 2378 1403 2484 \r\nz\r\nM 1172 3481 \r\nQ 1172 3119 1398 2916 \r\nQ 1625 2713 2034 2713 \r\nQ 2441 2713 2670 2916 \r\nQ 2900 3119 2900 3481 \r\nQ 2900 3844 2670 4047 \r\nQ 2441 4250 2034 4250 \r\nQ 1625 4250 1398 4047 \r\nQ 1172 3844 1172 3481 \r\nz\r\n\" id=\"DejaVuSans-38\" transform=\"scale(0.015625)\"/>\r\n       </defs>\r\n       <use xlink:href=\"#DejaVuSans-38\"/>\r\n       <use x=\"63.623047\" xlink:href=\"#DejaVuSans-30\"/>\r\n       <use x=\"127.246094\" xlink:href=\"#DejaVuSans-30\"/>\r\n       <use x=\"190.869141\" xlink:href=\"#DejaVuSans-30\"/>\r\n      </g>\r\n     </g>\r\n    </g>\r\n    <g id=\"ytick_6\">\r\n     <g id=\"line2d_12\">\r\n      <g>\r\n       <use style=\"stroke:#000000;stroke-width:0.8;\" x=\"46.0125\" xlink:href=\"#m6a7357f148\" y=\"71.516562\"/>\r\n      </g>\r\n     </g>\r\n     <g id=\"text_12\">\r\n      <!-- 10000 -->\r\n      <g transform=\"translate(7.2 75.31578)scale(0.1 -0.1)\">\r\n       <use xlink:href=\"#DejaVuSans-31\"/>\r\n       <use x=\"63.623047\" xlink:href=\"#DejaVuSans-30\"/>\r\n       <use x=\"127.246094\" xlink:href=\"#DejaVuSans-30\"/>\r\n       <use x=\"190.869141\" xlink:href=\"#DejaVuSans-30\"/>\r\n       <use x=\"254.492188\" xlink:href=\"#DejaVuSans-30\"/>\r\n      </g>\r\n     </g>\r\n    </g>\r\n    <g id=\"ytick_7\">\r\n     <g id=\"line2d_13\">\r\n      <g>\r\n       <use style=\"stroke:#000000;stroke-width:0.8;\" x=\"46.0125\" xlink:href=\"#m6a7357f148\" y=\"42.868589\"/>\r\n      </g>\r\n     </g>\r\n     <g id=\"text_13\">\r\n      <!-- 12000 -->\r\n      <g transform=\"translate(7.2 46.667808)scale(0.1 -0.1)\">\r\n       <use xlink:href=\"#DejaVuSans-31\"/>\r\n       <use x=\"63.623047\" xlink:href=\"#DejaVuSans-32\"/>\r\n       <use x=\"127.246094\" xlink:href=\"#DejaVuSans-30\"/>\r\n       <use x=\"190.869141\" xlink:href=\"#DejaVuSans-30\"/>\r\n       <use x=\"254.492188\" xlink:href=\"#DejaVuSans-30\"/>\r\n      </g>\r\n     </g>\r\n    </g>\r\n    <g id=\"ytick_8\">\r\n     <g id=\"line2d_14\">\r\n      <g>\r\n       <use style=\"stroke:#000000;stroke-width:0.8;\" x=\"46.0125\" xlink:href=\"#m6a7357f148\" y=\"14.220616\"/>\r\n      </g>\r\n     </g>\r\n     <g id=\"text_14\">\r\n      <!-- 14000 -->\r\n      <g transform=\"translate(7.2 18.019835)scale(0.1 -0.1)\">\r\n       <use xlink:href=\"#DejaVuSans-31\"/>\r\n       <use x=\"63.623047\" xlink:href=\"#DejaVuSans-34\"/>\r\n       <use x=\"127.246094\" xlink:href=\"#DejaVuSans-30\"/>\r\n       <use x=\"190.869141\" xlink:href=\"#DejaVuSans-30\"/>\r\n       <use x=\"254.492188\" xlink:href=\"#DejaVuSans-30\"/>\r\n      </g>\r\n     </g>\r\n    </g>\r\n   </g>\r\n   <g id=\"line2d_15\">\r\n    <path clip-path=\"url(#p553fa12e8c)\" d=\"M 61.230682 145.257418 \r\nL 66.401909 159.06014 \r\nL 67.510029 213.675491 \r\nL 68.864398 214.732573 \r\nL 69.849393 81.815336 \r\nL 70.957513 195.515917 \r\nL 71.573135 133.994911 \r\nL 76.867487 214.607979 \r\nL 77.975607 214.737978 \r\nL 78.591229 213.570236 \r\nL 79.4531 27.978662 \r\nL 80.314971 200.829765 \r\nL 80.807469 214.74205 \r\nL 81.66934 211.865925 \r\nL 82.531211 214.211579 \r\nL 82.654336 210.128336 \r\nL 84.747451 214.722911 \r\nL 86.471194 114.061064 \r\nL 87.333065 190.936052 \r\nL 88.071812 135.47859 \r\nL 89.918678 209.622856 \r\nL 90.288052 210.935068 \r\nL 93.612412 214.627799 \r\nL 97.552394 212.549009 \r\nL 97.798643 214.756364 \r\nL 97.921767 213.896038 \r\nL 101.369252 203.528388 \r\nL 101.738625 214.446144 \r\nL 111.465457 214.679075 \r\nL 114.789817 204.445645 \r\nL 117.252306 214.507612 \r\nL 120.207293 214.57164 \r\nL 125.378519 140.22129 \r\nL 128.456631 214.715596 \r\nL 128.579755 138.220344 \r\nL 129.934124 212.725164 \r\nL 130.672871 213.781801 \r\nL 133.874106 214.633229 \r\nL 136.213471 42.874032 \r\nL 136.829093 40.72658 \r\nL 137.937213 214.664288 \r\nL 141.261573 130.932343 \r\nL 147.417796 214.39126 \r\nL 147.910293 207.269171 \r\nL 148.156542 209.055926 \r\nL 150.372782 146.70891 \r\nL 151.480902 214.746251 \r\nL 152.342774 201.188134 \r\nL 155.544009 214.700241 \r\nL 158.991494 159.785535 \r\nL 159.730241 78.837107 \r\nL 160.468987 214.372807 \r\nL 161.577107 194.328187 \r\nL 162.315854 212.997138 \r\nL 163.547098 208.150514 \r\nL 164.285845 203.325844 \r\nL 165.270841 211.67792 \r\nL 169.210823 214.693951 \r\nL 170.934565 213.729292 \r\nL 173.766428 153.163456 \r\nL 178.691406 178.057184 \r\nL 180.538272 211.598402 \r\nL 184.232006 214.738751 \r\nL 186.078872 203.517141 \r\nL 189.89573 214.536589 \r\nL 190.880726 214.715426 \r\nL 191.373224 183.903089 \r\nL 192.973842 170.081831 \r\nL 194.697584 214.73917 \r\nL 195.559455 175.426168 \r\nL 198.021944 207.29957 \r\nL 198.145068 189.230094 \r\nL 201.961926 214.651531 \r\nL 202.3313 164.042968 \r\nL 204.793789 205.668095 \r\nL 205.901909 214.383421 \r\nL 207.133153 214.722309 \r\nL 209.472518 212.76319 \r\nL 209.965015 212.033205 \r\nL 210.334389 191.444969 \r\nL 210.950011 211.343577 \r\nL 215.505616 175.361682 \r\nL 215.998113 214.716774 \r\nL 217.352482 211.43256 \r\nL 220.676842 210.648619 \r\nL 223.878078 83.617036 \r\nL 225.109323 214.542089 \r\nL 225.971194 186.56609 \r\nL 226.094318 204.841955 \r\nL 226.463692 214.748826 \r\nL 227.079314 195.262039 \r\nL 227.448687 148.151507 \r\nL 227.941185 209.3884 \r\nL 229.788052 213.566668 \r\nL 229.911176 187.145094 \r\nL 230.773047 214.578922 \r\nL 231.142421 195.823081 \r\nL 232.496789 214.646486 \r\nL 233.60491 213.967279 \r\nL 234.097407 214.724457 \r\nL 236.313647 213.327071 \r\nL 238.529887 214.745241 \r\nL 241.238625 210.34003 \r\nL 242.223621 214.374681 \r\nL 243.331741 204.325036 \r\nL 248.133594 208.446283 \r\nL 252.812323 213.591557 \r\nL 254.65919 206.495432 \r\nL 255.76731 213.181256 \r\nL 258.229799 214.599555 \r\nL 258.599173 206.118243 \r\nL 260.446039 202.348136 \r\nL 260.938537 214.740091 \r\nL 268.079755 213.470268 \r\nL 269.187875 213.411135 \r\nL 272.142862 214.47552 \r\nL 272.881609 207.286014 \r\nL 275.95972 212.692911 \r\nL 276.205969 212.503426 \r\nL 276.329093 173.690688 \r\nL 277.806586 214.697495 \r\nL 278.545333 213.968048 \r\nL 278.668458 54.254439 \r\nL 279.037831 214.620844 \r\nL 283.347187 214.554125 \r\nL 285.194053 209.456009 \r\nL 287.164045 119.689417 \r\nL 288.887787 146.021345 \r\nL 289.010911 214.740647 \r\nL 294.79776 213.952772 \r\nL 295.044009 190.512864 \r\nL 295.413383 213.469227 \r\nL 301.200232 43.710982 \r\nL 301.938978 214.701489 \r\nL 303.047098 99.32363 \r\nL 304.647716 175.840246 \r\nL 305.140214 211.590611 \r\nL 305.386463 201.384297 \r\nL 306.617707 214.537692 \r\nL 313.88205 211.029263 \r\nL 315.852041 133.084035 \r\nL 317.20641 19.304342 \r\nL 318.930152 141.483362 \r\nL 319.176401 214.722707 \r\nL 319.299526 67.997731 \r\nL 321.392641 76.403147 \r\nL 327.795113 203.663346 \r\nL 329.641979 192.921815 \r\nL 331.242597 91.842585 \r\nL 333.705086 199.386559 \r\nL 336.167575 214.666372 \r\nL 337.39882 214.745438 \r\nL 337.521944 214.542858 \r\nL 337.891317 214.728048 \r\nL 338.383815 214.746919 \r\nL 340.476931 204.309321 \r\nL 341.092553 196.738885 \r\nL 341.585051 214.035916 \r\nL 342.200673 186.650573 \r\nL 344.786286 214.481338 \r\nL 345.525033 60.745497 \r\nL 345.771282 185.988747 \r\nL 345.894406 138.708319 \r\nL 348.603144 214.423811 \r\nL 348.726269 210.640397 \r\nL 350.203762 183.856765 \r\nL 354.02062 214.737728 \r\nL 359.930594 213.698694 \r\nL 361.161838 155.406191 \r\nL 361.284962 213.180214 \r\nL 361.408087 214.672184 \r\nL 362.762456 111.699813 \r\nL 363.131829 214.560618 \r\nL 365.348069 210.856659 \r\nL 365.471194 184.278392 \r\nL 365.594318 214.737596 \r\nL 365.594318 214.737596 \r\n\" style=\"fill:none;stroke:#1f77b4;stroke-linecap:square;stroke-width:1.5;\"/>\r\n   </g>\r\n   <g id=\"line2d_16\">\r\n    <path clip-path=\"url(#p553fa12e8c)\" d=\"M 61.230682 146.418413 \r\nL 66.401909 159.684154 \r\nL 67.510029 213.613504 \r\nL 68.864398 214.647357 \r\nL 69.849393 83.53874 \r\nL 70.957513 195.585837 \r\nL 71.573135 134.710133 \r\nL 76.867487 214.494575 \r\nL 77.975607 214.685599 \r\nL 78.591229 213.50626 \r\nL 79.4531 28.907611 \r\nL 80.314971 199.338634 \r\nL 80.807469 214.644901 \r\nL 81.66934 211.833285 \r\nL 82.531211 214.130382 \r\nL 82.654336 210.081781 \r\nL 84.747451 214.66991 \r\nL 86.471194 114.533006 \r\nL 87.333065 191.029687 \r\nL 88.071812 136.297933 \r\nL 89.918678 209.583559 \r\nL 90.288052 210.890429 \r\nL 93.612412 214.509955 \r\nL 97.552394 212.444597 \r\nL 97.798643 214.502581 \r\nL 97.921767 213.815676 \r\nL 101.369252 203.433148 \r\nL 101.738625 214.319614 \r\nL 111.465457 214.58739 \r\nL 114.789817 204.407295 \r\nL 117.252306 214.45331 \r\nL 120.207293 214.490774 \r\nL 125.378519 140.554281 \r\nL 128.456631 214.624933 \r\nL 128.579755 133.604044 \r\nL 129.934124 212.646351 \r\nL 130.672871 213.703198 \r\nL 133.874106 214.576985 \r\nL 136.213471 43.624854 \r\nL 136.829093 41.47563 \r\nL 137.937213 214.574737 \r\nL 141.261573 131.309839 \r\nL 147.417796 214.268308 \r\nL 147.910293 207.243434 \r\nL 148.156542 209.038523 \r\nL 150.372782 147.067394 \r\nL 151.480902 214.669073 \r\nL 152.342774 201.204656 \r\nL 155.544009 214.603515 \r\nL 158.991494 160.07173 \r\nL 159.730241 79.409431 \r\nL 160.468987 214.319205 \r\nL 161.577107 193.154279 \r\nL 162.315854 212.922449 \r\nL 163.547098 208.117381 \r\nL 164.285845 203.343472 \r\nL 165.270841 211.586099 \r\nL 169.210823 214.635713 \r\nL 170.934565 213.644578 \r\nL 173.766428 151.339758 \r\nL 178.691406 178.500525 \r\nL 180.538272 211.564069 \r\nL 184.232006 214.665859 \r\nL 186.078872 203.515656 \r\nL 189.89573 214.443801 \r\nL 190.880726 214.663868 \r\nL 191.373224 184.045433 \r\nL 192.973842 170.324211 \r\nL 194.697584 214.687225 \r\nL 195.559455 175.638928 \r\nL 198.021944 207.236586 \r\nL 198.145068 189.325456 \r\nL 201.961926 214.540082 \r\nL 202.3313 164.30563 \r\nL 204.793789 205.646978 \r\nL 205.901909 214.085905 \r\nL 207.133153 214.630937 \r\nL 209.472518 212.684677 \r\nL 209.965015 211.964398 \r\nL 210.334389 191.515675 \r\nL 210.950011 211.296034 \r\nL 215.505616 175.569512 \r\nL 215.998113 214.638159 \r\nL 217.352482 211.403017 \r\nL 220.676842 210.597832 \r\nL 223.878078 84.180579 \r\nL 225.109323 214.46306 \r\nL 225.971194 186.627552 \r\nL 226.094318 204.796433 \r\nL 226.463692 214.697617 \r\nL 227.079314 195.289647 \r\nL 227.448687 148.474607 \r\nL 227.941185 209.368806 \r\nL 229.788052 213.494353 \r\nL 229.911176 187.273398 \r\nL 230.773047 214.497857 \r\nL 231.142421 196.041619 \r\nL 232.496789 214.567718 \r\nL 233.60491 213.889567 \r\nL 234.097407 214.641121 \r\nL 236.313647 213.269357 \r\nL 238.529887 214.691719 \r\nL 241.238625 210.264732 \r\nL 242.223621 214.256719 \r\nL 243.331741 204.33691 \r\nL 248.133594 208.413691 \r\nL 252.812323 213.480096 \r\nL 254.65919 206.47472 \r\nL 255.76731 213.124056 \r\nL 258.229799 214.511883 \r\nL 258.599173 206.10074 \r\nL 260.446039 202.369405 \r\nL 260.938537 214.686998 \r\nL 268.079755 213.426846 \r\nL 269.187875 213.368771 \r\nL 272.142862 214.427163 \r\nL 272.881609 207.279562 \r\nL 275.95972 212.58626 \r\nL 276.205969 212.467294 \r\nL 276.329093 173.91391 \r\nL 277.806586 214.641121 \r\nL 278.545333 213.921641 \r\nL 278.668458 54.901974 \r\nL 279.037831 214.534983 \r\nL 283.347187 214.499603 \r\nL 285.194053 209.434499 \r\nL 287.164045 121.319514 \r\nL 288.887787 146.363168 \r\nL 289.010911 214.656833 \r\nL 294.79776 213.883139 \r\nL 295.044009 190.60337 \r\nL 295.413383 213.339214 \r\nL 301.200232 44.438725 \r\nL 301.938978 214.601761 \r\nL 303.047098 99.855715 \r\nL 304.647716 176.039335 \r\nL 305.140214 211.497642 \r\nL 305.386463 201.392848 \r\nL 306.617707 214.46163 \r\nL 313.88205 210.960877 \r\nL 315.852041 134.405858 \r\nL 317.20641 20.121315 \r\nL 318.930152 142.237758 \r\nL 319.176401 214.634657 \r\nL 319.299526 69.82649 \r\nL 321.392641 76.981094 \r\nL 327.795113 203.641607 \r\nL 329.641979 193.039696 \r\nL 331.242597 92.120907 \r\nL 333.705086 199.465604 \r\nL 336.167575 214.586705 \r\nL 337.39882 214.658245 \r\nL 337.521944 214.444637 \r\nL 337.891317 214.636684 \r\nL 338.383815 214.694129 \r\nL 340.476931 204.284882 \r\nL 341.092553 192.367426 \r\nL 341.585051 213.969383 \r\nL 342.200673 186.795873 \r\nL 344.786286 214.371402 \r\nL 345.525033 63.245503 \r\nL 345.771282 186.144342 \r\nL 345.894406 136.414254 \r\nL 348.603144 214.353046 \r\nL 348.726269 210.571654 \r\nL 350.203762 182.665587 \r\nL 354.02062 214.674494 \r\nL 359.930594 213.608237 \r\nL 361.161838 156.27876 \r\nL 361.284962 213.091311 \r\nL 361.408087 214.582654 \r\nL 362.762456 112.154475 \r\nL 363.131829 214.448986 \r\nL 365.348069 210.828398 \r\nL 365.471194 184.435616 \r\nL 365.594318 214.656907 \r\nL 365.594318 214.656907 \r\n\" style=\"fill:none;stroke:#ff7f0e;stroke-linecap:square;stroke-width:1.5;\"/>\r\n   </g>\r\n   <g id=\"line2d_17\">\r\n    <path clip-path=\"url(#p553fa12e8c)\" d=\"M 61.230682 145.849076 \r\nL 66.401909 158.931667 \r\nL 67.510029 213.592711 \r\nL 68.864398 214.646935 \r\nL 69.849393 81.923764 \r\nL 70.957513 195.240766 \r\nL 71.573135 133.55107 \r\nL 76.867487 214.49192 \r\nL 77.975607 214.685281 \r\nL 78.591229 213.484846 \r\nL 79.4531 26.095428 \r\nL 80.314971 199.807369 \r\nL 80.807469 214.644654 \r\nL 81.66934 211.782788 \r\nL 82.531211 214.120011 \r\nL 82.654336 210.000031 \r\nL 84.747451 214.669306 \r\nL 86.471194 112.860556 \r\nL 87.333065 190.604094 \r\nL 88.071812 136.37568 \r\nL 89.918678 209.491837 \r\nL 90.288052 210.822956 \r\nL 93.612412 214.507816 \r\nL 97.552394 212.412054 \r\nL 97.798643 214.502579 \r\nL 97.921767 213.800402 \r\nL 101.369252 203.246982 \r\nL 101.738625 214.314517 \r\nL 111.465457 214.586059 \r\nL 114.789817 204.221193 \r\nL 117.252306 214.448929 \r\nL 120.207293 214.487495 \r\nL 125.378519 139.283592 \r\nL 128.456631 214.624225 \r\nL 128.579755 134.62875 \r\nL 129.934124 212.607594 \r\nL 130.672871 213.68458 \r\nL 133.874106 214.574769 \r\nL 136.213471 40.829179 \r\nL 136.829093 38.806132 \r\nL 137.937213 214.57298 \r\nL 141.261573 129.896235 \r\nL 147.417796 214.262718 \r\nL 147.910293 207.110509 \r\nL 148.156542 208.936977 \r\nL 150.372782 145.971522 \r\nL 151.480902 214.668893 \r\nL 152.342774 200.967033 \r\nL 155.544009 214.602568 \r\nL 158.991494 159.084167 \r\nL 159.730241 77.21754 \r\nL 160.468987 214.312395 \r\nL 161.577107 193.442674 \r\nL 162.315854 212.891298 \r\nL 163.547098 208.000012 \r\nL 164.285845 203.142599 \r\nL 165.270841 211.541054 \r\nL 169.210823 214.634593 \r\nL 170.934565 213.626987 \r\nL 173.766428 152.015319 \r\nL 178.691406 178.438923 \r\nL 180.538272 211.509327 \r\nL 184.232006 214.665521 \r\nL 186.078872 203.319738 \r\nL 189.89573 214.440145 \r\nL 190.880726 214.663134 \r\nL 191.373224 183.456872 \r\nL 192.973842 169.515175 \r\nL 194.697584 214.686894 \r\nL 195.559455 174.920682 \r\nL 198.021944 207.119747 \r\nL 198.145068 188.836003 \r\nL 201.961926 214.538206 \r\nL 202.3313 163.390366 \r\nL 204.793789 205.473635 \r\nL 205.901909 214.078912 \r\nL 207.133153 214.630358 \r\nL 209.472518 212.649586 \r\nL 209.965015 211.915996 \r\nL 210.334389 191.070341 \r\nL 210.950011 211.236541 \r\nL 215.505616 174.86146 \r\nL 215.998113 214.63745 \r\nL 217.352482 211.345391 \r\nL 220.676842 210.523343 \r\nL 223.878078 82.049228 \r\nL 225.109323 214.45925 \r\nL 225.971194 186.126956 \r\nL 226.094318 204.618147 \r\nL 226.463692 214.697484 \r\nL 227.079314 194.951138 \r\nL 227.448687 147.318495 \r\nL 227.941185 209.273652 \r\nL 229.788052 213.472875 \r\nL 229.911176 186.745675 \r\nL 230.773047 214.49445 \r\nL 231.142421 195.970613 \r\nL 232.496789 214.565625 \r\nL 233.60491 213.874424 \r\nL 234.097407 214.640546 \r\nL 236.313647 213.243635 \r\nL 238.529887 214.691518 \r\nL 241.238625 210.185098 \r\nL 242.223621 214.250107 \r\nL 243.331741 204.153049 \r\nL 248.133594 208.29275 \r\nL 252.812323 213.462823 \r\nL 254.65919 206.326245 \r\nL 255.76731 213.096509 \r\nL 258.229799 214.509123 \r\nL 258.599173 205.946055 \r\nL 260.446039 202.147776 \r\nL 260.938537 214.686709 \r\nL 268.079755 213.404722 \r\nL 269.187875 213.345972 \r\nL 272.142862 214.422245 \r\nL 272.881609 207.150876 \r\nL 275.95972 212.551581 \r\nL 276.205969 212.429421 \r\nL 276.329093 173.150809 \r\nL 277.806586 214.64006 \r\nL 278.545333 213.90808 \r\nL 278.668458 52.420625 \r\nL 279.037831 214.532538 \r\nL 283.347187 214.496046 \r\nL 285.194053 209.326288 \r\nL 287.164045 120.640261 \r\nL 288.887787 145.160474 \r\nL 289.010911 214.656553 \r\nL 294.79776 213.868739 \r\nL 295.044009 190.138206 \r\nL 295.413383 213.316889 \r\nL 301.200232 41.678368 \r\nL 301.938978 214.600828 \r\nL 303.047098 97.933723 \r\nL 304.647716 175.329119 \r\nL 305.140214 211.46615 \r\nL 305.386463 201.160172 \r\nL 306.617707 214.457759 \r\nL 313.88205 210.903835 \r\nL 315.852041 133.985176 \r\nL 317.20641 17.083636 \r\nL 318.930152 141.258281 \r\nL 319.176401 214.63401 \r\nL 319.299526 69.776597 \r\nL 321.392641 74.756878 \r\nL 327.795113 203.450247 \r\nL 329.641979 192.600198 \r\nL 331.242597 90.363381 \r\nL 333.705086 199.251337 \r\nL 336.167575 214.585066 \r\nL 337.39882 214.658051 \r\nL 337.521944 214.440773 \r\nL 337.891317 214.636203 \r\nL 338.383815 214.693963 \r\nL 340.476931 204.100857 \r\nL 341.092553 194.242269 \r\nL 341.585051 213.954784 \r\nL 342.200673 186.26092 \r\nL 344.786286 214.366448 \r\nL 345.525033 61.68135 \r\nL 345.771282 185.58835 \r\nL 345.894406 137.243621 \r\nL 348.603144 214.347262 \r\nL 348.726269 210.49336 \r\nL 350.203762 183.051532 \r\nL 354.02062 214.67416 \r\nL 359.930594 213.588991 \r\nL 361.161838 155.589426 \r\nL 361.284962 213.062891 \r\nL 361.408087 214.58117 \r\nL 362.762456 110.417015 \r\nL 363.131829 214.445764 \r\nL 365.348069 210.761342 \r\nL 365.471194 183.903016 \r\nL 365.594318 214.656572 \r\nL 365.594318 214.656572 \r\n\" style=\"fill:none;stroke:#2ca02c;stroke-linecap:square;stroke-width:1.5;\"/>\r\n   </g>\r\n   <g id=\"line2d_18\">\r\n    <path clip-path=\"url(#p553fa12e8c)\" d=\"M 61.230682 146.068087 \r\nL 66.401909 159.197164 \r\nL 67.510029 213.599301 \r\nL 68.864398 214.647081 \r\nL 69.849393 82.521899 \r\nL 70.957513 195.358046 \r\nL 71.573135 133.983862 \r\nL 76.867487 214.492825 \r\nL 77.975607 214.685393 \r\nL 78.591229 213.492078 \r\nL 79.4531 27.214882 \r\nL 80.314971 199.70418 \r\nL 80.807469 214.644741 \r\nL 81.66934 211.800501 \r\nL 82.531211 214.123332 \r\nL 82.654336 210.028245 \r\nL 84.747451 214.66951 \r\nL 86.471194 113.477719 \r\nL 87.333065 190.746551 \r\nL 88.071812 136.327755 \r\nL 89.918678 209.523133 \r\nL 90.288052 210.846253 \r\nL 93.612412 214.508588 \r\nL 97.552394 212.42362 \r\nL 97.798643 214.50258 \r\nL 97.921767 213.805648 \r\nL 101.369252 203.314313 \r\nL 101.738625 214.316355 \r\nL 111.465457 214.586528 \r\nL 114.789817 204.284044 \r\nL 117.252306 214.450446 \r\nL 120.207293 214.488621 \r\nL 125.378519 139.737984 \r\nL 128.456631 214.624473 \r\nL 128.579755 134.100887 \r\nL 129.934124 212.619977 \r\nL 130.672871 213.690522 \r\nL 133.874106 214.57552 \r\nL 136.213471 41.877056 \r\nL 136.829093 39.858857 \r\nL 137.937213 214.573542 \r\nL 141.261573 130.407269 \r\nL 147.417796 214.264764 \r\nL 147.910293 207.156155 \r\nL 148.156542 208.97172 \r\nL 150.372782 146.378167 \r\nL 151.480902 214.668955 \r\nL 152.342774 201.04975 \r\nL 155.544009 214.602906 \r\nL 158.991494 159.419293 \r\nL 159.730241 78.046429 \r\nL 160.468987 214.314734 \r\nL 161.577107 193.308978 \r\nL 162.315854 212.902023 \r\nL 163.547098 208.040285 \r\nL 164.285845 203.212245 \r\nL 165.270841 211.557493 \r\nL 169.210823 214.634974 \r\nL 170.934565 213.633207 \r\nL 173.766428 151.717798 \r\nL 178.691406 178.466868 \r\nL 180.538272 211.528643 \r\nL 184.232006 214.665628 \r\nL 186.078872 203.388256 \r\nL 189.89573 214.441511 \r\nL 190.880726 214.663384 \r\nL 191.373224 183.644957 \r\nL 192.973842 169.787489 \r\nL 194.697584 214.686999 \r\nL 195.559455 175.160402 \r\nL 198.021944 207.162194 \r\nL 198.145068 188.991607 \r\nL 201.961926 214.538845 \r\nL 202.3313 163.699522 \r\nL 204.793789 205.529038 \r\nL 205.901909 214.081186 \r\nL 207.133153 214.630564 \r\nL 209.472518 212.661738 \r\nL 209.965015 211.932598 \r\nL 210.334389 191.212435 \r\nL 210.950011 211.257346 \r\nL 215.505616 175.10145 \r\nL 215.998113 214.637692 \r\nL 217.352482 211.36557 \r\nL 220.676842 210.548383 \r\nL 223.878078 82.848539 \r\nL 225.109323 214.460557 \r\nL 225.971194 186.302246 \r\nL 226.094318 204.67858 \r\nL 226.463692 214.69753 \r\nL 227.079314 195.06999 \r\nL 227.448687 147.724536 \r\nL 227.941185 209.306387 \r\nL 229.788052 213.480128 \r\nL 229.911176 186.913992 \r\nL 230.773047 214.495532 \r\nL 231.142421 195.999767 \r\nL 232.496789 214.566295 \r\nL 233.60491 213.879235 \r\nL 234.097407 214.640741 \r\nL 236.313647 213.252349 \r\nL 238.529887 214.691586 \r\nL 241.238625 210.212018 \r\nL 242.223621 214.252424 \r\nL 243.331741 204.216611 \r\nL 248.133594 208.331218 \r\nL 252.812323 213.46895 \r\nL 254.65919 206.376608 \r\nL 255.76731 213.106112 \r\nL 258.229799 214.510079 \r\nL 258.599173 205.998718 \r\nL 260.446039 202.223423 \r\nL 260.938537 214.686809 \r\nL 268.079755 213.412518 \r\nL 269.187875 213.354126 \r\nL 272.142862 214.423956 \r\nL 272.881609 207.196187 \r\nL 275.95972 212.563972 \r\nL 276.205969 212.442943 \r\nL 276.329093 173.401152 \r\nL 277.806586 214.640419 \r\nL 278.545333 213.912859 \r\nL 278.668458 53.391978 \r\nL 279.037831 214.533364 \r\nL 283.347187 214.497279 \r\nL 285.194053 209.358602 \r\nL 287.164045 120.879133 \r\nL 288.887787 145.579519 \r\nL 289.010911 214.656649 \r\nL 294.79776 213.873638 \r\nL 295.044009 190.285988 \r\nL 295.413383 213.324704 \r\nL 301.200232 42.721171 \r\nL 301.938978 214.60116 \r\nL 303.047098 98.637385 \r\nL 304.647716 175.566325 \r\nL 305.140214 211.479384 \r\nL 305.386463 201.241691 \r\nL 306.617707 214.459093 \r\nL 313.88205 210.924721 \r\nL 315.852041 134.142964 \r\nL 317.20641 18.178391 \r\nL 318.930152 141.616178 \r\nL 319.176401 214.634215 \r\nL 319.299526 69.751203 \r\nL 321.392641 75.600602 \r\nL 327.795113 203.517608 \r\nL 329.641979 192.733313 \r\nL 331.242597 91.112723 \r\nL 333.705086 199.327916 \r\nL 336.167575 214.585615 \r\nL 337.39882 214.658118 \r\nL 337.521944 214.442075 \r\nL 337.891317 214.636375 \r\nL 338.383815 214.694021 \r\nL 340.476931 204.164514 \r\nL 341.092553 194.080713 \r\nL 341.585051 213.959176 \r\nL 342.200673 186.432249 \r\nL 344.786286 214.368125 \r\nL 345.525033 62.248579 \r\nL 345.771282 185.763724 \r\nL 345.894406 136.855058 \r\nL 348.603144 214.34929 \r\nL 348.726269 210.51845 \r\nL 350.203762 182.880519 \r\nL 354.02062 214.674273 \r\nL 359.930594 213.595439 \r\nL 361.161838 155.84354 \r\nL 361.284962 213.072498 \r\nL 361.408087 214.581683 \r\nL 362.762456 111.045219 \r\nL 363.131829 214.446926 \r\nL 365.348069 210.784982 \r\nL 365.471194 184.083948 \r\nL 365.594318 214.656686 \r\nL 365.594318 214.656686 \r\n\" style=\"fill:none;stroke:#d62728;stroke-linecap:square;stroke-width:1.5;\"/>\r\n   </g>\r\n   <g id=\"line2d_19\">\r\n    <path clip-path=\"url(#p553fa12e8c)\" d=\"M 61.230682 145.962851 \r\nL 66.401909 159.023117 \r\nL 67.510029 213.621375 \r\nL 68.864398 214.657341 \r\nL 69.849393 82.153684 \r\nL 70.957513 195.278443 \r\nL 71.573135 133.65649 \r\nL 76.867487 214.51179 \r\nL 77.975607 214.512525 \r\nL 78.591229 213.512934 \r\nL 79.4531 26.513854 \r\nL 80.314971 199.774891 \r\nL 80.807469 214.653854 \r\nL 81.66934 211.815997 \r\nL 82.531211 214.143491 \r\nL 82.654336 210.041191 \r\nL 84.747451 214.674666 \r\nL 86.471194 113.113001 \r\nL 87.333065 190.674894 \r\nL 88.071812 136.360699 \r\nL 89.918678 209.483258 \r\nL 90.288052 210.861773 \r\nL 93.612412 214.52646 \r\nL 97.552394 212.002462 \r\nL 97.798643 152.482631 \r\nL 97.921767 213.827533 \r\nL 101.369252 203.300947 \r\nL 101.738625 17.085238 \r\nL 111.465457 214.526081 \r\nL 114.789817 204.27264 \r\nL 117.252306 214.446029 \r\nL 120.207293 214.498541 \r\nL 125.378519 139.474547 \r\nL 128.456631 214.633901 \r\nL 128.579755 134.456884 \r\nL 129.934124 212.629497 \r\nL 130.672871 213.710278 \r\nL 133.874106 214.593755 \r\nL 136.213471 41.215308 \r\nL 136.829093 39.191425 \r\nL 137.937213 214.591019 \r\nL 141.261573 130.106948 \r\nL 147.417796 214.283726 \r\nL 147.910293 207.158646 \r\nL 148.156542 208.980955 \r\nL 150.372782 146.134874 \r\nL 151.480902 214.664593 \r\nL 152.342774 201.002956 \r\nL 155.544009 17.085038 \r\nL 158.991494 159.23703 \r\nL 159.730241 77.53599 \r\nL 160.468987 214.335422 \r\nL 161.577107 193.329145 \r\nL 162.315854 212.92154 \r\nL 163.547098 208.044253 \r\nL 164.285845 203.200722 \r\nL 165.270841 211.576042 \r\nL 169.210823 214.638372 \r\nL 170.934565 213.655481 \r\nL 173.766428 151.457363 \r\nL 178.691406 178.475185 \r\nL 180.538272 211.543182 \r\nL 184.232006 214.641716 \r\nL 186.078872 203.377641 \r\nL 189.89573 214.426179 \r\nL 190.880726 214.672694 \r\nL 191.373224 183.553491 \r\nL 192.973842 169.64633 \r\nL 194.697584 214.698288 \r\nL 195.559455 175.027675 \r\nL 198.021944 207.018016 \r\nL 198.145068 188.925957 \r\nL 201.961926 214.552464 \r\nL 202.3313 163.533985 \r\nL 204.793789 205.525531 \r\nL 205.901909 214.099803 \r\nL 207.133153 214.62269 \r\nL 209.472518 212.682304 \r\nL 209.965015 211.947772 \r\nL 210.334389 191.154779 \r\nL 210.950011 211.273154 \r\nL 215.505616 174.981024 \r\nL 215.998113 214.652111 \r\nL 217.352482 211.381938 \r\nL 220.676842 210.56286 \r\nL 223.878078 82.357441 \r\nL 225.109323 214.479481 \r\nL 225.971194 186.231653 \r\nL 226.094318 204.672899 \r\nL 226.463692 214.697376 \r\nL 227.079314 195.008424 \r\nL 227.448687 147.489445 \r\nL 227.941185 209.309834 \r\nL 229.788052 213.501988 \r\nL 229.911176 186.785044 \r\nL 230.773047 214.511518 \r\nL 231.142421 195.973595 \r\nL 232.496789 214.584259 \r\nL 233.60491 213.822773 \r\nL 234.097407 214.622536 \r\nL 236.313647 213.273597 \r\nL 238.529887 214.699866 \r\nL 241.238625 210.224901 \r\nL 242.223621 214.270047 \r\nL 243.331741 204.208351 \r\nL 248.133594 208.337952 \r\nL 252.812323 213.258091 \r\nL 254.65919 206.046542 \r\nL 255.76731 213.064416 \r\nL 258.229799 214.529108 \r\nL 258.599173 205.98912 \r\nL 260.446039 202.208461 \r\nL 260.938537 214.681579 \r\nL 268.079755 213.4281 \r\nL 269.187875 213.374849 \r\nL 272.142862 214.441917 \r\nL 272.881609 207.198933 \r\nL 275.95972 212.568243 \r\nL 276.205969 212.462513 \r\nL 276.329093 173.273995 \r\nL 277.806586 214.656318 \r\nL 278.545333 213.922022 \r\nL 278.668458 52.78925 \r\nL 279.037831 214.55196 \r\nL 283.347187 214.515162 \r\nL 285.194053 209.367032 \r\nL 287.164045 120.755838 \r\nL 288.887787 145.329195 \r\nL 289.010911 214.65183 \r\nL 294.79776 213.895978 \r\nL 295.044009 190.225382 \r\nL 295.413383 213.346385 \r\nL 301.200232 42.061435 \r\nL 301.938978 214.615739 \r\nL 303.047098 97.748484 \r\nL 304.647716 175.428194 \r\nL 305.140214 211.498511 \r\nL 305.386463 201.222809 \r\nL 306.617707 214.479043 \r\nL 313.88205 210.9286 \r\nL 315.852041 134.075228 \r\nL 317.20641 17.424819 \r\nL 318.930152 141.125552 \r\nL 319.176401 214.639548 \r\nL 319.299526 69.218114 \r\nL 321.392641 75.079724 \r\nL 327.795113 203.507604 \r\nL 329.641979 192.682149 \r\nL 331.242597 90.654818 \r\nL 333.705086 199.287631 \r\nL 336.167575 214.588257 \r\nL 337.39882 214.658674 \r\nL 337.521944 214.439745 \r\nL 337.891317 214.621261 \r\nL 338.383815 214.702414 \r\nL 340.476931 204.15589 \r\nL 341.092553 194.178486 \r\nL 341.585051 213.973989 \r\nL 342.200673 186.356455 \r\nL 344.786286 214.388495 \r\nL 345.525033 61.900107 \r\nL 345.771282 185.684751 \r\nL 345.894406 137.122944 \r\nL 348.603144 214.37007 \r\nL 348.726269 210.527679 \r\nL 350.203762 182.974998 \r\nL 354.02062 214.498977 \r\nL 359.930594 213.512106 \r\nL 361.161838 155.713223 \r\nL 361.284962 213.093677 \r\nL 361.408087 214.514652 \r\nL 362.762456 110.667593 \r\nL 363.131829 214.466036 \r\nL 365.348069 210.800229 \r\nL 365.471194 183.751604 \r\nL 365.594318 214.668234 \r\nL 365.594318 214.668234 \r\n\" style=\"fill:none;stroke:#9467bd;stroke-linecap:square;stroke-width:1.5;\"/>\r\n   </g>\r\n   <g id=\"patch_3\">\r\n    <path d=\"M 46.0125 224.64 \r\nL 46.0125 7.2 \r\n\" style=\"fill:none;stroke:#000000;stroke-linecap:square;stroke-linejoin:miter;stroke-width:0.8;\"/>\r\n   </g>\r\n   <g id=\"patch_4\">\r\n    <path d=\"M 380.8125 224.64 \r\nL 380.8125 7.2 \r\n\" style=\"fill:none;stroke:#000000;stroke-linecap:square;stroke-linejoin:miter;stroke-width:0.8;\"/>\r\n   </g>\r\n   <g id=\"patch_5\">\r\n    <path d=\"M 46.0125 224.64 \r\nL 380.8125 224.64 \r\n\" style=\"fill:none;stroke:#000000;stroke-linecap:square;stroke-linejoin:miter;stroke-width:0.8;\"/>\r\n   </g>\r\n   <g id=\"patch_6\">\r\n    <path d=\"M 46.0125 7.2 \r\nL 380.8125 7.2 \r\n\" style=\"fill:none;stroke:#000000;stroke-linecap:square;stroke-linejoin:miter;stroke-width:0.8;\"/>\r\n   </g>\r\n   <g id=\"legend_1\">\r\n    <g id=\"patch_7\">\r\n     <path d=\"M 175.227344 88.590625 \r\nL 251.597656 88.590625 \r\nQ 253.597656 88.590625 253.597656 86.590625 \r\nL 253.597656 14.2 \r\nQ 253.597656 12.2 251.597656 12.2 \r\nL 175.227344 12.2 \r\nQ 173.227344 12.2 173.227344 14.2 \r\nL 173.227344 86.590625 \r\nQ 173.227344 88.590625 175.227344 88.590625 \r\nz\r\n\" style=\"fill:#ffffff;opacity:0.8;stroke:#cccccc;stroke-linejoin:miter;\"/>\r\n    </g>\r\n    <g id=\"line2d_20\">\r\n     <path d=\"M 177.227344 20.298437 \r\nL 197.227344 20.298437 \r\n\" style=\"fill:none;stroke:#1f77b4;stroke-linecap:square;stroke-width:1.5;\"/>\r\n    </g>\r\n    <g id=\"line2d_21\"/>\r\n    <g id=\"text_15\">\r\n     <!-- approx -->\r\n     <g transform=\"translate(205.227344 23.798437)scale(0.1 -0.1)\">\r\n      <defs>\r\n       <path d=\"M 2194 1759 \r\nQ 1497 1759 1228 1600 \r\nQ 959 1441 959 1056 \r\nQ 959 750 1161 570 \r\nQ 1363 391 1709 391 \r\nQ 2188 391 2477 730 \r\nQ 2766 1069 2766 1631 \r\nL 2766 1759 \r\nL 2194 1759 \r\nz\r\nM 3341 1997 \r\nL 3341 0 \r\nL 2766 0 \r\nL 2766 531 \r\nQ 2569 213 2275 61 \r\nQ 1981 -91 1556 -91 \r\nQ 1019 -91 701 211 \r\nQ 384 513 384 1019 \r\nQ 384 1609 779 1909 \r\nQ 1175 2209 1959 2209 \r\nL 2766 2209 \r\nL 2766 2266 \r\nQ 2766 2663 2505 2880 \r\nQ 2244 3097 1772 3097 \r\nQ 1472 3097 1187 3025 \r\nQ 903 2953 641 2809 \r\nL 641 3341 \r\nQ 956 3463 1253 3523 \r\nQ 1550 3584 1831 3584 \r\nQ 2591 3584 2966 3190 \r\nQ 3341 2797 3341 1997 \r\nz\r\n\" id=\"DejaVuSans-61\" transform=\"scale(0.015625)\"/>\r\n       <path d=\"M 1159 525 \r\nL 1159 -1331 \r\nL 581 -1331 \r\nL 581 3500 \r\nL 1159 3500 \r\nL 1159 2969 \r\nQ 1341 3281 1617 3432 \r\nQ 1894 3584 2278 3584 \r\nQ 2916 3584 3314 3078 \r\nQ 3713 2572 3713 1747 \r\nQ 3713 922 3314 415 \r\nQ 2916 -91 2278 -91 \r\nQ 1894 -91 1617 61 \r\nQ 1341 213 1159 525 \r\nz\r\nM 3116 1747 \r\nQ 3116 2381 2855 2742 \r\nQ 2594 3103 2138 3103 \r\nQ 1681 3103 1420 2742 \r\nQ 1159 2381 1159 1747 \r\nQ 1159 1113 1420 752 \r\nQ 1681 391 2138 391 \r\nQ 2594 391 2855 752 \r\nQ 3116 1113 3116 1747 \r\nz\r\n\" id=\"DejaVuSans-70\" transform=\"scale(0.015625)\"/>\r\n       <path d=\"M 2631 2963 \r\nQ 2534 3019 2420 3045 \r\nQ 2306 3072 2169 3072 \r\nQ 1681 3072 1420 2755 \r\nQ 1159 2438 1159 1844 \r\nL 1159 0 \r\nL 581 0 \r\nL 581 3500 \r\nL 1159 3500 \r\nL 1159 2956 \r\nQ 1341 3275 1631 3429 \r\nQ 1922 3584 2338 3584 \r\nQ 2397 3584 2469 3576 \r\nQ 2541 3569 2628 3553 \r\nL 2631 2963 \r\nz\r\n\" id=\"DejaVuSans-72\" transform=\"scale(0.015625)\"/>\r\n       <path d=\"M 1959 3097 \r\nQ 1497 3097 1228 2736 \r\nQ 959 2375 959 1747 \r\nQ 959 1119 1226 758 \r\nQ 1494 397 1959 397 \r\nQ 2419 397 2687 759 \r\nQ 2956 1122 2956 1747 \r\nQ 2956 2369 2687 2733 \r\nQ 2419 3097 1959 3097 \r\nz\r\nM 1959 3584 \r\nQ 2709 3584 3137 3096 \r\nQ 3566 2609 3566 1747 \r\nQ 3566 888 3137 398 \r\nQ 2709 -91 1959 -91 \r\nQ 1206 -91 779 398 \r\nQ 353 888 353 1747 \r\nQ 353 2609 779 3096 \r\nQ 1206 3584 1959 3584 \r\nz\r\n\" id=\"DejaVuSans-6f\" transform=\"scale(0.015625)\"/>\r\n       <path d=\"M 3513 3500 \r\nL 2247 1797 \r\nL 3578 0 \r\nL 2900 0 \r\nL 1881 1375 \r\nL 863 0 \r\nL 184 0 \r\nL 1544 1831 \r\nL 300 3500 \r\nL 978 3500 \r\nL 1906 2253 \r\nL 2834 3500 \r\nL 3513 3500 \r\nz\r\n\" id=\"DejaVuSans-78\" transform=\"scale(0.015625)\"/>\r\n      </defs>\r\n      <use xlink:href=\"#DejaVuSans-61\"/>\r\n      <use x=\"61.279297\" xlink:href=\"#DejaVuSans-70\"/>\r\n      <use x=\"124.755859\" xlink:href=\"#DejaVuSans-70\"/>\r\n      <use x=\"188.232422\" xlink:href=\"#DejaVuSans-72\"/>\r\n      <use x=\"227.095703\" xlink:href=\"#DejaVuSans-6f\"/>\r\n      <use x=\"285.152344\" xlink:href=\"#DejaVuSans-78\"/>\r\n     </g>\r\n    </g>\r\n    <g id=\"line2d_22\">\r\n     <path d=\"M 177.227344 34.976562 \r\nL 197.227344 34.976562 \r\n\" style=\"fill:none;stroke:#ff7f0e;stroke-linecap:square;stroke-width:1.5;\"/>\r\n    </g>\r\n    <g id=\"line2d_23\"/>\r\n    <g id=\"text_16\">\r\n     <!-- lsoda -->\r\n     <g transform=\"translate(205.227344 38.476562)scale(0.1 -0.1)\">\r\n      <defs>\r\n       <path d=\"M 603 4863 \r\nL 1178 4863 \r\nL 1178 0 \r\nL 603 0 \r\nL 603 4863 \r\nz\r\n\" id=\"DejaVuSans-6c\" transform=\"scale(0.015625)\"/>\r\n       <path d=\"M 2834 3397 \r\nL 2834 2853 \r\nQ 2591 2978 2328 3040 \r\nQ 2066 3103 1784 3103 \r\nQ 1356 3103 1142 2972 \r\nQ 928 2841 928 2578 \r\nQ 928 2378 1081 2264 \r\nQ 1234 2150 1697 2047 \r\nL 1894 2003 \r\nQ 2506 1872 2764 1633 \r\nQ 3022 1394 3022 966 \r\nQ 3022 478 2636 193 \r\nQ 2250 -91 1575 -91 \r\nQ 1294 -91 989 -36 \r\nQ 684 19 347 128 \r\nL 347 722 \r\nQ 666 556 975 473 \r\nQ 1284 391 1588 391 \r\nQ 1994 391 2212 530 \r\nQ 2431 669 2431 922 \r\nQ 2431 1156 2273 1281 \r\nQ 2116 1406 1581 1522 \r\nL 1381 1569 \r\nQ 847 1681 609 1914 \r\nQ 372 2147 372 2553 \r\nQ 372 3047 722 3315 \r\nQ 1072 3584 1716 3584 \r\nQ 2034 3584 2315 3537 \r\nQ 2597 3491 2834 3397 \r\nz\r\n\" id=\"DejaVuSans-73\" transform=\"scale(0.015625)\"/>\r\n       <path d=\"M 2906 2969 \r\nL 2906 4863 \r\nL 3481 4863 \r\nL 3481 0 \r\nL 2906 0 \r\nL 2906 525 \r\nQ 2725 213 2448 61 \r\nQ 2172 -91 1784 -91 \r\nQ 1150 -91 751 415 \r\nQ 353 922 353 1747 \r\nQ 353 2572 751 3078 \r\nQ 1150 3584 1784 3584 \r\nQ 2172 3584 2448 3432 \r\nQ 2725 3281 2906 2969 \r\nz\r\nM 947 1747 \r\nQ 947 1113 1208 752 \r\nQ 1469 391 1925 391 \r\nQ 2381 391 2643 752 \r\nQ 2906 1113 2906 1747 \r\nQ 2906 2381 2643 2742 \r\nQ 2381 3103 1925 3103 \r\nQ 1469 3103 1208 2742 \r\nQ 947 2381 947 1747 \r\nz\r\n\" id=\"DejaVuSans-64\" transform=\"scale(0.015625)\"/>\r\n      </defs>\r\n      <use xlink:href=\"#DejaVuSans-6c\"/>\r\n      <use x=\"27.783203\" xlink:href=\"#DejaVuSans-73\"/>\r\n      <use x=\"79.882812\" xlink:href=\"#DejaVuSans-6f\"/>\r\n      <use x=\"141.064453\" xlink:href=\"#DejaVuSans-64\"/>\r\n      <use x=\"204.541016\" xlink:href=\"#DejaVuSans-61\"/>\r\n     </g>\r\n    </g>\r\n    <g id=\"line2d_24\">\r\n     <path d=\"M 177.227344 49.654687 \r\nL 197.227344 49.654687 \r\n\" style=\"fill:none;stroke:#2ca02c;stroke-linecap:square;stroke-width:1.5;\"/>\r\n    </g>\r\n    <g id=\"line2d_25\"/>\r\n    <g id=\"text_17\">\r\n     <!-- Euler -->\r\n     <g transform=\"translate(205.227344 53.154687)scale(0.1 -0.1)\">\r\n      <defs>\r\n       <path d=\"M 628 4666 \r\nL 3578 4666 \r\nL 3578 4134 \r\nL 1259 4134 \r\nL 1259 2753 \r\nL 3481 2753 \r\nL 3481 2222 \r\nL 1259 2222 \r\nL 1259 531 \r\nL 3634 531 \r\nL 3634 0 \r\nL 628 0 \r\nL 628 4666 \r\nz\r\n\" id=\"DejaVuSans-45\" transform=\"scale(0.015625)\"/>\r\n       <path d=\"M 544 1381 \r\nL 544 3500 \r\nL 1119 3500 \r\nL 1119 1403 \r\nQ 1119 906 1312 657 \r\nQ 1506 409 1894 409 \r\nQ 2359 409 2629 706 \r\nQ 2900 1003 2900 1516 \r\nL 2900 3500 \r\nL 3475 3500 \r\nL 3475 0 \r\nL 2900 0 \r\nL 2900 538 \r\nQ 2691 219 2414 64 \r\nQ 2138 -91 1772 -91 \r\nQ 1169 -91 856 284 \r\nQ 544 659 544 1381 \r\nz\r\nM 1991 3584 \r\nL 1991 3584 \r\nz\r\n\" id=\"DejaVuSans-75\" transform=\"scale(0.015625)\"/>\r\n       <path d=\"M 3597 1894 \r\nL 3597 1613 \r\nL 953 1613 \r\nQ 991 1019 1311 708 \r\nQ 1631 397 2203 397 \r\nQ 2534 397 2845 478 \r\nQ 3156 559 3463 722 \r\nL 3463 178 \r\nQ 3153 47 2828 -22 \r\nQ 2503 -91 2169 -91 \r\nQ 1331 -91 842 396 \r\nQ 353 884 353 1716 \r\nQ 353 2575 817 3079 \r\nQ 1281 3584 2069 3584 \r\nQ 2775 3584 3186 3129 \r\nQ 3597 2675 3597 1894 \r\nz\r\nM 3022 2063 \r\nQ 3016 2534 2758 2815 \r\nQ 2500 3097 2075 3097 \r\nQ 1594 3097 1305 2825 \r\nQ 1016 2553 972 2059 \r\nL 3022 2063 \r\nz\r\n\" id=\"DejaVuSans-65\" transform=\"scale(0.015625)\"/>\r\n      </defs>\r\n      <use xlink:href=\"#DejaVuSans-45\"/>\r\n      <use x=\"63.183594\" xlink:href=\"#DejaVuSans-75\"/>\r\n      <use x=\"126.5625\" xlink:href=\"#DejaVuSans-6c\"/>\r\n      <use x=\"154.345703\" xlink:href=\"#DejaVuSans-65\"/>\r\n      <use x=\"215.869141\" xlink:href=\"#DejaVuSans-72\"/>\r\n     </g>\r\n    </g>\r\n    <g id=\"line2d_26\">\r\n     <path d=\"M 177.227344 64.332812 \r\nL 197.227344 64.332812 \r\n\" style=\"fill:none;stroke:#d62728;stroke-linecap:square;stroke-width:1.5;\"/>\r\n    </g>\r\n    <g id=\"line2d_27\"/>\r\n    <g id=\"text_18\">\r\n     <!-- midpoint -->\r\n     <g transform=\"translate(205.227344 67.832812)scale(0.1 -0.1)\">\r\n      <defs>\r\n       <path d=\"M 3328 2828 \r\nQ 3544 3216 3844 3400 \r\nQ 4144 3584 4550 3584 \r\nQ 5097 3584 5394 3201 \r\nQ 5691 2819 5691 2113 \r\nL 5691 0 \r\nL 5113 0 \r\nL 5113 2094 \r\nQ 5113 2597 4934 2840 \r\nQ 4756 3084 4391 3084 \r\nQ 3944 3084 3684 2787 \r\nQ 3425 2491 3425 1978 \r\nL 3425 0 \r\nL 2847 0 \r\nL 2847 2094 \r\nQ 2847 2600 2669 2842 \r\nQ 2491 3084 2119 3084 \r\nQ 1678 3084 1418 2786 \r\nQ 1159 2488 1159 1978 \r\nL 1159 0 \r\nL 581 0 \r\nL 581 3500 \r\nL 1159 3500 \r\nL 1159 2956 \r\nQ 1356 3278 1631 3431 \r\nQ 1906 3584 2284 3584 \r\nQ 2666 3584 2933 3390 \r\nQ 3200 3197 3328 2828 \r\nz\r\n\" id=\"DejaVuSans-6d\" transform=\"scale(0.015625)\"/>\r\n       <path d=\"M 603 3500 \r\nL 1178 3500 \r\nL 1178 0 \r\nL 603 0 \r\nL 603 3500 \r\nz\r\nM 603 4863 \r\nL 1178 4863 \r\nL 1178 4134 \r\nL 603 4134 \r\nL 603 4863 \r\nz\r\n\" id=\"DejaVuSans-69\" transform=\"scale(0.015625)\"/>\r\n       <path d=\"M 3513 2113 \r\nL 3513 0 \r\nL 2938 0 \r\nL 2938 2094 \r\nQ 2938 2591 2744 2837 \r\nQ 2550 3084 2163 3084 \r\nQ 1697 3084 1428 2787 \r\nQ 1159 2491 1159 1978 \r\nL 1159 0 \r\nL 581 0 \r\nL 581 3500 \r\nL 1159 3500 \r\nL 1159 2956 \r\nQ 1366 3272 1645 3428 \r\nQ 1925 3584 2291 3584 \r\nQ 2894 3584 3203 3211 \r\nQ 3513 2838 3513 2113 \r\nz\r\n\" id=\"DejaVuSans-6e\" transform=\"scale(0.015625)\"/>\r\n       <path d=\"M 1172 4494 \r\nL 1172 3500 \r\nL 2356 3500 \r\nL 2356 3053 \r\nL 1172 3053 \r\nL 1172 1153 \r\nQ 1172 725 1289 603 \r\nQ 1406 481 1766 481 \r\nL 2356 481 \r\nL 2356 0 \r\nL 1766 0 \r\nQ 1100 0 847 248 \r\nQ 594 497 594 1153 \r\nL 594 3053 \r\nL 172 3053 \r\nL 172 3500 \r\nL 594 3500 \r\nL 594 4494 \r\nL 1172 4494 \r\nz\r\n\" id=\"DejaVuSans-74\" transform=\"scale(0.015625)\"/>\r\n      </defs>\r\n      <use xlink:href=\"#DejaVuSans-6d\"/>\r\n      <use x=\"97.412109\" xlink:href=\"#DejaVuSans-69\"/>\r\n      <use x=\"125.195312\" xlink:href=\"#DejaVuSans-64\"/>\r\n      <use x=\"188.671875\" xlink:href=\"#DejaVuSans-70\"/>\r\n      <use x=\"252.148438\" xlink:href=\"#DejaVuSans-6f\"/>\r\n      <use x=\"313.330078\" xlink:href=\"#DejaVuSans-69\"/>\r\n      <use x=\"341.113281\" xlink:href=\"#DejaVuSans-6e\"/>\r\n      <use x=\"404.492188\" xlink:href=\"#DejaVuSans-74\"/>\r\n     </g>\r\n    </g>\r\n    <g id=\"line2d_28\">\r\n     <path d=\"M 177.227344 79.010937 \r\nL 197.227344 79.010937 \r\n\" style=\"fill:none;stroke:#9467bd;stroke-linecap:square;stroke-width:1.5;\"/>\r\n    </g>\r\n    <g id=\"line2d_29\"/>\r\n    <g id=\"text_19\">\r\n     <!-- RK4 -->\r\n     <g transform=\"translate(205.227344 82.510937)scale(0.1 -0.1)\">\r\n      <defs>\r\n       <path d=\"M 2841 2188 \r\nQ 3044 2119 3236 1894 \r\nQ 3428 1669 3622 1275 \r\nL 4263 0 \r\nL 3584 0 \r\nL 2988 1197 \r\nQ 2756 1666 2539 1819 \r\nQ 2322 1972 1947 1972 \r\nL 1259 1972 \r\nL 1259 0 \r\nL 628 0 \r\nL 628 4666 \r\nL 2053 4666 \r\nQ 2853 4666 3247 4331 \r\nQ 3641 3997 3641 3322 \r\nQ 3641 2881 3436 2590 \r\nQ 3231 2300 2841 2188 \r\nz\r\nM 1259 4147 \r\nL 1259 2491 \r\nL 2053 2491 \r\nQ 2509 2491 2742 2702 \r\nQ 2975 2913 2975 3322 \r\nQ 2975 3731 2742 3939 \r\nQ 2509 4147 2053 4147 \r\nL 1259 4147 \r\nz\r\n\" id=\"DejaVuSans-52\" transform=\"scale(0.015625)\"/>\r\n       <path d=\"M 628 4666 \r\nL 1259 4666 \r\nL 1259 2694 \r\nL 3353 4666 \r\nL 4166 4666 \r\nL 1850 2491 \r\nL 4331 0 \r\nL 3500 0 \r\nL 1259 2247 \r\nL 1259 0 \r\nL 628 0 \r\nL 628 4666 \r\nz\r\n\" id=\"DejaVuSans-4b\" transform=\"scale(0.015625)\"/>\r\n      </defs>\r\n      <use xlink:href=\"#DejaVuSans-52\"/>\r\n      <use x=\"69.482422\" xlink:href=\"#DejaVuSans-4b\"/>\r\n      <use x=\"135.058594\" xlink:href=\"#DejaVuSans-34\"/>\r\n     </g>\r\n    </g>\r\n   </g>\r\n  </g>\r\n </g>\r\n <defs>\r\n  <clipPath id=\"p553fa12e8c\">\r\n   <rect height=\"217.44\" width=\"334.8\" x=\"46.0125\" y=\"7.2\"/>\r\n  </clipPath>\r\n </defs>\r\n</svg>\r\n",
      "image/png": "[encoded data removed]"
     },
     "metadata": {
      "needs_background": "light"
     }
    }
   ],
   "source": [
    "mask = df.GWtime < 14e3\n",
    "plt.plot(df[mask].GWtime, label = \"approx\")\n",
    "plt.plot(df[mask].Merge_time, label = \"lsoda\")\n",
    "plt.plot(df_eu[mask].Merge_time_euler, label = \"Euler\")\n",
    "plt.plot(df_mid[mask].Merge_time_midpoint, label = \"midpoint\")\n",
    "plt.plot(df_rk[mask].Merge_time_rk4, label = \"RK4\")\n",
    "plt.legend(loc = \"best\");"
   ]
  },
  {
   "cell_type": "code",
   "execution_count": 55,
   "metadata": {},
   "outputs": [
    {
     "output_type": "execute_result",
     "data": {
      "text/plain": [
       "26      4770.879494\n",
       "68      3844.758753\n",
       "77        79.790740\n",
       "88         7.614393\n",
       "96      9160.696048\n",
       "           ...     \n",
       "2475    7162.946640\n",
       "2478      21.463295\n",
       "2496     274.227261\n",
       "2497    2116.785695\n",
       "2498       6.947659\n",
       "Name: Merge_time, Length: 177, dtype: float64"
      ]
     },
     "metadata": {},
     "execution_count": 55
    }
   ],
   "source": [
    "df.loc[mask, \"Merge_time\"]"
   ]
  },
  {
   "cell_type": "code",
   "execution_count": 56,
   "metadata": {},
   "outputs": [
    {
     "output_type": "execute_result",
     "data": {
      "text/plain": [
       "array([0.0002])"
      ]
     },
     "metadata": {},
     "execution_count": 56
    }
   ],
   "source": [
    "np.unique(df.loc[mask, \"Z\"])"
   ]
  },
  {
   "cell_type": "code",
   "execution_count": 57,
   "metadata": {},
   "outputs": [
    {
     "output_type": "execute_result",
     "data": {
      "text/plain": [
       "array([0.1])"
      ]
     },
     "metadata": {},
     "execution_count": 57
    }
   ],
   "source": [
    "np.unique(df.loc[mask, \"A\"]) # df è troppo piccolo, evidentemente"
   ]
  },
  {
   "cell_type": "code",
   "execution_count": 58,
   "metadata": {},
   "outputs": [
    {
     "output_type": "stream",
     "name": "stdout",
     "text": [
      "[0.0002 0.002  0.02  ] [0.1 1.  5. ]\n"
     ]
    }
   ],
   "source": [
    "print(np.unique(df0.loc[df0[\"GWtime\"] < 14e3, \"Z\"]), np.unique(df0.loc[df0[\"GWtime\"] < 14e3, \"A\"]))"
   ]
  },
  {
   "cell_type": "code",
   "execution_count": 59,
   "metadata": {},
   "outputs": [
    {
     "output_type": "stream",
     "name": "stdout",
     "text": [
      "[0.0002 0.002  0.02  ] [0.1 1.  5. ]\n"
     ]
    }
   ],
   "source": [
    "print(np.unique(df0[\"Z\"]), np.unique(df0[\"A\"])) # questo è già più utile"
   ]
  },
  {
   "source": [
    "# Dask\n",
    "## *apply vs map_partitions*:\n",
    "apply è parallelizzato ma è riga per riga, quindi è come ripartizionare con npartitions = n. righe, forse eccessivo; quindi in teoria è meglio map_partitions. Due difficoltà riguardo a quest'ultimo:\n",
    "1) dentro una singola partizione è tutto sequenziale? Probabilmente, se no non ci sarebbe nessuna differenza con apply (credo). In ogni caso mentre apply passa alla funzione considerata solo una riga (come pd.Series o np.array) map_partitions passa più righe (quindi un dataframe sano), quindi serve a) una conversione ad un formato compatibile con numba (meno banale di `raw = True` in apply?), b) un ciclo for relativo alle righe/una vettorizzazione a colpi di `@numba.vectorize` - che però non so se contenga anche una compilazione JIT, ma probabilmente no (?)            \n",
    "\n",
    "2) quante partizioni usiamo? Una best practice è ripartizionare con un numero di partizioni minore quando si riduce/filtra un dataframe; ho trovato 3 criteri:        \n",
    "a) avere ogni partizione di circa 100 mb (impossibile in questo caso, tutto il dataframe interessante è < 50 mb);      \n",
    "b) avere npartitions = 2*n threads disponibili (cioè tipicamente 4*n cores disponibili) per non lasciare nessun core inutilizzato (questo forse nel nostro caso comporta partizioni striminzite, però?)             \n",
    "c) porre npartitions nuovo / npartitions vecchio = n righe dopo il filtro / n righe prima del filtro, cioè ridurre il numero di partizioni per lo stesso fattore per cui è stato ridotto il numero di righe del dataframe (forse la cosa più semplice? In ogni caso capirlo è non banale perché non so come giudicare se il numero di partizioni iniziale sia di per sé opportuno; ad esempio dask potrebbe porlo uguale al numero di csv letti... boh)                \n",
    "\n",
    "## Approccio\n",
    "La cosa più ovvia è provare tutte queste alternative e vedere cosa funziona meglio (noioso ma assolutamente anti ambiguo).        \n",
    "Nota: visto che almeno con un dataframe ridotto Eulero/midpoint sono quasi istantanei potrebbero essere altrettanto veloci anche con tutto il dataset, quindi è opportuno non dare per scontato che dask batta pandas. Magari è uno dei casi in cui l'overhead non è più conveniente... Bisogna provare"
   ],
   "cell_type": "markdown",
   "metadata": {}
  },
  {
   "source": [
    "Nota: i due gruppi di dati che leggiamo sul server (output*.csv e evolved*.dat) sono di 18018000 e 9009000 rispettivamente (output contiente due righe per ogni oggetto di evolved, i.e. inizio e fine); entrambi i dataset vengono di default partizionati in 180 parti da dask, e di conseguenza anche output filtrato (ridotto a 230050) ha npartitions = 180."
   ],
   "cell_type": "markdown",
   "metadata": {}
  },
  {
   "cell_type": "code",
   "execution_count": 60,
   "metadata": {},
   "outputs": [
    {
     "output_type": "execute_result",
     "data": {
      "text/plain": [
       "             ID             name     Mass_0  Luminosity_0  Radius_0  \\\n",
       "0            92  623198111468628  43.898200  1.000000e-15  0.000186   \n",
       "1           112  586465437076249  23.048440  1.000000e-15  0.000098   \n",
       "2           124  214297123674238  36.259980  1.000000e-15  0.000154   \n",
       "3           154  559548692536031  38.306070  1.000000e-15  0.000163   \n",
       "4           180  424791614019654  17.229310  1.000000e-15  0.000073   \n",
       "...         ...              ...        ...           ...       ...   \n",
       "230045   899694  430764938470682   8.034107  1.000000e-15  0.000034   \n",
       "230046   899795  931971495385373  15.378850  1.000000e-15  0.000065   \n",
       "230047   899879  158937381720381  14.039520  1.000000e-15  0.000060   \n",
       "230048   899888  161831677695017   4.364386  1.000000e-15  0.000019   \n",
       "230049  1000488  183215713580816   9.248787  1.000000e-15  0.000038   \n",
       "\n",
       "        Temperature_0  Phase_0  RemnantType_0     Zams_0     Mass_1  ...  \\\n",
       "0            75.23506        7              6   44.67820  26.748790  ...   \n",
       "1           103.90500        7              6   26.01399  27.232310  ...   \n",
       "2            82.86009        7              6   43.63717  32.662180  ...   \n",
       "3            80.53965        7              6   86.13720  56.341010  ...   \n",
       "4           120.21590        7              6   19.27244  17.397330  ...   \n",
       "...               ...      ...            ...        ...        ...  ...   \n",
       "230045      176.19630        7              6   17.49480   6.209679  ...   \n",
       "230046      127.11050        7              6  100.42560  15.113400  ...   \n",
       "230047      133.04060        7              6   81.94600   1.235519  ...   \n",
       "230048      238.61120        7              6   13.42219   1.235519  ...   \n",
       "230049      167.38680        7              6   31.32840   9.906954  ...   \n",
       "\n",
       "        RemnantType_1     Zams_1   Semimajor  Eccentricity  BWorldtime  \\\n",
       "0                   6  31.791800   8218.0870      0.933191    6.255643   \n",
       "1                   6  30.988940    134.8864      0.009944    4.975206   \n",
       "2                   6  37.747990    481.9433      0.012562    4.733170   \n",
       "3                   6  57.456900  80356.4100      0.095792    4.171837   \n",
       "4                   6  19.519880    109.5645      0.014440    6.984805   \n",
       "...               ...        ...         ...           ...         ...   \n",
       "230045              6  15.720420   2286.6000      0.247431    5.506292   \n",
       "230046              6  96.932100  10003.8200      0.132846    3.315733   \n",
       "230047              5   3.711674    433.0090      0.511304   13.406500   \n",
       "230048              5   4.082497    349.3680      0.584510   12.611660   \n",
       "230049              6  29.894390   6252.2870      0.545864    6.488538   \n",
       "\n",
       "           BTimestep        GWtime       Z    A  Merge_time_midpoint  \n",
       "0       2.000000e-10  6.382552e+09  0.0002  0.1                  NaN  \n",
       "1       2.000000e-10  1.572015e+06  0.0002  0.1                  NaN  \n",
       "2       2.000000e-10  9.903180e+07  0.0002  0.1                  NaN  \n",
       "3       2.000000e-10  2.963007e+16  0.0002  0.1                  NaN  \n",
       "4       2.000000e-10  2.080002e+06  0.0002  0.1                  NaN  \n",
       "...              ...           ...     ...  ...                  ...  \n",
       "230045  2.000000e-10  4.623389e+12  0.0200  5.0                  NaN  \n",
       "230046  2.000000e-10  1.990603e+14  0.0200  5.0                  NaN  \n",
       "230047  2.000000e-10  6.887031e+09  0.0200  5.0                  NaN  \n",
       "230048  2.000000e-10  1.712514e+10  0.0200  5.0                  NaN  \n",
       "230049  2.000000e-10  3.783948e+13  0.0200  5.0                  NaN  \n",
       "\n",
       "[230050 rows x 24 columns]"
      ],
      "text/html": "<div>\n<style scoped>\n    .dataframe tbody tr th:only-of-type {\n        vertical-align: middle;\n    }\n\n    .dataframe tbody tr th {\n        vertical-align: top;\n    }\n\n    .dataframe thead th {\n        text-align: right;\n    }\n</style>\n<table border=\"1\" class=\"dataframe\">\n  <thead>\n    <tr style=\"text-align: right;\">\n      <th></th>\n      <th>ID</th>\n      <th>name</th>\n      <th>Mass_0</th>\n      <th>Luminosity_0</th>\n      <th>Radius_0</th>\n      <th>Temperature_0</th>\n      <th>Phase_0</th>\n      <th>RemnantType_0</th>\n      <th>Zams_0</th>\n      <th>Mass_1</th>\n      <th>...</th>\n      <th>RemnantType_1</th>\n      <th>Zams_1</th>\n      <th>Semimajor</th>\n      <th>Eccentricity</th>\n      <th>BWorldtime</th>\n      <th>BTimestep</th>\n      <th>GWtime</th>\n      <th>Z</th>\n      <th>A</th>\n      <th>Merge_time_midpoint</th>\n    </tr>\n  </thead>\n  <tbody>\n    <tr>\n      <th>0</th>\n      <td>92</td>\n      <td>623198111468628</td>\n      <td>43.898200</td>\n      <td>1.000000e-15</td>\n      <td>0.000186</td>\n      <td>75.23506</td>\n      <td>7</td>\n      <td>6</td>\n      <td>44.67820</td>\n      <td>26.748790</td>\n      <td>...</td>\n      <td>6</td>\n      <td>31.791800</td>\n      <td>8218.0870</td>\n      <td>0.933191</td>\n      <td>6.255643</td>\n      <td>2.000000e-10</td>\n      <td>6.382552e+09</td>\n      <td>0.0002</td>\n      <td>0.1</td>\n      <td>NaN</td>\n    </tr>\n    <tr>\n      <th>1</th>\n      <td>112</td>\n      <td>586465437076249</td>\n      <td>23.048440</td>\n      <td>1.000000e-15</td>\n      <td>0.000098</td>\n      <td>103.90500</td>\n      <td>7</td>\n      <td>6</td>\n      <td>26.01399</td>\n      <td>27.232310</td>\n      <td>...</td>\n      <td>6</td>\n      <td>30.988940</td>\n      <td>134.8864</td>\n      <td>0.009944</td>\n      <td>4.975206</td>\n      <td>2.000000e-10</td>\n      <td>1.572015e+06</td>\n      <td>0.0002</td>\n      <td>0.1</td>\n      <td>NaN</td>\n    </tr>\n    <tr>\n      <th>2</th>\n      <td>124</td>\n      <td>214297123674238</td>\n      <td>36.259980</td>\n      <td>1.000000e-15</td>\n      <td>0.000154</td>\n      <td>82.86009</td>\n      <td>7</td>\n      <td>6</td>\n      <td>43.63717</td>\n      <td>32.662180</td>\n      <td>...</td>\n      <td>6</td>\n      <td>37.747990</td>\n      <td>481.9433</td>\n      <td>0.012562</td>\n      <td>4.733170</td>\n      <td>2.000000e-10</td>\n      <td>9.903180e+07</td>\n      <td>0.0002</td>\n      <td>0.1</td>\n      <td>NaN</td>\n    </tr>\n    <tr>\n      <th>3</th>\n      <td>154</td>\n      <td>559548692536031</td>\n      <td>38.306070</td>\n      <td>1.000000e-15</td>\n      <td>0.000163</td>\n      <td>80.53965</td>\n      <td>7</td>\n      <td>6</td>\n      <td>86.13720</td>\n      <td>56.341010</td>\n      <td>...</td>\n      <td>6</td>\n      <td>57.456900</td>\n      <td>80356.4100</td>\n      <td>0.095792</td>\n      <td>4.171837</td>\n      <td>2.000000e-10</td>\n      <td>2.963007e+16</td>\n      <td>0.0002</td>\n      <td>0.1</td>\n      <td>NaN</td>\n    </tr>\n    <tr>\n      <th>4</th>\n      <td>180</td>\n      <td>424791614019654</td>\n      <td>17.229310</td>\n      <td>1.000000e-15</td>\n      <td>0.000073</td>\n      <td>120.21590</td>\n      <td>7</td>\n      <td>6</td>\n      <td>19.27244</td>\n      <td>17.397330</td>\n      <td>...</td>\n      <td>6</td>\n      <td>19.519880</td>\n      <td>109.5645</td>\n      <td>0.014440</td>\n      <td>6.984805</td>\n      <td>2.000000e-10</td>\n      <td>2.080002e+06</td>\n      <td>0.0002</td>\n      <td>0.1</td>\n      <td>NaN</td>\n    </tr>\n    <tr>\n      <th>...</th>\n      <td>...</td>\n      <td>...</td>\n      <td>...</td>\n      <td>...</td>\n      <td>...</td>\n      <td>...</td>\n      <td>...</td>\n      <td>...</td>\n      <td>...</td>\n      <td>...</td>\n      <td>...</td>\n      <td>...</td>\n      <td>...</td>\n      <td>...</td>\n      <td>...</td>\n      <td>...</td>\n      <td>...</td>\n      <td>...</td>\n      <td>...</td>\n      <td>...</td>\n      <td>...</td>\n    </tr>\n    <tr>\n      <th>230045</th>\n      <td>899694</td>\n      <td>430764938470682</td>\n      <td>8.034107</td>\n      <td>1.000000e-15</td>\n      <td>0.000034</td>\n      <td>176.19630</td>\n      <td>7</td>\n      <td>6</td>\n      <td>17.49480</td>\n      <td>6.209679</td>\n      <td>...</td>\n      <td>6</td>\n      <td>15.720420</td>\n      <td>2286.6000</td>\n      <td>0.247431</td>\n      <td>5.506292</td>\n      <td>2.000000e-10</td>\n      <td>4.623389e+12</td>\n      <td>0.0200</td>\n      <td>5.0</td>\n      <td>NaN</td>\n    </tr>\n    <tr>\n      <th>230046</th>\n      <td>899795</td>\n      <td>931971495385373</td>\n      <td>15.378850</td>\n      <td>1.000000e-15</td>\n      <td>0.000065</td>\n      <td>127.11050</td>\n      <td>7</td>\n      <td>6</td>\n      <td>100.42560</td>\n      <td>15.113400</td>\n      <td>...</td>\n      <td>6</td>\n      <td>96.932100</td>\n      <td>10003.8200</td>\n      <td>0.132846</td>\n      <td>3.315733</td>\n      <td>2.000000e-10</td>\n      <td>1.990603e+14</td>\n      <td>0.0200</td>\n      <td>5.0</td>\n      <td>NaN</td>\n    </tr>\n    <tr>\n      <th>230047</th>\n      <td>899879</td>\n      <td>158937381720381</td>\n      <td>14.039520</td>\n      <td>1.000000e-15</td>\n      <td>0.000060</td>\n      <td>133.04060</td>\n      <td>7</td>\n      <td>6</td>\n      <td>81.94600</td>\n      <td>1.235519</td>\n      <td>...</td>\n      <td>5</td>\n      <td>3.711674</td>\n      <td>433.0090</td>\n      <td>0.511304</td>\n      <td>13.406500</td>\n      <td>2.000000e-10</td>\n      <td>6.887031e+09</td>\n      <td>0.0200</td>\n      <td>5.0</td>\n      <td>NaN</td>\n    </tr>\n    <tr>\n      <th>230048</th>\n      <td>899888</td>\n      <td>161831677695017</td>\n      <td>4.364386</td>\n      <td>1.000000e-15</td>\n      <td>0.000019</td>\n      <td>238.61120</td>\n      <td>7</td>\n      <td>6</td>\n      <td>13.42219</td>\n      <td>1.235519</td>\n      <td>...</td>\n      <td>5</td>\n      <td>4.082497</td>\n      <td>349.3680</td>\n      <td>0.584510</td>\n      <td>12.611660</td>\n      <td>2.000000e-10</td>\n      <td>1.712514e+10</td>\n      <td>0.0200</td>\n      <td>5.0</td>\n      <td>NaN</td>\n    </tr>\n    <tr>\n      <th>230049</th>\n      <td>1000488</td>\n      <td>183215713580816</td>\n      <td>9.248787</td>\n      <td>1.000000e-15</td>\n      <td>0.000038</td>\n      <td>167.38680</td>\n      <td>7</td>\n      <td>6</td>\n      <td>31.32840</td>\n      <td>9.906954</td>\n      <td>...</td>\n      <td>6</td>\n      <td>29.894390</td>\n      <td>6252.2870</td>\n      <td>0.545864</td>\n      <td>6.488538</td>\n      <td>2.000000e-10</td>\n      <td>3.783948e+13</td>\n      <td>0.0200</td>\n      <td>5.0</td>\n      <td>NaN</td>\n    </tr>\n  </tbody>\n</table>\n<p>230050 rows × 24 columns</p>\n</div>"
     },
     "metadata": {},
     "execution_count": 60
    }
   ],
   "source": [
    "df1 = df0.copy()\n",
    "df1[\"Merge_time_midpoint\"] = np.nan \n",
    "df1"
   ]
  },
  {
   "cell_type": "code",
   "execution_count": 61,
   "metadata": {},
   "outputs": [],
   "source": [
    "df1_dd = dd.from_pandas(df0, npartitions = 180) # in modo da replicare quanto c'è sul server di default"
   ]
  },
  {
   "cell_type": "code",
   "execution_count": 62,
   "metadata": {},
   "outputs": [],
   "source": [
    "df1_dd[\"Merge_time_midpoint\"] = np.nan \n",
    "df1_dd = df1_dd.apply(mid, axis = 1, raw = True, meta = df1_dd) # esattamente come con pandas puro"
   ]
  },
  {
   "cell_type": "code",
   "execution_count": 63,
   "metadata": {},
   "outputs": [
    {
     "output_type": "stream",
     "name": "stdout",
     "text": [
      "Wall time: 1min 28s\n"
     ]
    }
   ],
   "source": [
    "%%time\n",
    "# pandas\n",
    "df1 = df1.apply(mid, axis = 1, raw = True) # wall time di 1min 33s è perfettamente in linea con il fatto che se 2500 righe impiegano circa 1 secondo allora 230050 ne dovrebbero impiegare 230050/2500*1=92 secondi = 1 min 32 s"
   ]
  },
  {
   "cell_type": "code",
   "execution_count": 64,
   "metadata": {},
   "outputs": [
    {
     "output_type": "execute_result",
     "data": {
      "text/plain": [
       "               ID          name     Mass_0  Luminosity_0  Radius_0  \\\n",
       "0            92.0  6.231981e+14  43.898200  1.000000e-15  0.000186   \n",
       "1           112.0  5.864654e+14  23.048440  1.000000e-15  0.000098   \n",
       "2           124.0  2.142971e+14  36.259980  1.000000e-15  0.000154   \n",
       "3           154.0  5.595487e+14  38.306070  1.000000e-15  0.000163   \n",
       "4           180.0  4.247916e+14  17.229310  1.000000e-15  0.000073   \n",
       "...           ...           ...        ...           ...       ...   \n",
       "230045   899694.0  4.307649e+14   8.034107  1.000000e-15  0.000034   \n",
       "230046   899795.0  9.319715e+14  15.378850  1.000000e-15  0.000065   \n",
       "230047   899879.0  1.589374e+14  14.039520  1.000000e-15  0.000060   \n",
       "230048   899888.0  1.618317e+14   4.364386  1.000000e-15  0.000019   \n",
       "230049  1000488.0  1.832157e+14   9.248787  1.000000e-15  0.000038   \n",
       "\n",
       "        Temperature_0  Phase_0  RemnantType_0     Zams_0     Mass_1  ...  \\\n",
       "0            75.23506      7.0            6.0   44.67820  26.748790  ...   \n",
       "1           103.90500      7.0            6.0   26.01399  27.232310  ...   \n",
       "2            82.86009      7.0            6.0   43.63717  32.662180  ...   \n",
       "3            80.53965      7.0            6.0   86.13720  56.341010  ...   \n",
       "4           120.21590      7.0            6.0   19.27244  17.397330  ...   \n",
       "...               ...      ...            ...        ...        ...  ...   \n",
       "230045      176.19630      7.0            6.0   17.49480   6.209679  ...   \n",
       "230046      127.11050      7.0            6.0  100.42560  15.113400  ...   \n",
       "230047      133.04060      7.0            6.0   81.94600   1.235519  ...   \n",
       "230048      238.61120      7.0            6.0   13.42219   1.235519  ...   \n",
       "230049      167.38680      7.0            6.0   31.32840   9.906954  ...   \n",
       "\n",
       "        RemnantType_1     Zams_1   Semimajor  Eccentricity  BWorldtime  \\\n",
       "0                 6.0  31.791800   8218.0870      0.933191    6.255643   \n",
       "1                 6.0  30.988940    134.8864      0.009944    4.975206   \n",
       "2                 6.0  37.747990    481.9433      0.012562    4.733170   \n",
       "3                 6.0  57.456900  80356.4100      0.095792    4.171837   \n",
       "4                 6.0  19.519880    109.5645      0.014440    6.984805   \n",
       "...               ...        ...         ...           ...         ...   \n",
       "230045            6.0  15.720420   2286.6000      0.247431    5.506292   \n",
       "230046            6.0  96.932100  10003.8200      0.132846    3.315733   \n",
       "230047            5.0   3.711674    433.0090      0.511304   13.406500   \n",
       "230048            5.0   4.082497    349.3680      0.584510   12.611660   \n",
       "230049            6.0  29.894390   6252.2870      0.545864    6.488538   \n",
       "\n",
       "           BTimestep        GWtime       Z    A  Merge_time_midpoint  \n",
       "0       2.000000e-10  6.382552e+09  0.0002  0.1         6.382553e+07  \n",
       "1       2.000000e-10  1.572015e+06  0.0002  0.1         1.572513e+04  \n",
       "2       2.000000e-10  9.903180e+07  0.0002  0.1         9.903227e+05  \n",
       "3       2.000000e-10  2.963007e+16  0.0002  0.1         2.963007e+14  \n",
       "4       2.000000e-10  2.080002e+06  0.0002  0.1         2.080700e+04  \n",
       "...              ...           ...     ...  ...                  ...  \n",
       "230045  2.000000e-10  4.623389e+12  0.0200  5.0         4.623389e+10  \n",
       "230046  2.000000e-10  1.990603e+14  0.0200  5.0         1.990603e+12  \n",
       "230047  2.000000e-10  6.887031e+09  0.0200  5.0         6.887032e+07  \n",
       "230048  2.000000e-10  1.712514e+10  0.0200  5.0         1.712514e+08  \n",
       "230049  2.000000e-10  3.783948e+13  0.0200  5.0         3.783948e+11  \n",
       "\n",
       "[230050 rows x 24 columns]"
      ],
      "text/html": "<div>\n<style scoped>\n    .dataframe tbody tr th:only-of-type {\n        vertical-align: middle;\n    }\n\n    .dataframe tbody tr th {\n        vertical-align: top;\n    }\n\n    .dataframe thead th {\n        text-align: right;\n    }\n</style>\n<table border=\"1\" class=\"dataframe\">\n  <thead>\n    <tr style=\"text-align: right;\">\n      <th></th>\n      <th>ID</th>\n      <th>name</th>\n      <th>Mass_0</th>\n      <th>Luminosity_0</th>\n      <th>Radius_0</th>\n      <th>Temperature_0</th>\n      <th>Phase_0</th>\n      <th>RemnantType_0</th>\n      <th>Zams_0</th>\n      <th>Mass_1</th>\n      <th>...</th>\n      <th>RemnantType_1</th>\n      <th>Zams_1</th>\n      <th>Semimajor</th>\n      <th>Eccentricity</th>\n      <th>BWorldtime</th>\n      <th>BTimestep</th>\n      <th>GWtime</th>\n      <th>Z</th>\n      <th>A</th>\n      <th>Merge_time_midpoint</th>\n    </tr>\n  </thead>\n  <tbody>\n    <tr>\n      <th>0</th>\n      <td>92.0</td>\n      <td>6.231981e+14</td>\n      <td>43.898200</td>\n      <td>1.000000e-15</td>\n      <td>0.000186</td>\n      <td>75.23506</td>\n      <td>7.0</td>\n      <td>6.0</td>\n      <td>44.67820</td>\n      <td>26.748790</td>\n      <td>...</td>\n      <td>6.0</td>\n      <td>31.791800</td>\n      <td>8218.0870</td>\n      <td>0.933191</td>\n      <td>6.255643</td>\n      <td>2.000000e-10</td>\n      <td>6.382552e+09</td>\n      <td>0.0002</td>\n      <td>0.1</td>\n      <td>6.382553e+07</td>\n    </tr>\n    <tr>\n      <th>1</th>\n      <td>112.0</td>\n      <td>5.864654e+14</td>\n      <td>23.048440</td>\n      <td>1.000000e-15</td>\n      <td>0.000098</td>\n      <td>103.90500</td>\n      <td>7.0</td>\n      <td>6.0</td>\n      <td>26.01399</td>\n      <td>27.232310</td>\n      <td>...</td>\n      <td>6.0</td>\n      <td>30.988940</td>\n      <td>134.8864</td>\n      <td>0.009944</td>\n      <td>4.975206</td>\n      <td>2.000000e-10</td>\n      <td>1.572015e+06</td>\n      <td>0.0002</td>\n      <td>0.1</td>\n      <td>1.572513e+04</td>\n    </tr>\n    <tr>\n      <th>2</th>\n      <td>124.0</td>\n      <td>2.142971e+14</td>\n      <td>36.259980</td>\n      <td>1.000000e-15</td>\n      <td>0.000154</td>\n      <td>82.86009</td>\n      <td>7.0</td>\n      <td>6.0</td>\n      <td>43.63717</td>\n      <td>32.662180</td>\n      <td>...</td>\n      <td>6.0</td>\n      <td>37.747990</td>\n      <td>481.9433</td>\n      <td>0.012562</td>\n      <td>4.733170</td>\n      <td>2.000000e-10</td>\n      <td>9.903180e+07</td>\n      <td>0.0002</td>\n      <td>0.1</td>\n      <td>9.903227e+05</td>\n    </tr>\n    <tr>\n      <th>3</th>\n      <td>154.0</td>\n      <td>5.595487e+14</td>\n      <td>38.306070</td>\n      <td>1.000000e-15</td>\n      <td>0.000163</td>\n      <td>80.53965</td>\n      <td>7.0</td>\n      <td>6.0</td>\n      <td>86.13720</td>\n      <td>56.341010</td>\n      <td>...</td>\n      <td>6.0</td>\n      <td>57.456900</td>\n      <td>80356.4100</td>\n      <td>0.095792</td>\n      <td>4.171837</td>\n      <td>2.000000e-10</td>\n      <td>2.963007e+16</td>\n      <td>0.0002</td>\n      <td>0.1</td>\n      <td>2.963007e+14</td>\n    </tr>\n    <tr>\n      <th>4</th>\n      <td>180.0</td>\n      <td>4.247916e+14</td>\n      <td>17.229310</td>\n      <td>1.000000e-15</td>\n      <td>0.000073</td>\n      <td>120.21590</td>\n      <td>7.0</td>\n      <td>6.0</td>\n      <td>19.27244</td>\n      <td>17.397330</td>\n      <td>...</td>\n      <td>6.0</td>\n      <td>19.519880</td>\n      <td>109.5645</td>\n      <td>0.014440</td>\n      <td>6.984805</td>\n      <td>2.000000e-10</td>\n      <td>2.080002e+06</td>\n      <td>0.0002</td>\n      <td>0.1</td>\n      <td>2.080700e+04</td>\n    </tr>\n    <tr>\n      <th>...</th>\n      <td>...</td>\n      <td>...</td>\n      <td>...</td>\n      <td>...</td>\n      <td>...</td>\n      <td>...</td>\n      <td>...</td>\n      <td>...</td>\n      <td>...</td>\n      <td>...</td>\n      <td>...</td>\n      <td>...</td>\n      <td>...</td>\n      <td>...</td>\n      <td>...</td>\n      <td>...</td>\n      <td>...</td>\n      <td>...</td>\n      <td>...</td>\n      <td>...</td>\n      <td>...</td>\n    </tr>\n    <tr>\n      <th>230045</th>\n      <td>899694.0</td>\n      <td>4.307649e+14</td>\n      <td>8.034107</td>\n      <td>1.000000e-15</td>\n      <td>0.000034</td>\n      <td>176.19630</td>\n      <td>7.0</td>\n      <td>6.0</td>\n      <td>17.49480</td>\n      <td>6.209679</td>\n      <td>...</td>\n      <td>6.0</td>\n      <td>15.720420</td>\n      <td>2286.6000</td>\n      <td>0.247431</td>\n      <td>5.506292</td>\n      <td>2.000000e-10</td>\n      <td>4.623389e+12</td>\n      <td>0.0200</td>\n      <td>5.0</td>\n      <td>4.623389e+10</td>\n    </tr>\n    <tr>\n      <th>230046</th>\n      <td>899795.0</td>\n      <td>9.319715e+14</td>\n      <td>15.378850</td>\n      <td>1.000000e-15</td>\n      <td>0.000065</td>\n      <td>127.11050</td>\n      <td>7.0</td>\n      <td>6.0</td>\n      <td>100.42560</td>\n      <td>15.113400</td>\n      <td>...</td>\n      <td>6.0</td>\n      <td>96.932100</td>\n      <td>10003.8200</td>\n      <td>0.132846</td>\n      <td>3.315733</td>\n      <td>2.000000e-10</td>\n      <td>1.990603e+14</td>\n      <td>0.0200</td>\n      <td>5.0</td>\n      <td>1.990603e+12</td>\n    </tr>\n    <tr>\n      <th>230047</th>\n      <td>899879.0</td>\n      <td>1.589374e+14</td>\n      <td>14.039520</td>\n      <td>1.000000e-15</td>\n      <td>0.000060</td>\n      <td>133.04060</td>\n      <td>7.0</td>\n      <td>6.0</td>\n      <td>81.94600</td>\n      <td>1.235519</td>\n      <td>...</td>\n      <td>5.0</td>\n      <td>3.711674</td>\n      <td>433.0090</td>\n      <td>0.511304</td>\n      <td>13.406500</td>\n      <td>2.000000e-10</td>\n      <td>6.887031e+09</td>\n      <td>0.0200</td>\n      <td>5.0</td>\n      <td>6.887032e+07</td>\n    </tr>\n    <tr>\n      <th>230048</th>\n      <td>899888.0</td>\n      <td>1.618317e+14</td>\n      <td>4.364386</td>\n      <td>1.000000e-15</td>\n      <td>0.000019</td>\n      <td>238.61120</td>\n      <td>7.0</td>\n      <td>6.0</td>\n      <td>13.42219</td>\n      <td>1.235519</td>\n      <td>...</td>\n      <td>5.0</td>\n      <td>4.082497</td>\n      <td>349.3680</td>\n      <td>0.584510</td>\n      <td>12.611660</td>\n      <td>2.000000e-10</td>\n      <td>1.712514e+10</td>\n      <td>0.0200</td>\n      <td>5.0</td>\n      <td>1.712514e+08</td>\n    </tr>\n    <tr>\n      <th>230049</th>\n      <td>1000488.0</td>\n      <td>1.832157e+14</td>\n      <td>9.248787</td>\n      <td>1.000000e-15</td>\n      <td>0.000038</td>\n      <td>167.38680</td>\n      <td>7.0</td>\n      <td>6.0</td>\n      <td>31.32840</td>\n      <td>9.906954</td>\n      <td>...</td>\n      <td>6.0</td>\n      <td>29.894390</td>\n      <td>6252.2870</td>\n      <td>0.545864</td>\n      <td>6.488538</td>\n      <td>2.000000e-10</td>\n      <td>3.783948e+13</td>\n      <td>0.0200</td>\n      <td>5.0</td>\n      <td>3.783948e+11</td>\n    </tr>\n  </tbody>\n</table>\n<p>230050 rows × 24 columns</p>\n</div>"
     },
     "metadata": {},
     "execution_count": 64
    }
   ],
   "source": [
    "df1"
   ]
  },
  {
   "cell_type": "code",
   "execution_count": 82,
   "metadata": {},
   "outputs": [],
   "source": [
    "df1.to_csv(\"df1_mid.csv\")"
   ]
  },
  {
   "cell_type": "code",
   "execution_count": 65,
   "metadata": {},
   "outputs": [],
   "source": [
    "# pandas ma con Eulero\n",
    "df1_eu = df0.copy()\n",
    "df1_eu[\"Merge_time_euler\"] = np.nan "
   ]
  },
  {
   "cell_type": "code",
   "execution_count": 66,
   "metadata": {},
   "outputs": [
    {
     "output_type": "stream",
     "name": "stdout",
     "text": [
      "Wall time: 58.3 s\n"
     ]
    }
   ],
   "source": [
    "%%time\n",
    "df1_eu = df1_eu.apply(eu, axis = 1, raw = True) # wall time di 1min 1s: più veloce di circa 30 secondi di midpoint (ragionevole: un po' più veloce ma non di troppo)"
   ]
  },
  {
   "cell_type": "code",
   "execution_count": 67,
   "metadata": {},
   "outputs": [
    {
     "output_type": "execute_result",
     "data": {
      "text/plain": [
       "               ID          name     Mass_0  Luminosity_0  Radius_0  \\\n",
       "0            92.0  6.231981e+14  43.898200  1.000000e-15  0.000186   \n",
       "1           112.0  5.864654e+14  23.048440  1.000000e-15  0.000098   \n",
       "2           124.0  2.142971e+14  36.259980  1.000000e-15  0.000154   \n",
       "3           154.0  5.595487e+14  38.306070  1.000000e-15  0.000163   \n",
       "4           180.0  4.247916e+14  17.229310  1.000000e-15  0.000073   \n",
       "...           ...           ...        ...           ...       ...   \n",
       "230045   899694.0  4.307649e+14   8.034107  1.000000e-15  0.000034   \n",
       "230046   899795.0  9.319715e+14  15.378850  1.000000e-15  0.000065   \n",
       "230047   899879.0  1.589374e+14  14.039520  1.000000e-15  0.000060   \n",
       "230048   899888.0  1.618317e+14   4.364386  1.000000e-15  0.000019   \n",
       "230049  1000488.0  1.832157e+14   9.248787  1.000000e-15  0.000038   \n",
       "\n",
       "        Temperature_0  Phase_0  RemnantType_0     Zams_0     Mass_1  ...  \\\n",
       "0            75.23506      7.0            6.0   44.67820  26.748790  ...   \n",
       "1           103.90500      7.0            6.0   26.01399  27.232310  ...   \n",
       "2            82.86009      7.0            6.0   43.63717  32.662180  ...   \n",
       "3            80.53965      7.0            6.0   86.13720  56.341010  ...   \n",
       "4           120.21590      7.0            6.0   19.27244  17.397330  ...   \n",
       "...               ...      ...            ...        ...        ...  ...   \n",
       "230045      176.19630      7.0            6.0   17.49480   6.209679  ...   \n",
       "230046      127.11050      7.0            6.0  100.42560  15.113400  ...   \n",
       "230047      133.04060      7.0            6.0   81.94600   1.235519  ...   \n",
       "230048      238.61120      7.0            6.0   13.42219   1.235519  ...   \n",
       "230049      167.38680      7.0            6.0   31.32840   9.906954  ...   \n",
       "\n",
       "        RemnantType_1     Zams_1   Semimajor  Eccentricity  BWorldtime  \\\n",
       "0                 6.0  31.791800   8218.0870      0.933191    6.255643   \n",
       "1                 6.0  30.988940    134.8864      0.009944    4.975206   \n",
       "2                 6.0  37.747990    481.9433      0.012562    4.733170   \n",
       "3                 6.0  57.456900  80356.4100      0.095792    4.171837   \n",
       "4                 6.0  19.519880    109.5645      0.014440    6.984805   \n",
       "...               ...        ...         ...           ...         ...   \n",
       "230045            6.0  15.720420   2286.6000      0.247431    5.506292   \n",
       "230046            6.0  96.932100  10003.8200      0.132846    3.315733   \n",
       "230047            5.0   3.711674    433.0090      0.511304   13.406500   \n",
       "230048            5.0   4.082497    349.3680      0.584510   12.611660   \n",
       "230049            6.0  29.894390   6252.2870      0.545864    6.488538   \n",
       "\n",
       "           BTimestep        GWtime       Z    A  Merge_time_euler  \n",
       "0       2.000000e-10  6.382552e+09  0.0002  0.1      6.382553e+07  \n",
       "1       2.000000e-10  1.572015e+06  0.0002  0.1      1.572513e+04  \n",
       "2       2.000000e-10  9.903180e+07  0.0002  0.1      9.903227e+05  \n",
       "3       2.000000e-10  2.963007e+16  0.0002  0.1      2.963007e+14  \n",
       "4       2.000000e-10  2.080002e+06  0.0002  0.1      2.080700e+04  \n",
       "...              ...           ...     ...  ...               ...  \n",
       "230045  2.000000e-10  4.623389e+12  0.0200  5.0      4.623389e+10  \n",
       "230046  2.000000e-10  1.990603e+14  0.0200  5.0      1.990603e+12  \n",
       "230047  2.000000e-10  6.887031e+09  0.0200  5.0      6.887032e+07  \n",
       "230048  2.000000e-10  1.712514e+10  0.0200  5.0      1.712514e+08  \n",
       "230049  2.000000e-10  3.783948e+13  0.0200  5.0      3.783948e+11  \n",
       "\n",
       "[230050 rows x 24 columns]"
      ],
      "text/html": "<div>\n<style scoped>\n    .dataframe tbody tr th:only-of-type {\n        vertical-align: middle;\n    }\n\n    .dataframe tbody tr th {\n        vertical-align: top;\n    }\n\n    .dataframe thead th {\n        text-align: right;\n    }\n</style>\n<table border=\"1\" class=\"dataframe\">\n  <thead>\n    <tr style=\"text-align: right;\">\n      <th></th>\n      <th>ID</th>\n      <th>name</th>\n      <th>Mass_0</th>\n      <th>Luminosity_0</th>\n      <th>Radius_0</th>\n      <th>Temperature_0</th>\n      <th>Phase_0</th>\n      <th>RemnantType_0</th>\n      <th>Zams_0</th>\n      <th>Mass_1</th>\n      <th>...</th>\n      <th>RemnantType_1</th>\n      <th>Zams_1</th>\n      <th>Semimajor</th>\n      <th>Eccentricity</th>\n      <th>BWorldtime</th>\n      <th>BTimestep</th>\n      <th>GWtime</th>\n      <th>Z</th>\n      <th>A</th>\n      <th>Merge_time_euler</th>\n    </tr>\n  </thead>\n  <tbody>\n    <tr>\n      <th>0</th>\n      <td>92.0</td>\n      <td>6.231981e+14</td>\n      <td>43.898200</td>\n      <td>1.000000e-15</td>\n      <td>0.000186</td>\n      <td>75.23506</td>\n      <td>7.0</td>\n      <td>6.0</td>\n      <td>44.67820</td>\n      <td>26.748790</td>\n      <td>...</td>\n      <td>6.0</td>\n      <td>31.791800</td>\n      <td>8218.0870</td>\n      <td>0.933191</td>\n      <td>6.255643</td>\n      <td>2.000000e-10</td>\n      <td>6.382552e+09</td>\n      <td>0.0002</td>\n      <td>0.1</td>\n      <td>6.382553e+07</td>\n    </tr>\n    <tr>\n      <th>1</th>\n      <td>112.0</td>\n      <td>5.864654e+14</td>\n      <td>23.048440</td>\n      <td>1.000000e-15</td>\n      <td>0.000098</td>\n      <td>103.90500</td>\n      <td>7.0</td>\n      <td>6.0</td>\n      <td>26.01399</td>\n      <td>27.232310</td>\n      <td>...</td>\n      <td>6.0</td>\n      <td>30.988940</td>\n      <td>134.8864</td>\n      <td>0.009944</td>\n      <td>4.975206</td>\n      <td>2.000000e-10</td>\n      <td>1.572015e+06</td>\n      <td>0.0002</td>\n      <td>0.1</td>\n      <td>1.572513e+04</td>\n    </tr>\n    <tr>\n      <th>2</th>\n      <td>124.0</td>\n      <td>2.142971e+14</td>\n      <td>36.259980</td>\n      <td>1.000000e-15</td>\n      <td>0.000154</td>\n      <td>82.86009</td>\n      <td>7.0</td>\n      <td>6.0</td>\n      <td>43.63717</td>\n      <td>32.662180</td>\n      <td>...</td>\n      <td>6.0</td>\n      <td>37.747990</td>\n      <td>481.9433</td>\n      <td>0.012562</td>\n      <td>4.733170</td>\n      <td>2.000000e-10</td>\n      <td>9.903180e+07</td>\n      <td>0.0002</td>\n      <td>0.1</td>\n      <td>9.903227e+05</td>\n    </tr>\n    <tr>\n      <th>3</th>\n      <td>154.0</td>\n      <td>5.595487e+14</td>\n      <td>38.306070</td>\n      <td>1.000000e-15</td>\n      <td>0.000163</td>\n      <td>80.53965</td>\n      <td>7.0</td>\n      <td>6.0</td>\n      <td>86.13720</td>\n      <td>56.341010</td>\n      <td>...</td>\n      <td>6.0</td>\n      <td>57.456900</td>\n      <td>80356.4100</td>\n      <td>0.095792</td>\n      <td>4.171837</td>\n      <td>2.000000e-10</td>\n      <td>2.963007e+16</td>\n      <td>0.0002</td>\n      <td>0.1</td>\n      <td>2.963007e+14</td>\n    </tr>\n    <tr>\n      <th>4</th>\n      <td>180.0</td>\n      <td>4.247916e+14</td>\n      <td>17.229310</td>\n      <td>1.000000e-15</td>\n      <td>0.000073</td>\n      <td>120.21590</td>\n      <td>7.0</td>\n      <td>6.0</td>\n      <td>19.27244</td>\n      <td>17.397330</td>\n      <td>...</td>\n      <td>6.0</td>\n      <td>19.519880</td>\n      <td>109.5645</td>\n      <td>0.014440</td>\n      <td>6.984805</td>\n      <td>2.000000e-10</td>\n      <td>2.080002e+06</td>\n      <td>0.0002</td>\n      <td>0.1</td>\n      <td>2.080700e+04</td>\n    </tr>\n    <tr>\n      <th>...</th>\n      <td>...</td>\n      <td>...</td>\n      <td>...</td>\n      <td>...</td>\n      <td>...</td>\n      <td>...</td>\n      <td>...</td>\n      <td>...</td>\n      <td>...</td>\n      <td>...</td>\n      <td>...</td>\n      <td>...</td>\n      <td>...</td>\n      <td>...</td>\n      <td>...</td>\n      <td>...</td>\n      <td>...</td>\n      <td>...</td>\n      <td>...</td>\n      <td>...</td>\n      <td>...</td>\n    </tr>\n    <tr>\n      <th>230045</th>\n      <td>899694.0</td>\n      <td>4.307649e+14</td>\n      <td>8.034107</td>\n      <td>1.000000e-15</td>\n      <td>0.000034</td>\n      <td>176.19630</td>\n      <td>7.0</td>\n      <td>6.0</td>\n      <td>17.49480</td>\n      <td>6.209679</td>\n      <td>...</td>\n      <td>6.0</td>\n      <td>15.720420</td>\n      <td>2286.6000</td>\n      <td>0.247431</td>\n      <td>5.506292</td>\n      <td>2.000000e-10</td>\n      <td>4.623389e+12</td>\n      <td>0.0200</td>\n      <td>5.0</td>\n      <td>4.623389e+10</td>\n    </tr>\n    <tr>\n      <th>230046</th>\n      <td>899795.0</td>\n      <td>9.319715e+14</td>\n      <td>15.378850</td>\n      <td>1.000000e-15</td>\n      <td>0.000065</td>\n      <td>127.11050</td>\n      <td>7.0</td>\n      <td>6.0</td>\n      <td>100.42560</td>\n      <td>15.113400</td>\n      <td>...</td>\n      <td>6.0</td>\n      <td>96.932100</td>\n      <td>10003.8200</td>\n      <td>0.132846</td>\n      <td>3.315733</td>\n      <td>2.000000e-10</td>\n      <td>1.990603e+14</td>\n      <td>0.0200</td>\n      <td>5.0</td>\n      <td>1.990603e+12</td>\n    </tr>\n    <tr>\n      <th>230047</th>\n      <td>899879.0</td>\n      <td>1.589374e+14</td>\n      <td>14.039520</td>\n      <td>1.000000e-15</td>\n      <td>0.000060</td>\n      <td>133.04060</td>\n      <td>7.0</td>\n      <td>6.0</td>\n      <td>81.94600</td>\n      <td>1.235519</td>\n      <td>...</td>\n      <td>5.0</td>\n      <td>3.711674</td>\n      <td>433.0090</td>\n      <td>0.511304</td>\n      <td>13.406500</td>\n      <td>2.000000e-10</td>\n      <td>6.887031e+09</td>\n      <td>0.0200</td>\n      <td>5.0</td>\n      <td>6.887032e+07</td>\n    </tr>\n    <tr>\n      <th>230048</th>\n      <td>899888.0</td>\n      <td>1.618317e+14</td>\n      <td>4.364386</td>\n      <td>1.000000e-15</td>\n      <td>0.000019</td>\n      <td>238.61120</td>\n      <td>7.0</td>\n      <td>6.0</td>\n      <td>13.42219</td>\n      <td>1.235519</td>\n      <td>...</td>\n      <td>5.0</td>\n      <td>4.082497</td>\n      <td>349.3680</td>\n      <td>0.584510</td>\n      <td>12.611660</td>\n      <td>2.000000e-10</td>\n      <td>1.712514e+10</td>\n      <td>0.0200</td>\n      <td>5.0</td>\n      <td>1.712514e+08</td>\n    </tr>\n    <tr>\n      <th>230049</th>\n      <td>1000488.0</td>\n      <td>1.832157e+14</td>\n      <td>9.248787</td>\n      <td>1.000000e-15</td>\n      <td>0.000038</td>\n      <td>167.38680</td>\n      <td>7.0</td>\n      <td>6.0</td>\n      <td>31.32840</td>\n      <td>9.906954</td>\n      <td>...</td>\n      <td>6.0</td>\n      <td>29.894390</td>\n      <td>6252.2870</td>\n      <td>0.545864</td>\n      <td>6.488538</td>\n      <td>2.000000e-10</td>\n      <td>3.783948e+13</td>\n      <td>0.0200</td>\n      <td>5.0</td>\n      <td>3.783948e+11</td>\n    </tr>\n  </tbody>\n</table>\n<p>230050 rows × 24 columns</p>\n</div>"
     },
     "metadata": {},
     "execution_count": 67
    }
   ],
   "source": [
    "df1_eu"
   ]
  },
  {
   "cell_type": "code",
   "execution_count": 68,
   "metadata": {},
   "outputs": [
    {
     "output_type": "stream",
     "name": "stdout",
     "text": [
      "Wall time: 1min 32s\n"
     ]
    }
   ],
   "source": [
    "%%time\n",
    "# dask\n",
    "df1_dd_computed = df1_dd.compute() # interessante, lo stesso identico wall time di 1min 33s..! Ma questo è solo apply, non è banale cosa accada con map partitions - che però per ora non ho voglia di implementare, ops"
   ]
  },
  {
   "cell_type": "code",
   "execution_count": 69,
   "metadata": {},
   "outputs": [
    {
     "output_type": "execute_result",
     "data": {
      "text/plain": [
       "               ID          name     Mass_0  Luminosity_0  Radius_0  \\\n",
       "0            92.0  6.231981e+14  43.898200  1.000000e-15  0.000186   \n",
       "1           112.0  5.864654e+14  23.048440  1.000000e-15  0.000098   \n",
       "2           124.0  2.142971e+14  36.259980  1.000000e-15  0.000154   \n",
       "3           154.0  5.595487e+14  38.306070  1.000000e-15  0.000163   \n",
       "4           180.0  4.247916e+14  17.229310  1.000000e-15  0.000073   \n",
       "...           ...           ...        ...           ...       ...   \n",
       "230045   899694.0  4.307649e+14   8.034107  1.000000e-15  0.000034   \n",
       "230046   899795.0  9.319715e+14  15.378850  1.000000e-15  0.000065   \n",
       "230047   899879.0  1.589374e+14  14.039520  1.000000e-15  0.000060   \n",
       "230048   899888.0  1.618317e+14   4.364386  1.000000e-15  0.000019   \n",
       "230049  1000488.0  1.832157e+14   9.248787  1.000000e-15  0.000038   \n",
       "\n",
       "        Temperature_0  Phase_0  RemnantType_0     Zams_0     Mass_1  ...  \\\n",
       "0            75.23506      7.0            6.0   44.67820  26.748790  ...   \n",
       "1           103.90500      7.0            6.0   26.01399  27.232310  ...   \n",
       "2            82.86009      7.0            6.0   43.63717  32.662180  ...   \n",
       "3            80.53965      7.0            6.0   86.13720  56.341010  ...   \n",
       "4           120.21590      7.0            6.0   19.27244  17.397330  ...   \n",
       "...               ...      ...            ...        ...        ...  ...   \n",
       "230045      176.19630      7.0            6.0   17.49480   6.209679  ...   \n",
       "230046      127.11050      7.0            6.0  100.42560  15.113400  ...   \n",
       "230047      133.04060      7.0            6.0   81.94600   1.235519  ...   \n",
       "230048      238.61120      7.0            6.0   13.42219   1.235519  ...   \n",
       "230049      167.38680      7.0            6.0   31.32840   9.906954  ...   \n",
       "\n",
       "        RemnantType_1     Zams_1   Semimajor  Eccentricity  BWorldtime  \\\n",
       "0                 6.0  31.791800   8218.0870      0.933191    6.255643   \n",
       "1                 6.0  30.988940    134.8864      0.009944    4.975206   \n",
       "2                 6.0  37.747990    481.9433      0.012562    4.733170   \n",
       "3                 6.0  57.456900  80356.4100      0.095792    4.171837   \n",
       "4                 6.0  19.519880    109.5645      0.014440    6.984805   \n",
       "...               ...        ...         ...           ...         ...   \n",
       "230045            6.0  15.720420   2286.6000      0.247431    5.506292   \n",
       "230046            6.0  96.932100  10003.8200      0.132846    3.315733   \n",
       "230047            5.0   3.711674    433.0090      0.511304   13.406500   \n",
       "230048            5.0   4.082497    349.3680      0.584510   12.611660   \n",
       "230049            6.0  29.894390   6252.2870      0.545864    6.488538   \n",
       "\n",
       "           BTimestep        GWtime       Z    A  Merge_time_midpoint  \n",
       "0       2.000000e-10  6.382552e+09  0.0002  0.1         6.382553e+07  \n",
       "1       2.000000e-10  1.572015e+06  0.0002  0.1         1.572513e+04  \n",
       "2       2.000000e-10  9.903180e+07  0.0002  0.1         9.903227e+05  \n",
       "3       2.000000e-10  2.963007e+16  0.0002  0.1         2.963007e+14  \n",
       "4       2.000000e-10  2.080002e+06  0.0002  0.1         2.080700e+04  \n",
       "...              ...           ...     ...  ...                  ...  \n",
       "230045  2.000000e-10  4.623389e+12  0.0200  5.0         4.623389e+10  \n",
       "230046  2.000000e-10  1.990603e+14  0.0200  5.0         1.990603e+12  \n",
       "230047  2.000000e-10  6.887031e+09  0.0200  5.0         6.887032e+07  \n",
       "230048  2.000000e-10  1.712514e+10  0.0200  5.0         1.712514e+08  \n",
       "230049  2.000000e-10  3.783948e+13  0.0200  5.0         3.783948e+11  \n",
       "\n",
       "[230050 rows x 24 columns]"
      ],
      "text/html": "<div>\n<style scoped>\n    .dataframe tbody tr th:only-of-type {\n        vertical-align: middle;\n    }\n\n    .dataframe tbody tr th {\n        vertical-align: top;\n    }\n\n    .dataframe thead th {\n        text-align: right;\n    }\n</style>\n<table border=\"1\" class=\"dataframe\">\n  <thead>\n    <tr style=\"text-align: right;\">\n      <th></th>\n      <th>ID</th>\n      <th>name</th>\n      <th>Mass_0</th>\n      <th>Luminosity_0</th>\n      <th>Radius_0</th>\n      <th>Temperature_0</th>\n      <th>Phase_0</th>\n      <th>RemnantType_0</th>\n      <th>Zams_0</th>\n      <th>Mass_1</th>\n      <th>...</th>\n      <th>RemnantType_1</th>\n      <th>Zams_1</th>\n      <th>Semimajor</th>\n      <th>Eccentricity</th>\n      <th>BWorldtime</th>\n      <th>BTimestep</th>\n      <th>GWtime</th>\n      <th>Z</th>\n      <th>A</th>\n      <th>Merge_time_midpoint</th>\n    </tr>\n  </thead>\n  <tbody>\n    <tr>\n      <th>0</th>\n      <td>92.0</td>\n      <td>6.231981e+14</td>\n      <td>43.898200</td>\n      <td>1.000000e-15</td>\n      <td>0.000186</td>\n      <td>75.23506</td>\n      <td>7.0</td>\n      <td>6.0</td>\n      <td>44.67820</td>\n      <td>26.748790</td>\n      <td>...</td>\n      <td>6.0</td>\n      <td>31.791800</td>\n      <td>8218.0870</td>\n      <td>0.933191</td>\n      <td>6.255643</td>\n      <td>2.000000e-10</td>\n      <td>6.382552e+09</td>\n      <td>0.0002</td>\n      <td>0.1</td>\n      <td>6.382553e+07</td>\n    </tr>\n    <tr>\n      <th>1</th>\n      <td>112.0</td>\n      <td>5.864654e+14</td>\n      <td>23.048440</td>\n      <td>1.000000e-15</td>\n      <td>0.000098</td>\n      <td>103.90500</td>\n      <td>7.0</td>\n      <td>6.0</td>\n      <td>26.01399</td>\n      <td>27.232310</td>\n      <td>...</td>\n      <td>6.0</td>\n      <td>30.988940</td>\n      <td>134.8864</td>\n      <td>0.009944</td>\n      <td>4.975206</td>\n      <td>2.000000e-10</td>\n      <td>1.572015e+06</td>\n      <td>0.0002</td>\n      <td>0.1</td>\n      <td>1.572513e+04</td>\n    </tr>\n    <tr>\n      <th>2</th>\n      <td>124.0</td>\n      <td>2.142971e+14</td>\n      <td>36.259980</td>\n      <td>1.000000e-15</td>\n      <td>0.000154</td>\n      <td>82.86009</td>\n      <td>7.0</td>\n      <td>6.0</td>\n      <td>43.63717</td>\n      <td>32.662180</td>\n      <td>...</td>\n      <td>6.0</td>\n      <td>37.747990</td>\n      <td>481.9433</td>\n      <td>0.012562</td>\n      <td>4.733170</td>\n      <td>2.000000e-10</td>\n      <td>9.903180e+07</td>\n      <td>0.0002</td>\n      <td>0.1</td>\n      <td>9.903227e+05</td>\n    </tr>\n    <tr>\n      <th>3</th>\n      <td>154.0</td>\n      <td>5.595487e+14</td>\n      <td>38.306070</td>\n      <td>1.000000e-15</td>\n      <td>0.000163</td>\n      <td>80.53965</td>\n      <td>7.0</td>\n      <td>6.0</td>\n      <td>86.13720</td>\n      <td>56.341010</td>\n      <td>...</td>\n      <td>6.0</td>\n      <td>57.456900</td>\n      <td>80356.4100</td>\n      <td>0.095792</td>\n      <td>4.171837</td>\n      <td>2.000000e-10</td>\n      <td>2.963007e+16</td>\n      <td>0.0002</td>\n      <td>0.1</td>\n      <td>2.963007e+14</td>\n    </tr>\n    <tr>\n      <th>4</th>\n      <td>180.0</td>\n      <td>4.247916e+14</td>\n      <td>17.229310</td>\n      <td>1.000000e-15</td>\n      <td>0.000073</td>\n      <td>120.21590</td>\n      <td>7.0</td>\n      <td>6.0</td>\n      <td>19.27244</td>\n      <td>17.397330</td>\n      <td>...</td>\n      <td>6.0</td>\n      <td>19.519880</td>\n      <td>109.5645</td>\n      <td>0.014440</td>\n      <td>6.984805</td>\n      <td>2.000000e-10</td>\n      <td>2.080002e+06</td>\n      <td>0.0002</td>\n      <td>0.1</td>\n      <td>2.080700e+04</td>\n    </tr>\n    <tr>\n      <th>...</th>\n      <td>...</td>\n      <td>...</td>\n      <td>...</td>\n      <td>...</td>\n      <td>...</td>\n      <td>...</td>\n      <td>...</td>\n      <td>...</td>\n      <td>...</td>\n      <td>...</td>\n      <td>...</td>\n      <td>...</td>\n      <td>...</td>\n      <td>...</td>\n      <td>...</td>\n      <td>...</td>\n      <td>...</td>\n      <td>...</td>\n      <td>...</td>\n      <td>...</td>\n      <td>...</td>\n    </tr>\n    <tr>\n      <th>230045</th>\n      <td>899694.0</td>\n      <td>4.307649e+14</td>\n      <td>8.034107</td>\n      <td>1.000000e-15</td>\n      <td>0.000034</td>\n      <td>176.19630</td>\n      <td>7.0</td>\n      <td>6.0</td>\n      <td>17.49480</td>\n      <td>6.209679</td>\n      <td>...</td>\n      <td>6.0</td>\n      <td>15.720420</td>\n      <td>2286.6000</td>\n      <td>0.247431</td>\n      <td>5.506292</td>\n      <td>2.000000e-10</td>\n      <td>4.623389e+12</td>\n      <td>0.0200</td>\n      <td>5.0</td>\n      <td>4.623389e+10</td>\n    </tr>\n    <tr>\n      <th>230046</th>\n      <td>899795.0</td>\n      <td>9.319715e+14</td>\n      <td>15.378850</td>\n      <td>1.000000e-15</td>\n      <td>0.000065</td>\n      <td>127.11050</td>\n      <td>7.0</td>\n      <td>6.0</td>\n      <td>100.42560</td>\n      <td>15.113400</td>\n      <td>...</td>\n      <td>6.0</td>\n      <td>96.932100</td>\n      <td>10003.8200</td>\n      <td>0.132846</td>\n      <td>3.315733</td>\n      <td>2.000000e-10</td>\n      <td>1.990603e+14</td>\n      <td>0.0200</td>\n      <td>5.0</td>\n      <td>1.990603e+12</td>\n    </tr>\n    <tr>\n      <th>230047</th>\n      <td>899879.0</td>\n      <td>1.589374e+14</td>\n      <td>14.039520</td>\n      <td>1.000000e-15</td>\n      <td>0.000060</td>\n      <td>133.04060</td>\n      <td>7.0</td>\n      <td>6.0</td>\n      <td>81.94600</td>\n      <td>1.235519</td>\n      <td>...</td>\n      <td>5.0</td>\n      <td>3.711674</td>\n      <td>433.0090</td>\n      <td>0.511304</td>\n      <td>13.406500</td>\n      <td>2.000000e-10</td>\n      <td>6.887031e+09</td>\n      <td>0.0200</td>\n      <td>5.0</td>\n      <td>6.887032e+07</td>\n    </tr>\n    <tr>\n      <th>230048</th>\n      <td>899888.0</td>\n      <td>1.618317e+14</td>\n      <td>4.364386</td>\n      <td>1.000000e-15</td>\n      <td>0.000019</td>\n      <td>238.61120</td>\n      <td>7.0</td>\n      <td>6.0</td>\n      <td>13.42219</td>\n      <td>1.235519</td>\n      <td>...</td>\n      <td>5.0</td>\n      <td>4.082497</td>\n      <td>349.3680</td>\n      <td>0.584510</td>\n      <td>12.611660</td>\n      <td>2.000000e-10</td>\n      <td>1.712514e+10</td>\n      <td>0.0200</td>\n      <td>5.0</td>\n      <td>1.712514e+08</td>\n    </tr>\n    <tr>\n      <th>230049</th>\n      <td>1000488.0</td>\n      <td>1.832157e+14</td>\n      <td>9.248787</td>\n      <td>1.000000e-15</td>\n      <td>0.000038</td>\n      <td>167.38680</td>\n      <td>7.0</td>\n      <td>6.0</td>\n      <td>31.32840</td>\n      <td>9.906954</td>\n      <td>...</td>\n      <td>6.0</td>\n      <td>29.894390</td>\n      <td>6252.2870</td>\n      <td>0.545864</td>\n      <td>6.488538</td>\n      <td>2.000000e-10</td>\n      <td>3.783948e+13</td>\n      <td>0.0200</td>\n      <td>5.0</td>\n      <td>3.783948e+11</td>\n    </tr>\n  </tbody>\n</table>\n<p>230050 rows × 24 columns</p>\n</div>"
     },
     "metadata": {},
     "execution_count": 69
    }
   ],
   "source": [
    "df1_dd_computed"
   ]
  },
  {
   "source": [
    "# Statistiche\n",
    "## ML con features = Z & A\n",
    "*classification problem*: Fissato il punto $(Z,A)$ è fissata la predizione --> nessuna interpretazione probabilistica.       \n",
    "*NN con softmax*: trucco, tanto vale usare p! Anche qui fissato Z ed A ed avendo accesso solo a queste informazioni realisticamente il meglio che la rete potrà fare è dare alle due categorie merge/non merge nel one hot encoding punteggi dati da p e 1-p di cui sotto        \n",
    "*Generative models*: boh\n",
    "\n",
    "## ML con features = ...\n",
    "Così classification/prob. estimation con NN + softmax finale potrebbero dare effettivamente risultati non banali come sopra, ma è un problema diverso, da cui difficilmente districo Z e A dal resto (vista la incomprensibilità intrinseca di un modello di ML finito, arduo da interpretare)\n",
    "\n",
    "## Bayes\n",
    "*par. est.*: Z e A sicuramente influenzano il merge/non merge ma non in modo esclusivo; posso modellizzare merge/non merge come una var. random la cui distribuzione è parametrizzata da A e Z (che influenzano l'outcome). Se uso una verosimiglianza binomiale sto nascondendo la mancanza di conoscenza sugli altri parametri in un coin toss; ogni (Z,A) identifica un problema diverso dove la migliore stima di p con un prior uniforme è #merge/tot perché in questo caso ho posterior $\\propto$ likelihood --> MAP bayesiano = MLE frequentista. Confrontare questi p è facile.     \n",
    "*model comp./hyp. t.*: L'approccio di cui sopra non permette di unificare fin da subito (Z,A) diversi né è unico; si potrebbe imparare un modello parametrico/nonparametrico dai dati (con eventualmente hypothesis testing) per una verosimiglianza più realistica (?), ma brancoliamo nel buio           \n",
    "**ANZI**: *non serve!* Infatti:       \n",
    "a) non posso credere che per qualcosa di così complesso si riesca a costruire una serie di modelli sulla base di principi fisici       \n",
    "b) costruire tante possibilità a sentimento non ha senso. Infatti anche se costruisci qualcosa di molto flessibile a quel punto stai solo facendo overfitting dei dati e costruendo qualcosa che non ha una interpretazione semplice (stessi problemi che affliggono le NN, quindi siamo punto e accapo).\n",
    "\n",
    "## IT \n",
    "Forse la più semplice cosa non banale è usare la *mutual information* come matrice di covarianza potenziata per misurare quanto la conoscenza di Z e/o A permetta di determinare il valore della var. random merge/non merge!           \n",
    "Note prese da sotto:            \n",
    "1) Tutto sta nel costruire la matrice pmf rappresentante la joint dist., che sommata lungo le righe/colonne ci dà le due marginali; se queste preservano la forma (eventualmente le si constringe mediante reshape/ None o np.newaxis nel posto giusto) possiamo sfruttare il broadcasting per vettorizzare il calcolo della mutual information.                  \n",
    "2) Ma come si interpreta il risultato? Bits e nats sono quantità astratte..."
   ],
   "cell_type": "markdown",
   "metadata": {}
  },
  {
   "cell_type": "code",
   "execution_count": 3,
   "metadata": {},
   "outputs": [],
   "source": [
    "df1 = pd.read_csv(\"df1_mid.csv\")"
   ]
  },
  {
   "cell_type": "code",
   "execution_count": 4,
   "metadata": {},
   "outputs": [],
   "source": [
    "from itertools import product \n",
    "\n",
    "Z_values, A_values = np.unique(df0.Z), np.unique(df0.A)"
   ]
  },
  {
   "cell_type": "code",
   "execution_count": 5,
   "metadata": {},
   "outputs": [
    {
     "output_type": "stream",
     "name": "stdout",
     "text": [
      "[(0.0002, 0.1), (0.0002, 1.0), (0.0002, 5.0), (0.002, 0.1), (0.002, 1.0), (0.002, 5.0), (0.02, 0.1), (0.02, 1.0), (0.02, 5.0)]\n"
     ]
    }
   ],
   "source": [
    "ZA = list(product(Z_values, A_values))\n",
    "print(ZA)"
   ]
  },
  {
   "cell_type": "code",
   "execution_count": 6,
   "metadata": {},
   "outputs": [
    {
     "output_type": "stream",
     "name": "stdout",
     "text": [
      "merge prob. for (Z,A) = (0.0002, 0.1): 0.09953199573699087\nmerge prob. for (Z,A) = (0.0002, 1.0): 0.20433996383363473\nmerge prob. for (Z,A) = (0.0002, 5.0): 0.2751379550633746\nmerge prob. for (Z,A) = (0.002, 0.1): 0.07302809157252824\nmerge prob. for (Z,A) = (0.002, 1.0): 0.25460210586634197\nmerge prob. for (Z,A) = (0.002, 5.0): 0.2518483385877298\nmerge prob. for (Z,A) = (0.02, 0.1): 0.04192085093070546\nmerge prob. for (Z,A) = (0.02, 1.0): 0.027341854068920885\nmerge prob. for (Z,A) = (0.02, 5.0): 0.01709542204323169\n\n\n[[0.099532   0.20433996 0.27513796]\n [0.07302809 0.25460211 0.25184834]\n [0.04192085 0.02734185 0.01709542]]\n"
     ]
    }
   ],
   "source": [
    "p = np.zeros(len(ZA))\n",
    "df_merge = df1[df1.BWorldtime + df1.Merge_time_midpoint < 14e3]\n",
    "\n",
    "for i, tup in enumerate(product(Z_values, A_values)) :\n",
    "    Z, A = tup\n",
    "    p[i] = len(df_merge[(df_merge.Z == Z) & (df_merge.A == A)])/len(df0[(df0.Z == Z) & (df0.A == A)])\n",
    "    print(f\"merge prob. for (Z,A) = {tup}: {p[i]}\")\n",
    "\n",
    "pmf = p.reshape(len(Z_values), len(A_values))\n",
    "print(\"\\n\")\n",
    "print(pmf)"
   ]
  },
  {
   "cell_type": "code",
   "execution_count": 73,
   "metadata": {},
   "outputs": [],
   "source": [
    "# # x = Z, y = A --> righe = A, colonne = Z\n",
    "# X = np.array(ZA)[:,0].reshape((len(A_values), len(Z_values)))\n",
    "# Y = np.array(ZA)[:,1].reshape((len(A_values), len(Z_values)))\n",
    "# M = p.reshape((len(A_values), len(Z_values)))\n",
    "# print(X)\n",
    "# print(Y)\n",
    "# print(M)\n",
    "\n",
    "# è il contrario? In p fissare la riga significa fissare Z ecc."
   ]
  },
  {
   "cell_type": "code",
   "execution_count": 74,
   "metadata": {},
   "outputs": [],
   "source": [
    "import seaborn as sns"
   ]
  },
  {
   "cell_type": "code",
   "execution_count": 75,
   "metadata": {},
   "outputs": [
    {
     "output_type": "display_data",
     "data": {
      "text/plain": "<Figure size 432x288 with 2 Axes>",
      "image/svg+xml": "<?xml version=\"1.0\" encoding=\"utf-8\" standalone=\"no\"?>\r\n<!DOCTYPE svg PUBLIC \"-//W3C//DTD SVG 1.1//EN\"\r\n  \"http://www.w3.org/Graphics/SVG/1.1/DTD/svg11.dtd\">\r\n<svg height=\"248.518125pt\" version=\"1.1\" viewBox=\"0 0 355.79575 248.518125\" width=\"355.79575pt\" xmlns=\"http://www.w3.org/2000/svg\" xmlns:xlink=\"http://www.w3.org/1999/xlink\">\r\n <metadata>\r\n  <rdf:RDF xmlns:cc=\"http://creativecommons.org/ns#\" xmlns:dc=\"http://purl.org/dc/elements/1.1/\" xmlns:rdf=\"http://www.w3.org/1999/02/22-rdf-syntax-ns#\">\r\n   <cc:Work>\r\n    <dc:type rdf:resource=\"http://purl.org/dc/dcmitype/StillImage\"/>\r\n    <dc:date>2021-05-31T11:12:55.004382</dc:date>\r\n    <dc:format>image/svg+xml</dc:format>\r\n    <dc:creator>\r\n     <cc:Agent>\r\n      <dc:title>Matplotlib v3.4.1, https://matplotlib.org/</dc:title>\r\n     </cc:Agent>\r\n    </dc:creator>\r\n   </cc:Work>\r\n  </rdf:RDF>\r\n </metadata>\r\n <defs>\r\n  <style type=\"text/css\">*{stroke-linecap:butt;stroke-linejoin:round;}</style>\r\n </defs>\r\n <g id=\"figure_1\">\r\n  <g id=\"patch_1\">\r\n   <path d=\"M -0 248.518125 \r\nL 355.79575 248.518125 \r\nL 355.79575 0 \r\nL -0 0 \r\nz\r\n\" style=\"fill:none;\"/>\r\n  </g>\r\n  <g id=\"axes_1\">\r\n   <g id=\"patch_2\">\r\n    <path d=\"M 23.878125 224.64 \r\nL 291.718125 224.64 \r\nL 291.718125 7.2 \r\nL 23.878125 7.2 \r\nz\r\n\" style=\"fill:#ffffff;\"/>\r\n   </g>\r\n   <g id=\"QuadMesh_1\">\r\n    <path clip-path=\"url(#p369f9cc91b)\" d=\"M 23.878125 7.2 \r\nL 113.158125 7.2 \r\nL 113.158125 79.68 \r\nL 23.878125 79.68 \r\nL 23.878125 7.2 \r\n\" style=\"fill:#7f1e5a;\"/>\r\n    <path clip-path=\"url(#p369f9cc91b)\" d=\"M 113.158125 7.2 \r\nL 202.438125 7.2 \r\nL 202.438125 79.68 \r\nL 113.158125 79.68 \r\nL 113.158125 7.2 \r\n\" style=\"fill:#f47c55;\"/>\r\n    <path clip-path=\"url(#p369f9cc91b)\" d=\"M 202.438125 7.2 \r\nL 291.718125 7.2 \r\nL 291.718125 79.68 \r\nL 202.438125 79.68 \r\nL 202.438125 7.2 \r\n\" style=\"fill:#faebdd;\"/>\r\n    <path clip-path=\"url(#p369f9cc91b)\" d=\"M 23.878125 79.68 \r\nL 113.158125 79.68 \r\nL 113.158125 152.16 \r\nL 23.878125 152.16 \r\nL 23.878125 79.68 \r\n\" style=\"fill:#531e4d;\"/>\r\n    <path clip-path=\"url(#p369f9cc91b)\" d=\"M 113.158125 79.68 \r\nL 202.438125 79.68 \r\nL 202.438125 152.16 \r\nL 113.158125 152.16 \r\nL 113.158125 79.68 \r\n\" style=\"fill:#f7ccaf;\"/>\r\n    <path clip-path=\"url(#p369f9cc91b)\" d=\"M 202.438125 79.68 \r\nL 291.718125 79.68 \r\nL 291.718125 152.16 \r\nL 202.438125 152.16 \r\nL 202.438125 79.68 \r\n\" style=\"fill:#f7caac;\"/>\r\n    <path clip-path=\"url(#p369f9cc91b)\" d=\"M 23.878125 152.16 \r\nL 113.158125 152.16 \r\nL 113.158125 224.64 \r\nL 23.878125 224.64 \r\nL 23.878125 152.16 \r\n\" style=\"fill:#241432;\"/>\r\n    <path clip-path=\"url(#p369f9cc91b)\" d=\"M 113.158125 152.16 \r\nL 202.438125 152.16 \r\nL 202.438125 224.64 \r\nL 113.158125 224.64 \r\nL 113.158125 152.16 \r\n\" style=\"fill:#100b23;\"/>\r\n    <path clip-path=\"url(#p369f9cc91b)\" d=\"M 202.438125 152.16 \r\nL 291.718125 152.16 \r\nL 291.718125 224.64 \r\nL 202.438125 224.64 \r\nL 202.438125 152.16 \r\n\" style=\"fill:#03051a;\"/>\r\n   </g>\r\n   <g id=\"matplotlib.axis_1\">\r\n    <g id=\"xtick_1\">\r\n     <g id=\"line2d_1\">\r\n      <defs>\r\n       <path d=\"M 0 0 \r\nL 0 3.5 \r\n\" id=\"me32df99bfc\" style=\"stroke:#000000;stroke-width:0.8;\"/>\r\n      </defs>\r\n      <g>\r\n       <use style=\"stroke:#000000;stroke-width:0.8;\" x=\"68.518125\" xlink:href=\"#me32df99bfc\" y=\"224.64\"/>\r\n      </g>\r\n     </g>\r\n     <g id=\"text_1\">\r\n      <!-- 0.1 -->\r\n      <g transform=\"translate(60.566562 239.238437)scale(0.1 -0.1)\">\r\n       <defs>\r\n        <path d=\"M 2034 4250 \r\nQ 1547 4250 1301 3770 \r\nQ 1056 3291 1056 2328 \r\nQ 1056 1369 1301 889 \r\nQ 1547 409 2034 409 \r\nQ 2525 409 2770 889 \r\nQ 3016 1369 3016 2328 \r\nQ 3016 3291 2770 3770 \r\nQ 2525 4250 2034 4250 \r\nz\r\nM 2034 4750 \r\nQ 2819 4750 3233 4129 \r\nQ 3647 3509 3647 2328 \r\nQ 3647 1150 3233 529 \r\nQ 2819 -91 2034 -91 \r\nQ 1250 -91 836 529 \r\nQ 422 1150 422 2328 \r\nQ 422 3509 836 4129 \r\nQ 1250 4750 2034 4750 \r\nz\r\n\" id=\"DejaVuSans-30\" transform=\"scale(0.015625)\"/>\r\n        <path d=\"M 684 794 \r\nL 1344 794 \r\nL 1344 0 \r\nL 684 0 \r\nL 684 794 \r\nz\r\n\" id=\"DejaVuSans-2e\" transform=\"scale(0.015625)\"/>\r\n        <path d=\"M 794 531 \r\nL 1825 531 \r\nL 1825 4091 \r\nL 703 3866 \r\nL 703 4441 \r\nL 1819 4666 \r\nL 2450 4666 \r\nL 2450 531 \r\nL 3481 531 \r\nL 3481 0 \r\nL 794 0 \r\nL 794 531 \r\nz\r\n\" id=\"DejaVuSans-31\" transform=\"scale(0.015625)\"/>\r\n       </defs>\r\n       <use xlink:href=\"#DejaVuSans-30\"/>\r\n       <use x=\"63.623047\" xlink:href=\"#DejaVuSans-2e\"/>\r\n       <use x=\"95.410156\" xlink:href=\"#DejaVuSans-31\"/>\r\n      </g>\r\n     </g>\r\n    </g>\r\n    <g id=\"xtick_2\">\r\n     <g id=\"line2d_2\">\r\n      <g>\r\n       <use style=\"stroke:#000000;stroke-width:0.8;\" x=\"157.798125\" xlink:href=\"#me32df99bfc\" y=\"224.64\"/>\r\n      </g>\r\n     </g>\r\n     <g id=\"text_2\">\r\n      <!-- 1.0 -->\r\n      <g transform=\"translate(149.846563 239.238437)scale(0.1 -0.1)\">\r\n       <use xlink:href=\"#DejaVuSans-31\"/>\r\n       <use x=\"63.623047\" xlink:href=\"#DejaVuSans-2e\"/>\r\n       <use x=\"95.410156\" xlink:href=\"#DejaVuSans-30\"/>\r\n      </g>\r\n     </g>\r\n    </g>\r\n    <g id=\"xtick_3\">\r\n     <g id=\"line2d_3\">\r\n      <g>\r\n       <use style=\"stroke:#000000;stroke-width:0.8;\" x=\"247.078125\" xlink:href=\"#me32df99bfc\" y=\"224.64\"/>\r\n      </g>\r\n     </g>\r\n     <g id=\"text_3\">\r\n      <!-- 5.0 -->\r\n      <g transform=\"translate(239.126563 239.238437)scale(0.1 -0.1)\">\r\n       <defs>\r\n        <path d=\"M 691 4666 \r\nL 3169 4666 \r\nL 3169 4134 \r\nL 1269 4134 \r\nL 1269 2991 \r\nQ 1406 3038 1543 3061 \r\nQ 1681 3084 1819 3084 \r\nQ 2600 3084 3056 2656 \r\nQ 3513 2228 3513 1497 \r\nQ 3513 744 3044 326 \r\nQ 2575 -91 1722 -91 \r\nQ 1428 -91 1123 -41 \r\nQ 819 9 494 109 \r\nL 494 744 \r\nQ 775 591 1075 516 \r\nQ 1375 441 1709 441 \r\nQ 2250 441 2565 725 \r\nQ 2881 1009 2881 1497 \r\nQ 2881 1984 2565 2268 \r\nQ 2250 2553 1709 2553 \r\nQ 1456 2553 1204 2497 \r\nQ 953 2441 691 2322 \r\nL 691 4666 \r\nz\r\n\" id=\"DejaVuSans-35\" transform=\"scale(0.015625)\"/>\r\n       </defs>\r\n       <use xlink:href=\"#DejaVuSans-35\"/>\r\n       <use x=\"63.623047\" xlink:href=\"#DejaVuSans-2e\"/>\r\n       <use x=\"95.410156\" xlink:href=\"#DejaVuSans-30\"/>\r\n      </g>\r\n     </g>\r\n    </g>\r\n   </g>\r\n   <g id=\"matplotlib.axis_2\">\r\n    <g id=\"ytick_1\">\r\n     <g id=\"line2d_4\">\r\n      <defs>\r\n       <path d=\"M 0 0 \r\nL -3.5 0 \r\n\" id=\"m2ad352d062\" style=\"stroke:#000000;stroke-width:0.8;\"/>\r\n      </defs>\r\n      <g>\r\n       <use style=\"stroke:#000000;stroke-width:0.8;\" x=\"23.878125\" xlink:href=\"#m2ad352d062\" y=\"43.44\"/>\r\n      </g>\r\n     </g>\r\n     <g id=\"text_4\">\r\n      <!-- 0.0002 -->\r\n      <g transform=\"translate(14.798437 74.631406)rotate(-90)scale(0.1 -0.1)\">\r\n       <defs>\r\n        <path d=\"M 1228 531 \r\nL 3431 531 \r\nL 3431 0 \r\nL 469 0 \r\nL 469 531 \r\nQ 828 903 1448 1529 \r\nQ 2069 2156 2228 2338 \r\nQ 2531 2678 2651 2914 \r\nQ 2772 3150 2772 3378 \r\nQ 2772 3750 2511 3984 \r\nQ 2250 4219 1831 4219 \r\nQ 1534 4219 1204 4116 \r\nQ 875 4013 500 3803 \r\nL 500 4441 \r\nQ 881 4594 1212 4672 \r\nQ 1544 4750 1819 4750 \r\nQ 2544 4750 2975 4387 \r\nQ 3406 4025 3406 3419 \r\nQ 3406 3131 3298 2873 \r\nQ 3191 2616 2906 2266 \r\nQ 2828 2175 2409 1742 \r\nQ 1991 1309 1228 531 \r\nz\r\n\" id=\"DejaVuSans-32\" transform=\"scale(0.015625)\"/>\r\n       </defs>\r\n       <use xlink:href=\"#DejaVuSans-30\"/>\r\n       <use x=\"63.623047\" xlink:href=\"#DejaVuSans-2e\"/>\r\n       <use x=\"95.410156\" xlink:href=\"#DejaVuSans-30\"/>\r\n       <use x=\"159.033203\" xlink:href=\"#DejaVuSans-30\"/>\r\n       <use x=\"222.65625\" xlink:href=\"#DejaVuSans-30\"/>\r\n       <use x=\"286.279297\" xlink:href=\"#DejaVuSans-32\"/>\r\n      </g>\r\n     </g>\r\n    </g>\r\n    <g id=\"ytick_2\">\r\n     <g id=\"line2d_5\">\r\n      <g>\r\n       <use style=\"stroke:#000000;stroke-width:0.8;\" x=\"23.878125\" xlink:href=\"#m2ad352d062\" y=\"115.92\"/>\r\n      </g>\r\n     </g>\r\n     <g id=\"text_5\">\r\n      <!-- 0.002 -->\r\n      <g transform=\"translate(14.798437 140.748906)rotate(-90)scale(0.1 -0.1)\">\r\n       <use xlink:href=\"#DejaVuSans-30\"/>\r\n       <use x=\"63.623047\" xlink:href=\"#DejaVuSans-2e\"/>\r\n       <use x=\"95.410156\" xlink:href=\"#DejaVuSans-30\"/>\r\n       <use x=\"159.033203\" xlink:href=\"#DejaVuSans-30\"/>\r\n       <use x=\"222.65625\" xlink:href=\"#DejaVuSans-32\"/>\r\n      </g>\r\n     </g>\r\n    </g>\r\n    <g id=\"ytick_3\">\r\n     <g id=\"line2d_6\">\r\n      <g>\r\n       <use style=\"stroke:#000000;stroke-width:0.8;\" x=\"23.878125\" xlink:href=\"#m2ad352d062\" y=\"188.4\"/>\r\n      </g>\r\n     </g>\r\n     <g id=\"text_6\">\r\n      <!-- 0.02 -->\r\n      <g transform=\"translate(14.798437 206.866406)rotate(-90)scale(0.1 -0.1)\">\r\n       <use xlink:href=\"#DejaVuSans-30\"/>\r\n       <use x=\"63.623047\" xlink:href=\"#DejaVuSans-2e\"/>\r\n       <use x=\"95.410156\" xlink:href=\"#DejaVuSans-30\"/>\r\n       <use x=\"159.033203\" xlink:href=\"#DejaVuSans-32\"/>\r\n      </g>\r\n     </g>\r\n    </g>\r\n   </g>\r\n  </g>\r\n  <g id=\"axes_2\">\r\n   <g id=\"patch_3\">\r\n    <path d=\"M 308.458125 224.64 \r\nL 319.330125 224.64 \r\nL 319.330125 7.2 \r\nL 308.458125 7.2 \r\nz\r\n\" style=\"fill:#ffffff;\"/>\r\n   </g>\r\n   <g id=\"patch_4\">\r\n    <path clip-path=\"url(#pd5f139c935)\" d=\"M 308.458125 224.64 \r\nL 308.458125 223.790625 \r\nL 308.458125 8.049375 \r\nL 308.458125 7.2 \r\nL 319.330125 7.2 \r\nL 319.330125 8.049375 \r\nL 319.330125 223.790625 \r\nL 319.330125 224.64 \r\nL 319.330125 224.64 \r\nz\r\n\" style=\"fill:#ffffff;stroke:#ffffff;stroke-linejoin:miter;stroke-width:0.01;\"/>\r\n   </g>\r\n   <image height=\"217\" id=\"imageed69f14a8e\" transform=\"scale(1 -1)translate(0 -217)\" width=\"11\" x=\"308\" xlink:href=\"data:image/png;base64,\r\niVBORw0KGgoAAAANSUhEUgAAAAsAAADZCAYAAAD2WsoCAAABYUlEQVR4nO3aQW4DMQwDQMtyPtH/vzPptUfPgYA2aM4EQVK0duOk+vXzWZefU7fItdbZe9+Da91znyoAbwGTDGLukjRyBonZ0gCDQzQn02gBj6jolPKTjCnjlvIP0UwyrqE67iFpUOt6hoz7lKM5d6x1ZDC4N0TGya1ckZFjfua4iRnAJ1akZHQpGef6u4TLIHDsdE8xKOCY5iPgEhmPTCPYjXtqM2ib/yMyhHlIGiXMVn7SHGQWMEzltDAX7IKzBWxFEubeb5Ah0QXTiMnojqUBJzYY3W6RYZqvscock7Hh2WZDgasCTgOYF3UDVj/KsDRizGYQXrbRYIp5CXPBUwWZzWBMhlxZyOvJWfIb0JToGq7uUXMqjSU3rsZ8JI2YjCnRWRpU0RHHavX96sczaN2IgWkoksYUzcScM5gbd475P40/4OpXiHlKGjMMlvxVIJkGlT/3VkDR5VaBdOPLDf4CdO8rI5K+A88AAAAASUVORK5CYII=\" y=\"-7\"/>\r\n   <g id=\"matplotlib.axis_3\"/>\r\n   <g id=\"matplotlib.axis_4\">\r\n    <g id=\"ytick_4\">\r\n     <g id=\"line2d_7\">\r\n      <defs>\r\n       <path d=\"M 0 0 \r\nL 3.5 0 \r\n\" id=\"m52468112d6\" style=\"stroke:#000000;stroke-width:0.8;\"/>\r\n      </defs>\r\n      <g>\r\n       <use style=\"stroke:#000000;stroke-width:0.8;\" x=\"319.330125\" xlink:href=\"#m52468112d6\" y=\"197.031784\"/>\r\n      </g>\r\n     </g>\r\n     <g id=\"text_7\">\r\n      <!-- 0.05 -->\r\n      <g transform=\"translate(326.330125 200.831003)scale(0.1 -0.1)\">\r\n       <use xlink:href=\"#DejaVuSans-30\"/>\r\n       <use x=\"63.623047\" xlink:href=\"#DejaVuSans-2e\"/>\r\n       <use x=\"95.410156\" xlink:href=\"#DejaVuSans-30\"/>\r\n       <use x=\"159.033203\" xlink:href=\"#DejaVuSans-35\"/>\r\n      </g>\r\n     </g>\r\n    </g>\r\n    <g id=\"ytick_5\">\r\n     <g id=\"line2d_8\">\r\n      <g>\r\n       <use style=\"stroke:#000000;stroke-width:0.8;\" x=\"319.330125\" xlink:href=\"#m52468112d6\" y=\"155.079847\"/>\r\n      </g>\r\n     </g>\r\n     <g id=\"text_8\">\r\n      <!-- 0.10 -->\r\n      <g transform=\"translate(326.330125 158.879066)scale(0.1 -0.1)\">\r\n       <use xlink:href=\"#DejaVuSans-30\"/>\r\n       <use x=\"63.623047\" xlink:href=\"#DejaVuSans-2e\"/>\r\n       <use x=\"95.410156\" xlink:href=\"#DejaVuSans-31\"/>\r\n       <use x=\"159.033203\" xlink:href=\"#DejaVuSans-30\"/>\r\n      </g>\r\n     </g>\r\n    </g>\r\n    <g id=\"ytick_6\">\r\n     <g id=\"line2d_9\">\r\n      <g>\r\n       <use style=\"stroke:#000000;stroke-width:0.8;\" x=\"319.330125\" xlink:href=\"#m52468112d6\" y=\"113.12791\"/>\r\n      </g>\r\n     </g>\r\n     <g id=\"text_9\">\r\n      <!-- 0.15 -->\r\n      <g transform=\"translate(326.330125 116.927129)scale(0.1 -0.1)\">\r\n       <use xlink:href=\"#DejaVuSans-30\"/>\r\n       <use x=\"63.623047\" xlink:href=\"#DejaVuSans-2e\"/>\r\n       <use x=\"95.410156\" xlink:href=\"#DejaVuSans-31\"/>\r\n       <use x=\"159.033203\" xlink:href=\"#DejaVuSans-35\"/>\r\n      </g>\r\n     </g>\r\n    </g>\r\n    <g id=\"ytick_7\">\r\n     <g id=\"line2d_10\">\r\n      <g>\r\n       <use style=\"stroke:#000000;stroke-width:0.8;\" x=\"319.330125\" xlink:href=\"#m52468112d6\" y=\"71.175973\"/>\r\n      </g>\r\n     </g>\r\n     <g id=\"text_10\">\r\n      <!-- 0.20 -->\r\n      <g transform=\"translate(326.330125 74.975192)scale(0.1 -0.1)\">\r\n       <use xlink:href=\"#DejaVuSans-30\"/>\r\n       <use x=\"63.623047\" xlink:href=\"#DejaVuSans-2e\"/>\r\n       <use x=\"95.410156\" xlink:href=\"#DejaVuSans-32\"/>\r\n       <use x=\"159.033203\" xlink:href=\"#DejaVuSans-30\"/>\r\n      </g>\r\n     </g>\r\n    </g>\r\n    <g id=\"ytick_8\">\r\n     <g id=\"line2d_11\">\r\n      <g>\r\n       <use style=\"stroke:#000000;stroke-width:0.8;\" x=\"319.330125\" xlink:href=\"#m52468112d6\" y=\"29.224036\"/>\r\n      </g>\r\n     </g>\r\n     <g id=\"text_11\">\r\n      <!-- 0.25 -->\r\n      <g transform=\"translate(326.330125 33.023255)scale(0.1 -0.1)\">\r\n       <use xlink:href=\"#DejaVuSans-30\"/>\r\n       <use x=\"63.623047\" xlink:href=\"#DejaVuSans-2e\"/>\r\n       <use x=\"95.410156\" xlink:href=\"#DejaVuSans-32\"/>\r\n       <use x=\"159.033203\" xlink:href=\"#DejaVuSans-35\"/>\r\n      </g>\r\n     </g>\r\n    </g>\r\n   </g>\r\n   <g id=\"LineCollection_1\"/>\r\n   <g id=\"patch_5\">\r\n    <path d=\"M 308.458125 224.64 \r\nL 308.458125 223.790625 \r\nL 308.458125 8.049375 \r\nL 308.458125 7.2 \r\nL 319.330125 7.2 \r\nL 319.330125 8.049375 \r\nL 319.330125 223.790625 \r\nL 319.330125 224.64 \r\nz\r\n\" style=\"fill:none;\"/>\r\n   </g>\r\n  </g>\r\n </g>\r\n <defs>\r\n  <clipPath id=\"p369f9cc91b\">\r\n   <rect height=\"217.44\" width=\"267.84\" x=\"23.878125\" y=\"7.2\"/>\r\n  </clipPath>\r\n  <clipPath id=\"pd5f139c935\">\r\n   <rect height=\"217.44\" width=\"10.872\" x=\"308.458125\" y=\"7.2\"/>\r\n  </clipPath>\r\n </defs>\r\n</svg>\r\n",
      "image/png": "[encoded data removed]"
     },
     "metadata": {
      "needs_background": "light"
     }
    }
   ],
   "source": [
    "sns.heatmap(p.reshape((len(A_values), len(Z_values))), xticklabels = A_values, yticklabels = Z_values);"
   ]
  },
  {
   "cell_type": "code",
   "execution_count": 7,
   "metadata": {},
   "outputs": [
    {
     "output_type": "execute_result",
     "data": {
      "text/plain": [
       "             Z    A  Merge\n",
       "0       0.0002  0.1  False\n",
       "1       0.0002  0.1  False\n",
       "2       0.0002  0.1  False\n",
       "3       0.0002  0.1  False\n",
       "4       0.0002  0.1  False\n",
       "...        ...  ...    ...\n",
       "230045  0.0200  5.0  False\n",
       "230046  0.0200  5.0  False\n",
       "230047  0.0200  5.0  False\n",
       "230048  0.0200  5.0  False\n",
       "230049  0.0200  5.0  False\n",
       "\n",
       "[230050 rows x 3 columns]"
      ],
      "text/html": "<div>\n<style scoped>\n    .dataframe tbody tr th:only-of-type {\n        vertical-align: middle;\n    }\n\n    .dataframe tbody tr th {\n        vertical-align: top;\n    }\n\n    .dataframe thead th {\n        text-align: right;\n    }\n</style>\n<table border=\"1\" class=\"dataframe\">\n  <thead>\n    <tr style=\"text-align: right;\">\n      <th></th>\n      <th>Z</th>\n      <th>A</th>\n      <th>Merge</th>\n    </tr>\n  </thead>\n  <tbody>\n    <tr>\n      <th>0</th>\n      <td>0.0002</td>\n      <td>0.1</td>\n      <td>False</td>\n    </tr>\n    <tr>\n      <th>1</th>\n      <td>0.0002</td>\n      <td>0.1</td>\n      <td>False</td>\n    </tr>\n    <tr>\n      <th>2</th>\n      <td>0.0002</td>\n      <td>0.1</td>\n      <td>False</td>\n    </tr>\n    <tr>\n      <th>3</th>\n      <td>0.0002</td>\n      <td>0.1</td>\n      <td>False</td>\n    </tr>\n    <tr>\n      <th>4</th>\n      <td>0.0002</td>\n      <td>0.1</td>\n      <td>False</td>\n    </tr>\n    <tr>\n      <th>...</th>\n      <td>...</td>\n      <td>...</td>\n      <td>...</td>\n    </tr>\n    <tr>\n      <th>230045</th>\n      <td>0.0200</td>\n      <td>5.0</td>\n      <td>False</td>\n    </tr>\n    <tr>\n      <th>230046</th>\n      <td>0.0200</td>\n      <td>5.0</td>\n      <td>False</td>\n    </tr>\n    <tr>\n      <th>230047</th>\n      <td>0.0200</td>\n      <td>5.0</td>\n      <td>False</td>\n    </tr>\n    <tr>\n      <th>230048</th>\n      <td>0.0200</td>\n      <td>5.0</td>\n      <td>False</td>\n    </tr>\n    <tr>\n      <th>230049</th>\n      <td>0.0200</td>\n      <td>5.0</td>\n      <td>False</td>\n    </tr>\n  </tbody>\n</table>\n<p>230050 rows × 3 columns</p>\n</div>"
     },
     "metadata": {},
     "execution_count": 7
    }
   ],
   "source": [
    "df_bool = df1[[\"Z\", \"A\"]].copy()\n",
    "df_bool[\"Merge\"] = df1.BWorldtime + df1.Merge_time_midpoint < 14e3\n",
    "df_bool"
   ]
  },
  {
   "cell_type": "code",
   "execution_count": 77,
   "metadata": {},
   "outputs": [],
   "source": [
    "# Tutto sta nel costruire la matrice pmf rappresentante la joint dist., che sommata lungo le righe/colonne ci dà le due marginali; se queste preservano la forma (eventualmente le si constringe mediante reshape/ None o np.newaxis nel posto giusto) possiamo sfruttare il broadcasting per vettorizzare il calcolo della mutual information.\n",
    "# Ma come si interpreta il risultato? Bits e nats sono quantità astratte...\n",
    "\n",
    "# Merge ha 2 valori, Z/A 3 --> se ad es. metto merge in y la pmf è una matrice 2x3\n",
    "\n",
    "# Nota che la pmf cercata si può benissimo costruire dalla matrice p di cui sopra! Nota infatti che una delle due righe/colonne è 1 - l'altra, quindi ci basta trovare una riga/colonna di 3 elementi corrispondenti a tutti i Z per uno stesso A o viceversa. Al variare della variabile fissata ciò che mi interessa è quindi esattamente una delle 3 colonne/righe (posizione di questa colonna/riga determinata dalla variabile fissata). \n",
    "\n",
    "# RICORDA LA ASIMMETRIA DELLA MUTUAL INFORMATION COME CONSEGUENZA DI D_KL! In particolare noi vogliamo sapere cosa Z/A ci dice su merge, non il contrario"
   ]
  }
 ]
}